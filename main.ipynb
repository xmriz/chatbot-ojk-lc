{
 "cells": [
  {
   "cell_type": "markdown",
   "metadata": {},
   "source": [
    "# **OJK ChatBot - LangChain**"
   ]
  },
  {
   "cell_type": "markdown",
   "metadata": {},
   "source": [
    "## **Setup**"
   ]
  },
  {
   "cell_type": "code",
   "execution_count": 1,
   "metadata": {},
   "outputs": [
    {
     "data": {
      "text/plain": [
       "True"
      ]
     },
     "execution_count": 1,
     "metadata": {},
     "output_type": "execute_result"
    }
   ],
   "source": [
    "from dotenv import load_dotenv\n",
    "load_dotenv()"
   ]
  },
  {
   "cell_type": "markdown",
   "metadata": {},
   "source": [
    "## **Config**"
   ]
  },
  {
   "cell_type": "code",
   "execution_count": 2,
   "metadata": {},
   "outputs": [],
   "source": [
    "from utils.config import get_config\n",
    "from utils.questions import get_question\n",
    "from utils.model_config import ModelName, get_model\n",
    "\n",
    "config = get_config()"
   ]
  },
  {
   "cell_type": "code",
   "execution_count": 3,
   "metadata": {},
   "outputs": [],
   "source": [
    "STORE = False\n",
    "DELETE = False\n",
    "TOP_K = 10\n",
    "TOP_N = 6\n",
    "model_name = ModelName.AZURE_OPENAI\n",
    "query_str = get_question(\"k\")\n",
    "# query_str = \"Apa judul peraturan nomor 37 /SEOJK.03/2016?\""
   ]
  },
  {
   "cell_type": "markdown",
   "metadata": {},
   "source": [
    "## **Define Model**"
   ]
  },
  {
   "cell_type": "code",
   "execution_count": 4,
   "metadata": {},
   "outputs": [],
   "source": [
    "llm_model, embed_model = get_model(model_name=model_name, config=config)"
   ]
  },
  {
   "cell_type": "markdown",
   "metadata": {},
   "source": [
    "## **Indexing**"
   ]
  },
  {
   "cell_type": "markdown",
   "metadata": {},
   "source": [
    "### **Load**"
   ]
  },
  {
   "cell_type": "code",
   "execution_count": 5,
   "metadata": {},
   "outputs": [],
   "source": [
    "from utils.documents_text_extract import extract_all_documents_in_directory\n",
    "\n",
    "documents_dir = './data/documents'\n",
    "metadata_path = './data/metadata/files_metadata.csv'\n",
    "\n",
    "if STORE:\n",
    "    documents = extract_all_documents_in_directory(documents_dir, metadata_path, treshold=0.98)\n"
   ]
  },
  {
   "cell_type": "markdown",
   "metadata": {},
   "source": [
    "### **Split**"
   ]
  },
  {
   "cell_type": "code",
   "execution_count": 6,
   "metadata": {},
   "outputs": [],
   "source": [
    "from utils.document_split import document_splitter\n",
    "\n",
    "if STORE:\n",
    "    all_splits = document_splitter(docs=documents)"
   ]
  },
  {
   "cell_type": "markdown",
   "metadata": {},
   "source": [
    "### **Storing**"
   ]
  },
  {
   "cell_type": "code",
   "execution_count": 7,
   "metadata": {},
   "outputs": [],
   "source": [
    "from utils.vector_store import PineconeIndexManager\n",
    "\n",
    "pinecone = PineconeIndexManager(index_name='ojk', embed_model=embed_model, config=config)\n",
    "\n",
    "if STORE:\n",
    "    pinecone.store_vector_index(docs=all_splits, delete=DELETE)\n",
    "    vector_store = pinecone.load_vector_index()\n",
    "else: \n",
    "    vector_store = pinecone.load_vector_index()"
   ]
  },
  {
   "cell_type": "markdown",
   "metadata": {},
   "source": [
    "## **Retrieval and Generation**"
   ]
  },
  {
   "cell_type": "markdown",
   "metadata": {},
   "source": [
    "### **Retrieve**"
   ]
  },
  {
   "cell_type": "code",
   "execution_count": 8,
   "metadata": {},
   "outputs": [],
   "source": [
    "from langchain_cohere import CohereRerank\n",
    "from langchain.retrievers import ContextualCompressionRetriever\n",
    "\n",
    "# retriever = vector_store.as_retriever(search_type=\"similarity\", search_kwargs={\"k\": TOP_K})\n",
    "compressor = CohereRerank(cohere_api_key=config['cohere_api_key'], top_n=TOP_N)\n",
    "retriever = ContextualCompressionRetriever(\n",
    "    base_compressor=compressor, base_retriever=vector_store.as_retriever(search_type=\"similarity\", search_kwargs={\"k\": TOP_K})\n",
    ")"
   ]
  },
  {
   "cell_type": "code",
   "execution_count": 9,
   "metadata": {},
   "outputs": [
    {
     "data": {
      "text/plain": [
       "[Document(metadata={'effective_date': '26 Februari 2008', 'file_url': 'https://www.ojk.go.id/id/regulasi/Documents/Pages/PMK-Nomor-36PMK.010-Tahun-2008-tentang-Besar-Santunan-dan-Sumbangan-Wajib-Dana-Kecelakaan-Lalu-Lintas-Jalan/menas13_1389258036.pdf', 'page_number': 4.0, 'regulation_number': '36/PMK.010/2008', 'regulation_type': 'Klasifikasi Bapepam', 'sector': 'IKNB', 'subsector': 'Asuransi', 'title': 'Peraturan Menteri Keuangan Nomor 36/PMK.010/2008 tentang Besar Santunan dan Sumbangan Wajib Dana Kecelakaan Lalu Lintas Jalan', 'relevance_score': 0.9850429}, page_content='2) Dalam hal pembayaran SWDKLLJ dilakukan setelah melewati batas\\n seharusnya dibayar dengan ketentuan denda yang dikenakan paling\\nbesar Rp100.000,00 (seratus ribu rupiah).\\n(3) Dalam hal ketentuan mengenai batas waktu sebagaimana dimaksud\\ngeografis daerah setempat, Direksi perusahaan yang ditunjuk untuk\\nmenyelenggarakan Dana Kecelakaan Lalu Lintas Jalan diberi\\nbesarnya denda SWDKLLJ, dengan ketentuan batas waktu dimaksud\\npaling lama 15 (lima belas) hari kerja.'),\n",
       " Document(metadata={'effective_date': '26 Februari 2008', 'file_url': 'https://www.ojk.go.id/id/regulasi/Documents/Pages/PMK-Nomor-36PMK.010-Tahun-2008-tentang-Besar-Santunan-dan-Sumbangan-Wajib-Dana-Kecelakaan-Lalu-Lintas-Jalan/menas13_1389258036.pdf', 'page_number': 3.0, 'regulation_number': '36/PMK.010/2008', 'regulation_type': 'Klasifikasi Bapepam', 'sector': 'IKNB', 'subsector': 'Asuransi', 'title': 'Peraturan Menteri Keuangan Nomor 36/PMK.010/2008 tentang Besar Santunan dan Sumbangan Wajib Dana Kecelakaan Lalu Lintas Jalan', 'relevance_score': 0.9813822}, page_content='MENTERI KEUANGAN\\nREPUBLIK INDONESIA\\nmemperoleh santunan sebesar Rp 25.000.000,00 (dua puluh lima\\njuta rupiah).\\nb. Korban yang mengalami cacat tetap berhak memperoleh\\nsantunan yang besarnya dihitung berdasarkan angka prosentase\\n Korban yang memerlukan perawatan dan pengobatan berhak\\nrupiah).\\nPasal 3\\nDalam hal korban meninggal dunia akibat kecelakaan alat angkutan\\nlalu lintas jalan tidak mempunyai ahli waris, kepada pihak yang\\nmenyelenggarakan\\ndiberikan\\npenggantian\\nbiaya\\nPasal 4\\n(2) Besar SWDKLLJ sebagaimana dimaksud pada ayat (1) ditentukan\\nsebagai berikut:\\nSepeda motor di bawah 50 cc, mobil ambulance, mobil jenazah\\na.\\ndan mobil pemadam kebakaran dibebaskan dari kewajiban\\nb. Traktor, buidozer, forklift, mobil derek, excavator, crane dan\\nsejenisnya sebesar Rp 20.000,00 (dua puluh ribu rupiah):\\n Sepeda motor, sepeda kumbang dan scooter di atas 50 cc sampai\\n250 cc dan kendaraan bermotor roda tiga sebesar Rp 32.000,00\\n(tiga puluh dua ribu rupiah).\\nd.'),\n",
       " Document(metadata={'effective_date': '26 Februari 2008', 'file_url': 'https://www.ojk.go.id/id/regulasi/Documents/Pages/PMK-Nomor-36PMK.010-Tahun-2008-tentang-Besar-Santunan-dan-Sumbangan-Wajib-Dana-Kecelakaan-Lalu-Lintas-Jalan/menas13_1389258036.pdf', 'page_number': 2.0, 'regulation_number': '36/PMK.010/2008', 'regulation_type': 'Klasifikasi Bapepam', 'sector': 'IKNB', 'subsector': 'Asuransi', 'title': 'Peraturan Menteri Keuangan Nomor 36/PMK.010/2008 tentang Besar Santunan dan Sumbangan Wajib Dana Kecelakaan Lalu Lintas Jalan', 'relevance_score': 0.94229466}, page_content='wajib\\nsebagaimana dimaksud dalam Undang-Undang Nomor 34 Tahun\\n1964 tentang Dana Kecelakaan Lalu Lintas Jalan juncto Peraturan\\nPelaksanaan Dana Kecelakaan Lalu Lintas Jalan.\\n2) SWDKLLJ merupakan premi asuransi yang dibayarkan oleh para\\npengusaha/pemilik alat angkutan lalu lintas jalan kepada\\nperusahaan yang menyelenggarakan Dana Kecelakaan Lalu Lintas\\nJalan.\\nPasal 2\\n(1 Korban kecelakaan alat angkutan lalu lintas jalan atau ahli warisnya\\nberhak atas santunan.\\nBesar santunan sebagaimana dimaksud pada ayat (1) ditentukan\\nsebagai berikut:'),\n",
       " Document(metadata={'effective_date': '26 Februari 2008', 'file_url': 'https://www.ojk.go.id/id/regulasi/Documents/Pages/PMK-Nomor-36PMK.010-Tahun-2008-tentang-Besar-Santunan-dan-Sumbangan-Wajib-Dana-Kecelakaan-Lalu-Lintas-Jalan/menas13_1389258036.pdf', 'page_number': 4.0, 'regulation_number': '36/PMK.010/2008', 'regulation_type': 'Klasifikasi Bapepam', 'sector': 'IKNB', 'subsector': 'Asuransi', 'title': 'Peraturan Menteri Keuangan Nomor 36/PMK.010/2008 tentang Besar Santunan dan Sumbangan Wajib Dana Kecelakaan Lalu Lintas Jalan', 'relevance_score': 0.93868846}, page_content='MENTERI KEUANGAN\\nREPUBLIK INDONESIA\\n-4-\\n Mobil penumpang angkutan umum sampai dengan 1600 cc\\ng. Bus dan mikro bus bukan angkutan umum sebesar Rp150.000,00\\n(seratus lima puluh ribu rupiah).\\nh. Bus dan.mikro bus angkutan umum, serta mobil penumpang\\nangkutan umum lainnya di atas 1600 cc sebesar Rp87.000,00\\n(delapan puluh tujuh ribu rupiah).\\nTruk, mobil tangki, mobil gandengan, mobil barang di atas 2400\\ncc, truk container dan sejenisnya sebesar Rp 160.000,00 (seratus\\n enam puluh ribu rupiah).\\nPasal 5\\nSetiap jenis kendaraan sebagaimana dimaksud dalam Pasal 4, dikenakan\\nbiaya\\n penggantian pembuatan\\n Kartu Dana/Sertifikat sebesar\\nRp 3.000,00 (tiga ribu rupiah).\\nPasal 6\\nTanda Nomor Kendaraan Bermotor sesuai dengan ketentuan\\nperaturan perundang-undangan yang berlaku.\\n2) Dalam hal pembayaran SWDKLLJ dilakukan setelah melewati batas\\n seharusnya dibayar dengan ketentuan denda yang dikenakan paling\\nbesar Rp100.000,00 (seratus ribu rupiah).'),\n",
       " Document(metadata={'effective_date': '26 Februari 2008', 'file_url': 'https://www.ojk.go.id/id/regulasi/Documents/Pages/PMK-Nomor-36PMK.010-Tahun-2008-tentang-Besar-Santunan-dan-Sumbangan-Wajib-Dana-Kecelakaan-Lalu-Lintas-Jalan/menas13_1389258036.pdf', 'page_number': 2.0, 'regulation_number': '36/PMK.010/2008', 'regulation_type': 'Klasifikasi Bapepam', 'sector': 'IKNB', 'subsector': 'Asuransi', 'title': 'Peraturan Menteri Keuangan Nomor 36/PMK.010/2008 tentang Besar Santunan dan Sumbangan Wajib Dana Kecelakaan Lalu Lintas Jalan', 'relevance_score': 0.65599746}, page_content='REPUBLIK INDONESIA\\n Penyelenggaraan Usaha Perasuransian (Lembaran Negara Republik\\nIndonesia Tahun 1992 Nomor 120, Tambahan Lembaran Negara\\nRepublik Indonesia Nomor 3506) sebagaimana telah diubah dengan\\nPeraturan Pemerintah Nomor 63 .Tahun 1999 (Lembaran Negara\\nNegara Republik Indonesia Nomor 3861);\\n Keputusan Presiden Nomor 20/P Tahun 2005j\\n Keputusan Menteri Keuangan Nomor 337/KMK.011/1981 tentang\\nPenunjukan Perusahaan Perseroan (Persero) Asuransi Kerugian Jasa\\nRaharja untuk\\n menyelenggarakan Dana Pertanggungan Wajib\\nKecelakaan Penumpang dan Dana Kecelakaan Lalu Lintas Jalan;\\nMEMUTUSKAN:\\nMenetapkan : PERATURAN\\nMENTERI\\nKEUANGAN\\nTENTANG\\nBESAR\\nLALU LINTAS JALAN\\nPasal 1\\n(1) Sumbangan Wajib Dana Kecelakaan Lalu Lintas Jalan,\\nselanjutnya\\n disebut SWDKLLJ, adalah sumbangan\\nwajib\\nsebagaimana dimaksud dalam Undang-Undang Nomor 34 Tahun\\n1964 tentang Dana Kecelakaan Lalu Lintas Jalan juncto Peraturan\\nPelaksanaan Dana Kecelakaan Lalu Lintas Jalan.'),\n",
       " Document(metadata={'effective_date': '26 Februari 2008', 'file_url': 'https://www.ojk.go.id/id/regulasi/Documents/Pages/PMK-Nomor-36PMK.010-Tahun-2008-tentang-Besar-Santunan-dan-Sumbangan-Wajib-Dana-Kecelakaan-Lalu-Lintas-Jalan/menas13_1389258036.pdf', 'page_number': 3.0, 'regulation_number': '36/PMK.010/2008', 'regulation_type': 'Klasifikasi Bapepam', 'sector': 'IKNB', 'subsector': 'Asuransi', 'title': 'Peraturan Menteri Keuangan Nomor 36/PMK.010/2008 tentang Besar Santunan dan Sumbangan Wajib Dana Kecelakaan Lalu Lintas Jalan', 'relevance_score': 0.00060945016}, page_content='Sepeda motor, sepeda kumbang dan scooter di atas 50 cc sampai\\n250 cc dan kendaraan bermotor roda tiga sebesar Rp 32.000,00\\n(tiga puluh dua ribu rupiah).\\nd.\\nPick up/mobil barang sampai dengan 2400 cc, sedan, jeep dan\\n mobil penumpang bukan angkutan umum sebesar Rp140.000,00\\n(seratus empat puluh ribu rupiah).')]"
      ]
     },
     "execution_count": 9,
     "metadata": {},
     "output_type": "execute_result"
    }
   ],
   "source": [
    "retrieved_docs = retriever.invoke(input=query_str)\n",
    "retrieved_docs"
   ]
  },
  {
   "cell_type": "markdown",
   "metadata": {},
   "source": [
    "### **Generate**"
   ]
  },
  {
   "cell_type": "code",
   "execution_count": 10,
   "metadata": {},
   "outputs": [],
   "source": [
    "import json\n",
    "from operator import itemgetter\n",
    "\n",
    "from langchain_core.output_parsers import StrOutputParser\n",
    "from langchain_core.prompts import ChatPromptTemplate, PromptTemplate\n",
    "from langchain_core.runnables import RunnableMap, RunnablePassthrough\n",
    "from langchain_core.chat_history import BaseChatMessageHistory\n",
    "from langchain_core.runnables import (\n",
    "    ConfigurableFieldSpec,\n",
    "    RunnablePassthrough,\n",
    ")\n",
    "\n",
    "# from utils.chat_history import ChatHistory\n",
    "\n",
    "from langchain_core.retrievers import BaseRetriever\n",
    "\n",
    "# from utils.final_chain_input_type import InputTypeFinalChain\n",
    "\n",
    "from langchain_core.runnables.history import RunnableWithMessageHistory\n",
    "\n",
    "\n",
    "from utils.model_config import ModelName"
   ]
  },
  {
   "cell_type": "code",
   "execution_count": 11,
   "metadata": {},
   "outputs": [],
   "source": [
    "\n",
    "def _format_metadata(metadata):\n",
    "    \"\"\"Remove filename from metadata.\"\"\"\n",
    "    # check if file_name is in metadata\n",
    "    if \"file_name\" in metadata:\n",
    "        metadata.pop(\"file_name\", None)\n",
    "    return metadata\n",
    "\n",
    "\n",
    "def _combine_documents(docs):\n",
    "    \"\"\"Combine documents into a single JSON string.\"\"\"\n",
    "    doc_list = [{\"metadata\": _format_metadata(\n",
    "        doc.metadata), \"page_content\": doc.page_content} for doc in docs]\n",
    "    return json.dumps(doc_list, indent=2)"
   ]
  },
  {
   "cell_type": "code",
   "execution_count": 124,
   "metadata": {},
   "outputs": [],
   "source": [
    "from utils.chat_history import ChatStore\n",
    "\n",
    "K_STORE = 10\n",
    "chat_store = ChatStore(k=K_STORE)"
   ]
  },
  {
   "cell_type": "code",
   "execution_count": 125,
   "metadata": {},
   "outputs": [],
   "source": [
    "from utils.rag_chain_with_chat_history import create_chain_with_chat_history\n",
    "\n",
    "_TEMPLATE = \"\"\"Given the following conversation and a follow-up question, \\\n",
    "rephrase the follow-up question to be a standalone question in its original language. \n",
    "If the follow-up question is not clear, indicate so. \n",
    "If the chat history is not relevant to the follow-up question, please ignore the chat history.\n",
    "\n",
    "Chat History:\n",
    "{chat_history}\n",
    "\n",
    "Follow-up Question: {question}\n",
    "Standalone Question: \"\"\"\n",
    "\n",
    "_ANSWER_TEMPLATE = \"\"\"The context information is below.\n",
    "Context: \n",
    "{context}\n",
    "\n",
    "Based on the context and the metadata information provided, \\\n",
    "answer the query related to banking compliance in Indonesia.\n",
    "Use the context and metadata information only, without relying on prior knowledge. \n",
    "ALWAYS ANSWER IN THE USER'S LANGUAGE.\n",
    "\n",
    "Please provide your answer in the following format, \\\n",
    "including the regulation number and file URL if available:\n",
    "\n",
    "(Answer...) \\n\\n\n",
    "Source: [metadata['regulation_number']](metadata['file_url'])\n",
    "\n",
    "If you cannot find the regulation number, just provide the (Answer...). \n",
    "If the file_url ends with '.pdf', you can add the metadata['page_number'] in the URL like this: \n",
    "\n",
    "(Answer...) \\n\\n\n",
    "Source: [metadata['regulation_number']](metadata['file_url#page=metadata['page_number']')\n",
    "\n",
    "(Answer...) is the answer to the question, don't write '(Answer...)' in the answer.\n",
    "DO NOT PROVIDE AMBIGUOUS ANSWERS.\n",
    "\n",
    "Question: {question}\n",
    "\"\"\""
   ]
  },
  {
   "cell_type": "code",
   "execution_count": 126,
   "metadata": {},
   "outputs": [],
   "source": [
    "CONTEXTUALIZE_Q_PROMPT_STR = _TEMPLATE\n",
    "CONTEXTUALIZE_Q_PROMPT = PromptTemplate.from_template(\n",
    "    CONTEXTUALIZE_Q_PROMPT_STR)\n",
    "\n",
    "_inputs_question_chain = CONTEXTUALIZE_Q_PROMPT | llm_model | StrOutputParser()"
   ]
  },
  {
   "cell_type": "code",
   "execution_count": 135,
   "metadata": {},
   "outputs": [
    {
     "data": {
      "text/plain": [
       "'Berapa jumlah SWDKLLJ yang harus dibayarkan untuk mobil?'"
      ]
     },
     "execution_count": 135,
     "metadata": {},
     "output_type": "execute_result"
    }
   ],
   "source": [
    "new_question = _inputs_question_chain.invoke(\n",
    "    {\n",
    "        \"question\": \"Kalau mobil?\",\n",
    "        \"chat_history\": chat_store.get_session_history(\"xmriz\", \"conv1\")\n",
    "    }\n",
    ")\n",
    "new_question"
   ]
  },
  {
   "cell_type": "code",
   "execution_count": 132,
   "metadata": {},
   "outputs": [],
   "source": [
    "QA_SYSTEM_PROMPT_STR = _ANSWER_TEMPLATE\n",
    "QA_PROMPT = ChatPromptTemplate.from_template(QA_SYSTEM_PROMPT_STR)\n",
    "_context_chain = RunnablePassthrough() | itemgetter(\"question\") | {\n",
    "    \"context\": retriever | _combine_documents,\n",
    "    \"question\": RunnablePassthrough()\n",
    "}\n",
    "\n",
    "conversational_qa_with_context_chain = (\n",
    "    # _input_question\n",
    "    _context_chain #| QA_PROMPT | llm_model | StrOutputParser()\n",
    "    | {\n",
    "        \"question\": itemgetter(\"question\"),\n",
    "        \"answer\": QA_PROMPT | llm_model | StrOutputParser(),\n",
    "        \"context\": itemgetter(\"context\")\n",
    "    }\n",
    "    # | StrOutputParser()\n",
    ")\n",
    "# final_chain = conversational_qa_with_context_chain.with_types(input_type=InputTypeFinalChain)\n",
    "\n",
    "final_chain = RunnableWithMessageHistory(\n",
    "    conversational_qa_with_context_chain,\n",
    "    get_session_history=chat_store.get_session_history,\n",
    "    input_messages_key=\"question\",\n",
    "    output_messages_key=\"answer\",\n",
    "    history_messages_key=\"chat_history\",\n",
    "    history_factory_config=[\n",
    "        ConfigurableFieldSpec(\n",
    "            id=\"user_id\",\n",
    "            annotation=str,\n",
    "            name=\"User ID\",\n",
    "            description=\"Unique identifier for the user.\",\n",
    "            default=\"\",\n",
    "            is_shared=True,\n",
    "        ),\n",
    "        ConfigurableFieldSpec(\n",
    "            id=\"conversation_id\",\n",
    "            annotation=str,\n",
    "            name=\"Conversation ID\",\n",
    "            description=\"Unique identifier for the conversation.\",\n",
    "            default=\"\",\n",
    "            is_shared=True,\n",
    "        ),\n",
    "    ],\n",
    ")"
   ]
  },
  {
   "cell_type": "code",
   "execution_count": 136,
   "metadata": {},
   "outputs": [],
   "source": [
    "response = final_chain.invoke(\n",
    "    {\"question\": new_question},\n",
    "    config={\n",
    "        \"configurable\": {\"user_id\": \"xmriz\", \"conversation_id\": \"conv1\"}\n",
    "    },\n",
    ")"
   ]
  },
  {
   "cell_type": "code",
   "execution_count": 137,
   "metadata": {},
   "outputs": [
    {
     "data": {
      "text/plain": [
       "{'question': 'Berapa jumlah SWDKLLJ yang harus dibayarkan untuk mobil?',\n",
       " 'answer': 'Jumlah SWDKLLJ yang harus dibayarkan untuk mobil adalah sebagai berikut:\\n\\n- Mobil penumpang angkutan umum sampai dengan 1600 cc: Rp150.000,00\\n- Bus dan mikro bus bukan angkutan umum: Rp150.000,00\\n- Bus dan mikro bus angkutan umum, serta mobil penumpang angkutan umum lainnya di atas 1600 cc: Rp87.000,00\\n- Truk, mobil tangki, mobil gandengan, mobil barang di atas 2400 cc, truk container dan sejenisnya: Rp160.000,00\\n\\nSource: [36/PMK.010/2008](https://www.ojk.go.id/id/regulasi/Documents/Pages/PMK-Nomor-36PMK.010-Tahun-2008-tentang-Besar-Santunan-dan-Sumbangan-Wajib-Dana-Kecelakaan-Lalu-Lintas-Jalan/menas13_1389258036.pdf#page=4)',\n",
       " 'context': '[\\n  {\\n    \"metadata\": {\\n      \"effective_date\": \"26 Februari 2008\",\\n      \"file_url\": \"https://www.ojk.go.id/id/regulasi/Documents/Pages/PMK-Nomor-36PMK.010-Tahun-2008-tentang-Besar-Santunan-dan-Sumbangan-Wajib-Dana-Kecelakaan-Lalu-Lintas-Jalan/menas13_1389258036.pdf\",\\n      \"page_number\": 4.0,\\n      \"regulation_number\": \"36/PMK.010/2008\",\\n      \"regulation_type\": \"Klasifikasi Bapepam\",\\n      \"sector\": \"IKNB\",\\n      \"subsector\": \"Asuransi\",\\n      \"title\": \"Peraturan Menteri Keuangan Nomor 36/PMK.010/2008 tentang Besar Santunan dan Sumbangan Wajib Dana Kecelakaan Lalu Lintas Jalan\",\\n      \"relevance_score\": 0.9988305\\n    },\\n    \"page_content\": \"2) Dalam hal pembayaran SWDKLLJ dilakukan setelah melewati batas\\\\n seharusnya dibayar dengan ketentuan denda yang dikenakan paling\\\\nbesar Rp100.000,00 (seratus ribu rupiah).\\\\n(3) Dalam hal ketentuan mengenai batas waktu sebagaimana dimaksud\\\\ngeografis daerah setempat, Direksi perusahaan yang ditunjuk untuk\\\\nmenyelenggarakan Dana Kecelakaan Lalu Lintas Jalan diberi\\\\nbesarnya denda SWDKLLJ, dengan ketentuan batas waktu dimaksud\\\\npaling lama 15 (lima belas) hari kerja.\"\\n  },\\n  {\\n    \"metadata\": {\\n      \"effective_date\": \"26 Februari 2008\",\\n      \"file_url\": \"https://www.ojk.go.id/id/regulasi/Documents/Pages/PMK-Nomor-36PMK.010-Tahun-2008-tentang-Besar-Santunan-dan-Sumbangan-Wajib-Dana-Kecelakaan-Lalu-Lintas-Jalan/menas13_1389258036.pdf\",\\n      \"page_number\": 2.0,\\n      \"regulation_number\": \"36/PMK.010/2008\",\\n      \"regulation_type\": \"Klasifikasi Bapepam\",\\n      \"sector\": \"IKNB\",\\n      \"subsector\": \"Asuransi\",\\n      \"title\": \"Peraturan Menteri Keuangan Nomor 36/PMK.010/2008 tentang Besar Santunan dan Sumbangan Wajib Dana Kecelakaan Lalu Lintas Jalan\",\\n      \"relevance_score\": 0.9963642\\n    },\\n    \"page_content\": \"wajib\\\\nsebagaimana dimaksud dalam Undang-Undang Nomor 34 Tahun\\\\n1964 tentang Dana Kecelakaan Lalu Lintas Jalan juncto Peraturan\\\\nPelaksanaan Dana Kecelakaan Lalu Lintas Jalan.\\\\n2) SWDKLLJ merupakan premi asuransi yang dibayarkan oleh para\\\\npengusaha/pemilik alat angkutan lalu lintas jalan kepada\\\\nperusahaan yang menyelenggarakan Dana Kecelakaan Lalu Lintas\\\\nJalan.\\\\nPasal 2\\\\n(1 Korban kecelakaan alat angkutan lalu lintas jalan atau ahli warisnya\\\\nberhak atas santunan.\\\\nBesar santunan sebagaimana dimaksud pada ayat (1) ditentukan\\\\nsebagai berikut:\"\\n  },\\n  {\\n    \"metadata\": {\\n      \"effective_date\": \"26 Februari 2008\",\\n      \"file_url\": \"https://www.ojk.go.id/id/regulasi/Documents/Pages/PMK-Nomor-36PMK.010-Tahun-2008-tentang-Besar-Santunan-dan-Sumbangan-Wajib-Dana-Kecelakaan-Lalu-Lintas-Jalan/menas13_1389258036.pdf\",\\n      \"page_number\": 4.0,\\n      \"regulation_number\": \"36/PMK.010/2008\",\\n      \"regulation_type\": \"Klasifikasi Bapepam\",\\n      \"sector\": \"IKNB\",\\n      \"subsector\": \"Asuransi\",\\n      \"title\": \"Peraturan Menteri Keuangan Nomor 36/PMK.010/2008 tentang Besar Santunan dan Sumbangan Wajib Dana Kecelakaan Lalu Lintas Jalan\",\\n      \"relevance_score\": 0.9957519\\n    },\\n    \"page_content\": \"MENTERI KEUANGAN\\\\nREPUBLIK INDONESIA\\\\n-4-\\\\n Mobil penumpang angkutan umum sampai dengan 1600 cc\\\\ng. Bus dan mikro bus bukan angkutan umum sebesar Rp150.000,00\\\\n(seratus lima puluh ribu rupiah).\\\\nh. Bus dan.mikro bus angkutan umum, serta mobil penumpang\\\\nangkutan umum lainnya di atas 1600 cc sebesar Rp87.000,00\\\\n(delapan puluh tujuh ribu rupiah).\\\\nTruk, mobil tangki, mobil gandengan, mobil barang di atas 2400\\\\ncc, truk container dan sejenisnya sebesar Rp 160.000,00 (seratus\\\\n enam puluh ribu rupiah).\\\\nPasal 5\\\\nSetiap jenis kendaraan sebagaimana dimaksud dalam Pasal 4, dikenakan\\\\nbiaya\\\\n penggantian pembuatan\\\\n Kartu Dana/Sertifikat sebesar\\\\nRp 3.000,00 (tiga ribu rupiah).\\\\nPasal 6\\\\nTanda Nomor Kendaraan Bermotor sesuai dengan ketentuan\\\\nperaturan perundang-undangan yang berlaku.\\\\n2) Dalam hal pembayaran SWDKLLJ dilakukan setelah melewati batas\\\\n seharusnya dibayar dengan ketentuan denda yang dikenakan paling\\\\nbesar Rp100.000,00 (seratus ribu rupiah).\"\\n  },\\n  {\\n    \"metadata\": {\\n      \"effective_date\": \"26 Februari 2008\",\\n      \"file_url\": \"https://www.ojk.go.id/id/regulasi/Documents/Pages/PMK-Nomor-36PMK.010-Tahun-2008-tentang-Besar-Santunan-dan-Sumbangan-Wajib-Dana-Kecelakaan-Lalu-Lintas-Jalan/menas13_1389258036.pdf\",\\n      \"page_number\": 3.0,\\n      \"regulation_number\": \"36/PMK.010/2008\",\\n      \"regulation_type\": \"Klasifikasi Bapepam\",\\n      \"sector\": \"IKNB\",\\n      \"subsector\": \"Asuransi\",\\n      \"title\": \"Peraturan Menteri Keuangan Nomor 36/PMK.010/2008 tentang Besar Santunan dan Sumbangan Wajib Dana Kecelakaan Lalu Lintas Jalan\",\\n      \"relevance_score\": 0.99227446\\n    },\\n    \"page_content\": \"MENTERI KEUANGAN\\\\nREPUBLIK INDONESIA\\\\nmemperoleh santunan sebesar Rp 25.000.000,00 (dua puluh lima\\\\njuta rupiah).\\\\nb. Korban yang mengalami cacat tetap berhak memperoleh\\\\nsantunan yang besarnya dihitung berdasarkan angka prosentase\\\\n Korban yang memerlukan perawatan dan pengobatan berhak\\\\nrupiah).\\\\nPasal 3\\\\nDalam hal korban meninggal dunia akibat kecelakaan alat angkutan\\\\nlalu lintas jalan tidak mempunyai ahli waris, kepada pihak yang\\\\nmenyelenggarakan\\\\ndiberikan\\\\npenggantian\\\\nbiaya\\\\nPasal 4\\\\n(2) Besar SWDKLLJ sebagaimana dimaksud pada ayat (1) ditentukan\\\\nsebagai berikut:\\\\nSepeda motor di bawah 50 cc, mobil ambulance, mobil jenazah\\\\na.\\\\ndan mobil pemadam kebakaran dibebaskan dari kewajiban\\\\nb. Traktor, buidozer, forklift, mobil derek, excavator, crane dan\\\\nsejenisnya sebesar Rp 20.000,00 (dua puluh ribu rupiah):\\\\n Sepeda motor, sepeda kumbang dan scooter di atas 50 cc sampai\\\\n250 cc dan kendaraan bermotor roda tiga sebesar Rp 32.000,00\\\\n(tiga puluh dua ribu rupiah).\\\\nd.\"\\n  },\\n  {\\n    \"metadata\": {\\n      \"effective_date\": \"31 Desember 2009\",\\n      \"file_url\": \"https://www.ojk.go.id/id/regulasi/Documents/Pages/Peraturan-BAPEPAM-tentang-Referensi-Premi-Murni-serta-Unsur-Biaya-Administrasi-dan-Biaya-Minimum-Lainnya-2009/BAPEPAM%20PER-07BL2009.pdf\",\\n      \"page_number\": 4.0,\\n      \"regulation_number\": \"PER- 07/BL/2009\",\\n      \"regulation_type\": \"Peraturan Bapepam\",\\n      \"sector\": \"IKNB\",\\n      \"subsector\": \"Asuransi\",\\n      \"title\": \"Peraturan BAPEPAM tentang Referensi Premi Murni serta Unsur Biaya Administrasi dan Biaya Minimum Lainnya Pada Lini Usaha Asuransi Kendaraan Bermotor Tahun 2010\",\\n      \"relevance_score\": 0.022286186\\n    },\\n    \"page_content\": \"berumur sampai dengan 3 (tiga) tahun. Untuk kendaraan berumur lebih dari    \\\\n3 (tiga) tahun, harus dikenakan premi tambahan yang wajar. \\\\n2. Untuk perluasan Strike, Riot, Civil Commotion (SRCC), Flood, Earthquake, dan \\\\nThird Party Liability (TPL) harus dikenakan premi tambahan. \\\\n3. Unsur premi murni di atas merupakan persentase dari uang pertanggungan. \\\\n4. Deductible minimum sebesar Rp200.000,00 (dua ratus ribu rupiah). \\\\n5. Premi murni paling sedikit 50% (lima puluh per seratus) dari premi bruto.  \\\\nII. PREMI YANG DIBEBANKAN PADA TERTANGGUNG \\\\nPremi yang dibebankan pada tertanggung adalah premi murni ditambah biaya \\\\nadministrasi dan umum, biaya akuisisi, dan keuntungan perusahaan.\"\\n  },\\n  {\\n    \"metadata\": {\\n      \"effective_date\": \"26 Februari 2008\",\\n      \"file_url\": \"https://www.ojk.go.id/id/regulasi/Documents/Pages/PMK-Nomor-36PMK.010-Tahun-2008-tentang-Besar-Santunan-dan-Sumbangan-Wajib-Dana-Kecelakaan-Lalu-Lintas-Jalan/menas13_1389258036.pdf\",\\n      \"page_number\": 3.0,\\n      \"regulation_number\": \"36/PMK.010/2008\",\\n      \"regulation_type\": \"Klasifikasi Bapepam\",\\n      \"sector\": \"IKNB\",\\n      \"subsector\": \"Asuransi\",\\n      \"title\": \"Peraturan Menteri Keuangan Nomor 36/PMK.010/2008 tentang Besar Santunan dan Sumbangan Wajib Dana Kecelakaan Lalu Lintas Jalan\",\\n      \"relevance_score\": 0.00039666123\\n    },\\n    \"page_content\": \"Sepeda motor, sepeda kumbang dan scooter di atas 50 cc sampai\\\\n250 cc dan kendaraan bermotor roda tiga sebesar Rp 32.000,00\\\\n(tiga puluh dua ribu rupiah).\\\\nd.\\\\nPick up/mobil barang sampai dengan 2400 cc, sedan, jeep dan\\\\n mobil penumpang bukan angkutan umum sebesar Rp140.000,00\\\\n(seratus empat puluh ribu rupiah).\"\\n  }\\n]'}"
      ]
     },
     "execution_count": 137,
     "metadata": {},
     "output_type": "execute_result"
    }
   ],
   "source": [
    "response"
   ]
  },
  {
   "cell_type": "code",
   "execution_count": 138,
   "metadata": {},
   "outputs": [
    {
     "name": "stdout",
     "output_type": "stream",
     "text": [
      "Human: Berapa jumlah SWDKLLJ yang harus dibayarkan untuk sedan?\n",
      "AI: Jumlah SWDKLLJ yang harus dibayarkan untuk sedan adalah Rp87.000,00 (delapan puluh tujuh ribu rupiah).\n",
      "\n",
      "Source: [36/PMK.010/2008](https://www.ojk.go.id/id/regulasi/Documents/Pages/PMK-Nomor-36PMK.010-Tahun-2008-tentang-Besar-Santunan-dan-Sumbangan-Wajib-Dana-Kecelakaan-Lalu-Lintas-Jalan/menas13_1389258036.pdf#page=4)\n",
      "Human: Berapa jumlah SWDKLLJ yang harus dibayarkan untuk mobil?\n",
      "AI: Jumlah SWDKLLJ yang harus dibayarkan untuk mobil adalah sebagai berikut:\n",
      "\n",
      "- Mobil penumpang angkutan umum sampai dengan 1600 cc: Rp150.000,00\n",
      "- Bus dan mikro bus bukan angkutan umum: Rp150.000,00\n",
      "- Bus dan mikro bus angkutan umum, serta mobil penumpang angkutan umum lainnya di atas 1600 cc: Rp87.000,00\n",
      "- Truk, mobil tangki, mobil gandengan, mobil barang di atas 2400 cc, truk container dan sejenisnya: Rp160.000,00\n",
      "\n",
      "Source: [36/PMK.010/2008](https://www.ojk.go.id/id/regulasi/Documents/Pages/PMK-Nomor-36PMK.010-Tahun-2008-tentang-Besar-Santunan-dan-Sumbangan-Wajib-Dana-Kecelakaan-Lalu-Lintas-Jalan/menas13_1389258036.pdf#page=4)\n"
     ]
    }
   ],
   "source": [
    "print(chat_store.get_session_history(user_id=\"xmriz\", conversation_id=\"conv1\"))"
   ]
  },
  {
   "cell_type": "markdown",
   "metadata": {},
   "source": [
    "#### **Streaming**"
   ]
  },
  {
   "cell_type": "code",
   "execution_count": 52,
   "metadata": {},
   "outputs": [],
   "source": [
    "# from utils.rag_chain_with_chat_history import print_answer_stream\n",
    "\n",
    "# await print_answer_stream(chain=chain, chat_history=chat_history, question=query_str)"
   ]
  },
  {
   "cell_type": "markdown",
   "metadata": {},
   "source": [
    "#### **With Question, Answer, and Context**"
   ]
  },
  {
   "cell_type": "code",
   "execution_count": 57,
   "metadata": {},
   "outputs": [
    {
     "data": {
      "text/plain": [
       "{'question': 'Berapa nilai SWDKLLJ untuk mobil?',\n",
       " 'answer': 'SWDKLLJ untuk mobil adalah sebagai berikut:\\n\\n- Mobil penumpang angkutan umum sampai dengan 1600 cc: Rp150.000,00\\n- Bus dan mikro bus bukan angkutan umum: Rp150.000,00\\n- Bus dan mikro bus angkutan umum, serta mobil penumpang angkutan umum lainnya di atas 1600 cc: Rp87.000,00\\n- Truk, mobil tangki, mobil gandengan, mobil barang di atas 2400 cc, truk container dan sejenisnya: Rp160.000,00\\n\\nSumber: [36/PMK.010/2008](https://www.ojk.go.id/id/regulasi/Documents/Pages/PMK-Nomor-36PMK.010-Tahun-2008-tentang-Besar-Santunan-dan-Sumbangan-Wajib-Dana-Kecelakaan-Lalu-Lintas-Jalan/menas13_1389258036.pdf#page=4)',\n",
       " 'context': '[\\n  {\\n    \"metadata\": {\\n      \"effective_date\": \"26 Februari 2008\",\\n      \"file_url\": \"https://www.ojk.go.id/id/regulasi/Documents/Pages/PMK-Nomor-36PMK.010-Tahun-2008-tentang-Besar-Santunan-dan-Sumbangan-Wajib-Dana-Kecelakaan-Lalu-Lintas-Jalan/menas13_1389258036.pdf\",\\n      \"page_number\": 3.0,\\n      \"regulation_number\": \"36/PMK.010/2008\",\\n      \"regulation_type\": \"Klasifikasi Bapepam\",\\n      \"sector\": \"IKNB\",\\n      \"subsector\": \"Asuransi\",\\n      \"title\": \"Peraturan Menteri Keuangan Nomor 36/PMK.010/2008 tentang Besar Santunan dan Sumbangan Wajib Dana Kecelakaan Lalu Lintas Jalan\",\\n      \"relevance_score\": 0.9947392\\n    },\\n    \"page_content\": \"MENTERI KEUANGAN\\\\nREPUBLIK INDONESIA\\\\nmemperoleh santunan sebesar Rp 25.000.000,00 (dua puluh lima\\\\njuta rupiah).\\\\nb. Korban yang mengalami cacat tetap berhak memperoleh\\\\nsantunan yang besarnya dihitung berdasarkan angka prosentase\\\\n Korban yang memerlukan perawatan dan pengobatan berhak\\\\nrupiah).\\\\nPasal 3\\\\nDalam hal korban meninggal dunia akibat kecelakaan alat angkutan\\\\nlalu lintas jalan tidak mempunyai ahli waris, kepada pihak yang\\\\nmenyelenggarakan\\\\ndiberikan\\\\npenggantian\\\\nbiaya\\\\nPasal 4\\\\n(2) Besar SWDKLLJ sebagaimana dimaksud pada ayat (1) ditentukan\\\\nsebagai berikut:\\\\nSepeda motor di bawah 50 cc, mobil ambulance, mobil jenazah\\\\na.\\\\ndan mobil pemadam kebakaran dibebaskan dari kewajiban\\\\nb. Traktor, buidozer, forklift, mobil derek, excavator, crane dan\\\\nsejenisnya sebesar Rp 20.000,00 (dua puluh ribu rupiah):\\\\n Sepeda motor, sepeda kumbang dan scooter di atas 50 cc sampai\\\\n250 cc dan kendaraan bermotor roda tiga sebesar Rp 32.000,00\\\\n(tiga puluh dua ribu rupiah).\\\\nd.\"\\n  },\\n  {\\n    \"metadata\": {\\n      \"effective_date\": \"26 Februari 2008\",\\n      \"file_url\": \"https://www.ojk.go.id/id/regulasi/Documents/Pages/PMK-Nomor-36PMK.010-Tahun-2008-tentang-Besar-Santunan-dan-Sumbangan-Wajib-Dana-Kecelakaan-Lalu-Lintas-Jalan/menas13_1389258036.pdf\",\\n      \"page_number\": 4.0,\\n      \"regulation_number\": \"36/PMK.010/2008\",\\n      \"regulation_type\": \"Klasifikasi Bapepam\",\\n      \"sector\": \"IKNB\",\\n      \"subsector\": \"Asuransi\",\\n      \"title\": \"Peraturan Menteri Keuangan Nomor 36/PMK.010/2008 tentang Besar Santunan dan Sumbangan Wajib Dana Kecelakaan Lalu Lintas Jalan\",\\n      \"relevance_score\": 0.99108386\\n    },\\n    \"page_content\": \"2) Dalam hal pembayaran SWDKLLJ dilakukan setelah melewati batas\\\\n seharusnya dibayar dengan ketentuan denda yang dikenakan paling\\\\nbesar Rp100.000,00 (seratus ribu rupiah).\\\\n(3) Dalam hal ketentuan mengenai batas waktu sebagaimana dimaksud\\\\ngeografis daerah setempat, Direksi perusahaan yang ditunjuk untuk\\\\nmenyelenggarakan Dana Kecelakaan Lalu Lintas Jalan diberi\\\\nbesarnya denda SWDKLLJ, dengan ketentuan batas waktu dimaksud\\\\npaling lama 15 (lima belas) hari kerja.\"\\n  },\\n  {\\n    \"metadata\": {\\n      \"effective_date\": \"26 Februari 2008\",\\n      \"file_url\": \"https://www.ojk.go.id/id/regulasi/Documents/Pages/PMK-Nomor-36PMK.010-Tahun-2008-tentang-Besar-Santunan-dan-Sumbangan-Wajib-Dana-Kecelakaan-Lalu-Lintas-Jalan/menas13_1389258036.pdf\",\\n      \"page_number\": 4.0,\\n      \"regulation_number\": \"36/PMK.010/2008\",\\n      \"regulation_type\": \"Klasifikasi Bapepam\",\\n      \"sector\": \"IKNB\",\\n      \"subsector\": \"Asuransi\",\\n      \"title\": \"Peraturan Menteri Keuangan Nomor 36/PMK.010/2008 tentang Besar Santunan dan Sumbangan Wajib Dana Kecelakaan Lalu Lintas Jalan\",\\n      \"relevance_score\": 0.9828891\\n    },\\n    \"page_content\": \"MENTERI KEUANGAN\\\\nREPUBLIK INDONESIA\\\\n-4-\\\\n Mobil penumpang angkutan umum sampai dengan 1600 cc\\\\ng. Bus dan mikro bus bukan angkutan umum sebesar Rp150.000,00\\\\n(seratus lima puluh ribu rupiah).\\\\nh. Bus dan.mikro bus angkutan umum, serta mobil penumpang\\\\nangkutan umum lainnya di atas 1600 cc sebesar Rp87.000,00\\\\n(delapan puluh tujuh ribu rupiah).\\\\nTruk, mobil tangki, mobil gandengan, mobil barang di atas 2400\\\\ncc, truk container dan sejenisnya sebesar Rp 160.000,00 (seratus\\\\n enam puluh ribu rupiah).\\\\nPasal 5\\\\nSetiap jenis kendaraan sebagaimana dimaksud dalam Pasal 4, dikenakan\\\\nbiaya\\\\n penggantian pembuatan\\\\n Kartu Dana/Sertifikat sebesar\\\\nRp 3.000,00 (tiga ribu rupiah).\\\\nPasal 6\\\\nTanda Nomor Kendaraan Bermotor sesuai dengan ketentuan\\\\nperaturan perundang-undangan yang berlaku.\\\\n2) Dalam hal pembayaran SWDKLLJ dilakukan setelah melewati batas\\\\n seharusnya dibayar dengan ketentuan denda yang dikenakan paling\\\\nbesar Rp100.000,00 (seratus ribu rupiah).\"\\n  },\\n  {\\n    \"metadata\": {\\n      \"effective_date\": \"26 Februari 2008\",\\n      \"file_url\": \"https://www.ojk.go.id/id/regulasi/Documents/Pages/PMK-Nomor-36PMK.010-Tahun-2008-tentang-Besar-Santunan-dan-Sumbangan-Wajib-Dana-Kecelakaan-Lalu-Lintas-Jalan/menas13_1389258036.pdf\",\\n      \"page_number\": 2.0,\\n      \"regulation_number\": \"36/PMK.010/2008\",\\n      \"regulation_type\": \"Klasifikasi Bapepam\",\\n      \"sector\": \"IKNB\",\\n      \"subsector\": \"Asuransi\",\\n      \"title\": \"Peraturan Menteri Keuangan Nomor 36/PMK.010/2008 tentang Besar Santunan dan Sumbangan Wajib Dana Kecelakaan Lalu Lintas Jalan\",\\n      \"relevance_score\": 0.96478885\\n    },\\n    \"page_content\": \"wajib\\\\nsebagaimana dimaksud dalam Undang-Undang Nomor 34 Tahun\\\\n1964 tentang Dana Kecelakaan Lalu Lintas Jalan juncto Peraturan\\\\nPelaksanaan Dana Kecelakaan Lalu Lintas Jalan.\\\\n2) SWDKLLJ merupakan premi asuransi yang dibayarkan oleh para\\\\npengusaha/pemilik alat angkutan lalu lintas jalan kepada\\\\nperusahaan yang menyelenggarakan Dana Kecelakaan Lalu Lintas\\\\nJalan.\\\\nPasal 2\\\\n(1 Korban kecelakaan alat angkutan lalu lintas jalan atau ahli warisnya\\\\nberhak atas santunan.\\\\nBesar santunan sebagaimana dimaksud pada ayat (1) ditentukan\\\\nsebagai berikut:\"\\n  },\\n  {\\n    \"metadata\": {\\n      \"effective_date\": \"26 Februari 2008\",\\n      \"file_url\": \"https://www.ojk.go.id/id/regulasi/Documents/Pages/PMK-Nomor-36PMK.010-Tahun-2008-tentang-Besar-Santunan-dan-Sumbangan-Wajib-Dana-Kecelakaan-Lalu-Lintas-Jalan/menas13_1389258036.pdf\",\\n      \"page_number\": 3.0,\\n      \"regulation_number\": \"36/PMK.010/2008\",\\n      \"regulation_type\": \"Klasifikasi Bapepam\",\\n      \"sector\": \"IKNB\",\\n      \"subsector\": \"Asuransi\",\\n      \"title\": \"Peraturan Menteri Keuangan Nomor 36/PMK.010/2008 tentang Besar Santunan dan Sumbangan Wajib Dana Kecelakaan Lalu Lintas Jalan\",\\n      \"relevance_score\": 0.0012843081\\n    },\\n    \"page_content\": \"Sepeda motor, sepeda kumbang dan scooter di atas 50 cc sampai\\\\n250 cc dan kendaraan bermotor roda tiga sebesar Rp 32.000,00\\\\n(tiga puluh dua ribu rupiah).\\\\nd.\\\\nPick up/mobil barang sampai dengan 2400 cc, sedan, jeep dan\\\\n mobil penumpang bukan angkutan umum sebesar Rp140.000,00\\\\n(seratus empat puluh ribu rupiah).\"\\n  },\\n  {\\n    \"metadata\": {\\n      \"effective_date\": \"1 Desember 2011\",\\n      \"file_url\": \"https://www.ojk.go.id/id/regulasi/Documents/Pages/Peraturan-BAPEPAM-tentang-Pedoman-Perhitungan-Batas-Tingkat-Solvabilitas-Minimum-bagi-Perusahaan-Asuransi-dan-Reasuransi/BAPEPAM%20PER-09BL2011.pdf\",\\n      \"page_number\": 19.0,\\n      \"regulation_number\": \"PER-09/BL/2011\",\\n      \"regulation_type\": \"Peraturan Bapepam\",\\n      \"sector\": \"IKNB\",\\n      \"subsector\": \"Asuransi\",\\n      \"title\": \"Peraturan BAPEPAM tentang Pedoman Perhitungan Batas Tingkat Solvabilitas Minimum bagi Perusahaan Asuransi dan Perusahaan Reasuransi\",\\n      \"relevance_score\": 0.0006361912\\n    },\\n    \"page_content\": \"(fP) \\\\nProyeksi \\\\nklaim  \\\\n(fK) \\\\nHarta benda (property) \\\\n10% \\\\n10% \\\\nKendaraan bermotor (own \\\\ndamage, third party liability, dan \\\\npersonal accident) \\\\n10% \\\\n15% \\\\nPengangkutan (marine cargo) \\\\n10% \\\\n20% \\\\nRangka kapal (marine hull) \\\\n10% \\\\n20% \\\\nRangka pesawat (aviation hull) \\\\n10% \\\\n20% \\\\nSatellite \\\\n10% \\\\n20% \\\\nEnergi Onshore (oil and gas) \\\\n10% \\\\n20% \\\\nEnergi Offshore (oil and gas) \\\\n10% \\\\n20% \\\\nRekayasa (engineering) \\\\n10% \\\\n20% \\\\nTanggung-gugat (liability) \\\\n10% \\\\n20% \\\\nKredit (Credit)  \\\\n10% \\\\n20% \\\\nSuretyship \\\\n10% \\\\n20% \\\\nAneka \\\\n10% \\\\n20% \\\\nii.) \\\\nKomponen klaim masa lalu \\\\nPerhitungan jumlah dana yang dibutuhkan untuk komponen \\\\nklaim masa lalu dilakukan berdasarkan rumusan sebagai \\\\nberikut: \\\\nB \\\\n=  (CKDPP  x  f CKDPP)  +  (IBNR  x  f IBNR) \\\\ndimana: \\\\nB \\\\n= dana yang dibutuhkan untuk komponen klaim \\\\nmasa lalu \\\\nCKDPP = cadangan klaim dalam proses penyelesaian yang \\\\nmenjadi beban sendiri \\\\nf CKDPP \\\\n= faktor risiko untuk cadangan klaim dalam proses \\\\npenyelesaian yang menjadi beban sendiri \\\\nIBNR\"\\n  }\\n]'}"
      ]
     },
     "execution_count": 57,
     "metadata": {},
     "output_type": "execute_result"
    }
   ],
   "source": [
    "# from utils.rag_chain_with_chat_history import get_response\n",
    "\n",
    "# response = get_response(chat_history=chat_history, chain=chain, question=\"Kalau mobil?\")\n",
    "# response"
   ]
  },
  {
   "cell_type": "code",
   "execution_count": 58,
   "metadata": {},
   "outputs": [
    {
     "name": "stdout",
     "output_type": "stream",
     "text": [
      "SWDKLLJ untuk mobil adalah sebagai berikut:\n",
      "\n",
      "- Mobil penumpang angkutan umum sampai dengan 1600 cc: Rp150.000,00\n",
      "- Bus dan mikro bus bukan angkutan umum: Rp150.000,00\n",
      "- Bus dan mikro bus angkutan umum, serta mobil penumpang angkutan umum lainnya di atas 1600 cc: Rp87.000,00\n",
      "- Truk, mobil tangki, mobil gandengan, mobil barang di atas 2400 cc, truk container dan sejenisnya: Rp160.000,00\n",
      "\n",
      "Sumber: [36/PMK.010/2008](https://www.ojk.go.id/id/regulasi/Documents/Pages/PMK-Nomor-36PMK.010-Tahun-2008-tentang-Besar-Santunan-dan-Sumbangan-Wajib-Dana-Kecelakaan-Lalu-Lintas-Jalan/menas13_1389258036.pdf#page=4)\n"
     ]
    }
   ],
   "source": [
    "# print(response['answer'])"
   ]
  },
  {
   "cell_type": "code",
   "execution_count": 59,
   "metadata": {},
   "outputs": [
    {
     "name": "stdout",
     "output_type": "stream",
     "text": [
      "[\n",
      "  {\n",
      "    \"metadata\": {\n",
      "      \"effective_date\": \"26 Februari 2008\",\n",
      "      \"file_url\": \"https://www.ojk.go.id/id/regulasi/Documents/Pages/PMK-Nomor-36PMK.010-Tahun-2008-tentang-Besar-Santunan-dan-Sumbangan-Wajib-Dana-Kecelakaan-Lalu-Lintas-Jalan/menas13_1389258036.pdf\",\n",
      "      \"page_number\": 3.0,\n",
      "      \"regulation_number\": \"36/PMK.010/2008\",\n",
      "      \"regulation_type\": \"Klasifikasi Bapepam\",\n",
      "      \"sector\": \"IKNB\",\n",
      "      \"subsector\": \"Asuransi\",\n",
      "      \"title\": \"Peraturan Menteri Keuangan Nomor 36/PMK.010/2008 tentang Besar Santunan dan Sumbangan Wajib Dana Kecelakaan Lalu Lintas Jalan\",\n",
      "      \"relevance_score\": 0.9947392\n",
      "    },\n",
      "    \"page_content\": \"MENTERI KEUANGAN\\nREPUBLIK INDONESIA\\nmemperoleh santunan sebesar Rp 25.000.000,00 (dua puluh lima\\njuta rupiah).\\nb. Korban yang mengalami cacat tetap berhak memperoleh\\nsantunan yang besarnya dihitung berdasarkan angka prosentase\\n Korban yang memerlukan perawatan dan pengobatan berhak\\nrupiah).\\nPasal 3\\nDalam hal korban meninggal dunia akibat kecelakaan alat angkutan\\nlalu lintas jalan tidak mempunyai ahli waris, kepada pihak yang\\nmenyelenggarakan\\ndiberikan\\npenggantian\\nbiaya\\nPasal 4\\n(2) Besar SWDKLLJ sebagaimana dimaksud pada ayat (1) ditentukan\\nsebagai berikut:\\nSepeda motor di bawah 50 cc, mobil ambulance, mobil jenazah\\na.\\ndan mobil pemadam kebakaran dibebaskan dari kewajiban\\nb. Traktor, buidozer, forklift, mobil derek, excavator, crane dan\\nsejenisnya sebesar Rp 20.000,00 (dua puluh ribu rupiah):\\n Sepeda motor, sepeda kumbang dan scooter di atas 50 cc sampai\\n250 cc dan kendaraan bermotor roda tiga sebesar Rp 32.000,00\\n(tiga puluh dua ribu rupiah).\\nd.\"\n",
      "  },\n",
      "  {\n",
      "    \"metadata\": {\n",
      "      \"effective_date\": \"26 Februari 2008\",\n",
      "      \"file_url\": \"https://www.ojk.go.id/id/regulasi/Documents/Pages/PMK-Nomor-36PMK.010-Tahun-2008-tentang-Besar-Santunan-dan-Sumbangan-Wajib-Dana-Kecelakaan-Lalu-Lintas-Jalan/menas13_1389258036.pdf\",\n",
      "      \"page_number\": 4.0,\n",
      "      \"regulation_number\": \"36/PMK.010/2008\",\n",
      "      \"regulation_type\": \"Klasifikasi Bapepam\",\n",
      "      \"sector\": \"IKNB\",\n",
      "      \"subsector\": \"Asuransi\",\n",
      "      \"title\": \"Peraturan Menteri Keuangan Nomor 36/PMK.010/2008 tentang Besar Santunan dan Sumbangan Wajib Dana Kecelakaan Lalu Lintas Jalan\",\n",
      "      \"relevance_score\": 0.99108386\n",
      "    },\n",
      "    \"page_content\": \"2) Dalam hal pembayaran SWDKLLJ dilakukan setelah melewati batas\\n seharusnya dibayar dengan ketentuan denda yang dikenakan paling\\nbesar Rp100.000,00 (seratus ribu rupiah).\\n(3) Dalam hal ketentuan mengenai batas waktu sebagaimana dimaksud\\ngeografis daerah setempat, Direksi perusahaan yang ditunjuk untuk\\nmenyelenggarakan Dana Kecelakaan Lalu Lintas Jalan diberi\\nbesarnya denda SWDKLLJ, dengan ketentuan batas waktu dimaksud\\npaling lama 15 (lima belas) hari kerja.\"\n",
      "  },\n",
      "  {\n",
      "    \"metadata\": {\n",
      "      \"effective_date\": \"26 Februari 2008\",\n",
      "      \"file_url\": \"https://www.ojk.go.id/id/regulasi/Documents/Pages/PMK-Nomor-36PMK.010-Tahun-2008-tentang-Besar-Santunan-dan-Sumbangan-Wajib-Dana-Kecelakaan-Lalu-Lintas-Jalan/menas13_1389258036.pdf\",\n",
      "      \"page_number\": 4.0,\n",
      "      \"regulation_number\": \"36/PMK.010/2008\",\n",
      "      \"regulation_type\": \"Klasifikasi Bapepam\",\n",
      "      \"sector\": \"IKNB\",\n",
      "      \"subsector\": \"Asuransi\",\n",
      "      \"title\": \"Peraturan Menteri Keuangan Nomor 36/PMK.010/2008 tentang Besar Santunan dan Sumbangan Wajib Dana Kecelakaan Lalu Lintas Jalan\",\n",
      "      \"relevance_score\": 0.9828891\n",
      "    },\n",
      "    \"page_content\": \"MENTERI KEUANGAN\\nREPUBLIK INDONESIA\\n-4-\\n Mobil penumpang angkutan umum sampai dengan 1600 cc\\ng. Bus dan mikro bus bukan angkutan umum sebesar Rp150.000,00\\n(seratus lima puluh ribu rupiah).\\nh. Bus dan.mikro bus angkutan umum, serta mobil penumpang\\nangkutan umum lainnya di atas 1600 cc sebesar Rp87.000,00\\n(delapan puluh tujuh ribu rupiah).\\nTruk, mobil tangki, mobil gandengan, mobil barang di atas 2400\\ncc, truk container dan sejenisnya sebesar Rp 160.000,00 (seratus\\n enam puluh ribu rupiah).\\nPasal 5\\nSetiap jenis kendaraan sebagaimana dimaksud dalam Pasal 4, dikenakan\\nbiaya\\n penggantian pembuatan\\n Kartu Dana/Sertifikat sebesar\\nRp 3.000,00 (tiga ribu rupiah).\\nPasal 6\\nTanda Nomor Kendaraan Bermotor sesuai dengan ketentuan\\nperaturan perundang-undangan yang berlaku.\\n2) Dalam hal pembayaran SWDKLLJ dilakukan setelah melewati batas\\n seharusnya dibayar dengan ketentuan denda yang dikenakan paling\\nbesar Rp100.000,00 (seratus ribu rupiah).\"\n",
      "  },\n",
      "  {\n",
      "    \"metadata\": {\n",
      "      \"effective_date\": \"26 Februari 2008\",\n",
      "      \"file_url\": \"https://www.ojk.go.id/id/regulasi/Documents/Pages/PMK-Nomor-36PMK.010-Tahun-2008-tentang-Besar-Santunan-dan-Sumbangan-Wajib-Dana-Kecelakaan-Lalu-Lintas-Jalan/menas13_1389258036.pdf\",\n",
      "      \"page_number\": 2.0,\n",
      "      \"regulation_number\": \"36/PMK.010/2008\",\n",
      "      \"regulation_type\": \"Klasifikasi Bapepam\",\n",
      "      \"sector\": \"IKNB\",\n",
      "      \"subsector\": \"Asuransi\",\n",
      "      \"title\": \"Peraturan Menteri Keuangan Nomor 36/PMK.010/2008 tentang Besar Santunan dan Sumbangan Wajib Dana Kecelakaan Lalu Lintas Jalan\",\n",
      "      \"relevance_score\": 0.96478885\n",
      "    },\n",
      "    \"page_content\": \"wajib\\nsebagaimana dimaksud dalam Undang-Undang Nomor 34 Tahun\\n1964 tentang Dana Kecelakaan Lalu Lintas Jalan juncto Peraturan\\nPelaksanaan Dana Kecelakaan Lalu Lintas Jalan.\\n2) SWDKLLJ merupakan premi asuransi yang dibayarkan oleh para\\npengusaha/pemilik alat angkutan lalu lintas jalan kepada\\nperusahaan yang menyelenggarakan Dana Kecelakaan Lalu Lintas\\nJalan.\\nPasal 2\\n(1 Korban kecelakaan alat angkutan lalu lintas jalan atau ahli warisnya\\nberhak atas santunan.\\nBesar santunan sebagaimana dimaksud pada ayat (1) ditentukan\\nsebagai berikut:\"\n",
      "  },\n",
      "  {\n",
      "    \"metadata\": {\n",
      "      \"effective_date\": \"26 Februari 2008\",\n",
      "      \"file_url\": \"https://www.ojk.go.id/id/regulasi/Documents/Pages/PMK-Nomor-36PMK.010-Tahun-2008-tentang-Besar-Santunan-dan-Sumbangan-Wajib-Dana-Kecelakaan-Lalu-Lintas-Jalan/menas13_1389258036.pdf\",\n",
      "      \"page_number\": 3.0,\n",
      "      \"regulation_number\": \"36/PMK.010/2008\",\n",
      "      \"regulation_type\": \"Klasifikasi Bapepam\",\n",
      "      \"sector\": \"IKNB\",\n",
      "      \"subsector\": \"Asuransi\",\n",
      "      \"title\": \"Peraturan Menteri Keuangan Nomor 36/PMK.010/2008 tentang Besar Santunan dan Sumbangan Wajib Dana Kecelakaan Lalu Lintas Jalan\",\n",
      "      \"relevance_score\": 0.0012843081\n",
      "    },\n",
      "    \"page_content\": \"Sepeda motor, sepeda kumbang dan scooter di atas 50 cc sampai\\n250 cc dan kendaraan bermotor roda tiga sebesar Rp 32.000,00\\n(tiga puluh dua ribu rupiah).\\nd.\\nPick up/mobil barang sampai dengan 2400 cc, sedan, jeep dan\\n mobil penumpang bukan angkutan umum sebesar Rp140.000,00\\n(seratus empat puluh ribu rupiah).\"\n",
      "  },\n",
      "  {\n",
      "    \"metadata\": {\n",
      "      \"effective_date\": \"1 Desember 2011\",\n",
      "      \"file_url\": \"https://www.ojk.go.id/id/regulasi/Documents/Pages/Peraturan-BAPEPAM-tentang-Pedoman-Perhitungan-Batas-Tingkat-Solvabilitas-Minimum-bagi-Perusahaan-Asuransi-dan-Reasuransi/BAPEPAM%20PER-09BL2011.pdf\",\n",
      "      \"page_number\": 19.0,\n",
      "      \"regulation_number\": \"PER-09/BL/2011\",\n",
      "      \"regulation_type\": \"Peraturan Bapepam\",\n",
      "      \"sector\": \"IKNB\",\n",
      "      \"subsector\": \"Asuransi\",\n",
      "      \"title\": \"Peraturan BAPEPAM tentang Pedoman Perhitungan Batas Tingkat Solvabilitas Minimum bagi Perusahaan Asuransi dan Perusahaan Reasuransi\",\n",
      "      \"relevance_score\": 0.0006361912\n",
      "    },\n",
      "    \"page_content\": \"(fP) \\nProyeksi \\nklaim  \\n(fK) \\nHarta benda (property) \\n10% \\n10% \\nKendaraan bermotor (own \\ndamage, third party liability, dan \\npersonal accident) \\n10% \\n15% \\nPengangkutan (marine cargo) \\n10% \\n20% \\nRangka kapal (marine hull) \\n10% \\n20% \\nRangka pesawat (aviation hull) \\n10% \\n20% \\nSatellite \\n10% \\n20% \\nEnergi Onshore (oil and gas) \\n10% \\n20% \\nEnergi Offshore (oil and gas) \\n10% \\n20% \\nRekayasa (engineering) \\n10% \\n20% \\nTanggung-gugat (liability) \\n10% \\n20% \\nKredit (Credit)  \\n10% \\n20% \\nSuretyship \\n10% \\n20% \\nAneka \\n10% \\n20% \\nii.) \\nKomponen klaim masa lalu \\nPerhitungan jumlah dana yang dibutuhkan untuk komponen \\nklaim masa lalu dilakukan berdasarkan rumusan sebagai \\nberikut: \\nB \\n=  (CKDPP  x  f CKDPP)  +  (IBNR  x  f IBNR) \\ndimana: \\nB \\n= dana yang dibutuhkan untuk komponen klaim \\nmasa lalu \\nCKDPP = cadangan klaim dalam proses penyelesaian yang \\nmenjadi beban sendiri \\nf CKDPP \\n= faktor risiko untuk cadangan klaim dalam proses \\npenyelesaian yang menjadi beban sendiri \\nIBNR\"\n",
      "  }\n",
      "]\n"
     ]
    }
   ],
   "source": [
    "# print(response['context'])"
   ]
  },
  {
   "cell_type": "code",
   "execution_count": 60,
   "metadata": {},
   "outputs": [
    {
     "name": "stdout",
     "output_type": "stream",
     "text": [
      "----------\n",
      "Human: Berapa nilai SWDKLLJ dari sedan?\n",
      "----------\n",
      "Assistant: SWDKLLJ untuk sedan sebesar Rp140.000,00 (seratus empat puluh ribu rupiah).\n",
      "\n",
      "Sumber: [36/PMK.010/2008](https://www.ojk.go.id/id/regulasi/Documents/Pages/PMK-Nomor-36PMK.010-Tahun-2008-tentang-Besar-Santunan-dan-Sumbangan-Wajib-Dana-Kecelakaan-Lalu-Lintas-Jalan/menas13_1389258036.pdf#page=3.0)\n",
      "----------\n",
      "Human: Berapa nilai SWDKLLJ untuk mobil?\n",
      "----------\n",
      "Assistant: SWDKLLJ untuk mobil adalah sebagai berikut:\n",
      "\n",
      "- Mobil penumpang angkutan umum sampai dengan 1600 cc: Rp150.000,00\n",
      "- Bus dan mikro bus bukan angkutan umum: Rp150.000,00\n",
      "- Bus dan mikro bus angkutan umum, serta mobil penumpang angkutan umum lainnya di atas 1600 cc: Rp87.000,00\n",
      "- Truk, mobil tangki, mobil gandengan, mobil barang di atas 2400 cc, truk container dan sejenisnya: Rp160.000,00\n",
      "\n",
      "Sumber: [36/PMK.010/2008](https://www.ojk.go.id/id/regulasi/Documents/Pages/PMK-Nomor-36PMK.010-Tahun-2008-tentang-Besar-Santunan-dan-Sumbangan-Wajib-Dana-Kecelakaan-Lalu-Lintas-Jalan/menas13_1389258036.pdf#page=4)\n",
      "\n"
     ]
    }
   ],
   "source": [
    "# print(chat_history.get_formatted_history())"
   ]
  },
  {
   "cell_type": "markdown",
   "metadata": {},
   "source": [
    "## **Evaluation**"
   ]
  }
 ],
 "metadata": {
  "kernelspec": {
   "display_name": "chatbot-lc",
   "language": "python",
   "name": "python3"
  },
  "language_info": {
   "codemirror_mode": {
    "name": "ipython",
    "version": 3
   },
   "file_extension": ".py",
   "mimetype": "text/x-python",
   "name": "python",
   "nbconvert_exporter": "python",
   "pygments_lexer": "ipython3",
   "version": "3.9.19"
  }
 },
 "nbformat": 4,
 "nbformat_minor": 2
}
