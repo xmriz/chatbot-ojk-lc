{
 "cells": [
  {
   "cell_type": "markdown",
   "metadata": {},
   "source": [
    "# **OJK ChatBot - LangChain**"
   ]
  },
  {
   "cell_type": "markdown",
   "metadata": {},
   "source": [
    "## **Setup**"
   ]
  },
  {
   "cell_type": "code",
   "execution_count": 71,
   "metadata": {},
   "outputs": [
    {
     "data": {
      "text/plain": [
       "True"
      ]
     },
     "execution_count": 71,
     "metadata": {},
     "output_type": "execute_result"
    }
   ],
   "source": [
    "from dotenv import load_dotenv\n",
    "load_dotenv()"
   ]
  },
  {
   "cell_type": "markdown",
   "metadata": {},
   "source": [
    "## **Config**"
   ]
  },
  {
   "cell_type": "code",
   "execution_count": 72,
   "metadata": {},
   "outputs": [],
   "source": [
    "from utils.config import get_config\n",
    "from utils.questions import get_question\n",
    "from utils.model_config import ModelName, get_model\n",
    "\n",
    "config = get_config()"
   ]
  },
  {
   "cell_type": "code",
   "execution_count": 73,
   "metadata": {},
   "outputs": [],
   "source": [
    "STORE = False\n",
    "DELETE = False\n",
    "TOP_K = 10\n",
    "TOP_N = 6\n",
    "model_name = ModelName.AZURE_OPENAI\n",
    "query_str = get_question(\"k\")\n",
    "# query_str = \"Apa judul peraturan nomor 37 /SEOJK.03/2016?\""
   ]
  },
  {
   "cell_type": "markdown",
   "metadata": {},
   "source": [
    "## **Define Model**"
   ]
  },
  {
   "cell_type": "code",
   "execution_count": 74,
   "metadata": {},
   "outputs": [],
   "source": [
    "llm_model, embed_model = get_model(model_name=model_name, config=config)"
   ]
  },
  {
   "cell_type": "markdown",
   "metadata": {},
   "source": [
    "## **Indexing**"
   ]
  },
  {
   "cell_type": "markdown",
   "metadata": {},
   "source": [
    "### **Load**"
   ]
  },
  {
   "cell_type": "code",
   "execution_count": 75,
   "metadata": {},
   "outputs": [],
   "source": [
    "from utils.documents_text_extract import extract_all_documents_in_directory\n",
    "\n",
    "documents_dir = './data/documents'\n",
    "metadata_path = './data/metadata/files_metadata.csv'\n",
    "\n",
    "if STORE:\n",
    "    documents = extract_all_documents_in_directory(documents_dir, metadata_path, treshold=0.98)\n"
   ]
  },
  {
   "cell_type": "markdown",
   "metadata": {},
   "source": [
    "### **Split**"
   ]
  },
  {
   "cell_type": "code",
   "execution_count": 76,
   "metadata": {},
   "outputs": [],
   "source": [
    "from utils.document_split import document_splitter\n",
    "\n",
    "if STORE:\n",
    "    all_splits = document_splitter(docs=documents)"
   ]
  },
  {
   "cell_type": "markdown",
   "metadata": {},
   "source": [
    "### **Storing**"
   ]
  },
  {
   "cell_type": "code",
   "execution_count": 77,
   "metadata": {},
   "outputs": [],
   "source": [
    "from utils.vector_store import PineconeIndexManager\n",
    "\n",
    "pinecone = PineconeIndexManager(index_name='ojk', embed_model=embed_model, config=config)\n",
    "\n",
    "if STORE:\n",
    "    pinecone.store_vector_index(docs=all_splits, delete=DELETE)\n",
    "    vector_store = pinecone.load_vector_index()\n",
    "else: \n",
    "    vector_store = pinecone.load_vector_index()"
   ]
  },
  {
   "cell_type": "markdown",
   "metadata": {},
   "source": [
    "## **Retrieval and Generation**"
   ]
  },
  {
   "cell_type": "markdown",
   "metadata": {},
   "source": [
    "### **Retrieve**"
   ]
  },
  {
   "cell_type": "code",
   "execution_count": 78,
   "metadata": {},
   "outputs": [],
   "source": [
    "from langchain_cohere import CohereRerank\n",
    "from langchain.retrievers import ContextualCompressionRetriever\n",
    "\n",
    "# retriever = vector_store.as_retriever(search_type=\"similarity\", search_kwargs={\"k\": TOP_K})\n",
    "compressor = CohereRerank(cohere_api_key=config['cohere_api_key'], top_n=TOP_N)\n",
    "retriever = ContextualCompressionRetriever(\n",
    "    base_compressor=compressor, base_retriever=vector_store.as_retriever(search_type=\"similarity\", search_kwargs={\"k\": TOP_K})\n",
    ")"
   ]
  },
  {
   "cell_type": "code",
   "execution_count": 79,
   "metadata": {},
   "outputs": [
    {
     "data": {
      "text/plain": [
       "[Document(metadata={'effective_date': '26 Februari 2008', 'file_url': 'https://www.ojk.go.id/id/regulasi/Documents/Pages/PMK-Nomor-36PMK.010-Tahun-2008-tentang-Besar-Santunan-dan-Sumbangan-Wajib-Dana-Kecelakaan-Lalu-Lintas-Jalan/menas13_1389258036.pdf', 'page_number': 4.0, 'regulation_number': '36/PMK.010/2008', 'regulation_type': 'Klasifikasi Bapepam', 'sector': 'IKNB', 'subsector': 'Asuransi', 'title': 'Peraturan Menteri Keuangan Nomor 36/PMK.010/2008 tentang Besar Santunan dan Sumbangan Wajib Dana Kecelakaan Lalu Lintas Jalan', 'relevance_score': 0.9850429}, page_content='2) Dalam hal pembayaran SWDKLLJ dilakukan setelah melewati batas\\n seharusnya dibayar dengan ketentuan denda yang dikenakan paling\\nbesar Rp100.000,00 (seratus ribu rupiah).\\n(3) Dalam hal ketentuan mengenai batas waktu sebagaimana dimaksud\\ngeografis daerah setempat, Direksi perusahaan yang ditunjuk untuk\\nmenyelenggarakan Dana Kecelakaan Lalu Lintas Jalan diberi\\nbesarnya denda SWDKLLJ, dengan ketentuan batas waktu dimaksud\\npaling lama 15 (lima belas) hari kerja.'),\n",
       " Document(metadata={'effective_date': '26 Februari 2008', 'file_url': 'https://www.ojk.go.id/id/regulasi/Documents/Pages/PMK-Nomor-36PMK.010-Tahun-2008-tentang-Besar-Santunan-dan-Sumbangan-Wajib-Dana-Kecelakaan-Lalu-Lintas-Jalan/menas13_1389258036.pdf', 'page_number': 3.0, 'regulation_number': '36/PMK.010/2008', 'regulation_type': 'Klasifikasi Bapepam', 'sector': 'IKNB', 'subsector': 'Asuransi', 'title': 'Peraturan Menteri Keuangan Nomor 36/PMK.010/2008 tentang Besar Santunan dan Sumbangan Wajib Dana Kecelakaan Lalu Lintas Jalan', 'relevance_score': 0.9813822}, page_content='MENTERI KEUANGAN\\nREPUBLIK INDONESIA\\nmemperoleh santunan sebesar Rp 25.000.000,00 (dua puluh lima\\njuta rupiah).\\nb. Korban yang mengalami cacat tetap berhak memperoleh\\nsantunan yang besarnya dihitung berdasarkan angka prosentase\\n Korban yang memerlukan perawatan dan pengobatan berhak\\nrupiah).\\nPasal 3\\nDalam hal korban meninggal dunia akibat kecelakaan alat angkutan\\nlalu lintas jalan tidak mempunyai ahli waris, kepada pihak yang\\nmenyelenggarakan\\ndiberikan\\npenggantian\\nbiaya\\nPasal 4\\n(2) Besar SWDKLLJ sebagaimana dimaksud pada ayat (1) ditentukan\\nsebagai berikut:\\nSepeda motor di bawah 50 cc, mobil ambulance, mobil jenazah\\na.\\ndan mobil pemadam kebakaran dibebaskan dari kewajiban\\nb. Traktor, buidozer, forklift, mobil derek, excavator, crane dan\\nsejenisnya sebesar Rp 20.000,00 (dua puluh ribu rupiah):\\n Sepeda motor, sepeda kumbang dan scooter di atas 50 cc sampai\\n250 cc dan kendaraan bermotor roda tiga sebesar Rp 32.000,00\\n(tiga puluh dua ribu rupiah).\\nd.'),\n",
       " Document(metadata={'effective_date': '26 Februari 2008', 'file_url': 'https://www.ojk.go.id/id/regulasi/Documents/Pages/PMK-Nomor-36PMK.010-Tahun-2008-tentang-Besar-Santunan-dan-Sumbangan-Wajib-Dana-Kecelakaan-Lalu-Lintas-Jalan/menas13_1389258036.pdf', 'page_number': 2.0, 'regulation_number': '36/PMK.010/2008', 'regulation_type': 'Klasifikasi Bapepam', 'sector': 'IKNB', 'subsector': 'Asuransi', 'title': 'Peraturan Menteri Keuangan Nomor 36/PMK.010/2008 tentang Besar Santunan dan Sumbangan Wajib Dana Kecelakaan Lalu Lintas Jalan', 'relevance_score': 0.94229466}, page_content='wajib\\nsebagaimana dimaksud dalam Undang-Undang Nomor 34 Tahun\\n1964 tentang Dana Kecelakaan Lalu Lintas Jalan juncto Peraturan\\nPelaksanaan Dana Kecelakaan Lalu Lintas Jalan.\\n2) SWDKLLJ merupakan premi asuransi yang dibayarkan oleh para\\npengusaha/pemilik alat angkutan lalu lintas jalan kepada\\nperusahaan yang menyelenggarakan Dana Kecelakaan Lalu Lintas\\nJalan.\\nPasal 2\\n(1 Korban kecelakaan alat angkutan lalu lintas jalan atau ahli warisnya\\nberhak atas santunan.\\nBesar santunan sebagaimana dimaksud pada ayat (1) ditentukan\\nsebagai berikut:'),\n",
       " Document(metadata={'effective_date': '26 Februari 2008', 'file_url': 'https://www.ojk.go.id/id/regulasi/Documents/Pages/PMK-Nomor-36PMK.010-Tahun-2008-tentang-Besar-Santunan-dan-Sumbangan-Wajib-Dana-Kecelakaan-Lalu-Lintas-Jalan/menas13_1389258036.pdf', 'page_number': 4.0, 'regulation_number': '36/PMK.010/2008', 'regulation_type': 'Klasifikasi Bapepam', 'sector': 'IKNB', 'subsector': 'Asuransi', 'title': 'Peraturan Menteri Keuangan Nomor 36/PMK.010/2008 tentang Besar Santunan dan Sumbangan Wajib Dana Kecelakaan Lalu Lintas Jalan', 'relevance_score': 0.93868846}, page_content='MENTERI KEUANGAN\\nREPUBLIK INDONESIA\\n-4-\\n Mobil penumpang angkutan umum sampai dengan 1600 cc\\ng. Bus dan mikro bus bukan angkutan umum sebesar Rp150.000,00\\n(seratus lima puluh ribu rupiah).\\nh. Bus dan.mikro bus angkutan umum, serta mobil penumpang\\nangkutan umum lainnya di atas 1600 cc sebesar Rp87.000,00\\n(delapan puluh tujuh ribu rupiah).\\nTruk, mobil tangki, mobil gandengan, mobil barang di atas 2400\\ncc, truk container dan sejenisnya sebesar Rp 160.000,00 (seratus\\n enam puluh ribu rupiah).\\nPasal 5\\nSetiap jenis kendaraan sebagaimana dimaksud dalam Pasal 4, dikenakan\\nbiaya\\n penggantian pembuatan\\n Kartu Dana/Sertifikat sebesar\\nRp 3.000,00 (tiga ribu rupiah).\\nPasal 6\\nTanda Nomor Kendaraan Bermotor sesuai dengan ketentuan\\nperaturan perundang-undangan yang berlaku.\\n2) Dalam hal pembayaran SWDKLLJ dilakukan setelah melewati batas\\n seharusnya dibayar dengan ketentuan denda yang dikenakan paling\\nbesar Rp100.000,00 (seratus ribu rupiah).'),\n",
       " Document(metadata={'effective_date': '26 Februari 2008', 'file_url': 'https://www.ojk.go.id/id/regulasi/Documents/Pages/PMK-Nomor-36PMK.010-Tahun-2008-tentang-Besar-Santunan-dan-Sumbangan-Wajib-Dana-Kecelakaan-Lalu-Lintas-Jalan/menas13_1389258036.pdf', 'page_number': 2.0, 'regulation_number': '36/PMK.010/2008', 'regulation_type': 'Klasifikasi Bapepam', 'sector': 'IKNB', 'subsector': 'Asuransi', 'title': 'Peraturan Menteri Keuangan Nomor 36/PMK.010/2008 tentang Besar Santunan dan Sumbangan Wajib Dana Kecelakaan Lalu Lintas Jalan', 'relevance_score': 0.65599746}, page_content='REPUBLIK INDONESIA\\n Penyelenggaraan Usaha Perasuransian (Lembaran Negara Republik\\nIndonesia Tahun 1992 Nomor 120, Tambahan Lembaran Negara\\nRepublik Indonesia Nomor 3506) sebagaimana telah diubah dengan\\nPeraturan Pemerintah Nomor 63 .Tahun 1999 (Lembaran Negara\\nNegara Republik Indonesia Nomor 3861);\\n Keputusan Presiden Nomor 20/P Tahun 2005j\\n Keputusan Menteri Keuangan Nomor 337/KMK.011/1981 tentang\\nPenunjukan Perusahaan Perseroan (Persero) Asuransi Kerugian Jasa\\nRaharja untuk\\n menyelenggarakan Dana Pertanggungan Wajib\\nKecelakaan Penumpang dan Dana Kecelakaan Lalu Lintas Jalan;\\nMEMUTUSKAN:\\nMenetapkan : PERATURAN\\nMENTERI\\nKEUANGAN\\nTENTANG\\nBESAR\\nLALU LINTAS JALAN\\nPasal 1\\n(1) Sumbangan Wajib Dana Kecelakaan Lalu Lintas Jalan,\\nselanjutnya\\n disebut SWDKLLJ, adalah sumbangan\\nwajib\\nsebagaimana dimaksud dalam Undang-Undang Nomor 34 Tahun\\n1964 tentang Dana Kecelakaan Lalu Lintas Jalan juncto Peraturan\\nPelaksanaan Dana Kecelakaan Lalu Lintas Jalan.'),\n",
       " Document(metadata={'effective_date': '26 Februari 2008', 'file_url': 'https://www.ojk.go.id/id/regulasi/Documents/Pages/PMK-Nomor-36PMK.010-Tahun-2008-tentang-Besar-Santunan-dan-Sumbangan-Wajib-Dana-Kecelakaan-Lalu-Lintas-Jalan/menas13_1389258036.pdf', 'page_number': 3.0, 'regulation_number': '36/PMK.010/2008', 'regulation_type': 'Klasifikasi Bapepam', 'sector': 'IKNB', 'subsector': 'Asuransi', 'title': 'Peraturan Menteri Keuangan Nomor 36/PMK.010/2008 tentang Besar Santunan dan Sumbangan Wajib Dana Kecelakaan Lalu Lintas Jalan', 'relevance_score': 0.00060945016}, page_content='Sepeda motor, sepeda kumbang dan scooter di atas 50 cc sampai\\n250 cc dan kendaraan bermotor roda tiga sebesar Rp 32.000,00\\n(tiga puluh dua ribu rupiah).\\nd.\\nPick up/mobil barang sampai dengan 2400 cc, sedan, jeep dan\\n mobil penumpang bukan angkutan umum sebesar Rp140.000,00\\n(seratus empat puluh ribu rupiah).')]"
      ]
     },
     "execution_count": 79,
     "metadata": {},
     "output_type": "execute_result"
    }
   ],
   "source": [
    "retrieved_docs = retriever.invoke(input=query_str)\n",
    "retrieved_docs"
   ]
  },
  {
   "cell_type": "markdown",
   "metadata": {},
   "source": [
    "### **Generate**"
   ]
  },
  {
   "cell_type": "code",
   "execution_count": 80,
   "metadata": {},
   "outputs": [],
   "source": [
    "from utils.rag_chain_with_chat_history import create_chain_with_chat_history\n",
    "\n",
    "_TEMPLATE = \"\"\"Given the following conversation and a follow-up question, \\\n",
    "rephrase the follow-up question to be a standalone question in its original language. \n",
    "If the follow-up question is not clear, indicate so. \n",
    "If the chat history is not relevant to the follow-up question, please ignore the chat history.\n",
    "\n",
    "Chat History:\n",
    "{chat_history}\n",
    "\n",
    "Follow-up Question: {question}\n",
    "Standalone Question: \"\"\"\n",
    "\n",
    "_ANSWER_TEMPLATE = \"\"\"The context information is below.\n",
    "Context: \n",
    "{context}\n",
    "\n",
    "Based on the context and the metadata information provided, \\\n",
    "answer the query related to banking compliance in Indonesia.\n",
    "Use the context and metadata information only, without relying on prior knowledge. \n",
    "ALWAYS ANSWER IN THE USER'S LANGUAGE.\n",
    "\n",
    "Please provide your answer in the following format, \\\n",
    "including the regulation number and file URL if available:\n",
    "\n",
    "(Answer...) \\n\\n\n",
    "Source: [metadata['regulation_number']](metadata['file_url'])\n",
    "\n",
    "If you cannot find the regulation number, just provide the (Answer...). \n",
    "If the file_url ends with '.pdf', you can add the metadata['page_number'] in the URL like this: \n",
    "\n",
    "(Answer...) \\n\\n\n",
    "Source: [metadata['regulation_number']](metadata['file_url#page=metadata['page_number']')\n",
    "\n",
    "(Answer...) is the answer to the question, don't write '(Answer...)' in the answer.\n",
    "DO NOT PROVIDE AMBIGUOUS ANSWERS.\n",
    "\n",
    "Question: {question}\n",
    "\"\"\"\n",
    "\n",
    "\n",
    "# _ANSWER_TEMPLATE = \"\"\"The context information is below.\n",
    "# Context: \n",
    "# {context}\n",
    "\n",
    "# Based on the context and the metadata information provided, answer the query \\\n",
    "# related to banking compliance in Indonesia. \n",
    "# Use the context and metadata information only, without relying on prior knowledge. \n",
    "# ALWAYS ANSWER IN THE USER'S LANGUAGE.\n",
    "\n",
    "# Please provide your answer in the following format, including the regulation number and file URL if available:\n",
    "# [ANSWER] \\n\\n\n",
    "# Source: [metadata['regulation_number']](metadata['file_url'])\n",
    "\n",
    "# If you cannot find the regulation number, just provide the answer. \n",
    "# If the query is about effective date, regulation type, regulation number, \\\n",
    "# regulation type, sector, subsector, or title information, check the context metadata first. \\\n",
    "# If not found, then refer to the context page_content.\n",
    "\n",
    "# DO NOT PROVIDE AMBIGUOUS ANSWERS.\n",
    "\n",
    "# Question: {question}\n",
    "# \"\"\"\n",
    "\n",
    "chain = create_chain_with_chat_history(\n",
    "    contextualize_q_prompt_str=_TEMPLATE,\n",
    "    qa_system_prompt_str=_ANSWER_TEMPLATE,\n",
    "    retriever=retriever,\n",
    "    llm_model=llm_model,\n",
    ")"
   ]
  },
  {
   "cell_type": "code",
   "execution_count": 81,
   "metadata": {},
   "outputs": [],
   "source": [
    "from utils.chat_history import ChatHistory\n",
    "\n",
    "chat_history = ChatHistory(max_history_length=5)"
   ]
  },
  {
   "cell_type": "markdown",
   "metadata": {},
   "source": [
    "#### **Streaming**"
   ]
  },
  {
   "cell_type": "code",
   "execution_count": 82,
   "metadata": {},
   "outputs": [],
   "source": [
    "# from utils.rag_chain_with_chat_history import print_answer_stream\n",
    "\n",
    "# await print_answer_stream(chain=chain, chat_history=chat_history, question=query_str)"
   ]
  },
  {
   "cell_type": "markdown",
   "metadata": {},
   "source": [
    "#### **With Question, Answer, and Context**"
   ]
  },
  {
   "cell_type": "code",
   "execution_count": 83,
   "metadata": {},
   "outputs": [
    {
     "data": {
      "text/plain": [
       "{'question': 'Apakah Anda memiliki mobil?',\n",
       " 'answer': '(Answer...) \\nTidak ada informasi yang relevan dalam konteks yang menjawab pertanyaan Anda.',\n",
       " 'context': '[\\n  {\\n    \"metadata\": {\\n      \"effective_date\": \"26 Februari 2008\",\\n      \"file_url\": \"https://www.ojk.go.id/id/regulasi/Documents/Pages/PMK-Nomor-36PMK.010-Tahun-2008-tentang-Besar-Santunan-dan-Sumbangan-Wajib-Dana-Kecelakaan-Lalu-Lintas-Jalan/menas13_1389258036.pdf\",\\n      \"page_number\": 3.0,\\n      \"regulation_number\": \"36/PMK.010/2008\",\\n      \"regulation_type\": \"Klasifikasi Bapepam\",\\n      \"sector\": \"IKNB\",\\n      \"subsector\": \"Asuransi\",\\n      \"title\": \"Peraturan Menteri Keuangan Nomor 36/PMK.010/2008 tentang Besar Santunan dan Sumbangan Wajib Dana Kecelakaan Lalu Lintas Jalan\",\\n      \"relevance_score\": 0.00095846487\\n    },\\n    \"page_content\": \"Sepeda motor, sepeda kumbang dan scooter di atas 50 cc sampai\\\\n250 cc dan kendaraan bermotor roda tiga sebesar Rp 32.000,00\\\\n(tiga puluh dua ribu rupiah).\\\\nd.\\\\nPick up/mobil barang sampai dengan 2400 cc, sedan, jeep dan\\\\n mobil penumpang bukan angkutan umum sebesar Rp140.000,00\\\\n(seratus empat puluh ribu rupiah).\"\\n  },\\n  {\\n    \"metadata\": {\\n      \"effective_date\": \"27 November 2019\",\\n      \"file_url\": \"https://www.ojk.go.id/id/regulasi/Documents/Pages/-Kualitas-Aset-Produktif-dan-Pembentukan-Penyisihan-Penghapusan-Aset-Produktif-Bank-Pembiayaan-Rakyat-Syariah/Ringsek%20dan%20FAQs%20POJK%2029%20-%20KAP%20PPAP%20BPRS.docx\",\\n      \"regulation_number\": \"29/POJK.03/2019\",\\n      \"regulation_type\": \"Peraturan OJK\",\\n      \"sector\": \"Perbankan\",\\n      \"subsector\": \"BPR,  Perbankan Syariah\",\\n      \"title\": \"Kualitas Aset Produktif dan Pembentukan Penyisihan Penghapusan Aset Produktif Bank Pembiayaan Rakyat Syariah\",\\n      \"relevance_score\": 0.0008934456\\n    },\\n    \"page_content\": \"tanah dan/atau bangunan\\\\n50% dari nilai AYDA apabila dimiliki lebih dari 1 s.d. 3 tahun;\\\\n75% dari nilai AYDA apabila dimiliki lebih dari 3 s.d. 5 tahun; dan/atau\\\\n100% dari nilai AYDA apabila dimiliki lebih dari 5 tahun.\\\\nkendaraan bermotor, kapal, perahu bermotor, alat berat, dan/atau mesin\\\\n50% dari nilai AYDA apabila dimiliki lebih dari 1 s.d. 2 tahun; dan/atau\\\\n100% dari nilai AYDA apabila dimiliki lebih dari 2 tahun.\\\\nHapus buku dan/atau hapus tagih hanya dapat dilakukan terhadap penyediaan dana yang memiliki kualitas macet.\"\\n  },\\n  {\\n    \"metadata\": {\\n      \"effective_date\": \"31 Desember 2009\",\\n      \"file_url\": \"https://www.ojk.go.id/id/regulasi/Documents/Pages/Peraturan-BAPEPAM-tentang-Referensi-Premi-Murni-serta-Unsur-Biaya-Administrasi-dan-Biaya-Minimum-Lainnya-2009/BAPEPAM%20PER-07BL2009.pdf\",\\n      \"page_number\": 4.0,\\n      \"regulation_number\": \"PER- 07/BL/2009\",\\n      \"regulation_type\": \"Peraturan Bapepam\",\\n      \"sector\": \"IKNB\",\\n      \"subsector\": \"Asuransi\",\\n      \"title\": \"Peraturan BAPEPAM tentang Referensi Premi Murni serta Unsur Biaya Administrasi dan Biaya Minimum Lainnya Pada Lini Usaha Asuransi Kendaraan Bermotor Tahun 2010\",\\n      \"relevance_score\": 0.0007854739\\n    },\\n    \"page_content\": \"berumur sampai dengan 3 (tiga) tahun. Untuk kendaraan berumur lebih dari    \\\\n3 (tiga) tahun, harus dikenakan premi tambahan yang wajar. \\\\n2. Untuk perluasan Strike, Riot, Civil Commotion (SRCC), Flood, Earthquake, dan \\\\nThird Party Liability (TPL) harus dikenakan premi tambahan. \\\\n3. Unsur premi murni di atas merupakan persentase dari uang pertanggungan. \\\\n4. Deductible minimum sebesar Rp200.000,00 (dua ratus ribu rupiah). \\\\n5. Premi murni paling sedikit 50% (lima puluh per seratus) dari premi bruto.  \\\\nII. PREMI YANG DIBEBANKAN PADA TERTANGGUNG \\\\nPremi yang dibebankan pada tertanggung adalah premi murni ditambah biaya \\\\nadministrasi dan umum, biaya akuisisi, dan keuntungan perusahaan.\"\\n  },\\n  {\\n    \"metadata\": {\\n      \"effective_date\": \"31 Desember 2009\",\\n      \"file_url\": \"https://www.ojk.go.id/id/regulasi/Documents/Pages/Peraturan-BAPEPAM-tentang-Referensi-Premi-Murni-serta-Unsur-Biaya-Administrasi-dan-Biaya-Minimum-Lainnya-2009/BAPEPAM%20PER-07BL2009.pdf\",\\n      \"page_number\": 3.0,\\n      \"regulation_number\": \"PER- 07/BL/2009\",\\n      \"regulation_type\": \"Peraturan Bapepam\",\\n      \"sector\": \"IKNB\",\\n      \"subsector\": \"Asuransi\",\\n      \"title\": \"Peraturan BAPEPAM tentang Referensi Premi Murni serta Unsur Biaya Administrasi dan Biaya Minimum Lainnya Pada Lini Usaha Asuransi Kendaraan Bermotor Tahun 2010\",\\n      \"relevance_score\": 0.00037850367\\n    },\\n    \"page_content\": \"Kendaraan Bermotor dihitung dengan menggunakan referensi unsur \\\\npremi murni sesuai Lampiran 1  Peraturan Ketua Badan Pengawas \\\\nPasar Modal dan Lembaga Keuangan ini. \\\\nPasal 5 \\\\nPeraturan Ketua Badan Pengawas Pasar Modal dan Lembaga \\\\nKeuangan Nomor PER-06/BL/2008 tentang Referensi Unsur Premi \\\\nMurni Serta Unsur Biaya Administrasi Dan Biaya Umum Lainnya \\\\nPada Lini Usaha Asuransi Kendaraan Bermotor Tahun 2008 - 2009 \\\\nberlaku sampai dengan tanggal 28 Februari 2010. \\\\nPasal 6 \\\\nPeraturan Ketua Badan Pengawas Pasar Modal dan Lembaga \\\\nKeuangan ini mulai berlaku pada tanggal 1 Maret 2010. \\\\nAgar setiap orang mengetahuinya, memerintahkan pengumuman \\\\nPeraturan Ketua Badan Pengawas Pasar Modal dan Lembaga \\\\nKeuangan ini dengan penempatannya dalam Berita Negara Republik \\\\nIndonesia.  \\\\n \\\\nDitetapkan di \\\\n:  Jakarta \\\\npada tanggal \\\\n:  31 Desember  2009 \\\\n \\\\n \\\\n \\\\nSalinan sesuai dengan aslinya \\\\nKepala Bagian Umum \\\\n \\\\nttd. \\\\n \\\\nPrasetyo Wahyu Adi Suryo  \\\\nNIP 060076008 \\\\nKetua Badan Pengawas Pasar Modal\"\\n  },\\n  {\\n    \"metadata\": {\\n      \"effective_date\": \"26 Februari 2008\",\\n      \"file_url\": \"https://www.ojk.go.id/id/regulasi/Documents/Pages/PMK-Nomor-36PMK.010-Tahun-2008-tentang-Besar-Santunan-dan-Sumbangan-Wajib-Dana-Kecelakaan-Lalu-Lintas-Jalan/menas13_1389258036.pdf\",\\n      \"page_number\": 4.0,\\n      \"regulation_number\": \"36/PMK.010/2008\",\\n      \"regulation_type\": \"Klasifikasi Bapepam\",\\n      \"sector\": \"IKNB\",\\n      \"subsector\": \"Asuransi\",\\n      \"title\": \"Peraturan Menteri Keuangan Nomor 36/PMK.010/2008 tentang Besar Santunan dan Sumbangan Wajib Dana Kecelakaan Lalu Lintas Jalan\",\\n      \"relevance_score\": 0.0003500686\\n    },\\n    \"page_content\": \"MENTERI KEUANGAN\\\\nREPUBLIK INDONESIA\\\\n-4-\\\\n Mobil penumpang angkutan umum sampai dengan 1600 cc\\\\ng. Bus dan mikro bus bukan angkutan umum sebesar Rp150.000,00\\\\n(seratus lima puluh ribu rupiah).\\\\nh. Bus dan.mikro bus angkutan umum, serta mobil penumpang\\\\nangkutan umum lainnya di atas 1600 cc sebesar Rp87.000,00\\\\n(delapan puluh tujuh ribu rupiah).\\\\nTruk, mobil tangki, mobil gandengan, mobil barang di atas 2400\\\\ncc, truk container dan sejenisnya sebesar Rp 160.000,00 (seratus\\\\n enam puluh ribu rupiah).\\\\nPasal 5\\\\nSetiap jenis kendaraan sebagaimana dimaksud dalam Pasal 4, dikenakan\\\\nbiaya\\\\n penggantian pembuatan\\\\n Kartu Dana/Sertifikat sebesar\\\\nRp 3.000,00 (tiga ribu rupiah).\\\\nPasal 6\\\\nTanda Nomor Kendaraan Bermotor sesuai dengan ketentuan\\\\nperaturan perundang-undangan yang berlaku.\\\\n2) Dalam hal pembayaran SWDKLLJ dilakukan setelah melewati batas\\\\n seharusnya dibayar dengan ketentuan denda yang dikenakan paling\\\\nbesar Rp100.000,00 (seratus ribu rupiah).\"\\n  },\\n  {\\n    \"metadata\": {\\n      \"effective_date\": \"27 November 2019\",\\n      \"file_url\": \"https://www.ojk.go.id/id/regulasi/Documents/Pages/-Kualitas-Aset-Produktif-dan-Pembentukan-Penyisihan-Penghapusan-Aset-Produktif-Bank-Pembiayaan-Rakyat-Syariah/Ringsek%20dan%20FAQs%20POJK%2029%20-%20KAP%20PPAP%20BPRS.docx\",\\n      \"regulation_number\": \"29/POJK.03/2019\",\\n      \"regulation_type\": \"Peraturan OJK\",\\n      \"sector\": \"Perbankan\",\\n      \"subsector\": \"BPR,  Perbankan Syariah\",\\n      \"title\": \"Kualitas Aset Produktif dan Pembentukan Penyisihan Penghapusan Aset Produktif Bank Pembiayaan Rakyat Syariah\",\\n      \"relevance_score\": 0.00016997529\\n    },\\n    \"page_content\": \"Kewajiban AYDA menjadi faktor pengurang modal inti pada dasarnya merupakan disinsentif kepemilikan aset yang tidak digunakan dalam kegiatan usaha BPRS sehingga BPRS didorong untuk menyelesaikan AYDA dimaksud.\\\\nTidak terdapat aturan terkait dengan agunan berupa kendaraan bermotor yang tidak diikat dengan fidusia sebagaimana diatur pada Peraturan Bank Indonesia sebelumnya.\\\\nMempertimbangkan risiko hukum serta proses pendaftaran fidusia yang semakin mudah (dapat dilakukan secara online), maka agunan berupa kendaraan bermotor yang tidak diikat fidusia tidak dapat dijadikan sebagai pengurang dalam pembentukan PPAP.\"\\n  }\\n]'}"
      ]
     },
     "execution_count": 83,
     "metadata": {},
     "output_type": "execute_result"
    }
   ],
   "source": [
    "from utils.rag_chain_with_chat_history import get_response\n",
    "\n",
    "response = get_response(chat_history=chat_history, chain=chain, question=\"Kalau mobil?\")\n",
    "response"
   ]
  },
  {
   "cell_type": "code",
   "execution_count": 84,
   "metadata": {},
   "outputs": [
    {
     "name": "stdout",
     "output_type": "stream",
     "text": [
      "(Answer...) \n",
      "Tidak ada informasi yang relevan dalam konteks yang menjawab pertanyaan Anda.\n"
     ]
    }
   ],
   "source": [
    "print(response['answer'])"
   ]
  },
  {
   "cell_type": "code",
   "execution_count": 85,
   "metadata": {},
   "outputs": [
    {
     "name": "stdout",
     "output_type": "stream",
     "text": [
      "[\n",
      "  {\n",
      "    \"metadata\": {\n",
      "      \"effective_date\": \"26 Februari 2008\",\n",
      "      \"file_url\": \"https://www.ojk.go.id/id/regulasi/Documents/Pages/PMK-Nomor-36PMK.010-Tahun-2008-tentang-Besar-Santunan-dan-Sumbangan-Wajib-Dana-Kecelakaan-Lalu-Lintas-Jalan/menas13_1389258036.pdf\",\n",
      "      \"page_number\": 3.0,\n",
      "      \"regulation_number\": \"36/PMK.010/2008\",\n",
      "      \"regulation_type\": \"Klasifikasi Bapepam\",\n",
      "      \"sector\": \"IKNB\",\n",
      "      \"subsector\": \"Asuransi\",\n",
      "      \"title\": \"Peraturan Menteri Keuangan Nomor 36/PMK.010/2008 tentang Besar Santunan dan Sumbangan Wajib Dana Kecelakaan Lalu Lintas Jalan\",\n",
      "      \"relevance_score\": 0.00095846487\n",
      "    },\n",
      "    \"page_content\": \"Sepeda motor, sepeda kumbang dan scooter di atas 50 cc sampai\\n250 cc dan kendaraan bermotor roda tiga sebesar Rp 32.000,00\\n(tiga puluh dua ribu rupiah).\\nd.\\nPick up/mobil barang sampai dengan 2400 cc, sedan, jeep dan\\n mobil penumpang bukan angkutan umum sebesar Rp140.000,00\\n(seratus empat puluh ribu rupiah).\"\n",
      "  },\n",
      "  {\n",
      "    \"metadata\": {\n",
      "      \"effective_date\": \"27 November 2019\",\n",
      "      \"file_url\": \"https://www.ojk.go.id/id/regulasi/Documents/Pages/-Kualitas-Aset-Produktif-dan-Pembentukan-Penyisihan-Penghapusan-Aset-Produktif-Bank-Pembiayaan-Rakyat-Syariah/Ringsek%20dan%20FAQs%20POJK%2029%20-%20KAP%20PPAP%20BPRS.docx\",\n",
      "      \"regulation_number\": \"29/POJK.03/2019\",\n",
      "      \"regulation_type\": \"Peraturan OJK\",\n",
      "      \"sector\": \"Perbankan\",\n",
      "      \"subsector\": \"BPR,  Perbankan Syariah\",\n",
      "      \"title\": \"Kualitas Aset Produktif dan Pembentukan Penyisihan Penghapusan Aset Produktif Bank Pembiayaan Rakyat Syariah\",\n",
      "      \"relevance_score\": 0.0008934456\n",
      "    },\n",
      "    \"page_content\": \"tanah dan/atau bangunan\\n50% dari nilai AYDA apabila dimiliki lebih dari 1 s.d. 3 tahun;\\n75% dari nilai AYDA apabila dimiliki lebih dari 3 s.d. 5 tahun; dan/atau\\n100% dari nilai AYDA apabila dimiliki lebih dari 5 tahun.\\nkendaraan bermotor, kapal, perahu bermotor, alat berat, dan/atau mesin\\n50% dari nilai AYDA apabila dimiliki lebih dari 1 s.d. 2 tahun; dan/atau\\n100% dari nilai AYDA apabila dimiliki lebih dari 2 tahun.\\nHapus buku dan/atau hapus tagih hanya dapat dilakukan terhadap penyediaan dana yang memiliki kualitas macet.\"\n",
      "  },\n",
      "  {\n",
      "    \"metadata\": {\n",
      "      \"effective_date\": \"31 Desember 2009\",\n",
      "      \"file_url\": \"https://www.ojk.go.id/id/regulasi/Documents/Pages/Peraturan-BAPEPAM-tentang-Referensi-Premi-Murni-serta-Unsur-Biaya-Administrasi-dan-Biaya-Minimum-Lainnya-2009/BAPEPAM%20PER-07BL2009.pdf\",\n",
      "      \"page_number\": 4.0,\n",
      "      \"regulation_number\": \"PER- 07/BL/2009\",\n",
      "      \"regulation_type\": \"Peraturan Bapepam\",\n",
      "      \"sector\": \"IKNB\",\n",
      "      \"subsector\": \"Asuransi\",\n",
      "      \"title\": \"Peraturan BAPEPAM tentang Referensi Premi Murni serta Unsur Biaya Administrasi dan Biaya Minimum Lainnya Pada Lini Usaha Asuransi Kendaraan Bermotor Tahun 2010\",\n",
      "      \"relevance_score\": 0.0007854739\n",
      "    },\n",
      "    \"page_content\": \"berumur sampai dengan 3 (tiga) tahun. Untuk kendaraan berumur lebih dari    \\n3 (tiga) tahun, harus dikenakan premi tambahan yang wajar. \\n2. Untuk perluasan Strike, Riot, Civil Commotion (SRCC), Flood, Earthquake, dan \\nThird Party Liability (TPL) harus dikenakan premi tambahan. \\n3. Unsur premi murni di atas merupakan persentase dari uang pertanggungan. \\n4. Deductible minimum sebesar Rp200.000,00 (dua ratus ribu rupiah). \\n5. Premi murni paling sedikit 50% (lima puluh per seratus) dari premi bruto.  \\nII. PREMI YANG DIBEBANKAN PADA TERTANGGUNG \\nPremi yang dibebankan pada tertanggung adalah premi murni ditambah biaya \\nadministrasi dan umum, biaya akuisisi, dan keuntungan perusahaan.\"\n",
      "  },\n",
      "  {\n",
      "    \"metadata\": {\n",
      "      \"effective_date\": \"31 Desember 2009\",\n",
      "      \"file_url\": \"https://www.ojk.go.id/id/regulasi/Documents/Pages/Peraturan-BAPEPAM-tentang-Referensi-Premi-Murni-serta-Unsur-Biaya-Administrasi-dan-Biaya-Minimum-Lainnya-2009/BAPEPAM%20PER-07BL2009.pdf\",\n",
      "      \"page_number\": 3.0,\n",
      "      \"regulation_number\": \"PER- 07/BL/2009\",\n",
      "      \"regulation_type\": \"Peraturan Bapepam\",\n",
      "      \"sector\": \"IKNB\",\n",
      "      \"subsector\": \"Asuransi\",\n",
      "      \"title\": \"Peraturan BAPEPAM tentang Referensi Premi Murni serta Unsur Biaya Administrasi dan Biaya Minimum Lainnya Pada Lini Usaha Asuransi Kendaraan Bermotor Tahun 2010\",\n",
      "      \"relevance_score\": 0.00037850367\n",
      "    },\n",
      "    \"page_content\": \"Kendaraan Bermotor dihitung dengan menggunakan referensi unsur \\npremi murni sesuai Lampiran 1  Peraturan Ketua Badan Pengawas \\nPasar Modal dan Lembaga Keuangan ini. \\nPasal 5 \\nPeraturan Ketua Badan Pengawas Pasar Modal dan Lembaga \\nKeuangan Nomor PER-06/BL/2008 tentang Referensi Unsur Premi \\nMurni Serta Unsur Biaya Administrasi Dan Biaya Umum Lainnya \\nPada Lini Usaha Asuransi Kendaraan Bermotor Tahun 2008 - 2009 \\nberlaku sampai dengan tanggal 28 Februari 2010. \\nPasal 6 \\nPeraturan Ketua Badan Pengawas Pasar Modal dan Lembaga \\nKeuangan ini mulai berlaku pada tanggal 1 Maret 2010. \\nAgar setiap orang mengetahuinya, memerintahkan pengumuman \\nPeraturan Ketua Badan Pengawas Pasar Modal dan Lembaga \\nKeuangan ini dengan penempatannya dalam Berita Negara Republik \\nIndonesia.  \\n \\nDitetapkan di \\n:  Jakarta \\npada tanggal \\n:  31 Desember  2009 \\n \\n \\n \\nSalinan sesuai dengan aslinya \\nKepala Bagian Umum \\n \\nttd. \\n \\nPrasetyo Wahyu Adi Suryo  \\nNIP 060076008 \\nKetua Badan Pengawas Pasar Modal\"\n",
      "  },\n",
      "  {\n",
      "    \"metadata\": {\n",
      "      \"effective_date\": \"26 Februari 2008\",\n",
      "      \"file_url\": \"https://www.ojk.go.id/id/regulasi/Documents/Pages/PMK-Nomor-36PMK.010-Tahun-2008-tentang-Besar-Santunan-dan-Sumbangan-Wajib-Dana-Kecelakaan-Lalu-Lintas-Jalan/menas13_1389258036.pdf\",\n",
      "      \"page_number\": 4.0,\n",
      "      \"regulation_number\": \"36/PMK.010/2008\",\n",
      "      \"regulation_type\": \"Klasifikasi Bapepam\",\n",
      "      \"sector\": \"IKNB\",\n",
      "      \"subsector\": \"Asuransi\",\n",
      "      \"title\": \"Peraturan Menteri Keuangan Nomor 36/PMK.010/2008 tentang Besar Santunan dan Sumbangan Wajib Dana Kecelakaan Lalu Lintas Jalan\",\n",
      "      \"relevance_score\": 0.0003500686\n",
      "    },\n",
      "    \"page_content\": \"MENTERI KEUANGAN\\nREPUBLIK INDONESIA\\n-4-\\n Mobil penumpang angkutan umum sampai dengan 1600 cc\\ng. Bus dan mikro bus bukan angkutan umum sebesar Rp150.000,00\\n(seratus lima puluh ribu rupiah).\\nh. Bus dan.mikro bus angkutan umum, serta mobil penumpang\\nangkutan umum lainnya di atas 1600 cc sebesar Rp87.000,00\\n(delapan puluh tujuh ribu rupiah).\\nTruk, mobil tangki, mobil gandengan, mobil barang di atas 2400\\ncc, truk container dan sejenisnya sebesar Rp 160.000,00 (seratus\\n enam puluh ribu rupiah).\\nPasal 5\\nSetiap jenis kendaraan sebagaimana dimaksud dalam Pasal 4, dikenakan\\nbiaya\\n penggantian pembuatan\\n Kartu Dana/Sertifikat sebesar\\nRp 3.000,00 (tiga ribu rupiah).\\nPasal 6\\nTanda Nomor Kendaraan Bermotor sesuai dengan ketentuan\\nperaturan perundang-undangan yang berlaku.\\n2) Dalam hal pembayaran SWDKLLJ dilakukan setelah melewati batas\\n seharusnya dibayar dengan ketentuan denda yang dikenakan paling\\nbesar Rp100.000,00 (seratus ribu rupiah).\"\n",
      "  },\n",
      "  {\n",
      "    \"metadata\": {\n",
      "      \"effective_date\": \"27 November 2019\",\n",
      "      \"file_url\": \"https://www.ojk.go.id/id/regulasi/Documents/Pages/-Kualitas-Aset-Produktif-dan-Pembentukan-Penyisihan-Penghapusan-Aset-Produktif-Bank-Pembiayaan-Rakyat-Syariah/Ringsek%20dan%20FAQs%20POJK%2029%20-%20KAP%20PPAP%20BPRS.docx\",\n",
      "      \"regulation_number\": \"29/POJK.03/2019\",\n",
      "      \"regulation_type\": \"Peraturan OJK\",\n",
      "      \"sector\": \"Perbankan\",\n",
      "      \"subsector\": \"BPR,  Perbankan Syariah\",\n",
      "      \"title\": \"Kualitas Aset Produktif dan Pembentukan Penyisihan Penghapusan Aset Produktif Bank Pembiayaan Rakyat Syariah\",\n",
      "      \"relevance_score\": 0.00016997529\n",
      "    },\n",
      "    \"page_content\": \"Kewajiban AYDA menjadi faktor pengurang modal inti pada dasarnya merupakan disinsentif kepemilikan aset yang tidak digunakan dalam kegiatan usaha BPRS sehingga BPRS didorong untuk menyelesaikan AYDA dimaksud.\\nTidak terdapat aturan terkait dengan agunan berupa kendaraan bermotor yang tidak diikat dengan fidusia sebagaimana diatur pada Peraturan Bank Indonesia sebelumnya.\\nMempertimbangkan risiko hukum serta proses pendaftaran fidusia yang semakin mudah (dapat dilakukan secara online), maka agunan berupa kendaraan bermotor yang tidak diikat fidusia tidak dapat dijadikan sebagai pengurang dalam pembentukan PPAP.\"\n",
      "  }\n",
      "]\n"
     ]
    }
   ],
   "source": [
    "print(response['context'])"
   ]
  },
  {
   "cell_type": "code",
   "execution_count": 86,
   "metadata": {},
   "outputs": [
    {
     "name": "stdout",
     "output_type": "stream",
     "text": [
      "----------\n",
      "Human: Apakah Anda memiliki mobil?\n",
      "----------\n",
      "Assistant: (Answer...) \n",
      "Tidak ada informasi yang relevan dalam konteks yang menjawab pertanyaan Anda.\n",
      "\n"
     ]
    }
   ],
   "source": [
    "print(chat_history.get_formatted_history())"
   ]
  },
  {
   "cell_type": "markdown",
   "metadata": {},
   "source": [
    "## **Evaluation**"
   ]
  },
  {
   "cell_type": "code",
   "execution_count": 87,
   "metadata": {},
   "outputs": [],
   "source": [
    "eval_questions = [\n",
    "    \"Apa itu SWDKLLJ?\",\n",
    "    \"Bursa Efek wajib menyampaikan laporan realisasi anggaran kepada Bapepam melalui dewan komisaris dengan ketentuan apa?\",\n",
    "    \"KEPUTUSAN KETUA BADAN PENGAWAS PASAR MODAL NOMOR KEP-06/PM/1996 tentang apa?\",\n",
    "    \"Siapa yang menandatangani keputusan ketua bapepam nomor kep-07/PM/1996?\",\n",
    "    \"Penolakan atas permohonan persetujuan mengenai pengajuan atau perubahan peraturan Lembaga Kliring dan Penjaminan dilakukan dengan menggunakan formulir nomor berapa?\",\n",
    "    \"Anggota Dewan Pengawas Syariah Perusahaan Pembiayaan dilarang untuk apa?\",\n",
    "    \"Berapa uang pertanggungan dan pertanggungan total loss only (tlo) untuk kategori 5?\",\n",
    "    \"Perusahaan wajib menyampaikan laporan hasil pengawasan Dewan Pengawas Syariah sebagaimana dimaksud dalam Pasal 2 dalam bentuk apa, kepada siapa, dan paling lambat kapan?\",\n",
    "    \"Batas tingkat solvabilitas minimum bagi perusahaan asuransi dan perusahaan reasuransi ditingkatkan berdasarkan apa?\",\n",
    "    \"Kapan PERATURAN KETUA BADAN PENGAWAS PASAR MODAL DAN LEMBAGA KEUANGAN NOMOR: PER- 10/BL/2012 mulai berlaku?\",\n",
    "    \"Apa itu Dana Tabarru’\",\n",
    "    \"Dalam rangka mendorong pertumbuhan industri Dana Pensiun, dipandang perlu mengubah ketentuan mengenai sanksi administratif berupa apa?\",\n",
    "    \"Laporan Tahunan dan Laporan Semester sekurang-kurangnya mencakup aspek apa saja?\",\n",
    "    \"Pendiri harus mengajukan permohonan tertulis kepada siapa untuk mendapatkan pengesahan pendirian Dana Pensiun Lembaga Keuangan?\",\n",
    "    \"Berapa tarif pemotongan pajak untuk penghasilan bruto di atas seratus juta sampai dengan dua ratus juta rupiah?\",\n",
    "    \"Apa yang dimaksud dengan 'telah beroperasi'?\",\n",
    "    \"Lembaga Jasa Keuangan Non-Bank yang tidak memenuhi ketentuan Pasal 2 dan Pasal 3 dalam Peraturan OJK ini, dikenakan sanksi administratif berupa apa saja?\",\n",
    "    \"Apa yang dimaksud dengan Lembaga Sertifikasi Profesi?\",\n",
    "    \"Apa pertimbangan profil risiko perusahaan?\",\n",
    "    \"LJKNB yang memiliki total aset lebih dari Rp500.000.000.000,00 (lima ratus miliar rupiah) sampai dengan Rp1.000.000.000.000,00 (satu triliun rupiah) wajib untuk apa?\",\n",
    "    \"Siapa presiden republik Indonesia yang menandatangani peraturan pemerintah republik Indonesia nomor 12 Tahun 2004?\",\n",
    "    \"Berapa jumlah modal yang disetor bursa efek?\",\n",
    "    \"Bagaimana norma pemeriksaan yang menyangkut pihak yang diperiksa?\",\n",
    "    \"Apa isi Pasal II PERATURAN PEMERINTAH REPUBLIK INDONESIA NOMOR 63 TAHUN 1999?\",\n",
    "    \"Berapa modal yang disetor bagi perusahaan Asuransi Jiwa yang seluruh pemiliknya warga negara Indonesia?\",\n",
    "    \"Apa itu Bank Perkreditan Rakyat?\",\n",
    "    \"Bagaimana pelaksanaan wawancara jika calon pemegang saham pengendali BPR adalah pemerintah?\",\n",
    "    \"Berapa modal yang disetor untuk mendirikan Bank Umum?\",\n",
    "    \"Bagaimana cara bank untuk meningkatkan good corporate governance?\",\n",
    "    \"Peraturan Bank Indonesia Nomor 7/33/PBI/2005 berisi pencabutan atas peraturan bank indonesia nomor berapa dan tentang apa?\",\n",
    "    \"Surat edaran bank indonesia no 15/14/DPNP ditujukan kepada siapa?\",\n",
    "    \"Apa isi ketentuan peralihan dari surat edaran No. 15/20/DKBU?\",\n",
    "    \"Surat edaran bank indonesia No. 15/22/DPbS mencabut surat edaran bank indonesia nomor berapa?\",\n",
    "    \"Kapan dan di mana Surat Edaran No. 15/25/DPNP mulai berlaku?\",\n",
    "    \"Bank Syariah wajib membentuk cadangan kerugian penurunan nilai (CKPN) atas apa?\",\n",
    "    \"Berapa penurunan IHSG BEI sejak tanggal 20 Mei 2013-27 Agustus 2013?\",\n",
    "    \"Berapa lama Pengguna S-INVEST yang bertindak sebagai Bank Kustodian melakukan uji coba penyampaian surat?\",\n",
    "    \"Apa judul regulasi nomor 1/SEOJK.04/2002?\",\n",
    "    \"Penilaian Faktor Profil Risiko, menjelaskan mengenai mekanisme penilaian faktor profil risiko, yang terdiri dari 9 jenis risiko, apa saja jenis risiko tersebut?\",\n",
    "    \"Sumber daya merupakan kriteria dalam melakukan penilaian terhadap lembaga pemeringkat yang digunakan untuk apa?\",\n",
    "    \"Asuransi dapat diberikan dalam bentuk apa saja?\",\n",
    "    \"Badan Supervisi terdiri dari berapa anggota?\",\n",
    "    \"Apa yang dimaksud dengan Dana Pensiun berdasarkan pasal 134 UU PPSK?\",\n",
    "    \"Tahun berapa krisis keuangan terbesar di Amerika Serikat pernah terjadi?\",\n",
    "    \"Siapa menteri keuangan yang mensahkan UU RI Nomor 84 Tahun 1958?\"\n",
    "]\n",
    "\n",
    "eval_answers = [\n",
    "    \"Sumbangan Wajib Dana Kecelakaan Lalu Lintas adalah sumbangan wajib sebagaimana dimaksud dalam Undang-Undang Nomor 34 Tahun 1964 tentang Dana Kecelakaan Lalu Lintas Jalan juncto Peraturan Pemerintah Nomor 18 Tahun 1965 tentang Ketentuan-Ketentuan Pelaksanaan Dana Kecelakaan Lalu Lintas Jalan\",\n",
    "    \"Bursa Efek wajib menyampaikan laporan realisasi anggaran kepada Bapepam melalui dewan komisaris, dengan ketentuan bahwa laporan tersebut disampaikan secara kumulatif triwulanan dan diterima oleh Bapepam selambat-lambatnya pada hari ke dua belas setelah berakhirnya triwulan yang bersangkutan\",\n",
    "    \"TATA CARA PEMBERIAN PERSETUJUAN ANGGARAN DASAR BURSA EFEK\",\n",
    "    \"I Putu Gede Ary Suta, Badan Pengawas Pasar Modal\",\n",
    "    \"Penolakan atas permohonan persetujuan mengenai pengajuan atau perubahan peraturan Lembaga Kliring dan Penjaminan dilakukan dengan menggunakan Formulir Nomor III.B.2-3 lampiran 3 peraturan ini.\",\n",
    "    \"Dilarang melakukan rangkap jabatan sebagai anggota direksi atau dewan komisaris pada Perusahaan Pembiayaan, Dilarang merangkap jabatan sebagai anggota Dewan Pengawas Syariah lebih dari 2 (dua) Perusahaan Pembiayaan lain.\",\n",
    "    \"Lebih dari Rp800.0000.000,00 dan 0,28%\",\n",
    "    \"Perusahaan wajib menyampaikan laporan hasil pengawasan Dewan Pengawas Syariah sebagaimana dimaksud dalam Pasal 2 dalam bentuk dokumen fisik (hardcopy) dan format digital (softcopy) kepada Biro Perasuransian Badan Pengawas Pasar Modal dan Lembaga Keuangan, paling lambat tanggal 31 Maret tahun berikutnya.\",\n",
    "    \"Batas tingkat solvabilitas minimum bagi perusahaan asuransi dan perusahaan reasuransi sebagaimana dimaksud dalam Pasal 3 Keputusan Menteri Keuangan Nomor 424/KMK.06/2003 tentang Kesehatan Keuangan Perusahaan Asuransi dan Perusahaan Reasuransi sebagaimana telah beberapa kali diubah terakhir dengan Peraturan Menteri Keuangan Nomor 158/PMK.010/2008, ditetapkan berdasarkan besarnya risiko kerugian yang mungkin timbul sebagai akibat dari deviasi dalam pengelolaan kekayaan dan kewajiban.\",\n",
    "    \"Peraturan Ketua ini mulai berlaku pada tanggal 1 Juni 2013.\",\n",
    "    \"Dana Tabarru’ adalah kumpulan dana yang berasal dari kontribusi para peserta, yang mekanisme penggunaannya sesuai dengan Akad Tabarru’ yang disepakati\",\n",
    "    \"Dalam rangka mendorong pertumbuhan industri Dana Pensiun, dipandang perlu mengubah ketentuan mengenai sanksi administratif berupa denda atas keterlambatan penyampaian laporan investasi sebagaimana telah ditetapkan dalam Peraturan Menteri Keuangan Nomor 199/PMK.010/2008 tentang Investasi Dana Pensiun\",\n",
    "    \"Operasional, keuangan, investasi, aktuaria, dan statistik\",\n",
    "    \"Pendiri harus mengajukan permohonan tertulis kepada Menteri c.q. Ketua Badan Pengawas Pasar Modal dan Lembaga Keuangan u.p. Kepala Biro Dana Pensiun, Badan Pengawas Pasar Modal dan Lembaga Keuangan untuk mendapatkan pengesahan pendirian Dana Pensiun Lembaga Keuangan\",\n",
    "    \"15%\",\n",
    "    \"Yang dimaksud dengan “telah beroperasi” adalah telah mendapatkan izin usaha bagi perusahaan asuransi jiwa, perusahaan asuransi umum, perusahaan reasuransi, dan lembaga penjaminan termasuk yang menyelenggarakan seluruh atau sebagian usahanya dengan prinsip syariah, atau telah memperoleh pengesahan bagi dana pensiun pemberi kerja.\",\n",
    "    \"Peringatan tertulis, penilaian kembali kemampuan dan kepatutan, larangan menjadi pemegang saham\",\n",
    "    \"Lembaga Sertifikasi Profesi adalah lembaga pelaksana kegiatan sertifikasi profesi yang memperoleh lisensi dari lembaga negara yang berwenang memberikan lisensi terhadap lembaga sertifikasi profesi di Indonesia.\",\n",
    "    \"Profil risiko Perusahaan mempertimbangkan antara lain letak geografis, produk Perusahaan, rencana bisnis, dan klaim experience dalam mengukur profil risiko serta mempertimbangkan hasil simulasi skenario perubahan (stress test). Selain itu Perusahaan dapat mempertimbangkan risiko lain yang mungkin timbul antara lain berasal dari rencana perubahan strategi dan/atau pengembangan bisnis Perusahaan.\",\n",
    "    \"Memiliki pusat data dan melakukan rekam cadang data aktivitas yang diproses menggunakan Teknologi Informasi yang dilakukan secara berkala\",\n",
    "    \"Megawati Soekarnoputri\",\n",
    "    \"Modal disetor Bursa Efek sekurang-kurangnya berjumlah Rp7.500.000.000,00 (tujuh miliar lima ratus juta rupiah).\",\n",
    "    \"Pihak yang diperiksa berhak meminta kepada Pemeriksa untuk memperlihatkan Surat Perintah Pemeriksaan dan Tanda Pengenal Pemeriksa, Pihak yang diperiksa berhak meminta kepada Pemeriksa untuk memberikan penjelasan tentang maksud dan tujuan pemeriksaan, dan Pihak yang diperiksa menandatangani surat pernyataan persetujuan tentang hasil pemeriksaan.\",\n",
    "    \"Bagi permohonan izin usaha Perusahaan Asuransi dan Perusahaan Reasuransi yang telah diajukan dan yang telah memperoleh izin prinsip sebelum Peraturan Pemerintah ini ditetapkan, persyaratan permodalan tetap diberlakukan berdasarkan persyaratan yang berlaku pada saat izin prinsip ditetapkan.\",\n",
    "    \"Rp. 2.000.000.000,-\",\n",
    "    \"Bank Perkreditan Rakyat, yang selanjutnya disebut BPR, adalah Bank Perkreditan Rakyat sebagaimana dimaksud dalam Pasal 1 angka 4 Undang Undang Nomor 7 Tahun 1992 tentang Perbankan sebagaimana telah diubah dengan Undang-undang Nomor 10 Tahun 1998, yang melaksanakan kegiatan usaha secara konvensional.\",\n",
    "    \"Dalam hal calon Pemegang Saham Pengendali BPR adalah pemerintah, maka pelaksanaan wawancara sebagaimana dimaksud dalam Pasal 8 ayat (1) huruf b hanya dilakukan apabila dianggap perlu.\",\n",
    "    \"Modal disetor untuk mendirikan Bank ditetapkan sekurang-kurangnya sebesar Rp3.000.000.000.000,00 (tiga triliun rupiah).\",\n",
    "    \"Bahwa dalam rangka meningkatkan good corporate governance, bank perlu menetapkan sasaran strategis dan seperangkat nilai perusahaan (corporate values) yang mengarahkan kegiatan operasional bank;\",\n",
    "    \"PERATURAN BANK INDONESIA NOMOR 5/17/PBI/2003 TENTANG PERSYARATAN DAN TATA CARA PELAKSANAAN JAMINAN PEMERINTAH TERHADAP KEWAJIBAN PEMBAYARAN BANK PERKREDITAN RAKYAT\",\n",
    "    \"Kepada SEMUA BANK UMUM YANG MELAKUKAN KEGIATAN USAHA SECARA KONVENSIONAL DI INDONESIA\",\n",
    "    \"A. Penyusunan dan penyampaian Laporan Bulanan dan/atau Koreksi Laporan Bulanan untuk posisi bulan sebelum bulan Agustus 2013 tetap berpedoman pada Surat Edaran Bank Indonesia Nomor 8/7/DPBPR tanggal 23 Februari 2006 perihal Laporan Bulanan Bank Perkreditan Rakyat sebagaimana telah diubah terakhir dengan Surat Edaran Bank Indonesia Nomor 12/15/DKBU tanggal 11 Juni 2010. B. BPR Pelapor melakukan uji coba penyampaian Laporan Bulanan untuk posisi bulan Juni dan Juli 2013 yang masing-masing disampaikan paling lambat pada akhir bulan berikutnya, dengan berpedoman pada Surat Edaran Bank Indonesia ini.\",\n",
    "    \"Dengan berlakunya Surat Edaran Bank Indonesia ini maka Surat Edaran Bank Indonesia Nomor 8/19/DPbS tanggal 24 Agustus 2006 perihal Pedoman Pengawasan Syariah dan Tata Cara Pelaporan Hasil Pengawasan bagi Dewan Pengawas Syariah dicabut dan dinyatakan tidak berlaku.\",\n",
    "    \"Jakarta, 9 Juli 2013\",\n",
    "    \"Bank Syariah wajib membentuk cadangan kerugian penurunan nilai (CKPN) atas aset keuangan dan aset non keuangan sesuai dengan standar akuntansi keuangan yang berlaku.\",\n",
    "    \"Berdasarkan pertimbangan sebagaimana dimaksud angka I, maka penurunan Indeks Harga Saham Gabungan Bursa Efek Indonesia sejak tanggal 20 Mei 2013 sampai dengan tanggal 27 Agustus 2013 ini sebesar 1.247,134 poin atau 23,91% (dua puluh tiga koma sembilan satu perseratus) ditetapkan sebagai Kondisi Lain sebagaimana dimaksud Pasal 1 angka 1 huruf b POJK Nomor 2/POJK.04/2013.\",\n",
    "    \"Pengguna S-INVEST yang bertindak sebagai Bank Kustodian melakukan uji coba penyampaian surat atau bukti konfirmasi dan laporan berkala Reksa Dana melalui S-INVEST dalam jangka waktu 12 (dua belas) bulan sejak ditetapkannya Surat Edaran Otoritas Jasa Keuangan ini\",\n",
    "    \"SURAT EDARAN OTORITAS JASA KEUANGAN REPUBLIK INDONESIA NOMOR 1/SEOJK.04/2022 TENTANG TATA CARA PERMOHONAN PERSETUJUAN SEBAGAI PENYEDIA SISTEM PENYELENGGARAAN RAPAT UMUM PEMEGANG SAHAM SECARA ELEKTRONIK (E-RUPS)\",\n",
    "    \"Risiko inheren atas risiko strategis, operasional, asuransi, kredit, pasar, likuiditas, hukum, kepatuhan, dan reputasi.\",\n",
    "    \"Kriteria ini digunakan untuk menilai kemampuan lembaga pemeringkat dalam memberikan jasa pemeringkatan, baik dari aspek sumber daya manusia (human resources), aspek sumber daya keuangan (financial resources), maupun dukungan pemegang saham, yang memungkinkan lembaga pemeringkat beroperasi secara independen dan profesional.\",\n",
    "    \"Asuransi atas risiko kegagalan Ekspor, atas risiko kegagalan bayar, atas investasi yang dilakukan oleh perusahaan Indonesia di luar negeri, dan/atau atas risiko politik di suatu negara yang menjadi tujuan ekspor\",\n",
    "    \"Badan Supervisi terdiri 5 (lima) orang anggota terdiri dari seorang Ketua merangkap anggota, dan 4 (empat) orang anggota yang dipilih oleh Dewan Perwakilan Rakyat dan diangkat oleh Presiden untuk masa jabatan 3 (tiga) tahun dan dapat dipilih kembali untuk satu kali masa jabatan berikutnya.\",\n",
    "    \"Berdasarkan Pasal 134 UU PPSK, Dana Pensiun adalah badan hukum yang mengelola dan menjalankan program yang menjanjikan manfaat pensiun. Selain manfaat pensiun, Dana Pensiun dapat menyelanggarakan manfaat lain sebagai manfaat tambahan sebagaimana diatur dalam peraturan perundang-undangan di bidang Dana Pensiun.\",\n",
    "    \"Krisis keuangan akhir-akhir ini di Amerika Serikat yang merupakan terbesar sejak krisis 1929\",\n",
    "    \"Soetikno Slamet\"\n",
    "]\n",
    "\n",
    "examples = [\n",
    "    {\"query\": q, \"ground_truth\": [eval_answers[i]]}\n",
    "    for i, q in enumerate(eval_questions)\n",
    "]"
   ]
  },
  {
   "cell_type": "code",
   "execution_count": 88,
   "metadata": {},
   "outputs": [
    {
     "name": "stdout",
     "output_type": "stream",
     "text": [
      "using existing dataset:  Chatbot OJK Langchain\n"
     ]
    }
   ],
   "source": [
    "from langsmith import Client\n",
    "from langsmith.utils import LangSmithError\n",
    "\n",
    "client = Client()\n",
    "dataset_name = \"Chatbot OJK Langchain\"\n",
    "\n",
    "try:\n",
    "    # check if dataset exists\n",
    "    dataset = client.read_dataset(dataset_name=dataset_name)\n",
    "    print(\"using existing dataset: \", dataset.name)\n",
    "except LangSmithError:\n",
    "    # if not create a new one with the generated query examples\n",
    "    dataset = client.create_dataset(\n",
    "        dataset_name=dataset_name, description=\"OJK Langchain test dataset\"\n",
    "    )\n",
    "    for e in examples:\n",
    "        client.create_example(\n",
    "            inputs={\"query\": e[\"query\"]},\n",
    "            outputs={\"ground_truth\": e[\"ground_truth\"]},\n",
    "            dataset_id=dataset.id,\n",
    "        )\n",
    "\n",
    "    print(\"Created a new dataset: \", dataset.name)"
   ]
  },
  {
   "cell_type": "code",
   "execution_count": 89,
   "metadata": {},
   "outputs": [],
   "source": [
    "from datasets import Dataset\n",
    "\n",
    "# results = []\n",
    "# contexts = []\n",
    "# queries = eval_questions\n",
    "# ground_truths = eval_answers\n",
    "\n",
    "# for query in queries:\n",
    "#     result = get_response(chat_history=chat_history, chain=chain, question=query)\n",
    "    \n",
    "#     results.append(result['answer'])\n",
    "#     sources = result[\"context\"]\n",
    "#     final_sources = list(eval(sources))\n",
    "#     contents = []\n",
    "#     for source in final_sources:\n",
    "#         contents.append(source.get('page_content'))\n",
    "#     contexts.append(contents)\n",
    "\n",
    "# d = {\n",
    "#     \"question\": queries,\n",
    "#     \"answer\": results,\n",
    "#     \"contexts\": contexts,\n",
    "#     \"ground_truth\": ground_truths\n",
    "# }\n",
    "\n",
    "# dataset = Dataset.from_dict(d)"
   ]
  },
  {
   "cell_type": "code",
   "execution_count": 90,
   "metadata": {},
   "outputs": [],
   "source": [
    "import json\n",
    "\n",
    "# with open(\"dict_eval.json\", \"w\") as outfile: \n",
    "#     json.dump(d, outfile)"
   ]
  },
  {
   "cell_type": "code",
   "execution_count": 91,
   "metadata": {},
   "outputs": [],
   "source": [
    "with open('dict_eval.json') as json_file:\n",
    "    d = json.load(json_file)"
   ]
  },
  {
   "cell_type": "code",
   "execution_count": 92,
   "metadata": {},
   "outputs": [
    {
     "data": {
      "text/html": [
       "<div>\n",
       "<style scoped>\n",
       "    .dataframe tbody tr th:only-of-type {\n",
       "        vertical-align: middle;\n",
       "    }\n",
       "\n",
       "    .dataframe tbody tr th {\n",
       "        vertical-align: top;\n",
       "    }\n",
       "\n",
       "    .dataframe thead th {\n",
       "        text-align: right;\n",
       "    }\n",
       "</style>\n",
       "<table border=\"1\" class=\"dataframe\">\n",
       "  <thead>\n",
       "    <tr style=\"text-align: right;\">\n",
       "      <th></th>\n",
       "      <th>question</th>\n",
       "      <th>answer</th>\n",
       "      <th>contexts</th>\n",
       "      <th>ground_truth</th>\n",
       "    </tr>\n",
       "  </thead>\n",
       "  <tbody>\n",
       "    <tr>\n",
       "      <th>0</th>\n",
       "      <td>Apa itu SWDKLLJ?</td>\n",
       "      <td>SWDKLLJ adalah singkatan dari Sumbangan Wajib ...</td>\n",
       "      <td>[wajib\\nsebagaimana dimaksud dalam Undang-Unda...</td>\n",
       "      <td>Sumbangan Wajib Dana Kecelakaan Lalu Lintas ad...</td>\n",
       "    </tr>\n",
       "    <tr>\n",
       "      <th>1</th>\n",
       "      <td>Bursa Efek wajib menyampaikan laporan realisas...</td>\n",
       "      <td>Bursa Efek wajib menyampaikan laporan realisas...</td>\n",
       "      <td>[13. Bursa Efek wajib menyampaikan laporan rea...</td>\n",
       "      <td>Bursa Efek wajib menyampaikan laporan realisas...</td>\n",
       "    </tr>\n",
       "    <tr>\n",
       "      <th>2</th>\n",
       "      <td>KEPUTUSAN KETUA BADAN PENGAWAS PASAR MODAL NOM...</td>\n",
       "      <td>KEPUTUSAN KETUA BADAN PENGAWAS PASAR MODAL NOM...</td>\n",
       "      <td>[KETUA BADAN PENGAWAS PASAR MODAL,\\nMenimbang\\...</td>\n",
       "      <td>TATA CARA PEMBERIAN PERSETUJUAN ANGGARAN DASAR...</td>\n",
       "    </tr>\n",
       "    <tr>\n",
       "      <th>3</th>\n",
       "      <td>Siapa yang menandatangani keputusan ketua bape...</td>\n",
       "      <td>I PUTU GEDE ARY SUTA\\n\\nSource: KEP-07/PM/1996...</td>\n",
       "      <td>[Bapepam melakukan penelitian atas kelengkapan...</td>\n",
       "      <td>I Putu Gede Ary Suta, Badan Pengawas Pasar Modal</td>\n",
       "    </tr>\n",
       "    <tr>\n",
       "      <th>4</th>\n",
       "      <td>Penolakan atas permohonan persetujuan mengenai...</td>\n",
       "      <td>Penolakan atas permohonan persetujuan mengenai...</td>\n",
       "      <td>[menggunakan Formulir Nomor III.B.2-2 lampiran...</td>\n",
       "      <td>Penolakan atas permohonan persetujuan mengenai...</td>\n",
       "    </tr>\n",
       "  </tbody>\n",
       "</table>\n",
       "</div>"
      ],
      "text/plain": [
       "                                            question  \\\n",
       "0                                   Apa itu SWDKLLJ?   \n",
       "1  Bursa Efek wajib menyampaikan laporan realisas...   \n",
       "2  KEPUTUSAN KETUA BADAN PENGAWAS PASAR MODAL NOM...   \n",
       "3  Siapa yang menandatangani keputusan ketua bape...   \n",
       "4  Penolakan atas permohonan persetujuan mengenai...   \n",
       "\n",
       "                                              answer  \\\n",
       "0  SWDKLLJ adalah singkatan dari Sumbangan Wajib ...   \n",
       "1  Bursa Efek wajib menyampaikan laporan realisas...   \n",
       "2  KEPUTUSAN KETUA BADAN PENGAWAS PASAR MODAL NOM...   \n",
       "3  I PUTU GEDE ARY SUTA\\n\\nSource: KEP-07/PM/1996...   \n",
       "4  Penolakan atas permohonan persetujuan mengenai...   \n",
       "\n",
       "                                            contexts  \\\n",
       "0  [wajib\\nsebagaimana dimaksud dalam Undang-Unda...   \n",
       "1  [13. Bursa Efek wajib menyampaikan laporan rea...   \n",
       "2  [KETUA BADAN PENGAWAS PASAR MODAL,\\nMenimbang\\...   \n",
       "3  [Bapepam melakukan penelitian atas kelengkapan...   \n",
       "4  [menggunakan Formulir Nomor III.B.2-2 lampiran...   \n",
       "\n",
       "                                        ground_truth  \n",
       "0  Sumbangan Wajib Dana Kecelakaan Lalu Lintas ad...  \n",
       "1  Bursa Efek wajib menyampaikan laporan realisas...  \n",
       "2  TATA CARA PEMBERIAN PERSETUJUAN ANGGARAN DASAR...  \n",
       "3   I Putu Gede Ary Suta, Badan Pengawas Pasar Modal  \n",
       "4  Penolakan atas permohonan persetujuan mengenai...  "
      ]
     },
     "execution_count": 92,
     "metadata": {},
     "output_type": "execute_result"
    }
   ],
   "source": [
    "dataset = Dataset.from_dict(d)\n",
    "\n",
    "df = dataset.to_pandas()\n",
    "df.head()"
   ]
  },
  {
   "cell_type": "code",
   "execution_count": 94,
   "metadata": {},
   "outputs": [
    {
     "name": "stderr",
     "output_type": "stream",
     "text": [
      "Evaluating:   0%|          | 0/315 [00:00<?, ?it/s]"
     ]
    },
    {
     "name": "stderr",
     "output_type": "stream",
     "text": [
      "Evaluating: 100%|██████████| 315/315 [04:29<00:00,  1.17it/s]\n"
     ]
    }
   ],
   "source": [
    "from ragas.metrics import faithfulness, answer_relevancy, context_precision, context_recall, answer_similarity, answer_correctness\n",
    "from ragas.metrics.critique import harmfulness\n",
    "from ragas import evaluate\n",
    "import nest_asyncio\n",
    "nest_asyncio.apply()\n",
    "\n",
    "score = evaluate(dataset, metrics=[faithfulness, answer_relevancy, context_precision, context_recall, answer_similarity, answer_correctness, harmfulness], llm=llm_model, embeddings=embed_model)"
   ]
  },
  {
   "cell_type": "code",
   "execution_count": 97,
   "metadata": {},
   "outputs": [
    {
     "name": "stdout",
     "output_type": "stream",
     "text": [
      "                                                                                                                                                               question                                                                                                                                                                                                                                                                                                                                                                                                                                                answer                                                                                                                                                                                                                                                                                                                                                                                                                                                                                                                                                                                                                                                                                                                                                                                                                                                                                                                                                                                                                                                                                                                                                                                                                                                                                                                                                                                                                                                                                                                                                                                                                                                                                                                                                                                                                                                                                                                                                                                                                                                                                                                                                                                                                                                                                                                                                                                                                                                                                                                                                                                                                                                                                                                                                                                                                                                                                                                                                                                                                                                                                                                                                                                                                                                                                                                                                                                                                                                                                                                                                                                                                                                                                                                                                                                                                                                                                                                                                                                                                                                                                                                                                                                                                                                                                                                                                                                                                                                                                                                                                                                                                                                                                                                                                                                                                                                                                                                                                                                                                                                                                                                                                                                                                                                                                                                                                                                                                                                                                                                                                                                                                                          contexts                                                                                                                                                                                                                                                                                         ground_truth  faithfulness  answer_relevancy  context_precision  context_recall  answer_similarity  answer_correctness  harmfulness\n",
      "0                                                                                                                                                      Apa itu SWDKLLJ?                                                                                                                                           SWDKLLJ adalah singkatan dari Sumbangan Wajib Dana Kecelakaan Lalu Lintas Jalan. \\n\\nSource: [36/PMK.010/2008](https://www.ojk.go.id/id/regulasi/Documents/Pages/PMK-Nomor-36PMK.010-Tahun-2008-tentang-Besar-Santunan-dan-Sumbangan-Wajib-Dana-Kecelakaan-Lalu-Lintas-Jalan/menas13_1389258036.pdf#page=2)                                                                                                                                                                                                                                                                                                                                                                                                                                                                                                                                                                                                                                                                                                                                                                                                        [wajib\\nsebagaimana dimaksud dalam Undang-Undang Nomor 34 Tahun\\n1964 tentang Dana Kecelakaan Lalu Lintas Jalan juncto Peraturan\\nPelaksanaan Dana Kecelakaan Lalu Lintas Jalan.\\n2) SWDKLLJ merupakan premi asuransi yang dibayarkan oleh para\\npengusaha/pemilik alat angkutan lalu lintas jalan kepada\\nperusahaan yang menyelenggarakan Dana Kecelakaan Lalu Lintas\\nJalan.\\nPasal 2\\n(1 Korban kecelakaan alat angkutan lalu lintas jalan atau ahli warisnya\\nberhak atas santunan.\\nBesar santunan sebagaimana dimaksud pada ayat (1) ditentukan\\nsebagai berikut:, MENTERI KEUANGAN\\nREPUBLIK INDONESIA\\nmemperoleh santunan sebesar Rp 25.000.000,00 (dua puluh lima\\njuta rupiah).\\nb. Korban yang mengalami cacat tetap berhak memperoleh\\nsantunan yang besarnya dihitung berdasarkan angka prosentase\\n Korban yang memerlukan perawatan dan pengobatan berhak\\nrupiah).\\nPasal 3\\nDalam hal korban meninggal dunia akibat kecelakaan alat angkutan\\nlalu lintas jalan tidak mempunyai ahli waris, kepada pihak yang\\nmenyelenggarakan\\ndiberikan\\npenggantian\\nbiaya\\nPasal 4\\n(2) Besar SWDKLLJ sebagaimana dimaksud pada ayat (1) ditentukan\\nsebagai berikut:\\nSepeda motor di bawah 50 cc, mobil ambulance, mobil jenazah\\na.\\ndan mobil pemadam kebakaran dibebaskan dari kewajiban\\nb. Traktor, buidozer, forklift, mobil derek, excavator, crane dan\\nsejenisnya sebesar Rp 20.000,00 (dua puluh ribu rupiah):\\n Sepeda motor, sepeda kumbang dan scooter di atas 50 cc sampai\\n250 cc dan kendaraan bermotor roda tiga sebesar Rp 32.000,00\\n(tiga puluh dua ribu rupiah).\\nd., REPUBLIK INDONESIA\\n Penyelenggaraan Usaha Perasuransian (Lembaran Negara Republik\\nIndonesia Tahun 1992 Nomor 120, Tambahan Lembaran Negara\\nRepublik Indonesia Nomor 3506) sebagaimana telah diubah dengan\\nPeraturan Pemerintah Nomor 63 .Tahun 1999 (Lembaran Negara\\nNegara Republik Indonesia Nomor 3861);\\n Keputusan Presiden Nomor 20/P Tahun 2005j\\n Keputusan Menteri Keuangan Nomor 337/KMK.011/1981 tentang\\nPenunjukan Perusahaan Perseroan (Persero) Asuransi Kerugian Jasa\\nRaharja untuk\\n menyelenggarakan Dana Pertanggungan Wajib\\nKecelakaan Penumpang dan Dana Kecelakaan Lalu Lintas Jalan;\\nMEMUTUSKAN:\\nMenetapkan : PERATURAN\\nMENTERI\\nKEUANGAN\\nTENTANG\\nBESAR\\nLALU LINTAS JALAN\\nPasal 1\\n(1) Sumbangan Wajib Dana Kecelakaan Lalu Lintas Jalan,\\nselanjutnya\\n disebut SWDKLLJ, adalah sumbangan\\nwajib\\nsebagaimana dimaksud dalam Undang-Undang Nomor 34 Tahun\\n1964 tentang Dana Kecelakaan Lalu Lintas Jalan juncto Peraturan\\nPelaksanaan Dana Kecelakaan Lalu Lintas Jalan., 2) Dalam hal pembayaran SWDKLLJ dilakukan setelah melewati batas\\n seharusnya dibayar dengan ketentuan denda yang dikenakan paling\\nbesar Rp100.000,00 (seratus ribu rupiah).\\n(3) Dalam hal ketentuan mengenai batas waktu sebagaimana dimaksud\\ngeografis daerah setempat, Direksi perusahaan yang ditunjuk untuk\\nmenyelenggarakan Dana Kecelakaan Lalu Lintas Jalan diberi\\nbesarnya denda SWDKLLJ, dengan ketentuan batas waktu dimaksud\\npaling lama 15 (lima belas) hari kerja., Pensiun Syariah, baik DPPK maupun DPLK. \\nSelanjutnya, ketentuan terkait persyaratan pendirian Dana Pensiun yang \\nmenyelenggarakan program pensiun berdasarkan prinsip syariah, saat ini \\nmengikuti ketentuan yang ada di dalam POJK Nomor 33/POJK.05/2016 \\ntentang Penyelenggaraan Program Pensiun Berdasarkan Prinsip Syariah \\n(POJK 33/2016). \\n \\n10. \\nApakah yang dimaksud prinsip syariah pada penyelenggaraan program \\npensiun di Dana Pensiun?  \\nPasal 134 angka 20 UU PPSK mengatur bahwa prinsip syariah adalah \\nprinsip hukum Islam berdasarkan fatwa dan/atau pernyataan kesesuaian \\nsyariah yang dikeluarkan oleh lembaga yang memiliki kewenangan dalam \\npenetapan fatwa di bidang syariah., hanya dapat dilaksanakan apabila telah mendapat pengesahan OJK. \\nSelain ketentuan yang ada di UU PPSK, persyaratan dan tata cara \\nperubahan PDP mengikuti ketentuan POJK 13/2016 dan POJK 14/2016. \\n \\n13. \\nBagaimana perlakuan bagi DPLK yang telah menyelenggarakan paket \\ninvestasi syariah namun belum memperoleh izin dari OJK sebelum \\nberlakunya UU PPSK? \\nDPLK wajib melakukan pengajuan permohonan perubahan PDP kepada OJK \\ndengan melengkapi seluruh persyaratan yang ditetapkan dalam ketentuan \\nperaturan perundang-undangan yang berlaku, antara lain yaitu memiliki \\ndewan pengawas syariah.  \\n \\n14. \\nApakah Dana Pensiun yang telah berdiri dapat menggabungkan diri \\ndengan Dana Pensiun lain atau memisahkan diri menjadi 2 (dua) atau \\nlebih Dana Pensiun? \\nPasal 141 ayat (2) UU PPSK mengatur bahwa Dana Pensiun yang telah \\nberdiri dapat menggabungkan diri dengan Dana Pensiun lain atau \\nmemisahkan diri menjadi 2 (dua) atau lebih Dana Pensiun. \\n \\n15.]  Sumbangan Wajib Dana Kecelakaan Lalu Lintas adalah sumbangan wajib sebagaimana dimaksud dalam Undang-Undang Nomor 34 Tahun 1964 tentang Dana Kecelakaan Lalu Lintas Jalan juncto Peraturan Pemerintah Nomor 18 Tahun 1965 tentang Ketentuan-Ketentuan Pelaksanaan Dana Kecelakaan Lalu Lintas Jalan           1.0          0.948182               1.00        1.000000           0.912987            0.603247            0\n",
      "1                                                 Bursa Efek wajib menyampaikan laporan realisasi anggaran kepada Bapepam melalui dewan komisaris dengan ketentuan apa?   Bursa Efek wajib menyampaikan laporan realisasi anggaran kepada Bapepam melalui dewan komisaris sesuai dengan ketentuan dalam peraturan KEP-05/PM/1996.\\n\\nSource: [KEP-05/PM/1996](https://www.ojk.go.id/id/regulasi/Documents/Pages/BAPEPAM-tentang-Tata-Cara-Penyusunan-serta-Pengajuan-Rencana-Anggaran-dan-Penggunaan-Laba-Bursa-Efek/IIIA4_Tata%20Cara%20Penyusunan-Pengajuan%20Rencana%20Anggaran%20dan%20Penggunaan%20Laba%20BE.pdf#page=5)                                                                                                                                                                                                                                                                                                                                                                                                                                                                                                                                                                                                                                                                                                                                                                                                                                                                [13. Bursa Efek wajib menyampaikan laporan realisasi anggaran kepada Bapepam melalui dewan\\nkomisaris, dengan ketentuan bahwa laporan tersebut disampaikan secara kumulatif triwulanan\\ndan diterima oleh Bapepam selambat-lambatnya pada hari ke dua belas setelah berakhirnya\\ntriwulan yang bersangkutan.\\n14. Catatan atas laporan keuangan Bursa Efek, sekurang-kurangnya wajib pula memuat hal-\\nhal sebagai berikut  :\\na. pengeluaran biaya yang berkaitan dengan Pihak terafiliasi dengan direktur dan komisaris\\nBursa Efek atau direktur dan komisaris anak perusahaan Bursa Efek;\\nb.\\npengeluaran biaya yang berkaitan dengan Pihak terafiliasi dengan Bursa Efek atau\\n \\nanak perusahaan Bursa Efek; dan\\nc. pengeluaran biaya berupa gaji, manfaat lain, dan fasilitas yang diberikan kepada direktur\\ndan komisaris Bursa Efek atau direktur dan komisaris anak perusahaan Bursa Efek.\\n15. Bursa Efek wajib mengubah anggaran dasarnya sesuai dengan ketentuan dalam peraturan ini dalam, metadata={'title': 'III.A4. Tata Cara Penyusunan serta Pengajuan Rencana Anggaran dan Penggunaan Laba Bursa Efek Berdasarkan Keputusan Badan Pengawas Pasar Modal', 'sector': 'Pasar Modal', 'subsector': 'Bursa Efek', 'regulation_type': 'Klasifikasi Bapepam', 'regulation_number': 'KEP-05/PM/1996', 'effective_date': '17 Januari 1996', 'file_url': 'https://www.ojk.go.id/id/regulasi/Documents/Pages/BAPEPAM-tentang-Tata-Cara-Penyusunan-serta-Pengajuan-Rencana-Anggaran-dan-Penggunaan-Laba-Bursa-Efek/IIIA4_Tata%20Cara%20Penyusunan-Pengajuan%20Rencana%20Anggaran%20dan%20Penggunaan%20Laba%20BE.pdf', 'page_number': 5}\\nIV-5\\nPeraturan Nomor III.A.4\\n12. Selambat-lambatnya tanggal 5 Desember, Bapepam memberikan persetujuan atau penolakan\\natas rencana kerja dan anggaran tahunan Bursa Efek.\\n13. Bursa Efek wajib menyampaikan laporan realisasi anggaran kepada Bapepam melalui dewan\\nkomisaris, dengan ketentuan bahwa laporan tersebut disampaikan secara kumulatif triwulanan, dan komisaris Bursa Efek atau direktur dan komisaris anak perusahaan Bursa Efek.\\n15. Bursa Efek wajib mengubah anggaran dasarnya sesuai dengan ketentuan dalam peraturan ini dalam\\nwaktu 6 (enam) bulan sejak ditetapkannya peraturan ini.\\nDitetapkan di  \\n:       Jakarta\\npada tanggal  \\n:        17 Januari 1996\\nBADAN PENGAWAS PASAR MODAL\\nKetua,\\nI PUTU GEDE ARY SUTA\\nNIP 060065493\\nLAMPIRAN\\nK e p u t u s a n  K e t u a  B a d a n\\nP e n g a w a s  P a s a r  M o d a l\\nNomor \\n:\\nKep- 05/PM/1996\\nTanggal\\n:\\n17 Januari 1996, Pasal 12\\nPemegang saham Bursa Efek wajib menyerahkan surat saham Bursa Efek yang dimilikinya kepada\\nLembaga Kliring dan Penjaminan sebagai jaminan atas transaksi Efek yang dilakukannya.\\nPasal 13\\n(1)\\nAnggaran dasar atau peraturan Bursa Efek atau perubahannya wajib diajukan kepada\\n   \\nBapepam untuk memperoleh persetujuan.\\n(2)\\nDalam hal anggaran dasar atau peraturan Bursa Efek atau perubahannya sebagaimana\\n \\ndimaksud dalam ayat (1) ditolak, Bapepam memberikan alasan atas penolakan tersebut.\\n(3)\\nDalam rangka terciptanya Pasar Modal yang teratur, wajar, dan efisien, Bapepam dapat\\n   \\nmemerintahkan Bursa Efek untuk mengubah anggaran dasar atau peraturan Bursa Efek.\\nPasal 14\\nKetentuan lebih lanjut yang diperlukan bagi penyelenggaraan kegiatan Bursa Efek berdasarkan\\nPeraturan Pemerintah ini, ditetapkan oleh Bapepam.\\nPP. No. : 45 Tahun 1995\\nII- 4, Bapepam sebelum diajukan kepada Menteri Kehakiman untuk memperoleh pengesahan.\\n3. \\nPermohonan persetujuan anggaran dasar atau perubahan anggaran dasar Bursa Efek diajukan\\nkepada Bapepam dalam rangkap 4 (empat) dengan menggunakan Formulir Nomor III.A.5-1 lampiran\\n1 peraturan ini disertai dokumen dokumen  :\\na. \\nakta perubahan anggaran dasar yang dimintakan persetujuan;\\nb. \\nakta berita acara Rapat Umum Pemegang Saham;\\nc. \\nsurat panggilan Rapat Umum Pemegang Saham;\\nd. \\nagenda Rapat Umum Pemegang Saham; dan\\ne. \\ndaftar hadir Rapat Umum Pemegang Saham.\\nLAMPIRAN\\nK e p u t u s a n  K e t u a  B a d a n\\nP e n g a w a s  P a s a r  M o d a l\\nNomor \\n:\\nKep- 06/PM/1996\\nTanggal\\n:\\n17 Januari 1996, Rapat Umum Pemegang Saham.\\n10. Selambat-lambatnya tanggal 15 Nopember, Bapepam memberitahukan kepada direksi Bursa\\nEfek perubahan atas rencana kerja dan anggaran tahunan Bursa Efek.\\n11. Selambat-lambatnya tanggal 25 Nopember, direksi Bursa Efek wajib mengajukan kembali\\n \\nrencana kerja dan anggaran tahunan dengan memperoleh persetujuan terlebih dulu dari\\n  \\ndewan komisaris.\\nLAMPIRAN\\nK e p u t u s a n  K e t u a  B a d a n\\nP e n g a w a s  P a s a r  M o d a l\\nNomor \\n:\\nKep- 05/PM/1996\\nTanggal\\n:\\n17 Januari 1996]  Bursa Efek wajib menyampaikan laporan realisasi anggaran kepada Bapepam melalui dewan komisaris, dengan ketentuan bahwa laporan tersebut disampaikan secara kumulatif triwulanan dan diterima oleh Bapepam selambat-lambatnya pada hari ke dua belas setelah berakhirnya triwulan yang bersangkutan           1.0          0.893250               1.00        1.000000           0.949680            0.612420            0\n",
      "2                                                                                          KEPUTUSAN KETUA BADAN PENGAWAS PASAR MODAL NOMOR KEP-06/PM/1996 tentang apa?                                                                     KEPUTUSAN KETUA BADAN PENGAWAS PASAR MODAL NOMOR KEP-06/PM/1996 adalah tentang Tata Cara Pemberian Persetujuan Anggaran Dasar Bursa Efek.\\n\\nSource: [KEP-06/PM/1996](https://www.ojk.go.id/id/regulasi/Documents/Pages/BAPEPAM-tentang-Tata-Cara-Pemberian-Persetujuan-Anggaran-Dasar-Bursa-Efek/IIIA5_Tata%20Cara%20Pemberian%20Persetujuan%20Anggaran%20Dasar%20oleh%20BE.pdf)                                                                                                                                                                                                                                                                                                                                                                                                                                                                                                                                                                                                                                                                                                                                                                                                                                                                                                                                                                                                         [KETUA BADAN PENGAWAS PASAR MODAL,\\nMenimbang\\n:\\nbahwa dengan berlakunya Undang-undang Nomor 8 Tahun 1995 tentang Pasar Modal,\\ndipandang perlu untuk menetapkan Keputusan Ketua Bapepam tentang Tata Cara\\nPenyusunan serta Pengajuan Rencana Anggaran dan Penggunaan Laba Bursa Efek;\\nMengingat\\n:\\n1.\\nUndang-undang Nomor 8 Tahun 1995 tentang Pasar Modal (Lembaran Negara\\nTahun 1995 Nomor 64, Tambahan Lembaran Negara Nomor 3608);\\n2.\\nPeraturan Pemerintah Nomor 45 Tahun 1995 tentang Penyelenggaraan Kegiatan\\ndi Bidang Pasar Modal (Lembaran Negara Tahun 1995 Nomor 86, Tambahan\\nLembaran Negara Nomor 3617);\\n3.\\nKeputusan Presiden Republik Indonesia Nomor 322/M Tahun 1995;\\nMEMUTUSKAN :\\nMenetapkan\\n:\\nKEPUTUSAN KETUA BADAN PENGAWAS PASAR MODAL TENTANG TATA\\nCARA PENYUSUNAN SERTA PENGAJUAN RENCANA ANGGARAN DAN\\nPENGGUNAAN LABA BURSA EFEK.\\nPasal 1\\nKetentuan mengenai Tata Cara Penyusunan serta Pengajuan Rencana Anggaran dan Penggunaan Laba Bursa, KETUA BADAN PENGAWAS PASAR MODAL,\\nMenimbang  \\n:\\nbahwa dengan berlakunya Undang-undang Nomor 8 Tahun 1995 tentang\\nPasar Modal, dipandang perlu untuk menetapkan Keputusan Ketua\\n \\nBapepam tentang Tata Cara Pembuatan Peraturan Oleh Lembaga Kliring\\ndan Penjaminan;\\nMengingat      \\n: 1. \\nUndang-undang Nomor 8 Tahun 1995 tentang Pasar Modal (Lembaran \\nNegara Tahun 1995 Nomor 64, Tambahan Lembaran Negara Nomor 3608);\\n2.\\nPeraturan Pemerintah Nomor 45 Tahun 1995 tentang Penyelenggaraan\\nKegiatan di Bidang Pasar Modal (Lembaran Negara Tahun 1995 Nomor\\n86, Tambahan Lembaran Negara Nomor 3617);\\n3.\\nKeputusan Presiden Republik Indonesia Nomor 322/M Tahun 1995;\\nMEMUTUSKAN  :\\nMenetapkan \\n: KEPUTUSAN KETUA BADAN PENGAWAS PASAR MODAL TENTANG\\nTATA CARA PEMBUATAN PERATURAN OLEH LEMBAGA KLIRING\\nDAN PENJAMINAN.\\nPasal 1\\nKetentuan mengenai Tata Cara Pembuatan Peraturan Oleh Lembaga Kliring dan Penjaminan,\\ndiatur dalam Peraturan Nomor III.B.2 sebagaimana dimuat dalam Lampiran Keputusan ini.\\nPasal 2, Ditetapkan di\\n:    Jakarta\\npada tanggal\\n:  17 Januari 1996\\nBADAN PENGAWAS PASAR MODAL\\nKetua,\\nI PUTU GEDE ARY SUTA\\nNIP 060065493\\nLAMPIRAN\\nK e p u t u s a n  K e t u a  B a d a n\\nP e n g a w a s  P a s a r  M o d a l\\nNomor \\n:\\nKep- 06/PM/1996\\nTanggal\\n:\\n17 Januari 1996, Bapepam tentang Perizinan Lembaga Kliring dan Penjaminan;\\nMengingat      \\n:\\n1. \\nUndang-undang Nomor 8 Tahun 1995 tentang Pasar Modal (Lembaran\\n \\nNegara Tahun 1995 Nomor 64, Tambahan Lembaran Negara Nomor\\n   \\n3608);\\n2.\\nPeraturan Pemerintah Nomor 45 Tahun 1995 tentang Penyelenggaraan\\nKegiatan di Bidang Pasar Modal (Lembaran Negara Tahun 1995 Nomor\\n86, Tambahan Lembaran Negara Nomor 3617);\\n3.\\nKeputusan Presiden Republik Indonesia Nomor 322/M Tahun 1995;\\nMEMUTUSKAN  :\\nMenetapkan \\n:\\nKEPUTUSAN KETUA BADAN PENGAWAS PASAR MODAL\\n  \\nTENTANG PERIZINAN LEMBAGA KLIRING DAN PENJAMINAN.\\nPasal 1\\nKetentuan mengenai Perizinan Lembaga Kliring dan Penjaminan, diatur dalam Peraturan Nomor\\nIII.B.1 sebagaimana dimuat dalam Lampiran Keputusan ini.\\n Pasal 2\\nKeputusan ini mulai berlaku sejak tanggal ditetapkan.\\nDitetapkan di   :       Jakarta\\npada tanggal\\n:       17 Januari 1996\\nBADAN PENGAWAS PASAR MODAL\\nKetua,\\nI PUTU GEDE ARY SUTA\\nNIP. 060065493, Modal, dipandang perlu untuk menetapkan Keputusan Ketua Bapepam tentang \\nTata Cara Pemberian Persetujuan Anggaran Dasar Bursa Efek;\\nMengingat\\n:\\n1.\\nUndang-undang Nomor 8 Tahun 1995 tentang Pasar Modal (Lembaran Negara \\nTahun 1995 Nomor 64, Tambahan Lembaran Negara Nomor 3608);\\n2.\\nPeraturan Pemerintah Nomor 45 Tahun 1995 tentang Penyelenggaraan Kegiatan\\ndi Bidang Pasar Modal (Lembaran Negara Tahun 1995 Nomor 86, Tambahan \\nLembaran Negara Nomor 3617);\\n3.\\nKeputusan Presiden Republik Indonesia Nomor 322/M Tahun 1995;\\nMEMUTUSKAN  :\\nMenetapkan\\n:\\nKEPUTUSAN KETUA BADAN PENGAWAS PASAR MODAL TENTANG TATA\\nCARA PEMBERIAN PERSETUJUAN ANGGARAN DASAR BURSA EFEK.\\nPasal 1\\nKetentuan mengenai Tata Cara Pemberian Persetujuan Anggaran Dasar Bursa Efek, diatur dalam Peraturan\\nNomor III.A.5 sebagaimana dimuat dalam Lampiran Keputusan ini.\\nPasal 2\\nKeputusan ini mulai beriaku sejak tanggal ditetapkan.\\nDitetapkan di \\n :       Jakarta\\npada tanggal  \\n :       17 Januari 1996\\nBADAN PENGAWAS PASAR MODAL\\nKetua,, Pasal 2\\nKeputusan ini mulai beriaku sejak tanggal ditetapkan.\\nDitetapkan di \\n :       Jakarta\\npada tanggal  \\n :       17 Januari 1996\\nBADAN PENGAWAS PASAR MODAL\\nKetua,\\nI PUTU GEDE ARY SUTA\\nNIP. 060065493]                                                                                                                                                                                                                                            TATA CARA PEMBERIAN PERSETUJUAN ANGGARAN DASAR BURSA EFEK           1.0          0.955076               0.81        1.000000           0.900243            0.975061            0\n",
      "3                                                                                               Siapa yang menandatangani keputusan ketua bapepam nomor kep-07/PM/1996?                                                                                                                                                                                                                                              I PUTU GEDE ARY SUTA\\n\\nSource: KEP-07/PM/1996(https://www.ojk.go.id/id/regulasi/Documents/Pages/BAPEPAM-IIIB1-tentang-Perizinan-Lembaga-Kliring-dan-Penjaminan/IIIB1_Perizinan%20Lembaga%20Kliring.pdf)                                                                                                                                                                                                                                                                                                                                                                                                                                                                                                                            [Bapepam melakukan penelitian atas kelengkapan dokumen, wawancara, serta pemeriksaan\\n \\nsetempat apabila dipandang perlu.\\n11. Dalam hal permohonan sebagaimana dimaksud dalam angka 1 peraturan ini tidak memenuhi\\nsyarat, Bapepam memberikan surat pemberitahuan kepada pemohon yang menyatakan\\n       bahwa:\\na. \\npermohonannya tidak lengkap dengan menggunakan Formulir Nomor III.B.1-2 lampiran\\n2 peraturan ini; atau\\nb. \\npermohonannya ditolak dengan menggunakan Formulir Nomor III.B.1-3 lampiran 3\\n        \\nperaturan ini.\\n12. Dalam hal permohonan sebagaimana dimaksud dalam angka 1 peraturan ini memenuhi syarat,\\nBapepam memberikan surat izin usaha kepada pemohon dengan Formulir Nomor III.B.1-4\\nlampiran 4 peraturan ini.\\nDitetapkan di      :   Jakarta\\nPada tanggal      :   17 Januari 1996\\nBADAN PENGAWAS PASAR MODAL\\nKetua,\\nI PUTU GEDE ARY SUTA\\nNIP. 060065493\\nLAMPIRAN\\nK e p u t u s a n  K e t u a  B a d a n\\nP e n g a w a s  P a s a r  M o d a l\\nNomor \\n:\\nKep- 07/PM/1996\\nTanggal\\n:\\n17 Januari 1996, Bapepam sebelum diajukan kepada Menteri Kehakiman untuk memperoleh pengesahan.\\n3. \\nPermohonan persetujuan anggaran dasar atau perubahan anggaran dasar Bursa Efek diajukan\\nkepada Bapepam dalam rangkap 4 (empat) dengan menggunakan Formulir Nomor III.A.5-1 lampiran\\n1 peraturan ini disertai dokumen dokumen  :\\na. \\nakta perubahan anggaran dasar yang dimintakan persetujuan;\\nb. \\nakta berita acara Rapat Umum Pemegang Saham;\\nc. \\nsurat panggilan Rapat Umum Pemegang Saham;\\nd. \\nagenda Rapat Umum Pemegang Saham; dan\\ne. \\ndaftar hadir Rapat Umum Pemegang Saham.\\nLAMPIRAN\\nK e p u t u s a n  K e t u a  B a d a n\\nP e n g a w a s  P a s a r  M o d a l\\nNomor \\n:\\nKep- 06/PM/1996\\nTanggal\\n:\\n17 Januari 1996, Modal, dipandang perlu untuk menetapkan Keputusan Ketua Bapepam tentang \\nTata Cara Pemberian Persetujuan Anggaran Dasar Bursa Efek;\\nMengingat\\n:\\n1.\\nUndang-undang Nomor 8 Tahun 1995 tentang Pasar Modal (Lembaran Negara \\nTahun 1995 Nomor 64, Tambahan Lembaran Negara Nomor 3608);\\n2.\\nPeraturan Pemerintah Nomor 45 Tahun 1995 tentang Penyelenggaraan Kegiatan\\ndi Bidang Pasar Modal (Lembaran Negara Tahun 1995 Nomor 86, Tambahan \\nLembaran Negara Nomor 3617);\\n3.\\nKeputusan Presiden Republik Indonesia Nomor 322/M Tahun 1995;\\nMEMUTUSKAN  :\\nMenetapkan\\n:\\nKEPUTUSAN KETUA BADAN PENGAWAS PASAR MODAL TENTANG TATA\\nCARA PEMBERIAN PERSETUJUAN ANGGARAN DASAR BURSA EFEK.\\nPasal 1\\nKetentuan mengenai Tata Cara Pemberian Persetujuan Anggaran Dasar Bursa Efek, diatur dalam Peraturan\\nNomor III.A.5 sebagaimana dimuat dalam Lampiran Keputusan ini.\\nPasal 2\\nKeputusan ini mulai beriaku sejak tanggal ditetapkan.\\nDitetapkan di \\n :       Jakarta\\npada tanggal  \\n :       17 Januari 1996\\nBADAN PENGAWAS PASAR MODAL\\nKetua,, KETUA BADAN PENGAWAS PASAR MODAL,\\nMenimbang  \\n:\\nbahwa dengan berlakunya Undang-undang Nomor 8 Tahun 1995 tentang\\nPasar Modal, dipandang perlu untuk menetapkan Keputusan Ketua\\n \\nBapepam tentang Tata Cara Pembuatan Peraturan Oleh Lembaga Kliring\\ndan Penjaminan;\\nMengingat      \\n: 1. \\nUndang-undang Nomor 8 Tahun 1995 tentang Pasar Modal (Lembaran \\nNegara Tahun 1995 Nomor 64, Tambahan Lembaran Negara Nomor 3608);\\n2.\\nPeraturan Pemerintah Nomor 45 Tahun 1995 tentang Penyelenggaraan\\nKegiatan di Bidang Pasar Modal (Lembaran Negara Tahun 1995 Nomor\\n86, Tambahan Lembaran Negara Nomor 3617);\\n3.\\nKeputusan Presiden Republik Indonesia Nomor 322/M Tahun 1995;\\nMEMUTUSKAN  :\\nMenetapkan \\n: KEPUTUSAN KETUA BADAN PENGAWAS PASAR MODAL TENTANG\\nTATA CARA PEMBUATAN PERATURAN OLEH LEMBAGA KLIRING\\nDAN PENJAMINAN.\\nPasal 1\\nKetentuan mengenai Tata Cara Pembuatan Peraturan Oleh Lembaga Kliring dan Penjaminan,\\ndiatur dalam Peraturan Nomor III.B.2 sebagaimana dimuat dalam Lampiran Keputusan ini.\\nPasal 2, KETUA BADAN PENGAWAS PASAR MODAL,\\nMenimbang\\n:\\nbahwa dengan berlakunya Undang-undang Nomor 8 Tahun 1995 tentang Pasar Modal,\\ndipandang perlu untuk menetapkan Keputusan Ketua Bapepam tentang Tata Cara\\nPenyusunan serta Pengajuan Rencana Anggaran dan Penggunaan Laba Bursa Efek;\\nMengingat\\n:\\n1.\\nUndang-undang Nomor 8 Tahun 1995 tentang Pasar Modal (Lembaran Negara\\nTahun 1995 Nomor 64, Tambahan Lembaran Negara Nomor 3608);\\n2.\\nPeraturan Pemerintah Nomor 45 Tahun 1995 tentang Penyelenggaraan Kegiatan\\ndi Bidang Pasar Modal (Lembaran Negara Tahun 1995 Nomor 86, Tambahan\\nLembaran Negara Nomor 3617);\\n3.\\nKeputusan Presiden Republik Indonesia Nomor 322/M Tahun 1995;\\nMEMUTUSKAN :\\nMenetapkan\\n:\\nKEPUTUSAN KETUA BADAN PENGAWAS PASAR MODAL TENTANG TATA\\nCARA PENYUSUNAN SERTA PENGAJUAN RENCANA ANGGARAN DAN\\nPENGGUNAAN LABA BURSA EFEK.\\nPasal 1\\nKetentuan mengenai Tata Cara Penyusunan serta Pengajuan Rencana Anggaran dan Penggunaan Laba Bursa, yang bentuk dan isinya ditetapkan oleh Bapepam.\\nPasal 18\\nBapepam mempertimbangkan  permohonan  sebagaimana  dimaksud  dalam Pasal 17 dengan\\nmemperhatikan :\\nPP. No. : 45 Tahun 1995\\nII- 5]                                                                                                                                                                                                                                                     I Putu Gede Ary Suta, Badan Pengawas Pasar Modal           0.0          0.846042               1.00        0.666667           0.861655            0.715414            0\n",
      "4  Penolakan atas permohonan persetujuan mengenai pengajuan atau perubahan peraturan Lembaga Kliring dan Penjaminan dilakukan dengan menggunakan formulir nomor berapa?  Penolakan atas permohonan persetujuan mengenai pengajuan atau perubahan peraturan Lembaga Kliring dan Penjaminan dilakukan dengan menggunakan Formulir Nomor III.B.2-3.\\n\\nSource: KEP-08/PM/1996\\nURL: https://www.ojk.go.id/id/regulasi/Documents/Pages/BAPEPAM-IIIB2-tentang-Tata-Cara-Pembuatan-Peraturan-oleh-Lembaga-Kliring-dan-Penjaminan/IIIB2_Tata%20Cara%20Pembuatan%20Peraturan%20oleh%20Lembaga%20Kliring%20dan%20Peminjaman.pdf#page=2  [menggunakan Formulir Nomor III.B.2-2 lampiran 2 peraturan ini;\\nc. dalam hal perubahan dan atau tambahan informasi sebagaimana dimaksud dalam huruf\\nb telah disampaikan kepada Bapepam, permohonan perubahan peraturan Lembaga\\n \\nKliring dan Penjaminan dihitung sejak tanggal diterimanya perubahan atau tambahan\\ninformasi tersebut oleh Bapepam.\\n6. \\nPenolakan atas permohonan persetujuan mengenai pengajuan atau perubahan peraturan\\n  \\nLembaga Kliring dan Penjaminan dilakukan dengan menggunakan Formulir Nomor III.B.2-3\\nlampiran 3 peraturan ini.\\n7. \\nPersetujuan atas peraturan atau perubahan peraturan Lembaga Kliring dan Penjaminan yang\\ndiajukan kepada Bapepam dilakukan dengan menggunakan Formulir Nomor III.B.2-4 lampiran\\n4 peraturan ini.\\nLAMPIRAN :\\nKeputusan Ketua Badan\\nPengawas Pasar Modal\\nNomor\\n:  Kep-08/PM/1996\\nTanggal :  17 Januari 1996, memperhatikan pendapat dari pemakai jasa Lembaga Kliring dan Penjaminan, Bursa\\nEfek, Lembaga Penyimpanan dan Penyelesaian, serta Pihak-Pihak yang berkepentingan\\n \\nlainnya.\\n2. \\nPeraturan atau perubahan peraturan Lembaga Kliring dan Penjaminan sebagaimana dimaksud\\ndalam angka 1 peraturan ini, wajib terlebih dahulu memperoleh persetujuan dewan komisaris\\nsebelum diajukan kepada Bapepam untuk memperoleh persetujuan.\\n3. \\nPermohonan persetujuan peraturan atau perubahan peraturan Lembaga Kliring dan Penjaminan\\n       disampaikan kepada Bapepam dalam rangkap 4 (empat) dengan menggunakan Formulir\\nNomor III.B.2-1 lampiran 1 peraturan ini disertai dengan dokumen :\\na. peraturan yang dimintakan persetujuan;\\nb. persetujuan dewan komisaris;\\nc. pendapat pemakai jasa Lembaga Kliring dan Penjaminan; dan\\nd. pendapat Pihak-Pihak yang berkepentingan dengan peraturan dimaksud.\\n4. \\nDalam permohonan dijelaskan alasan permohonan yang antara lain menyangkut latar belakang, d. pendapat Pihak-Pihak yang berkepentingan dengan peraturan dimaksud.\\n4. \\nDalam permohonan dijelaskan alasan permohonan yang antara lain menyangkut latar belakang\\n     penyusunan peraturan, masalah-masalah yang dihadapi, dan cara pemecahannya.\\n5. \\nDalam rangka memproses permohonan persetujuan sebagaimana dimaksud dalam angka 3\\nperaturan ini :\\na. persetujuan atau penolakan atas permohonan perubahan peraturan Lembaga Kliring dan\\nPenjaminan wajib diberikan selambat-lambatnya 60 (enam puluh) hari sejak permohonan\\nditerima secara lengkap oleh Bapepam;\\nb. dalam jangka waktu sebagaimana dimaksud dalam huruf a, Bapepam dapat meminta\\nuntuk mengubah materi perubahan peraturan Lembaga Kliring dan Penjaminan dan atau\\nmeminta tambahan informasi yang berhubungan dengan peraturan dimaksud, dengan\\nmenggunakan Formulir Nomor III.B.2-2 lampiran 2 peraturan ini;\\nc. dalam hal perubahan dan atau tambahan informasi sebagaimana dimaksud dalam huruf, ---\\nPerihal\\n:\\nPenolakan Atas Permohonan  \\n  \\n     KEPADA\\nPersetujuan Atas Pengajuan Atau\\nYth..................................................\\nPerubahanPeraturan Lembaga \\ndi -\\nKliring dan Penjaminan.\\n......................................\\nMenunjuk surat Saudara Nomor: ...................... tanggal ........................ perihal\\nPermohonan Persetujuan atas Pengajuan atau Perubahan Peraturan Lembaga Kliring\\ndan Penjaminan., setelah meneliti permohonan Saudara, dengan ini diputuskan bahwa\\npermohonan Saudara ditolak karena tidak memenuhi persyaratan sebagai berikut :\\n1.\\n...................................................................................................................\\n2.\\n...................................................................................................................\\n3.\\n...................................................................................................................\\nDemikian agar Saudara maklum.\\nBADAN PENGAWAS PASAR MODAL\\nKetua,, memberikan \\npersetujuan \\natau \\npenolakan \\nsesuai    \\ndengan ketentuan sebagaimana dimaksud pada ayat (1). \\n(5) \\nApabila dalam waktu 20 (dua puluh) hari kerja sejak \\ntanggal \\nsurat \\npermintaan \\nkelengkapan \\ndokumen \\nsebagaimana dimaksud pada ayat (1), Otoritas Jasa \\nKeuangan belum menerima tanggapan atas permintaan \\nkelengkapan \\ndokumen \\ndimaksud, \\nDireksi \\nLembaga \\nPenjamin \\ndianggap \\nmembatalkan \\npermohonan \\npersetujuan rencana Pengambilalihan. \\n(6) \\nDalam \\nhal \\npermohonan \\ndisetujui, \\nOtoritas \\nJasa \\nKeuangan \\nmenetapkan \\nkeputusan \\npersetujuan, metadata={'title': 'Perizinan Usaha dan Kelembagaan Lembaga Penjamin', 'sector': 'IKNB', 'subsector': 'Lembaga Jasa Keuangan Khusus,  Lembaga Kliring dan Penjaminan', 'regulation_type': 'Peraturan OJK', 'regulation_number': '1/POJK.05/2017', 'effective_date': '11 Januari 2017', 'file_url': 'https://www.ojk.go.id/id/regulasi/Documents/Pages/Perizinan-Usaha-dan-Kelembagaan-Lembaga-Penjamin/POJK%201-2017%20Perizinan%20dan%20Kelembagaan%20Lembaga%20Penjamin.pdf', 'page_number': 65}\\n-65- \\n \\n(6) \\nDalam \\nhal \\npermohonan \\ndisetujui, \\nOtoritas \\nJasa \\nKeuangan \\nmenerbitkan \\nsurat \\npersetujuan \\nrencana \\nPemisahan murni kepada Lembaga Penjamin. \\n(7) \\nPenolakan \\natas \\npermohonan \\npersetujuan \\nrencana \\nPemisahan murni sebagaimana dimaksud pada ayat (1) \\ndilakukan secara tertulis dan disertai dengan alasan \\npenolakan. \\n \\nPasal 63 \\n(1) \\nLembaga Penjamin yang telah mendapatkan persetujuan \\nrencana pelaksanaan Pemisahan murni dari Otoritas \\nJasa \\nKeuangan \\nharus \\nmelaksanakan \\nRUPS \\nyang]                                                                                                     Penolakan atas permohonan persetujuan mengenai pengajuan atau perubahan peraturan Lembaga Kliring dan Penjaminan dilakukan dengan menggunakan Formulir Nomor III.B.2-3 lampiran 3 peraturan ini.           1.0          0.849316               1.00        1.000000           0.972074            0.743018            0\n"
     ]
    }
   ],
   "source": [
    "df = score.to_pandas()\n",
    "print(df.head().to_string())"
   ]
  },
  {
   "cell_type": "code",
   "execution_count": 96,
   "metadata": {},
   "outputs": [
    {
     "name": "stdout",
     "output_type": "stream",
     "text": [
      "faithfulness: 0.7246913580246914\n",
      "answer_relevancy: 0.8328087040807999\n",
      "context_precision: 0.8407222221907983\n",
      "context_recall: 0.8256613756613755\n",
      "answer_similarity: 0.9024086839765209\n",
      "answer_correctness: 0.5794760762879525\n",
      "harmfulness: 0.0\n"
     ]
    }
   ],
   "source": [
    "for key,val in score.items():\n",
    "    print(f\"{key}: {val}\")"
   ]
  },
  {
   "cell_type": "code",
   "execution_count": null,
   "metadata": {},
   "outputs": [],
   "source": []
  }
 ],
 "metadata": {
  "kernelspec": {
   "display_name": "chatbot-lc",
   "language": "python",
   "name": "python3"
  },
  "language_info": {
   "codemirror_mode": {
    "name": "ipython",
    "version": 3
   },
   "file_extension": ".py",
   "mimetype": "text/x-python",
   "name": "python",
   "nbconvert_exporter": "python",
   "pygments_lexer": "ipython3",
   "version": "3.10.4"
  }
 },
 "nbformat": 4,
 "nbformat_minor": 2
}
