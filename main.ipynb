{
 "cells": [
  {
   "cell_type": "markdown",
   "metadata": {},
   "source": [
    "# **OJK ChatBot - LangChain**"
   ]
  },
  {
   "cell_type": "markdown",
   "metadata": {},
   "source": [
    "## **Setup**"
   ]
  },
  {
   "cell_type": "code",
   "execution_count": 1,
   "metadata": {},
   "outputs": [
    {
     "data": {
      "text/plain": [
       "True"
      ]
     },
     "execution_count": 1,
     "metadata": {},
     "output_type": "execute_result"
    }
   ],
   "source": [
    "from dotenv import load_dotenv\n",
    "load_dotenv()"
   ]
  },
  {
   "cell_type": "markdown",
   "metadata": {},
   "source": [
    "## **Config**"
   ]
  },
  {
   "cell_type": "code",
   "execution_count": 2,
   "metadata": {},
   "outputs": [],
   "source": [
    "from utils.config import get_config\n",
    "from utils.questions import get_question\n",
    "from utils.model_config import ModelName, get_model\n",
    "\n",
    "config = get_config()"
   ]
  },
  {
   "cell_type": "code",
   "execution_count": 3,
   "metadata": {},
   "outputs": [],
   "source": [
    "STORE = False\n",
    "DELETE = False\n",
    "TOP_K = 10\n",
    "TOP_N = 6\n",
    "model_name = ModelName.AZURE_OPENAI\n",
    "query_str = get_question(\"k\")\n",
    "# query_str = \"Apa judul peraturan nomor 37 /SEOJK.03/2016?\""
   ]
  },
  {
   "cell_type": "markdown",
   "metadata": {},
   "source": [
    "## **Define Model**"
   ]
  },
  {
   "cell_type": "code",
   "execution_count": 4,
   "metadata": {},
   "outputs": [],
   "source": [
    "llm_model, embed_model = get_model(model_name=model_name, config=config)"
   ]
  },
  {
   "cell_type": "markdown",
   "metadata": {},
   "source": [
    "## **Indexing**"
   ]
  },
  {
   "cell_type": "markdown",
   "metadata": {},
   "source": [
    "### **Load**"
   ]
  },
  {
   "cell_type": "code",
   "execution_count": 5,
   "metadata": {},
   "outputs": [],
   "source": [
    "from utils.documents_text_extract import extract_all_documents_in_directory\n",
    "\n",
    "documents_dir = './data/documents'\n",
    "metadata_path = './data/metadata/files_metadata.csv'\n",
    "\n",
    "if STORE:\n",
    "    documents = extract_all_documents_in_directory(documents_dir, metadata_path, treshold=0.98)\n"
   ]
  },
  {
   "cell_type": "markdown",
   "metadata": {},
   "source": [
    "### **Split**"
   ]
  },
  {
   "cell_type": "code",
   "execution_count": 6,
   "metadata": {},
   "outputs": [],
   "source": [
    "from utils.document_split import document_splitter\n",
    "\n",
    "if STORE:\n",
    "    all_splits = document_splitter(docs=documents)"
   ]
  },
  {
   "cell_type": "markdown",
   "metadata": {},
   "source": [
    "### **Storing**"
   ]
  },
  {
   "cell_type": "code",
   "execution_count": 9,
   "metadata": {},
   "outputs": [
    {
     "name": "stderr",
     "output_type": "stream",
     "text": [
      "[2024-07-15 10:16:57,357] [ WARNING] connectionpool.py:826 - Retrying (Retry(total=2, connect=None, read=None, redirect=None, status=None)) after connection broken by 'ProtocolError('Connection aborted.', TimeoutError(10060, 'A connection attempt failed because the connected party did not properly respond after a period of time, or established connection failed because connected host has failed to respond', None, 10060, None))': /indexes\n",
      "[2024-07-15 10:17:35,553] [ WARNING] connectionpool.py:826 - Retrying (Retry(total=1, connect=None, read=None, redirect=None, status=None)) after connection broken by 'ProtocolError('Connection aborted.', RemoteDisconnected('Remote end closed connection without response'))': /indexes\n"
     ]
    }
   ],
   "source": [
    "from utils.vector_store import PineconeIndexManager\n",
    "\n",
    "pinecone = PineconeIndexManager(index_name='ojk', embed_model=embed_model, config=config)\n",
    "\n",
    "if STORE:\n",
    "    pinecone.store_vector_index(docs=all_splits, delete=DELETE)\n",
    "    vector_store = pinecone.load_vector_index()\n",
    "else: \n",
    "    vector_store = pinecone.load_vector_index()"
   ]
  },
  {
   "cell_type": "markdown",
   "metadata": {},
   "source": [
    "## **Retrieval and Generation**"
   ]
  },
  {
   "cell_type": "markdown",
   "metadata": {},
   "source": [
    "### **Retrieve**"
   ]
  },
  {
   "cell_type": "code",
   "execution_count": 10,
   "metadata": {},
   "outputs": [],
   "source": [
    "from langchain_cohere import CohereRerank\n",
    "from langchain.retrievers import ContextualCompressionRetriever\n",
    "\n",
    "# retriever = vector_store.as_retriever(search_type=\"similarity\", search_kwargs={\"k\": TOP_K})\n",
    "compressor = CohereRerank(cohere_api_key=config['cohere_api_key'], top_n=TOP_N)\n",
    "retriever = ContextualCompressionRetriever(\n",
    "    base_compressor=compressor, base_retriever=vector_store.as_retriever(search_type=\"similarity\", search_kwargs={\"k\": TOP_K})\n",
    ")"
   ]
  },
  {
   "cell_type": "code",
   "execution_count": 11,
   "metadata": {},
   "outputs": [
    {
     "data": {
      "text/plain": [
       "[Document(metadata={'effective_date': '26 Februari 2008', 'file_url': 'https://www.ojk.go.id/id/regulasi/Documents/Pages/PMK-Nomor-36PMK.010-Tahun-2008-tentang-Besar-Santunan-dan-Sumbangan-Wajib-Dana-Kecelakaan-Lalu-Lintas-Jalan/menas13_1389258036.pdf', 'page_number': 4.0, 'regulation_number': '36/PMK.010/2008', 'regulation_type': 'Klasifikasi Bapepam', 'sector': 'IKNB', 'subsector': 'Asuransi', 'title': 'Peraturan Menteri Keuangan Nomor 36/PMK.010/2008 tentang Besar Santunan dan Sumbangan Wajib Dana Kecelakaan Lalu Lintas Jalan', 'relevance_score': 0.9850429}, page_content='2) Dalam hal pembayaran SWDKLLJ dilakukan setelah melewati batas\\n seharusnya dibayar dengan ketentuan denda yang dikenakan paling\\nbesar Rp100.000,00 (seratus ribu rupiah).\\n(3) Dalam hal ketentuan mengenai batas waktu sebagaimana dimaksud\\ngeografis daerah setempat, Direksi perusahaan yang ditunjuk untuk\\nmenyelenggarakan Dana Kecelakaan Lalu Lintas Jalan diberi\\nbesarnya denda SWDKLLJ, dengan ketentuan batas waktu dimaksud\\npaling lama 15 (lima belas) hari kerja.'),\n",
       " Document(metadata={'effective_date': '26 Februari 2008', 'file_url': 'https://www.ojk.go.id/id/regulasi/Documents/Pages/PMK-Nomor-36PMK.010-Tahun-2008-tentang-Besar-Santunan-dan-Sumbangan-Wajib-Dana-Kecelakaan-Lalu-Lintas-Jalan/menas13_1389258036.pdf', 'page_number': 3.0, 'regulation_number': '36/PMK.010/2008', 'regulation_type': 'Klasifikasi Bapepam', 'sector': 'IKNB', 'subsector': 'Asuransi', 'title': 'Peraturan Menteri Keuangan Nomor 36/PMK.010/2008 tentang Besar Santunan dan Sumbangan Wajib Dana Kecelakaan Lalu Lintas Jalan', 'relevance_score': 0.9813822}, page_content='MENTERI KEUANGAN\\nREPUBLIK INDONESIA\\nmemperoleh santunan sebesar Rp 25.000.000,00 (dua puluh lima\\njuta rupiah).\\nb. Korban yang mengalami cacat tetap berhak memperoleh\\nsantunan yang besarnya dihitung berdasarkan angka prosentase\\n Korban yang memerlukan perawatan dan pengobatan berhak\\nrupiah).\\nPasal 3\\nDalam hal korban meninggal dunia akibat kecelakaan alat angkutan\\nlalu lintas jalan tidak mempunyai ahli waris, kepada pihak yang\\nmenyelenggarakan\\ndiberikan\\npenggantian\\nbiaya\\nPasal 4\\n(2) Besar SWDKLLJ sebagaimana dimaksud pada ayat (1) ditentukan\\nsebagai berikut:\\nSepeda motor di bawah 50 cc, mobil ambulance, mobil jenazah\\na.\\ndan mobil pemadam kebakaran dibebaskan dari kewajiban\\nb. Traktor, buidozer, forklift, mobil derek, excavator, crane dan\\nsejenisnya sebesar Rp 20.000,00 (dua puluh ribu rupiah):\\n Sepeda motor, sepeda kumbang dan scooter di atas 50 cc sampai\\n250 cc dan kendaraan bermotor roda tiga sebesar Rp 32.000,00\\n(tiga puluh dua ribu rupiah).\\nd.'),\n",
       " Document(metadata={'effective_date': '26 Februari 2008', 'file_url': 'https://www.ojk.go.id/id/regulasi/Documents/Pages/PMK-Nomor-36PMK.010-Tahun-2008-tentang-Besar-Santunan-dan-Sumbangan-Wajib-Dana-Kecelakaan-Lalu-Lintas-Jalan/menas13_1389258036.pdf', 'page_number': 2.0, 'regulation_number': '36/PMK.010/2008', 'regulation_type': 'Klasifikasi Bapepam', 'sector': 'IKNB', 'subsector': 'Asuransi', 'title': 'Peraturan Menteri Keuangan Nomor 36/PMK.010/2008 tentang Besar Santunan dan Sumbangan Wajib Dana Kecelakaan Lalu Lintas Jalan', 'relevance_score': 0.94229466}, page_content='wajib\\nsebagaimana dimaksud dalam Undang-Undang Nomor 34 Tahun\\n1964 tentang Dana Kecelakaan Lalu Lintas Jalan juncto Peraturan\\nPelaksanaan Dana Kecelakaan Lalu Lintas Jalan.\\n2) SWDKLLJ merupakan premi asuransi yang dibayarkan oleh para\\npengusaha/pemilik alat angkutan lalu lintas jalan kepada\\nperusahaan yang menyelenggarakan Dana Kecelakaan Lalu Lintas\\nJalan.\\nPasal 2\\n(1 Korban kecelakaan alat angkutan lalu lintas jalan atau ahli warisnya\\nberhak atas santunan.\\nBesar santunan sebagaimana dimaksud pada ayat (1) ditentukan\\nsebagai berikut:'),\n",
       " Document(metadata={'effective_date': '26 Februari 2008', 'file_url': 'https://www.ojk.go.id/id/regulasi/Documents/Pages/PMK-Nomor-36PMK.010-Tahun-2008-tentang-Besar-Santunan-dan-Sumbangan-Wajib-Dana-Kecelakaan-Lalu-Lintas-Jalan/menas13_1389258036.pdf', 'page_number': 4.0, 'regulation_number': '36/PMK.010/2008', 'regulation_type': 'Klasifikasi Bapepam', 'sector': 'IKNB', 'subsector': 'Asuransi', 'title': 'Peraturan Menteri Keuangan Nomor 36/PMK.010/2008 tentang Besar Santunan dan Sumbangan Wajib Dana Kecelakaan Lalu Lintas Jalan', 'relevance_score': 0.93868846}, page_content='MENTERI KEUANGAN\\nREPUBLIK INDONESIA\\n-4-\\n Mobil penumpang angkutan umum sampai dengan 1600 cc\\ng. Bus dan mikro bus bukan angkutan umum sebesar Rp150.000,00\\n(seratus lima puluh ribu rupiah).\\nh. Bus dan.mikro bus angkutan umum, serta mobil penumpang\\nangkutan umum lainnya di atas 1600 cc sebesar Rp87.000,00\\n(delapan puluh tujuh ribu rupiah).\\nTruk, mobil tangki, mobil gandengan, mobil barang di atas 2400\\ncc, truk container dan sejenisnya sebesar Rp 160.000,00 (seratus\\n enam puluh ribu rupiah).\\nPasal 5\\nSetiap jenis kendaraan sebagaimana dimaksud dalam Pasal 4, dikenakan\\nbiaya\\n penggantian pembuatan\\n Kartu Dana/Sertifikat sebesar\\nRp 3.000,00 (tiga ribu rupiah).\\nPasal 6\\nTanda Nomor Kendaraan Bermotor sesuai dengan ketentuan\\nperaturan perundang-undangan yang berlaku.\\n2) Dalam hal pembayaran SWDKLLJ dilakukan setelah melewati batas\\n seharusnya dibayar dengan ketentuan denda yang dikenakan paling\\nbesar Rp100.000,00 (seratus ribu rupiah).'),\n",
       " Document(metadata={'effective_date': '26 Februari 2008', 'file_url': 'https://www.ojk.go.id/id/regulasi/Documents/Pages/PMK-Nomor-36PMK.010-Tahun-2008-tentang-Besar-Santunan-dan-Sumbangan-Wajib-Dana-Kecelakaan-Lalu-Lintas-Jalan/menas13_1389258036.pdf', 'page_number': 2.0, 'regulation_number': '36/PMK.010/2008', 'regulation_type': 'Klasifikasi Bapepam', 'sector': 'IKNB', 'subsector': 'Asuransi', 'title': 'Peraturan Menteri Keuangan Nomor 36/PMK.010/2008 tentang Besar Santunan dan Sumbangan Wajib Dana Kecelakaan Lalu Lintas Jalan', 'relevance_score': 0.65599746}, page_content='REPUBLIK INDONESIA\\n Penyelenggaraan Usaha Perasuransian (Lembaran Negara Republik\\nIndonesia Tahun 1992 Nomor 120, Tambahan Lembaran Negara\\nRepublik Indonesia Nomor 3506) sebagaimana telah diubah dengan\\nPeraturan Pemerintah Nomor 63 .Tahun 1999 (Lembaran Negara\\nNegara Republik Indonesia Nomor 3861);\\n Keputusan Presiden Nomor 20/P Tahun 2005j\\n Keputusan Menteri Keuangan Nomor 337/KMK.011/1981 tentang\\nPenunjukan Perusahaan Perseroan (Persero) Asuransi Kerugian Jasa\\nRaharja untuk\\n menyelenggarakan Dana Pertanggungan Wajib\\nKecelakaan Penumpang dan Dana Kecelakaan Lalu Lintas Jalan;\\nMEMUTUSKAN:\\nMenetapkan : PERATURAN\\nMENTERI\\nKEUANGAN\\nTENTANG\\nBESAR\\nLALU LINTAS JALAN\\nPasal 1\\n(1) Sumbangan Wajib Dana Kecelakaan Lalu Lintas Jalan,\\nselanjutnya\\n disebut SWDKLLJ, adalah sumbangan\\nwajib\\nsebagaimana dimaksud dalam Undang-Undang Nomor 34 Tahun\\n1964 tentang Dana Kecelakaan Lalu Lintas Jalan juncto Peraturan\\nPelaksanaan Dana Kecelakaan Lalu Lintas Jalan.'),\n",
       " Document(metadata={'effective_date': '26 Februari 2008', 'file_url': 'https://www.ojk.go.id/id/regulasi/Documents/Pages/PMK-Nomor-36PMK.010-Tahun-2008-tentang-Besar-Santunan-dan-Sumbangan-Wajib-Dana-Kecelakaan-Lalu-Lintas-Jalan/menas13_1389258036.pdf', 'page_number': 3.0, 'regulation_number': '36/PMK.010/2008', 'regulation_type': 'Klasifikasi Bapepam', 'sector': 'IKNB', 'subsector': 'Asuransi', 'title': 'Peraturan Menteri Keuangan Nomor 36/PMK.010/2008 tentang Besar Santunan dan Sumbangan Wajib Dana Kecelakaan Lalu Lintas Jalan', 'relevance_score': 0.00060945016}, page_content='Sepeda motor, sepeda kumbang dan scooter di atas 50 cc sampai\\n250 cc dan kendaraan bermotor roda tiga sebesar Rp 32.000,00\\n(tiga puluh dua ribu rupiah).\\nd.\\nPick up/mobil barang sampai dengan 2400 cc, sedan, jeep dan\\n mobil penumpang bukan angkutan umum sebesar Rp140.000,00\\n(seratus empat puluh ribu rupiah).')]"
      ]
     },
     "execution_count": 11,
     "metadata": {},
     "output_type": "execute_result"
    }
   ],
   "source": [
    "retrieved_docs = retriever.invoke(input=query_str)\n",
    "retrieved_docs"
   ]
  },
  {
   "cell_type": "markdown",
   "metadata": {},
   "source": [
    "### **Generate**"
   ]
  },
  {
   "cell_type": "code",
   "execution_count": 18,
   "metadata": {},
   "outputs": [],
   "source": [
    "import json\n",
    "from operator import itemgetter\n",
    "\n",
    "from langchain_core.output_parsers import StrOutputParser\n",
    "from langchain_core.prompts import ChatPromptTemplate, PromptTemplate\n",
    "from langchain_core.runnables import RunnableMap, RunnablePassthrough\n",
    "from langchain_core.chat_history import BaseChatMessageHistory\n",
    "from langchain_core.runnables import (\n",
    "    ConfigurableFieldSpec,\n",
    "    RunnablePassthrough,\n",
    ")\n",
    "\n",
    "# from utils.chat_history import ChatHistory\n",
    "\n",
    "from langchain_core.retrievers import BaseRetriever\n",
    "\n",
    "# from utils.final_chain_input_type import InputTypeFinalChain\n",
    "\n",
    "from langchain_core.runnables.history import RunnableWithMessageHistory\n",
    "\n",
    "\n",
    "from utils.model_config import ModelName"
   ]
  },
  {
   "cell_type": "code",
   "execution_count": 19,
   "metadata": {},
   "outputs": [],
   "source": [
    "\n",
    "def _format_metadata(metadata):\n",
    "    \"\"\"Remove filename from metadata.\"\"\"\n",
    "    # check if file_name is in metadata\n",
    "    if \"file_name\" in metadata:\n",
    "        metadata.pop(\"file_name\", None)\n",
    "    return metadata\n",
    "\n",
    "\n",
    "def _combine_documents(docs):\n",
    "    \"\"\"Combine documents into a single JSON string.\"\"\"\n",
    "    doc_list = [{\"metadata\": _format_metadata(\n",
    "        doc.metadata), \"page_content\": doc.page_content} for doc in docs]\n",
    "    return json.dumps(doc_list, indent=2)"
   ]
  },
  {
   "cell_type": "code",
   "execution_count": 118,
   "metadata": {},
   "outputs": [],
   "source": [
    "from utils.chat_history import ChatStore\n",
    "\n",
    "# chat_history = ChatHistory(max_history_length=5)\n",
    "K_STORE = 10\n",
    "chat_store = ChatStore(k=K_STORE)"
   ]
  },
  {
   "cell_type": "code",
   "execution_count": 119,
   "metadata": {},
   "outputs": [],
   "source": [
    "from utils.rag_chain_with_chat_history import create_chain_with_chat_history\n",
    "\n",
    "_TEMPLATE = \"\"\"Given the following conversation and a follow-up question, \\\n",
    "rephrase the follow-up question to be a standalone question in its original language. \n",
    "If the follow-up question is not clear, indicate so. \n",
    "If the chat history is not relevant to the follow-up question, please ignore the chat history.\n",
    "\n",
    "Chat History:\n",
    "{chat_history}\n",
    "\n",
    "Follow-up Question: {question}\n",
    "Standalone Question: \"\"\"\n",
    "\n",
    "_ANSWER_TEMPLATE = \"\"\"The context information is below.\n",
    "Context: \n",
    "{context}\n",
    "\n",
    "Based on the context and the metadata information provided, \\\n",
    "answer the query related to banking compliance in Indonesia.\n",
    "Use the context and metadata information only, without relying on prior knowledge. \n",
    "ALWAYS ANSWER IN THE USER'S LANGUAGE.\n",
    "\n",
    "Please provide your answer in the following format, \\\n",
    "including the regulation number and file URL if available:\n",
    "\n",
    "(Answer...) \\n\\n\n",
    "Source: [metadata['regulation_number']](metadata['file_url'])\n",
    "\n",
    "If you cannot find the regulation number, just provide the (Answer...). \n",
    "If the file_url ends with '.pdf', you can add the metadata['page_number'] in the URL like this: \n",
    "\n",
    "(Answer...) \\n\\n\n",
    "Source: [metadata['regulation_number']](metadata['file_url#page=metadata['page_number']')\n",
    "\n",
    "(Answer...) is the answer to the question, don't write '(Answer...)' in the answer.\n",
    "DO NOT PROVIDE AMBIGUOUS ANSWERS.\n",
    "\n",
    "Question: {question}\n",
    "\"\"\"\n",
    "\n",
    "# chain = create_chain_with_chat_history(\n",
    "#     contextualize_q_prompt_str=_TEMPLATE,\n",
    "#     qa_system_prompt_str=_ANSWER_TEMPLATE,\n",
    "#     retriever=retriever,\n",
    "#     llm_model=llm_model,\n",
    "#     get_session_history=chat_store.get_session_history,\n",
    "# )"
   ]
  },
  {
   "cell_type": "code",
   "execution_count": 120,
   "metadata": {},
   "outputs": [],
   "source": [
    "CONTEXTUALIZE_Q_PROMPT_STR = _TEMPLATE\n",
    "QA_SYSTEM_PROMPT_STR = _ANSWER_TEMPLATE\n",
    "QA_PROMPT = ChatPromptTemplate.from_template(QA_SYSTEM_PROMPT_STR)\n",
    "CONTEXTUALIZE_Q_PROMPT = PromptTemplate.from_template(CONTEXTUALIZE_Q_PROMPT_STR)\n",
    "# _inputs_question = RunnableMap(\n",
    "#     standalone_question=RunnablePassthrough.assign(\n",
    "#         chat_history=lambda x: x[\"chat_history\"].get_session_history()\n",
    "#     )\n",
    "#     | CONTEXTUALIZE_Q_PROMPT\n",
    "#     | llm_model\n",
    "#     | StrOutputParser(),\n",
    "# )\n",
    "_inputs_question = CONTEXTUALIZE_Q_PROMPT | llm_model | StrOutputParser()\n",
    "# _context_chain = _inputs_question | itemgetter(\"question\") \n",
    "# test_chain = _inputs_question | retriever | _combine_documents\n",
    "_context_chain = _inputs_question | {\n",
    "    \"context\": retriever | _combine_documents,\n",
    "    \"question\": RunnablePassthrough()\n",
    "} \n",
    "conversational_qa_with_context_chain = (\n",
    "    # _inputs_question\n",
    "    _context_chain\n",
    "    | {\n",
    "        \"question\": itemgetter(\"question\"),\n",
    "        \"answer\": QA_PROMPT | llm_model | StrOutputParser(),\n",
    "        \"context\": itemgetter(\"context\"),\n",
    "    }\n",
    "    # | StrOutputParser()\n",
    ")\n",
    "# final_chain = conversational_qa_with_context_chain.with_types(input_type=InputTypeFinalChain)\n",
    "\n",
    "final_chain = RunnableWithMessageHistory(\n",
    "    conversational_qa_with_context_chain,\n",
    "    get_session_history=chat_store.get_session_history,\n",
    "    input_messages_key=\"question\",\n",
    "    output_messages_key=\"answer\",\n",
    "    history_messages_key=\"chat_history\",\n",
    "    history_factory_config=[\n",
    "        ConfigurableFieldSpec(\n",
    "            id=\"user_id\",\n",
    "            annotation=str,\n",
    "            name=\"User ID\",\n",
    "            description=\"Unique identifier for the user.\",\n",
    "            default=\"\",\n",
    "            is_shared=True,\n",
    "        ),\n",
    "        ConfigurableFieldSpec(\n",
    "            id=\"conversation_id\",\n",
    "            annotation=str,\n",
    "            name=\"Conversation ID\",\n",
    "            description=\"Unique identifier for the conversation.\",\n",
    "            default=\"\",\n",
    "            is_shared=True,\n",
    "        ),\n",
    "    ],\n",
    ")"
   ]
  },
  {
   "cell_type": "code",
   "execution_count": 124,
   "metadata": {},
   "outputs": [],
   "source": [
    "response = final_chain.invoke(\n",
    "    {\"question\": \"Kalau mobil?\"},\n",
    "    config={\n",
    "        \"configurable\": {\"user_id\": \"xmriz\", \"conversation_id\": \"conv1\"}\n",
    "    },\n",
    ")"
   ]
  },
  {
   "cell_type": "code",
   "execution_count": 125,
   "metadata": {},
   "outputs": [
    {
     "data": {
      "text/plain": [
       "{'question': 'Berapa SWDKLLJ yang harus dibayarkan untuk mobil?',\n",
       " 'answer': 'SWDKLLJ yang harus dibayarkan untuk mobil adalah sebagai berikut:\\n\\n- Mobil penumpang angkutan umum sampai dengan 1600 cc: Rp150.000,00\\n- Bus dan mikro bus bukan angkutan umum: Rp150.000,00\\n- Bus dan mikro bus angkutan umum, serta mobil penumpang angkutan umum lainnya di atas 1600 cc: Rp87.000,00\\n- Truk, mobil tangki, mobil gandengan, mobil barang di atas 2400 cc, truk container dan sejenisnya: Rp160.000,00\\n\\nSource: [36/PMK.010/2008](https://www.ojk.go.id/id/regulasi/Documents/Pages/PMK-Nomor-36PMK.010-Tahun-2008-tentang-Besar-Santunan-dan-Sumbangan-Wajib-Dana-Kecelakaan-Lalu-Lintas-Jalan/menas13_1389258036.pdf#page=4)',\n",
       " 'context': '[\\n  {\\n    \"metadata\": {\\n      \"effective_date\": \"26 Februari 2008\",\\n      \"file_url\": \"https://www.ojk.go.id/id/regulasi/Documents/Pages/PMK-Nomor-36PMK.010-Tahun-2008-tentang-Besar-Santunan-dan-Sumbangan-Wajib-Dana-Kecelakaan-Lalu-Lintas-Jalan/menas13_1389258036.pdf\",\\n      \"page_number\": 2.0,\\n      \"regulation_number\": \"36/PMK.010/2008\",\\n      \"regulation_type\": \"Klasifikasi Bapepam\",\\n      \"sector\": \"IKNB\",\\n      \"subsector\": \"Asuransi\",\\n      \"title\": \"Peraturan Menteri Keuangan Nomor 36/PMK.010/2008 tentang Besar Santunan dan Sumbangan Wajib Dana Kecelakaan Lalu Lintas Jalan\",\\n      \"relevance_score\": 0.99838334\\n    },\\n    \"page_content\": \"wajib\\\\nsebagaimana dimaksud dalam Undang-Undang Nomor 34 Tahun\\\\n1964 tentang Dana Kecelakaan Lalu Lintas Jalan juncto Peraturan\\\\nPelaksanaan Dana Kecelakaan Lalu Lintas Jalan.\\\\n2) SWDKLLJ merupakan premi asuransi yang dibayarkan oleh para\\\\npengusaha/pemilik alat angkutan lalu lintas jalan kepada\\\\nperusahaan yang menyelenggarakan Dana Kecelakaan Lalu Lintas\\\\nJalan.\\\\nPasal 2\\\\n(1 Korban kecelakaan alat angkutan lalu lintas jalan atau ahli warisnya\\\\nberhak atas santunan.\\\\nBesar santunan sebagaimana dimaksud pada ayat (1) ditentukan\\\\nsebagai berikut:\"\\n  },\\n  {\\n    \"metadata\": {\\n      \"effective_date\": \"26 Februari 2008\",\\n      \"file_url\": \"https://www.ojk.go.id/id/regulasi/Documents/Pages/PMK-Nomor-36PMK.010-Tahun-2008-tentang-Besar-Santunan-dan-Sumbangan-Wajib-Dana-Kecelakaan-Lalu-Lintas-Jalan/menas13_1389258036.pdf\",\\n      \"page_number\": 4.0,\\n      \"regulation_number\": \"36/PMK.010/2008\",\\n      \"regulation_type\": \"Klasifikasi Bapepam\",\\n      \"sector\": \"IKNB\",\\n      \"subsector\": \"Asuransi\",\\n      \"title\": \"Peraturan Menteri Keuangan Nomor 36/PMK.010/2008 tentang Besar Santunan dan Sumbangan Wajib Dana Kecelakaan Lalu Lintas Jalan\",\\n      \"relevance_score\": 0.99801224\\n    },\\n    \"page_content\": \"2) Dalam hal pembayaran SWDKLLJ dilakukan setelah melewati batas\\\\n seharusnya dibayar dengan ketentuan denda yang dikenakan paling\\\\nbesar Rp100.000,00 (seratus ribu rupiah).\\\\n(3) Dalam hal ketentuan mengenai batas waktu sebagaimana dimaksud\\\\ngeografis daerah setempat, Direksi perusahaan yang ditunjuk untuk\\\\nmenyelenggarakan Dana Kecelakaan Lalu Lintas Jalan diberi\\\\nbesarnya denda SWDKLLJ, dengan ketentuan batas waktu dimaksud\\\\npaling lama 15 (lima belas) hari kerja.\"\\n  },\\n  {\\n    \"metadata\": {\\n      \"effective_date\": \"26 Februari 2008\",\\n      \"file_url\": \"https://www.ojk.go.id/id/regulasi/Documents/Pages/PMK-Nomor-36PMK.010-Tahun-2008-tentang-Besar-Santunan-dan-Sumbangan-Wajib-Dana-Kecelakaan-Lalu-Lintas-Jalan/menas13_1389258036.pdf\",\\n      \"page_number\": 4.0,\\n      \"regulation_number\": \"36/PMK.010/2008\",\\n      \"regulation_type\": \"Klasifikasi Bapepam\",\\n      \"sector\": \"IKNB\",\\n      \"subsector\": \"Asuransi\",\\n      \"title\": \"Peraturan Menteri Keuangan Nomor 36/PMK.010/2008 tentang Besar Santunan dan Sumbangan Wajib Dana Kecelakaan Lalu Lintas Jalan\",\\n      \"relevance_score\": 0.99256825\\n    },\\n    \"page_content\": \"MENTERI KEUANGAN\\\\nREPUBLIK INDONESIA\\\\n-4-\\\\n Mobil penumpang angkutan umum sampai dengan 1600 cc\\\\ng. Bus dan mikro bus bukan angkutan umum sebesar Rp150.000,00\\\\n(seratus lima puluh ribu rupiah).\\\\nh. Bus dan.mikro bus angkutan umum, serta mobil penumpang\\\\nangkutan umum lainnya di atas 1600 cc sebesar Rp87.000,00\\\\n(delapan puluh tujuh ribu rupiah).\\\\nTruk, mobil tangki, mobil gandengan, mobil barang di atas 2400\\\\ncc, truk container dan sejenisnya sebesar Rp 160.000,00 (seratus\\\\n enam puluh ribu rupiah).\\\\nPasal 5\\\\nSetiap jenis kendaraan sebagaimana dimaksud dalam Pasal 4, dikenakan\\\\nbiaya\\\\n penggantian pembuatan\\\\n Kartu Dana/Sertifikat sebesar\\\\nRp 3.000,00 (tiga ribu rupiah).\\\\nPasal 6\\\\nTanda Nomor Kendaraan Bermotor sesuai dengan ketentuan\\\\nperaturan perundang-undangan yang berlaku.\\\\n2) Dalam hal pembayaran SWDKLLJ dilakukan setelah melewati batas\\\\n seharusnya dibayar dengan ketentuan denda yang dikenakan paling\\\\nbesar Rp100.000,00 (seratus ribu rupiah).\"\\n  },\\n  {\\n    \"metadata\": {\\n      \"effective_date\": \"26 Februari 2008\",\\n      \"file_url\": \"https://www.ojk.go.id/id/regulasi/Documents/Pages/PMK-Nomor-36PMK.010-Tahun-2008-tentang-Besar-Santunan-dan-Sumbangan-Wajib-Dana-Kecelakaan-Lalu-Lintas-Jalan/menas13_1389258036.pdf\",\\n      \"page_number\": 3.0,\\n      \"regulation_number\": \"36/PMK.010/2008\",\\n      \"regulation_type\": \"Klasifikasi Bapepam\",\\n      \"sector\": \"IKNB\",\\n      \"subsector\": \"Asuransi\",\\n      \"title\": \"Peraturan Menteri Keuangan Nomor 36/PMK.010/2008 tentang Besar Santunan dan Sumbangan Wajib Dana Kecelakaan Lalu Lintas Jalan\",\\n      \"relevance_score\": 0.98963183\\n    },\\n    \"page_content\": \"MENTERI KEUANGAN\\\\nREPUBLIK INDONESIA\\\\nmemperoleh santunan sebesar Rp 25.000.000,00 (dua puluh lima\\\\njuta rupiah).\\\\nb. Korban yang mengalami cacat tetap berhak memperoleh\\\\nsantunan yang besarnya dihitung berdasarkan angka prosentase\\\\n Korban yang memerlukan perawatan dan pengobatan berhak\\\\nrupiah).\\\\nPasal 3\\\\nDalam hal korban meninggal dunia akibat kecelakaan alat angkutan\\\\nlalu lintas jalan tidak mempunyai ahli waris, kepada pihak yang\\\\nmenyelenggarakan\\\\ndiberikan\\\\npenggantian\\\\nbiaya\\\\nPasal 4\\\\n(2) Besar SWDKLLJ sebagaimana dimaksud pada ayat (1) ditentukan\\\\nsebagai berikut:\\\\nSepeda motor di bawah 50 cc, mobil ambulance, mobil jenazah\\\\na.\\\\ndan mobil pemadam kebakaran dibebaskan dari kewajiban\\\\nb. Traktor, buidozer, forklift, mobil derek, excavator, crane dan\\\\nsejenisnya sebesar Rp 20.000,00 (dua puluh ribu rupiah):\\\\n Sepeda motor, sepeda kumbang dan scooter di atas 50 cc sampai\\\\n250 cc dan kendaraan bermotor roda tiga sebesar Rp 32.000,00\\\\n(tiga puluh dua ribu rupiah).\\\\nd.\"\\n  },\\n  {\\n    \"metadata\": {\\n      \"effective_date\": \"31 Desember 2009\",\\n      \"file_url\": \"https://www.ojk.go.id/id/regulasi/Documents/Pages/Peraturan-BAPEPAM-tentang-Referensi-Premi-Murni-serta-Unsur-Biaya-Administrasi-dan-Biaya-Minimum-Lainnya-2009/BAPEPAM%20PER-07BL2009.pdf\",\\n      \"page_number\": 4.0,\\n      \"regulation_number\": \"PER- 07/BL/2009\",\\n      \"regulation_type\": \"Peraturan Bapepam\",\\n      \"sector\": \"IKNB\",\\n      \"subsector\": \"Asuransi\",\\n      \"title\": \"Peraturan BAPEPAM tentang Referensi Premi Murni serta Unsur Biaya Administrasi dan Biaya Minimum Lainnya Pada Lini Usaha Asuransi Kendaraan Bermotor Tahun 2010\",\\n      \"relevance_score\": 0.025083141\\n    },\\n    \"page_content\": \"berumur sampai dengan 3 (tiga) tahun. Untuk kendaraan berumur lebih dari    \\\\n3 (tiga) tahun, harus dikenakan premi tambahan yang wajar. \\\\n2. Untuk perluasan Strike, Riot, Civil Commotion (SRCC), Flood, Earthquake, dan \\\\nThird Party Liability (TPL) harus dikenakan premi tambahan. \\\\n3. Unsur premi murni di atas merupakan persentase dari uang pertanggungan. \\\\n4. Deductible minimum sebesar Rp200.000,00 (dua ratus ribu rupiah). \\\\n5. Premi murni paling sedikit 50% (lima puluh per seratus) dari premi bruto.  \\\\nII. PREMI YANG DIBEBANKAN PADA TERTANGGUNG \\\\nPremi yang dibebankan pada tertanggung adalah premi murni ditambah biaya \\\\nadministrasi dan umum, biaya akuisisi, dan keuntungan perusahaan.\"\\n  },\\n  {\\n    \"metadata\": {\\n      \"effective_date\": \"26 Februari 2008\",\\n      \"file_url\": \"https://www.ojk.go.id/id/regulasi/Documents/Pages/PMK-Nomor-36PMK.010-Tahun-2008-tentang-Besar-Santunan-dan-Sumbangan-Wajib-Dana-Kecelakaan-Lalu-Lintas-Jalan/menas13_1389258036.pdf\",\\n      \"page_number\": 3.0,\\n      \"regulation_number\": \"36/PMK.010/2008\",\\n      \"regulation_type\": \"Klasifikasi Bapepam\",\\n      \"sector\": \"IKNB\",\\n      \"subsector\": \"Asuransi\",\\n      \"title\": \"Peraturan Menteri Keuangan Nomor 36/PMK.010/2008 tentang Besar Santunan dan Sumbangan Wajib Dana Kecelakaan Lalu Lintas Jalan\",\\n      \"relevance_score\": 0.00023050672\\n    },\\n    \"page_content\": \"Sepeda motor, sepeda kumbang dan scooter di atas 50 cc sampai\\\\n250 cc dan kendaraan bermotor roda tiga sebesar Rp 32.000,00\\\\n(tiga puluh dua ribu rupiah).\\\\nd.\\\\nPick up/mobil barang sampai dengan 2400 cc, sedan, jeep dan\\\\n mobil penumpang bukan angkutan umum sebesar Rp140.000,00\\\\n(seratus empat puluh ribu rupiah).\"\\n  }\\n]'}"
      ]
     },
     "execution_count": 125,
     "metadata": {},
     "output_type": "execute_result"
    }
   ],
   "source": [
    "response"
   ]
  },
  {
   "cell_type": "code",
   "execution_count": 126,
   "metadata": {},
   "outputs": [
    {
     "name": "stdout",
     "output_type": "stream",
     "text": [
      "Human: Berapa SWDKLLJ dari sedan?\n",
      "AI: SWDKLLJ yang harus dibayarkan untuk sedan adalah Rp87.000,00 (delapan puluh tujuh ribu rupiah).\n",
      "\n",
      "Source: [36/PMK.010/2008](https://www.ojk.go.id/id/regulasi/Documents/Pages/PMK-Nomor-36PMK.010-Tahun-2008-tentang-Besar-Santunan-dan-Sumbangan-Wajib-Dana-Kecelakaan-Lalu-Lintas-Jalan/menas13_1389258036.pdf#page=4)\n",
      "Human: Kalau mobil?\n",
      "AI: SWDKLLJ yang harus dibayarkan untuk mobil adalah sebagai berikut:\n",
      "\n",
      "- Mobil penumpang angkutan umum sampai dengan 1600 cc: Rp150.000,00\n",
      "- Bus dan mikro bus bukan angkutan umum: Rp150.000,00\n",
      "- Bus dan mikro bus angkutan umum, serta mobil penumpang angkutan umum lainnya di atas 1600 cc: Rp87.000,00\n",
      "- Truk, mobil tangki, mobil gandengan, mobil barang di atas 2400 cc, truk container dan sejenisnya: Rp160.000,00\n",
      "\n",
      "Source: [36/PMK.010/2008](https://www.ojk.go.id/id/regulasi/Documents/Pages/PMK-Nomor-36PMK.010-Tahun-2008-tentang-Besar-Santunan-dan-Sumbangan-Wajib-Dana-Kecelakaan-Lalu-Lintas-Jalan/menas13_1389258036.pdf#page=4)\n"
     ]
    }
   ],
   "source": [
    "print(chat_store.get_session_history(user_id=\"xmriz\", conversation_id=\"conv1\"))"
   ]
  },
  {
   "cell_type": "markdown",
   "metadata": {},
   "source": [
    "#### **Streaming**"
   ]
  },
  {
   "cell_type": "code",
   "execution_count": 14,
   "metadata": {},
   "outputs": [
    {
     "ename": "TypeError",
     "evalue": "string indices must be integers",
     "output_type": "error",
     "traceback": [
      "\u001b[1;31m---------------------------------------------------------------------------\u001b[0m",
      "\u001b[1;31mTypeError\u001b[0m                                 Traceback (most recent call last)",
      "Cell \u001b[1;32mIn[14], line 3\u001b[0m\n\u001b[0;32m      1\u001b[0m \u001b[38;5;28;01mfrom\u001b[39;00m \u001b[38;5;21;01mutils\u001b[39;00m\u001b[38;5;21;01m.\u001b[39;00m\u001b[38;5;21;01mrag_chain_with_chat_history\u001b[39;00m \u001b[38;5;28;01mimport\u001b[39;00m get_response\n\u001b[1;32m----> 3\u001b[0m response \u001b[38;5;241m=\u001b[39m \u001b[43mget_response\u001b[49m\u001b[43m(\u001b[49m\n\u001b[0;32m      4\u001b[0m \u001b[43m    \u001b[49m\u001b[43mchain\u001b[49m\u001b[38;5;241;43m=\u001b[39;49m\u001b[43mchain\u001b[49m\u001b[43m,\u001b[49m\n\u001b[0;32m      5\u001b[0m \u001b[43m    \u001b[49m\u001b[43mquestion\u001b[49m\u001b[38;5;241;43m=\u001b[39;49m\u001b[43mquery_str\u001b[49m\u001b[43m,\u001b[49m\n\u001b[0;32m      6\u001b[0m \u001b[43m    \u001b[49m\u001b[43muser_id\u001b[49m\u001b[38;5;241;43m=\u001b[39;49m\u001b[38;5;124;43m\"\u001b[39;49m\u001b[38;5;124;43mxmriz\u001b[39;49m\u001b[38;5;124;43m\"\u001b[39;49m\u001b[43m,\u001b[49m\n\u001b[0;32m      7\u001b[0m \u001b[43m    \u001b[49m\u001b[43mconversation_id\u001b[49m\u001b[38;5;241;43m=\u001b[39;49m\u001b[38;5;124;43m\"\u001b[39;49m\u001b[38;5;124;43mconv123\u001b[39;49m\u001b[38;5;124;43m\"\u001b[39;49m\u001b[43m,\u001b[49m\n\u001b[0;32m      8\u001b[0m \u001b[43m)\u001b[49m\n\u001b[0;32m     10\u001b[0m response\n",
      "File \u001b[1;32md:\\Coding\\git-repo\\github\\ocbc_chatbot\\chatbot-ojk-lc\\utils\\rag_chain_with_chat_history.py:107\u001b[0m, in \u001b[0;36mget_response\u001b[1;34m(question, chain, user_id, conversation_id)\u001b[0m\n\u001b[0;32m    106\u001b[0m \u001b[38;5;28;01mdef\u001b[39;00m \u001b[38;5;21mget_response\u001b[39m(question: \u001b[38;5;28mstr\u001b[39m, chain, user_id: \u001b[38;5;28mstr\u001b[39m, conversation_id: \u001b[38;5;28mstr\u001b[39m):\n\u001b[1;32m--> 107\u001b[0m     response \u001b[38;5;241m=\u001b[39m \u001b[43mchain\u001b[49m\u001b[38;5;241;43m.\u001b[39;49m\u001b[43minvoke\u001b[49m\u001b[43m(\u001b[49m\n\u001b[0;32m    108\u001b[0m \u001b[43m        \u001b[49m\u001b[43m{\u001b[49m\u001b[38;5;124;43m\"\u001b[39;49m\u001b[38;5;124;43mquestion\u001b[39;49m\u001b[38;5;124;43m\"\u001b[39;49m\u001b[43m:\u001b[49m\u001b[43m \u001b[49m\u001b[43mquestion\u001b[49m\u001b[43m}\u001b[49m\u001b[43m,\u001b[49m\n\u001b[0;32m    109\u001b[0m \u001b[43m        \u001b[49m\u001b[43mconfig\u001b[49m\u001b[38;5;241;43m=\u001b[39;49m\u001b[43m{\u001b[49m\n\u001b[0;32m    110\u001b[0m \u001b[43m            \u001b[49m\u001b[38;5;124;43m\"\u001b[39;49m\u001b[38;5;124;43mconfigurable\u001b[39;49m\u001b[38;5;124;43m\"\u001b[39;49m\u001b[43m:\u001b[49m\u001b[43m \u001b[49m\u001b[43m{\u001b[49m\u001b[38;5;124;43m\"\u001b[39;49m\u001b[38;5;124;43muser_id\u001b[39;49m\u001b[38;5;124;43m\"\u001b[39;49m\u001b[43m:\u001b[49m\u001b[43m \u001b[49m\u001b[43muser_id\u001b[49m\u001b[43m,\u001b[49m\u001b[43m \u001b[49m\u001b[38;5;124;43m\"\u001b[39;49m\u001b[38;5;124;43mconversation_id\u001b[39;49m\u001b[38;5;124;43m\"\u001b[39;49m\u001b[43m:\u001b[49m\u001b[43m \u001b[49m\u001b[43mconversation_id\u001b[49m\u001b[43m}\u001b[49m\n\u001b[0;32m    111\u001b[0m \u001b[43m        \u001b[49m\u001b[43m}\u001b[49m\u001b[43m,\u001b[49m\n\u001b[0;32m    112\u001b[0m \u001b[43m    \u001b[49m\u001b[43m)\u001b[49m\n\u001b[0;32m    113\u001b[0m     \u001b[38;5;28;01mreturn\u001b[39;00m response\n",
      "File \u001b[1;32mc:\\Users\\acer\\miniconda3\\envs\\chatbot-lc\\lib\\site-packages\\langchain_core\\runnables\\base.py:4580\u001b[0m, in \u001b[0;36mRunnableBindingBase.invoke\u001b[1;34m(self, input, config, **kwargs)\u001b[0m\n\u001b[0;32m   4574\u001b[0m \u001b[38;5;28;01mdef\u001b[39;00m \u001b[38;5;21minvoke\u001b[39m(\n\u001b[0;32m   4575\u001b[0m     \u001b[38;5;28mself\u001b[39m,\n\u001b[0;32m   4576\u001b[0m     \u001b[38;5;28minput\u001b[39m: Input,\n\u001b[0;32m   4577\u001b[0m     config: Optional[RunnableConfig] \u001b[38;5;241m=\u001b[39m \u001b[38;5;28;01mNone\u001b[39;00m,\n\u001b[0;32m   4578\u001b[0m     \u001b[38;5;241m*\u001b[39m\u001b[38;5;241m*\u001b[39mkwargs: Optional[Any],\n\u001b[0;32m   4579\u001b[0m ) \u001b[38;5;241m-\u001b[39m\u001b[38;5;241m>\u001b[39m Output:\n\u001b[1;32m-> 4580\u001b[0m     \u001b[38;5;28;01mreturn\u001b[39;00m \u001b[38;5;28mself\u001b[39m\u001b[38;5;241m.\u001b[39mbound\u001b[38;5;241m.\u001b[39minvoke(\n\u001b[0;32m   4581\u001b[0m         \u001b[38;5;28minput\u001b[39m,\n\u001b[0;32m   4582\u001b[0m         \u001b[38;5;28mself\u001b[39m\u001b[38;5;241m.\u001b[39m_merge_configs(config),\n\u001b[0;32m   4583\u001b[0m         \u001b[38;5;241m*\u001b[39m\u001b[38;5;241m*\u001b[39m{\u001b[38;5;241m*\u001b[39m\u001b[38;5;241m*\u001b[39m\u001b[38;5;28mself\u001b[39m\u001b[38;5;241m.\u001b[39mkwargs, \u001b[38;5;241m*\u001b[39m\u001b[38;5;241m*\u001b[39mkwargs},\n\u001b[0;32m   4584\u001b[0m     )\n",
      "File \u001b[1;32mc:\\Users\\acer\\miniconda3\\envs\\chatbot-lc\\lib\\site-packages\\langchain_core\\runnables\\base.py:4580\u001b[0m, in \u001b[0;36mRunnableBindingBase.invoke\u001b[1;34m(self, input, config, **kwargs)\u001b[0m\n\u001b[0;32m   4574\u001b[0m \u001b[38;5;28;01mdef\u001b[39;00m \u001b[38;5;21minvoke\u001b[39m(\n\u001b[0;32m   4575\u001b[0m     \u001b[38;5;28mself\u001b[39m,\n\u001b[0;32m   4576\u001b[0m     \u001b[38;5;28minput\u001b[39m: Input,\n\u001b[0;32m   4577\u001b[0m     config: Optional[RunnableConfig] \u001b[38;5;241m=\u001b[39m \u001b[38;5;28;01mNone\u001b[39;00m,\n\u001b[0;32m   4578\u001b[0m     \u001b[38;5;241m*\u001b[39m\u001b[38;5;241m*\u001b[39mkwargs: Optional[Any],\n\u001b[0;32m   4579\u001b[0m ) \u001b[38;5;241m-\u001b[39m\u001b[38;5;241m>\u001b[39m Output:\n\u001b[1;32m-> 4580\u001b[0m     \u001b[38;5;28;01mreturn\u001b[39;00m \u001b[38;5;28mself\u001b[39m\u001b[38;5;241m.\u001b[39mbound\u001b[38;5;241m.\u001b[39minvoke(\n\u001b[0;32m   4581\u001b[0m         \u001b[38;5;28minput\u001b[39m,\n\u001b[0;32m   4582\u001b[0m         \u001b[38;5;28mself\u001b[39m\u001b[38;5;241m.\u001b[39m_merge_configs(config),\n\u001b[0;32m   4583\u001b[0m         \u001b[38;5;241m*\u001b[39m\u001b[38;5;241m*\u001b[39m{\u001b[38;5;241m*\u001b[39m\u001b[38;5;241m*\u001b[39m\u001b[38;5;28mself\u001b[39m\u001b[38;5;241m.\u001b[39mkwargs, \u001b[38;5;241m*\u001b[39m\u001b[38;5;241m*\u001b[39mkwargs},\n\u001b[0;32m   4584\u001b[0m     )\n",
      "File \u001b[1;32mc:\\Users\\acer\\miniconda3\\envs\\chatbot-lc\\lib\\site-packages\\langchain_core\\runnables\\base.py:2499\u001b[0m, in \u001b[0;36mRunnableSequence.invoke\u001b[1;34m(self, input, config, **kwargs)\u001b[0m\n\u001b[0;32m   2497\u001b[0m             \u001b[38;5;28minput\u001b[39m \u001b[38;5;241m=\u001b[39m step\u001b[38;5;241m.\u001b[39minvoke(\u001b[38;5;28minput\u001b[39m, config, \u001b[38;5;241m*\u001b[39m\u001b[38;5;241m*\u001b[39mkwargs)\n\u001b[0;32m   2498\u001b[0m         \u001b[38;5;28;01melse\u001b[39;00m:\n\u001b[1;32m-> 2499\u001b[0m             \u001b[38;5;28minput\u001b[39m \u001b[38;5;241m=\u001b[39m \u001b[43mstep\u001b[49m\u001b[38;5;241;43m.\u001b[39;49m\u001b[43minvoke\u001b[49m\u001b[43m(\u001b[49m\u001b[38;5;28;43minput\u001b[39;49m\u001b[43m,\u001b[49m\u001b[43m \u001b[49m\u001b[43mconfig\u001b[49m\u001b[43m)\u001b[49m\n\u001b[0;32m   2500\u001b[0m \u001b[38;5;66;03m# finish the root run\u001b[39;00m\n\u001b[0;32m   2501\u001b[0m \u001b[38;5;28;01mexcept\u001b[39;00m \u001b[38;5;167;01mBaseException\u001b[39;00m \u001b[38;5;28;01mas\u001b[39;00m e:\n",
      "File \u001b[1;32mc:\\Users\\acer\\miniconda3\\envs\\chatbot-lc\\lib\\site-packages\\langchain_core\\runnables\\branch.py:212\u001b[0m, in \u001b[0;36mRunnableBranch.invoke\u001b[1;34m(self, input, config, **kwargs)\u001b[0m\n\u001b[0;32m    210\u001b[0m             \u001b[38;5;28;01mbreak\u001b[39;00m\n\u001b[0;32m    211\u001b[0m     \u001b[38;5;28;01melse\u001b[39;00m:\n\u001b[1;32m--> 212\u001b[0m         output \u001b[38;5;241m=\u001b[39m \u001b[38;5;28mself\u001b[39m\u001b[38;5;241m.\u001b[39mdefault\u001b[38;5;241m.\u001b[39minvoke(\n\u001b[0;32m    213\u001b[0m             \u001b[38;5;28minput\u001b[39m,\n\u001b[0;32m    214\u001b[0m             config\u001b[38;5;241m=\u001b[39mpatch_config(\n\u001b[0;32m    215\u001b[0m                 config, callbacks\u001b[38;5;241m=\u001b[39mrun_manager\u001b[38;5;241m.\u001b[39mget_child(tag\u001b[38;5;241m=\u001b[39m\u001b[38;5;124m\"\u001b[39m\u001b[38;5;124mbranch:default\u001b[39m\u001b[38;5;124m\"\u001b[39m)\n\u001b[0;32m    216\u001b[0m             ),\n\u001b[0;32m    217\u001b[0m             \u001b[38;5;241m*\u001b[39m\u001b[38;5;241m*\u001b[39mkwargs,\n\u001b[0;32m    218\u001b[0m         )\n\u001b[0;32m    219\u001b[0m \u001b[38;5;28;01mexcept\u001b[39;00m \u001b[38;5;167;01mBaseException\u001b[39;00m \u001b[38;5;28;01mas\u001b[39;00m e:\n\u001b[0;32m    220\u001b[0m     run_manager\u001b[38;5;241m.\u001b[39mon_chain_error(e)\n",
      "File \u001b[1;32mc:\\Users\\acer\\miniconda3\\envs\\chatbot-lc\\lib\\site-packages\\langchain_core\\runnables\\base.py:4580\u001b[0m, in \u001b[0;36mRunnableBindingBase.invoke\u001b[1;34m(self, input, config, **kwargs)\u001b[0m\n\u001b[0;32m   4574\u001b[0m \u001b[38;5;28;01mdef\u001b[39;00m \u001b[38;5;21minvoke\u001b[39m(\n\u001b[0;32m   4575\u001b[0m     \u001b[38;5;28mself\u001b[39m,\n\u001b[0;32m   4576\u001b[0m     \u001b[38;5;28minput\u001b[39m: Input,\n\u001b[0;32m   4577\u001b[0m     config: Optional[RunnableConfig] \u001b[38;5;241m=\u001b[39m \u001b[38;5;28;01mNone\u001b[39;00m,\n\u001b[0;32m   4578\u001b[0m     \u001b[38;5;241m*\u001b[39m\u001b[38;5;241m*\u001b[39mkwargs: Optional[Any],\n\u001b[0;32m   4579\u001b[0m ) \u001b[38;5;241m-\u001b[39m\u001b[38;5;241m>\u001b[39m Output:\n\u001b[1;32m-> 4580\u001b[0m     \u001b[38;5;28;01mreturn\u001b[39;00m \u001b[38;5;28mself\u001b[39m\u001b[38;5;241m.\u001b[39mbound\u001b[38;5;241m.\u001b[39minvoke(\n\u001b[0;32m   4581\u001b[0m         \u001b[38;5;28minput\u001b[39m,\n\u001b[0;32m   4582\u001b[0m         \u001b[38;5;28mself\u001b[39m\u001b[38;5;241m.\u001b[39m_merge_configs(config),\n\u001b[0;32m   4583\u001b[0m         \u001b[38;5;241m*\u001b[39m\u001b[38;5;241m*\u001b[39m{\u001b[38;5;241m*\u001b[39m\u001b[38;5;241m*\u001b[39m\u001b[38;5;28mself\u001b[39m\u001b[38;5;241m.\u001b[39mkwargs, \u001b[38;5;241m*\u001b[39m\u001b[38;5;241m*\u001b[39mkwargs},\n\u001b[0;32m   4584\u001b[0m     )\n",
      "File \u001b[1;32mc:\\Users\\acer\\miniconda3\\envs\\chatbot-lc\\lib\\site-packages\\langchain_core\\runnables\\base.py:2499\u001b[0m, in \u001b[0;36mRunnableSequence.invoke\u001b[1;34m(self, input, config, **kwargs)\u001b[0m\n\u001b[0;32m   2497\u001b[0m             \u001b[38;5;28minput\u001b[39m \u001b[38;5;241m=\u001b[39m step\u001b[38;5;241m.\u001b[39minvoke(\u001b[38;5;28minput\u001b[39m, config, \u001b[38;5;241m*\u001b[39m\u001b[38;5;241m*\u001b[39mkwargs)\n\u001b[0;32m   2498\u001b[0m         \u001b[38;5;28;01melse\u001b[39;00m:\n\u001b[1;32m-> 2499\u001b[0m             \u001b[38;5;28minput\u001b[39m \u001b[38;5;241m=\u001b[39m \u001b[43mstep\u001b[49m\u001b[38;5;241;43m.\u001b[39;49m\u001b[43minvoke\u001b[49m\u001b[43m(\u001b[49m\u001b[38;5;28;43minput\u001b[39;49m\u001b[43m,\u001b[49m\u001b[43m \u001b[49m\u001b[43mconfig\u001b[49m\u001b[43m)\u001b[49m\n\u001b[0;32m   2500\u001b[0m \u001b[38;5;66;03m# finish the root run\u001b[39;00m\n\u001b[0;32m   2501\u001b[0m \u001b[38;5;28;01mexcept\u001b[39;00m \u001b[38;5;167;01mBaseException\u001b[39;00m \u001b[38;5;28;01mas\u001b[39;00m e:\n",
      "File \u001b[1;32mc:\\Users\\acer\\miniconda3\\envs\\chatbot-lc\\lib\\site-packages\\langchain_core\\runnables\\base.py:3144\u001b[0m, in \u001b[0;36mRunnableParallel.invoke\u001b[1;34m(self, input, config)\u001b[0m\n\u001b[0;32m   3131\u001b[0m     \u001b[38;5;28;01mwith\u001b[39;00m get_executor_for_config(config) \u001b[38;5;28;01mas\u001b[39;00m executor:\n\u001b[0;32m   3132\u001b[0m         futures \u001b[38;5;241m=\u001b[39m [\n\u001b[0;32m   3133\u001b[0m             executor\u001b[38;5;241m.\u001b[39msubmit(\n\u001b[0;32m   3134\u001b[0m                 step\u001b[38;5;241m.\u001b[39minvoke,\n\u001b[1;32m   (...)\u001b[0m\n\u001b[0;32m   3142\u001b[0m             \u001b[38;5;28;01mfor\u001b[39;00m key, step \u001b[38;5;129;01min\u001b[39;00m steps\u001b[38;5;241m.\u001b[39mitems()\n\u001b[0;32m   3143\u001b[0m         ]\n\u001b[1;32m-> 3144\u001b[0m         output \u001b[38;5;241m=\u001b[39m {key: future\u001b[38;5;241m.\u001b[39mresult() \u001b[38;5;28;01mfor\u001b[39;00m key, future \u001b[38;5;129;01min\u001b[39;00m \u001b[38;5;28mzip\u001b[39m(steps, futures)}\n\u001b[0;32m   3145\u001b[0m \u001b[38;5;66;03m# finish the root run\u001b[39;00m\n\u001b[0;32m   3146\u001b[0m \u001b[38;5;28;01mexcept\u001b[39;00m \u001b[38;5;167;01mBaseException\u001b[39;00m \u001b[38;5;28;01mas\u001b[39;00m e:\n",
      "File \u001b[1;32mc:\\Users\\acer\\miniconda3\\envs\\chatbot-lc\\lib\\site-packages\\langchain_core\\runnables\\base.py:3144\u001b[0m, in \u001b[0;36m<dictcomp>\u001b[1;34m(.0)\u001b[0m\n\u001b[0;32m   3131\u001b[0m     \u001b[38;5;28;01mwith\u001b[39;00m get_executor_for_config(config) \u001b[38;5;28;01mas\u001b[39;00m executor:\n\u001b[0;32m   3132\u001b[0m         futures \u001b[38;5;241m=\u001b[39m [\n\u001b[0;32m   3133\u001b[0m             executor\u001b[38;5;241m.\u001b[39msubmit(\n\u001b[0;32m   3134\u001b[0m                 step\u001b[38;5;241m.\u001b[39minvoke,\n\u001b[1;32m   (...)\u001b[0m\n\u001b[0;32m   3142\u001b[0m             \u001b[38;5;28;01mfor\u001b[39;00m key, step \u001b[38;5;129;01min\u001b[39;00m steps\u001b[38;5;241m.\u001b[39mitems()\n\u001b[0;32m   3143\u001b[0m         ]\n\u001b[1;32m-> 3144\u001b[0m         output \u001b[38;5;241m=\u001b[39m {key: \u001b[43mfuture\u001b[49m\u001b[38;5;241;43m.\u001b[39;49m\u001b[43mresult\u001b[49m\u001b[43m(\u001b[49m\u001b[43m)\u001b[49m \u001b[38;5;28;01mfor\u001b[39;00m key, future \u001b[38;5;129;01min\u001b[39;00m \u001b[38;5;28mzip\u001b[39m(steps, futures)}\n\u001b[0;32m   3145\u001b[0m \u001b[38;5;66;03m# finish the root run\u001b[39;00m\n\u001b[0;32m   3146\u001b[0m \u001b[38;5;28;01mexcept\u001b[39;00m \u001b[38;5;167;01mBaseException\u001b[39;00m \u001b[38;5;28;01mas\u001b[39;00m e:\n",
      "File \u001b[1;32mc:\\Users\\acer\\miniconda3\\envs\\chatbot-lc\\lib\\concurrent\\futures\\_base.py:446\u001b[0m, in \u001b[0;36mFuture.result\u001b[1;34m(self, timeout)\u001b[0m\n\u001b[0;32m    444\u001b[0m     \u001b[38;5;28;01mraise\u001b[39;00m CancelledError()\n\u001b[0;32m    445\u001b[0m \u001b[38;5;28;01melif\u001b[39;00m \u001b[38;5;28mself\u001b[39m\u001b[38;5;241m.\u001b[39m_state \u001b[38;5;241m==\u001b[39m FINISHED:\n\u001b[1;32m--> 446\u001b[0m     \u001b[38;5;28;01mreturn\u001b[39;00m \u001b[38;5;28;43mself\u001b[39;49m\u001b[38;5;241;43m.\u001b[39;49m\u001b[43m__get_result\u001b[49m\u001b[43m(\u001b[49m\u001b[43m)\u001b[49m\n\u001b[0;32m    447\u001b[0m \u001b[38;5;28;01melse\u001b[39;00m:\n\u001b[0;32m    448\u001b[0m     \u001b[38;5;28;01mraise\u001b[39;00m \u001b[38;5;167;01mTimeoutError\u001b[39;00m()\n",
      "File \u001b[1;32mc:\\Users\\acer\\miniconda3\\envs\\chatbot-lc\\lib\\concurrent\\futures\\_base.py:391\u001b[0m, in \u001b[0;36mFuture.__get_result\u001b[1;34m(self)\u001b[0m\n\u001b[0;32m    389\u001b[0m \u001b[38;5;28;01mif\u001b[39;00m \u001b[38;5;28mself\u001b[39m\u001b[38;5;241m.\u001b[39m_exception:\n\u001b[0;32m    390\u001b[0m     \u001b[38;5;28;01mtry\u001b[39;00m:\n\u001b[1;32m--> 391\u001b[0m         \u001b[38;5;28;01mraise\u001b[39;00m \u001b[38;5;28mself\u001b[39m\u001b[38;5;241m.\u001b[39m_exception\n\u001b[0;32m    392\u001b[0m     \u001b[38;5;28;01mfinally\u001b[39;00m:\n\u001b[0;32m    393\u001b[0m         \u001b[38;5;66;03m# Break a reference cycle with the exception in self._exception\u001b[39;00m\n\u001b[0;32m    394\u001b[0m         \u001b[38;5;28mself\u001b[39m \u001b[38;5;241m=\u001b[39m \u001b[38;5;28;01mNone\u001b[39;00m\n",
      "File \u001b[1;32mc:\\Users\\acer\\miniconda3\\envs\\chatbot-lc\\lib\\concurrent\\futures\\thread.py:58\u001b[0m, in \u001b[0;36m_WorkItem.run\u001b[1;34m(self)\u001b[0m\n\u001b[0;32m     55\u001b[0m     \u001b[38;5;28;01mreturn\u001b[39;00m\n\u001b[0;32m     57\u001b[0m \u001b[38;5;28;01mtry\u001b[39;00m:\n\u001b[1;32m---> 58\u001b[0m     result \u001b[38;5;241m=\u001b[39m \u001b[38;5;28mself\u001b[39m\u001b[38;5;241m.\u001b[39mfn(\u001b[38;5;241m*\u001b[39m\u001b[38;5;28mself\u001b[39m\u001b[38;5;241m.\u001b[39margs, \u001b[38;5;241m*\u001b[39m\u001b[38;5;241m*\u001b[39m\u001b[38;5;28mself\u001b[39m\u001b[38;5;241m.\u001b[39mkwargs)\n\u001b[0;32m     59\u001b[0m \u001b[38;5;28;01mexcept\u001b[39;00m \u001b[38;5;167;01mBaseException\u001b[39;00m \u001b[38;5;28;01mas\u001b[39;00m exc:\n\u001b[0;32m     60\u001b[0m     \u001b[38;5;28mself\u001b[39m\u001b[38;5;241m.\u001b[39mfuture\u001b[38;5;241m.\u001b[39mset_exception(exc)\n",
      "File \u001b[1;32mc:\\Users\\acer\\miniconda3\\envs\\chatbot-lc\\lib\\site-packages\\langchain_core\\runnables\\base.py:2497\u001b[0m, in \u001b[0;36mRunnableSequence.invoke\u001b[1;34m(self, input, config, **kwargs)\u001b[0m\n\u001b[0;32m   2493\u001b[0m config \u001b[38;5;241m=\u001b[39m patch_config(\n\u001b[0;32m   2494\u001b[0m     config, callbacks\u001b[38;5;241m=\u001b[39mrun_manager\u001b[38;5;241m.\u001b[39mget_child(\u001b[38;5;124mf\u001b[39m\u001b[38;5;124m\"\u001b[39m\u001b[38;5;124mseq:step:\u001b[39m\u001b[38;5;132;01m{\u001b[39;00mi\u001b[38;5;241m+\u001b[39m\u001b[38;5;241m1\u001b[39m\u001b[38;5;132;01m}\u001b[39;00m\u001b[38;5;124m\"\u001b[39m)\n\u001b[0;32m   2495\u001b[0m )\n\u001b[0;32m   2496\u001b[0m \u001b[38;5;28;01mif\u001b[39;00m i \u001b[38;5;241m==\u001b[39m \u001b[38;5;241m0\u001b[39m:\n\u001b[1;32m-> 2497\u001b[0m     \u001b[38;5;28minput\u001b[39m \u001b[38;5;241m=\u001b[39m step\u001b[38;5;241m.\u001b[39minvoke(\u001b[38;5;28minput\u001b[39m, config, \u001b[38;5;241m*\u001b[39m\u001b[38;5;241m*\u001b[39mkwargs)\n\u001b[0;32m   2498\u001b[0m \u001b[38;5;28;01melse\u001b[39;00m:\n\u001b[0;32m   2499\u001b[0m     \u001b[38;5;28minput\u001b[39m \u001b[38;5;241m=\u001b[39m step\u001b[38;5;241m.\u001b[39minvoke(\u001b[38;5;28minput\u001b[39m, config)\n",
      "File \u001b[1;32mc:\\Users\\acer\\miniconda3\\envs\\chatbot-lc\\lib\\site-packages\\langchain_core\\runnables\\base.py:3977\u001b[0m, in \u001b[0;36mRunnableLambda.invoke\u001b[1;34m(self, input, config, **kwargs)\u001b[0m\n\u001b[0;32m   3975\u001b[0m \u001b[38;5;250m\u001b[39m\u001b[38;5;124;03m\"\"\"Invoke this runnable synchronously.\"\"\"\u001b[39;00m\n\u001b[0;32m   3976\u001b[0m \u001b[38;5;28;01mif\u001b[39;00m \u001b[38;5;28mhasattr\u001b[39m(\u001b[38;5;28mself\u001b[39m, \u001b[38;5;124m\"\u001b[39m\u001b[38;5;124mfunc\u001b[39m\u001b[38;5;124m\"\u001b[39m):\n\u001b[1;32m-> 3977\u001b[0m     \u001b[38;5;28;01mreturn\u001b[39;00m \u001b[38;5;28mself\u001b[39m\u001b[38;5;241m.\u001b[39m_call_with_config(\n\u001b[0;32m   3978\u001b[0m         \u001b[38;5;28mself\u001b[39m\u001b[38;5;241m.\u001b[39m_invoke,\n\u001b[0;32m   3979\u001b[0m         \u001b[38;5;28minput\u001b[39m,\n\u001b[0;32m   3980\u001b[0m         \u001b[38;5;28mself\u001b[39m\u001b[38;5;241m.\u001b[39m_config(config, \u001b[38;5;28mself\u001b[39m\u001b[38;5;241m.\u001b[39mfunc),\n\u001b[0;32m   3981\u001b[0m         \u001b[38;5;241m*\u001b[39m\u001b[38;5;241m*\u001b[39mkwargs,\n\u001b[0;32m   3982\u001b[0m     )\n\u001b[0;32m   3983\u001b[0m \u001b[38;5;28;01melse\u001b[39;00m:\n\u001b[0;32m   3984\u001b[0m     \u001b[38;5;28;01mraise\u001b[39;00m \u001b[38;5;167;01mTypeError\u001b[39;00m(\n\u001b[0;32m   3985\u001b[0m         \u001b[38;5;124m\"\u001b[39m\u001b[38;5;124mCannot invoke a coroutine function synchronously.\u001b[39m\u001b[38;5;124m\"\u001b[39m\n\u001b[0;32m   3986\u001b[0m         \u001b[38;5;124m\"\u001b[39m\u001b[38;5;124mUse `ainvoke` instead.\u001b[39m\u001b[38;5;124m\"\u001b[39m\n\u001b[0;32m   3987\u001b[0m     )\n",
      "File \u001b[1;32mc:\\Users\\acer\\miniconda3\\envs\\chatbot-lc\\lib\\site-packages\\langchain_core\\runnables\\base.py:1593\u001b[0m, in \u001b[0;36mRunnable._call_with_config\u001b[1;34m(self, func, input, config, run_type, **kwargs)\u001b[0m\n\u001b[0;32m   1589\u001b[0m     context \u001b[38;5;241m=\u001b[39m copy_context()\n\u001b[0;32m   1590\u001b[0m     context\u001b[38;5;241m.\u001b[39mrun(_set_config_context, child_config)\n\u001b[0;32m   1591\u001b[0m     output \u001b[38;5;241m=\u001b[39m cast(\n\u001b[0;32m   1592\u001b[0m         Output,\n\u001b[1;32m-> 1593\u001b[0m         context\u001b[38;5;241m.\u001b[39mrun(\n\u001b[0;32m   1594\u001b[0m             call_func_with_variable_args,  \u001b[38;5;66;03m# type: ignore[arg-type]\u001b[39;00m\n\u001b[0;32m   1595\u001b[0m             func,  \u001b[38;5;66;03m# type: ignore[arg-type]\u001b[39;00m\n\u001b[0;32m   1596\u001b[0m             \u001b[38;5;28minput\u001b[39m,  \u001b[38;5;66;03m# type: ignore[arg-type]\u001b[39;00m\n\u001b[0;32m   1597\u001b[0m             config,\n\u001b[0;32m   1598\u001b[0m             run_manager,\n\u001b[0;32m   1599\u001b[0m             \u001b[38;5;241m*\u001b[39m\u001b[38;5;241m*\u001b[39mkwargs,\n\u001b[0;32m   1600\u001b[0m         ),\n\u001b[0;32m   1601\u001b[0m     )\n\u001b[0;32m   1602\u001b[0m \u001b[38;5;28;01mexcept\u001b[39;00m \u001b[38;5;167;01mBaseException\u001b[39;00m \u001b[38;5;28;01mas\u001b[39;00m e:\n\u001b[0;32m   1603\u001b[0m     run_manager\u001b[38;5;241m.\u001b[39mon_chain_error(e)\n",
      "File \u001b[1;32mc:\\Users\\acer\\miniconda3\\envs\\chatbot-lc\\lib\\site-packages\\langchain_core\\runnables\\config.py:380\u001b[0m, in \u001b[0;36mcall_func_with_variable_args\u001b[1;34m(func, input, config, run_manager, **kwargs)\u001b[0m\n\u001b[0;32m    378\u001b[0m \u001b[38;5;28;01mif\u001b[39;00m run_manager \u001b[38;5;129;01mis\u001b[39;00m \u001b[38;5;129;01mnot\u001b[39;00m \u001b[38;5;28;01mNone\u001b[39;00m \u001b[38;5;129;01mand\u001b[39;00m accepts_run_manager(func):\n\u001b[0;32m    379\u001b[0m     kwargs[\u001b[38;5;124m\"\u001b[39m\u001b[38;5;124mrun_manager\u001b[39m\u001b[38;5;124m\"\u001b[39m] \u001b[38;5;241m=\u001b[39m run_manager\n\u001b[1;32m--> 380\u001b[0m \u001b[38;5;28;01mreturn\u001b[39;00m func(\u001b[38;5;28minput\u001b[39m, \u001b[38;5;241m*\u001b[39m\u001b[38;5;241m*\u001b[39mkwargs)\n",
      "File \u001b[1;32mc:\\Users\\acer\\miniconda3\\envs\\chatbot-lc\\lib\\site-packages\\langchain_core\\runnables\\base.py:3845\u001b[0m, in \u001b[0;36mRunnableLambda._invoke\u001b[1;34m(self, input, run_manager, config, **kwargs)\u001b[0m\n\u001b[0;32m   3843\u001b[0m                 output \u001b[38;5;241m=\u001b[39m chunk\n\u001b[0;32m   3844\u001b[0m \u001b[38;5;28;01melse\u001b[39;00m:\n\u001b[1;32m-> 3845\u001b[0m     output \u001b[38;5;241m=\u001b[39m call_func_with_variable_args(\n\u001b[0;32m   3846\u001b[0m         \u001b[38;5;28mself\u001b[39m\u001b[38;5;241m.\u001b[39mfunc, \u001b[38;5;28minput\u001b[39m, config, run_manager, \u001b[38;5;241m*\u001b[39m\u001b[38;5;241m*\u001b[39mkwargs\n\u001b[0;32m   3847\u001b[0m     )\n\u001b[0;32m   3848\u001b[0m \u001b[38;5;66;03m# If the output is a runnable, invoke it\u001b[39;00m\n\u001b[0;32m   3849\u001b[0m \u001b[38;5;28;01mif\u001b[39;00m \u001b[38;5;28misinstance\u001b[39m(output, Runnable):\n",
      "File \u001b[1;32mc:\\Users\\acer\\miniconda3\\envs\\chatbot-lc\\lib\\site-packages\\langchain_core\\runnables\\config.py:380\u001b[0m, in \u001b[0;36mcall_func_with_variable_args\u001b[1;34m(func, input, config, run_manager, **kwargs)\u001b[0m\n\u001b[0;32m    378\u001b[0m \u001b[38;5;28;01mif\u001b[39;00m run_manager \u001b[38;5;129;01mis\u001b[39;00m \u001b[38;5;129;01mnot\u001b[39;00m \u001b[38;5;28;01mNone\u001b[39;00m \u001b[38;5;129;01mand\u001b[39;00m accepts_run_manager(func):\n\u001b[0;32m    379\u001b[0m     kwargs[\u001b[38;5;124m\"\u001b[39m\u001b[38;5;124mrun_manager\u001b[39m\u001b[38;5;124m\"\u001b[39m] \u001b[38;5;241m=\u001b[39m run_manager\n\u001b[1;32m--> 380\u001b[0m \u001b[38;5;28;01mreturn\u001b[39;00m func(\u001b[38;5;28minput\u001b[39m, \u001b[38;5;241m*\u001b[39m\u001b[38;5;241m*\u001b[39mkwargs)\n",
      "\u001b[1;31mTypeError\u001b[0m: string indices must be integers"
     ]
    }
   ],
   "source": [
    "# from utils.rag_chain_with_chat_history import get_response\n",
    "\n",
    "# response = get_response(\n",
    "#     chain=chain,\n",
    "#     question=query_str,\n",
    "#     user_id=\"xmriz\",\n",
    "#     conversation_id=\"conv123\",\n",
    "# )\n",
    "\n",
    "# response"
   ]
  },
  {
   "cell_type": "code",
   "execution_count": 52,
   "metadata": {},
   "outputs": [],
   "source": [
    "# from utils.rag_chain_with_chat_history import print_answer_stream\n",
    "\n",
    "# await print_answer_stream(chain=chain, chat_history=chat_history, question=query_str)"
   ]
  },
  {
   "cell_type": "markdown",
   "metadata": {},
   "source": [
    "#### **With Question, Answer, and Context**"
   ]
  },
  {
   "cell_type": "code",
   "execution_count": 57,
   "metadata": {},
   "outputs": [
    {
     "data": {
      "text/plain": [
       "{'question': 'Berapa nilai SWDKLLJ untuk mobil?',\n",
       " 'answer': 'SWDKLLJ untuk mobil adalah sebagai berikut:\\n\\n- Mobil penumpang angkutan umum sampai dengan 1600 cc: Rp150.000,00\\n- Bus dan mikro bus bukan angkutan umum: Rp150.000,00\\n- Bus dan mikro bus angkutan umum, serta mobil penumpang angkutan umum lainnya di atas 1600 cc: Rp87.000,00\\n- Truk, mobil tangki, mobil gandengan, mobil barang di atas 2400 cc, truk container dan sejenisnya: Rp160.000,00\\n\\nSumber: [36/PMK.010/2008](https://www.ojk.go.id/id/regulasi/Documents/Pages/PMK-Nomor-36PMK.010-Tahun-2008-tentang-Besar-Santunan-dan-Sumbangan-Wajib-Dana-Kecelakaan-Lalu-Lintas-Jalan/menas13_1389258036.pdf#page=4)',\n",
       " 'context': '[\\n  {\\n    \"metadata\": {\\n      \"effective_date\": \"26 Februari 2008\",\\n      \"file_url\": \"https://www.ojk.go.id/id/regulasi/Documents/Pages/PMK-Nomor-36PMK.010-Tahun-2008-tentang-Besar-Santunan-dan-Sumbangan-Wajib-Dana-Kecelakaan-Lalu-Lintas-Jalan/menas13_1389258036.pdf\",\\n      \"page_number\": 3.0,\\n      \"regulation_number\": \"36/PMK.010/2008\",\\n      \"regulation_type\": \"Klasifikasi Bapepam\",\\n      \"sector\": \"IKNB\",\\n      \"subsector\": \"Asuransi\",\\n      \"title\": \"Peraturan Menteri Keuangan Nomor 36/PMK.010/2008 tentang Besar Santunan dan Sumbangan Wajib Dana Kecelakaan Lalu Lintas Jalan\",\\n      \"relevance_score\": 0.9947392\\n    },\\n    \"page_content\": \"MENTERI KEUANGAN\\\\nREPUBLIK INDONESIA\\\\nmemperoleh santunan sebesar Rp 25.000.000,00 (dua puluh lima\\\\njuta rupiah).\\\\nb. Korban yang mengalami cacat tetap berhak memperoleh\\\\nsantunan yang besarnya dihitung berdasarkan angka prosentase\\\\n Korban yang memerlukan perawatan dan pengobatan berhak\\\\nrupiah).\\\\nPasal 3\\\\nDalam hal korban meninggal dunia akibat kecelakaan alat angkutan\\\\nlalu lintas jalan tidak mempunyai ahli waris, kepada pihak yang\\\\nmenyelenggarakan\\\\ndiberikan\\\\npenggantian\\\\nbiaya\\\\nPasal 4\\\\n(2) Besar SWDKLLJ sebagaimana dimaksud pada ayat (1) ditentukan\\\\nsebagai berikut:\\\\nSepeda motor di bawah 50 cc, mobil ambulance, mobil jenazah\\\\na.\\\\ndan mobil pemadam kebakaran dibebaskan dari kewajiban\\\\nb. Traktor, buidozer, forklift, mobil derek, excavator, crane dan\\\\nsejenisnya sebesar Rp 20.000,00 (dua puluh ribu rupiah):\\\\n Sepeda motor, sepeda kumbang dan scooter di atas 50 cc sampai\\\\n250 cc dan kendaraan bermotor roda tiga sebesar Rp 32.000,00\\\\n(tiga puluh dua ribu rupiah).\\\\nd.\"\\n  },\\n  {\\n    \"metadata\": {\\n      \"effective_date\": \"26 Februari 2008\",\\n      \"file_url\": \"https://www.ojk.go.id/id/regulasi/Documents/Pages/PMK-Nomor-36PMK.010-Tahun-2008-tentang-Besar-Santunan-dan-Sumbangan-Wajib-Dana-Kecelakaan-Lalu-Lintas-Jalan/menas13_1389258036.pdf\",\\n      \"page_number\": 4.0,\\n      \"regulation_number\": \"36/PMK.010/2008\",\\n      \"regulation_type\": \"Klasifikasi Bapepam\",\\n      \"sector\": \"IKNB\",\\n      \"subsector\": \"Asuransi\",\\n      \"title\": \"Peraturan Menteri Keuangan Nomor 36/PMK.010/2008 tentang Besar Santunan dan Sumbangan Wajib Dana Kecelakaan Lalu Lintas Jalan\",\\n      \"relevance_score\": 0.99108386\\n    },\\n    \"page_content\": \"2) Dalam hal pembayaran SWDKLLJ dilakukan setelah melewati batas\\\\n seharusnya dibayar dengan ketentuan denda yang dikenakan paling\\\\nbesar Rp100.000,00 (seratus ribu rupiah).\\\\n(3) Dalam hal ketentuan mengenai batas waktu sebagaimana dimaksud\\\\ngeografis daerah setempat, Direksi perusahaan yang ditunjuk untuk\\\\nmenyelenggarakan Dana Kecelakaan Lalu Lintas Jalan diberi\\\\nbesarnya denda SWDKLLJ, dengan ketentuan batas waktu dimaksud\\\\npaling lama 15 (lima belas) hari kerja.\"\\n  },\\n  {\\n    \"metadata\": {\\n      \"effective_date\": \"26 Februari 2008\",\\n      \"file_url\": \"https://www.ojk.go.id/id/regulasi/Documents/Pages/PMK-Nomor-36PMK.010-Tahun-2008-tentang-Besar-Santunan-dan-Sumbangan-Wajib-Dana-Kecelakaan-Lalu-Lintas-Jalan/menas13_1389258036.pdf\",\\n      \"page_number\": 4.0,\\n      \"regulation_number\": \"36/PMK.010/2008\",\\n      \"regulation_type\": \"Klasifikasi Bapepam\",\\n      \"sector\": \"IKNB\",\\n      \"subsector\": \"Asuransi\",\\n      \"title\": \"Peraturan Menteri Keuangan Nomor 36/PMK.010/2008 tentang Besar Santunan dan Sumbangan Wajib Dana Kecelakaan Lalu Lintas Jalan\",\\n      \"relevance_score\": 0.9828891\\n    },\\n    \"page_content\": \"MENTERI KEUANGAN\\\\nREPUBLIK INDONESIA\\\\n-4-\\\\n Mobil penumpang angkutan umum sampai dengan 1600 cc\\\\ng. Bus dan mikro bus bukan angkutan umum sebesar Rp150.000,00\\\\n(seratus lima puluh ribu rupiah).\\\\nh. Bus dan.mikro bus angkutan umum, serta mobil penumpang\\\\nangkutan umum lainnya di atas 1600 cc sebesar Rp87.000,00\\\\n(delapan puluh tujuh ribu rupiah).\\\\nTruk, mobil tangki, mobil gandengan, mobil barang di atas 2400\\\\ncc, truk container dan sejenisnya sebesar Rp 160.000,00 (seratus\\\\n enam puluh ribu rupiah).\\\\nPasal 5\\\\nSetiap jenis kendaraan sebagaimana dimaksud dalam Pasal 4, dikenakan\\\\nbiaya\\\\n penggantian pembuatan\\\\n Kartu Dana/Sertifikat sebesar\\\\nRp 3.000,00 (tiga ribu rupiah).\\\\nPasal 6\\\\nTanda Nomor Kendaraan Bermotor sesuai dengan ketentuan\\\\nperaturan perundang-undangan yang berlaku.\\\\n2) Dalam hal pembayaran SWDKLLJ dilakukan setelah melewati batas\\\\n seharusnya dibayar dengan ketentuan denda yang dikenakan paling\\\\nbesar Rp100.000,00 (seratus ribu rupiah).\"\\n  },\\n  {\\n    \"metadata\": {\\n      \"effective_date\": \"26 Februari 2008\",\\n      \"file_url\": \"https://www.ojk.go.id/id/regulasi/Documents/Pages/PMK-Nomor-36PMK.010-Tahun-2008-tentang-Besar-Santunan-dan-Sumbangan-Wajib-Dana-Kecelakaan-Lalu-Lintas-Jalan/menas13_1389258036.pdf\",\\n      \"page_number\": 2.0,\\n      \"regulation_number\": \"36/PMK.010/2008\",\\n      \"regulation_type\": \"Klasifikasi Bapepam\",\\n      \"sector\": \"IKNB\",\\n      \"subsector\": \"Asuransi\",\\n      \"title\": \"Peraturan Menteri Keuangan Nomor 36/PMK.010/2008 tentang Besar Santunan dan Sumbangan Wajib Dana Kecelakaan Lalu Lintas Jalan\",\\n      \"relevance_score\": 0.96478885\\n    },\\n    \"page_content\": \"wajib\\\\nsebagaimana dimaksud dalam Undang-Undang Nomor 34 Tahun\\\\n1964 tentang Dana Kecelakaan Lalu Lintas Jalan juncto Peraturan\\\\nPelaksanaan Dana Kecelakaan Lalu Lintas Jalan.\\\\n2) SWDKLLJ merupakan premi asuransi yang dibayarkan oleh para\\\\npengusaha/pemilik alat angkutan lalu lintas jalan kepada\\\\nperusahaan yang menyelenggarakan Dana Kecelakaan Lalu Lintas\\\\nJalan.\\\\nPasal 2\\\\n(1 Korban kecelakaan alat angkutan lalu lintas jalan atau ahli warisnya\\\\nberhak atas santunan.\\\\nBesar santunan sebagaimana dimaksud pada ayat (1) ditentukan\\\\nsebagai berikut:\"\\n  },\\n  {\\n    \"metadata\": {\\n      \"effective_date\": \"26 Februari 2008\",\\n      \"file_url\": \"https://www.ojk.go.id/id/regulasi/Documents/Pages/PMK-Nomor-36PMK.010-Tahun-2008-tentang-Besar-Santunan-dan-Sumbangan-Wajib-Dana-Kecelakaan-Lalu-Lintas-Jalan/menas13_1389258036.pdf\",\\n      \"page_number\": 3.0,\\n      \"regulation_number\": \"36/PMK.010/2008\",\\n      \"regulation_type\": \"Klasifikasi Bapepam\",\\n      \"sector\": \"IKNB\",\\n      \"subsector\": \"Asuransi\",\\n      \"title\": \"Peraturan Menteri Keuangan Nomor 36/PMK.010/2008 tentang Besar Santunan dan Sumbangan Wajib Dana Kecelakaan Lalu Lintas Jalan\",\\n      \"relevance_score\": 0.0012843081\\n    },\\n    \"page_content\": \"Sepeda motor, sepeda kumbang dan scooter di atas 50 cc sampai\\\\n250 cc dan kendaraan bermotor roda tiga sebesar Rp 32.000,00\\\\n(tiga puluh dua ribu rupiah).\\\\nd.\\\\nPick up/mobil barang sampai dengan 2400 cc, sedan, jeep dan\\\\n mobil penumpang bukan angkutan umum sebesar Rp140.000,00\\\\n(seratus empat puluh ribu rupiah).\"\\n  },\\n  {\\n    \"metadata\": {\\n      \"effective_date\": \"1 Desember 2011\",\\n      \"file_url\": \"https://www.ojk.go.id/id/regulasi/Documents/Pages/Peraturan-BAPEPAM-tentang-Pedoman-Perhitungan-Batas-Tingkat-Solvabilitas-Minimum-bagi-Perusahaan-Asuransi-dan-Reasuransi/BAPEPAM%20PER-09BL2011.pdf\",\\n      \"page_number\": 19.0,\\n      \"regulation_number\": \"PER-09/BL/2011\",\\n      \"regulation_type\": \"Peraturan Bapepam\",\\n      \"sector\": \"IKNB\",\\n      \"subsector\": \"Asuransi\",\\n      \"title\": \"Peraturan BAPEPAM tentang Pedoman Perhitungan Batas Tingkat Solvabilitas Minimum bagi Perusahaan Asuransi dan Perusahaan Reasuransi\",\\n      \"relevance_score\": 0.0006361912\\n    },\\n    \"page_content\": \"(fP) \\\\nProyeksi \\\\nklaim  \\\\n(fK) \\\\nHarta benda (property) \\\\n10% \\\\n10% \\\\nKendaraan bermotor (own \\\\ndamage, third party liability, dan \\\\npersonal accident) \\\\n10% \\\\n15% \\\\nPengangkutan (marine cargo) \\\\n10% \\\\n20% \\\\nRangka kapal (marine hull) \\\\n10% \\\\n20% \\\\nRangka pesawat (aviation hull) \\\\n10% \\\\n20% \\\\nSatellite \\\\n10% \\\\n20% \\\\nEnergi Onshore (oil and gas) \\\\n10% \\\\n20% \\\\nEnergi Offshore (oil and gas) \\\\n10% \\\\n20% \\\\nRekayasa (engineering) \\\\n10% \\\\n20% \\\\nTanggung-gugat (liability) \\\\n10% \\\\n20% \\\\nKredit (Credit)  \\\\n10% \\\\n20% \\\\nSuretyship \\\\n10% \\\\n20% \\\\nAneka \\\\n10% \\\\n20% \\\\nii.) \\\\nKomponen klaim masa lalu \\\\nPerhitungan jumlah dana yang dibutuhkan untuk komponen \\\\nklaim masa lalu dilakukan berdasarkan rumusan sebagai \\\\nberikut: \\\\nB \\\\n=  (CKDPP  x  f CKDPP)  +  (IBNR  x  f IBNR) \\\\ndimana: \\\\nB \\\\n= dana yang dibutuhkan untuk komponen klaim \\\\nmasa lalu \\\\nCKDPP = cadangan klaim dalam proses penyelesaian yang \\\\nmenjadi beban sendiri \\\\nf CKDPP \\\\n= faktor risiko untuk cadangan klaim dalam proses \\\\npenyelesaian yang menjadi beban sendiri \\\\nIBNR\"\\n  }\\n]'}"
      ]
     },
     "execution_count": 57,
     "metadata": {},
     "output_type": "execute_result"
    }
   ],
   "source": [
    "# from utils.rag_chain_with_chat_history import get_response\n",
    "\n",
    "# response = get_response(chat_history=chat_history, chain=chain, question=\"Kalau mobil?\")\n",
    "# response"
   ]
  },
  {
   "cell_type": "code",
   "execution_count": 58,
   "metadata": {},
   "outputs": [
    {
     "name": "stdout",
     "output_type": "stream",
     "text": [
      "SWDKLLJ untuk mobil adalah sebagai berikut:\n",
      "\n",
      "- Mobil penumpang angkutan umum sampai dengan 1600 cc: Rp150.000,00\n",
      "- Bus dan mikro bus bukan angkutan umum: Rp150.000,00\n",
      "- Bus dan mikro bus angkutan umum, serta mobil penumpang angkutan umum lainnya di atas 1600 cc: Rp87.000,00\n",
      "- Truk, mobil tangki, mobil gandengan, mobil barang di atas 2400 cc, truk container dan sejenisnya: Rp160.000,00\n",
      "\n",
      "Sumber: [36/PMK.010/2008](https://www.ojk.go.id/id/regulasi/Documents/Pages/PMK-Nomor-36PMK.010-Tahun-2008-tentang-Besar-Santunan-dan-Sumbangan-Wajib-Dana-Kecelakaan-Lalu-Lintas-Jalan/menas13_1389258036.pdf#page=4)\n"
     ]
    }
   ],
   "source": [
    "# print(response['answer'])"
   ]
  },
  {
   "cell_type": "code",
   "execution_count": 59,
   "metadata": {},
   "outputs": [
    {
     "name": "stdout",
     "output_type": "stream",
     "text": [
      "[\n",
      "  {\n",
      "    \"metadata\": {\n",
      "      \"effective_date\": \"26 Februari 2008\",\n",
      "      \"file_url\": \"https://www.ojk.go.id/id/regulasi/Documents/Pages/PMK-Nomor-36PMK.010-Tahun-2008-tentang-Besar-Santunan-dan-Sumbangan-Wajib-Dana-Kecelakaan-Lalu-Lintas-Jalan/menas13_1389258036.pdf\",\n",
      "      \"page_number\": 3.0,\n",
      "      \"regulation_number\": \"36/PMK.010/2008\",\n",
      "      \"regulation_type\": \"Klasifikasi Bapepam\",\n",
      "      \"sector\": \"IKNB\",\n",
      "      \"subsector\": \"Asuransi\",\n",
      "      \"title\": \"Peraturan Menteri Keuangan Nomor 36/PMK.010/2008 tentang Besar Santunan dan Sumbangan Wajib Dana Kecelakaan Lalu Lintas Jalan\",\n",
      "      \"relevance_score\": 0.9947392\n",
      "    },\n",
      "    \"page_content\": \"MENTERI KEUANGAN\\nREPUBLIK INDONESIA\\nmemperoleh santunan sebesar Rp 25.000.000,00 (dua puluh lima\\njuta rupiah).\\nb. Korban yang mengalami cacat tetap berhak memperoleh\\nsantunan yang besarnya dihitung berdasarkan angka prosentase\\n Korban yang memerlukan perawatan dan pengobatan berhak\\nrupiah).\\nPasal 3\\nDalam hal korban meninggal dunia akibat kecelakaan alat angkutan\\nlalu lintas jalan tidak mempunyai ahli waris, kepada pihak yang\\nmenyelenggarakan\\ndiberikan\\npenggantian\\nbiaya\\nPasal 4\\n(2) Besar SWDKLLJ sebagaimana dimaksud pada ayat (1) ditentukan\\nsebagai berikut:\\nSepeda motor di bawah 50 cc, mobil ambulance, mobil jenazah\\na.\\ndan mobil pemadam kebakaran dibebaskan dari kewajiban\\nb. Traktor, buidozer, forklift, mobil derek, excavator, crane dan\\nsejenisnya sebesar Rp 20.000,00 (dua puluh ribu rupiah):\\n Sepeda motor, sepeda kumbang dan scooter di atas 50 cc sampai\\n250 cc dan kendaraan bermotor roda tiga sebesar Rp 32.000,00\\n(tiga puluh dua ribu rupiah).\\nd.\"\n",
      "  },\n",
      "  {\n",
      "    \"metadata\": {\n",
      "      \"effective_date\": \"26 Februari 2008\",\n",
      "      \"file_url\": \"https://www.ojk.go.id/id/regulasi/Documents/Pages/PMK-Nomor-36PMK.010-Tahun-2008-tentang-Besar-Santunan-dan-Sumbangan-Wajib-Dana-Kecelakaan-Lalu-Lintas-Jalan/menas13_1389258036.pdf\",\n",
      "      \"page_number\": 4.0,\n",
      "      \"regulation_number\": \"36/PMK.010/2008\",\n",
      "      \"regulation_type\": \"Klasifikasi Bapepam\",\n",
      "      \"sector\": \"IKNB\",\n",
      "      \"subsector\": \"Asuransi\",\n",
      "      \"title\": \"Peraturan Menteri Keuangan Nomor 36/PMK.010/2008 tentang Besar Santunan dan Sumbangan Wajib Dana Kecelakaan Lalu Lintas Jalan\",\n",
      "      \"relevance_score\": 0.99108386\n",
      "    },\n",
      "    \"page_content\": \"2) Dalam hal pembayaran SWDKLLJ dilakukan setelah melewati batas\\n seharusnya dibayar dengan ketentuan denda yang dikenakan paling\\nbesar Rp100.000,00 (seratus ribu rupiah).\\n(3) Dalam hal ketentuan mengenai batas waktu sebagaimana dimaksud\\ngeografis daerah setempat, Direksi perusahaan yang ditunjuk untuk\\nmenyelenggarakan Dana Kecelakaan Lalu Lintas Jalan diberi\\nbesarnya denda SWDKLLJ, dengan ketentuan batas waktu dimaksud\\npaling lama 15 (lima belas) hari kerja.\"\n",
      "  },\n",
      "  {\n",
      "    \"metadata\": {\n",
      "      \"effective_date\": \"26 Februari 2008\",\n",
      "      \"file_url\": \"https://www.ojk.go.id/id/regulasi/Documents/Pages/PMK-Nomor-36PMK.010-Tahun-2008-tentang-Besar-Santunan-dan-Sumbangan-Wajib-Dana-Kecelakaan-Lalu-Lintas-Jalan/menas13_1389258036.pdf\",\n",
      "      \"page_number\": 4.0,\n",
      "      \"regulation_number\": \"36/PMK.010/2008\",\n",
      "      \"regulation_type\": \"Klasifikasi Bapepam\",\n",
      "      \"sector\": \"IKNB\",\n",
      "      \"subsector\": \"Asuransi\",\n",
      "      \"title\": \"Peraturan Menteri Keuangan Nomor 36/PMK.010/2008 tentang Besar Santunan dan Sumbangan Wajib Dana Kecelakaan Lalu Lintas Jalan\",\n",
      "      \"relevance_score\": 0.9828891\n",
      "    },\n",
      "    \"page_content\": \"MENTERI KEUANGAN\\nREPUBLIK INDONESIA\\n-4-\\n Mobil penumpang angkutan umum sampai dengan 1600 cc\\ng. Bus dan mikro bus bukan angkutan umum sebesar Rp150.000,00\\n(seratus lima puluh ribu rupiah).\\nh. Bus dan.mikro bus angkutan umum, serta mobil penumpang\\nangkutan umum lainnya di atas 1600 cc sebesar Rp87.000,00\\n(delapan puluh tujuh ribu rupiah).\\nTruk, mobil tangki, mobil gandengan, mobil barang di atas 2400\\ncc, truk container dan sejenisnya sebesar Rp 160.000,00 (seratus\\n enam puluh ribu rupiah).\\nPasal 5\\nSetiap jenis kendaraan sebagaimana dimaksud dalam Pasal 4, dikenakan\\nbiaya\\n penggantian pembuatan\\n Kartu Dana/Sertifikat sebesar\\nRp 3.000,00 (tiga ribu rupiah).\\nPasal 6\\nTanda Nomor Kendaraan Bermotor sesuai dengan ketentuan\\nperaturan perundang-undangan yang berlaku.\\n2) Dalam hal pembayaran SWDKLLJ dilakukan setelah melewati batas\\n seharusnya dibayar dengan ketentuan denda yang dikenakan paling\\nbesar Rp100.000,00 (seratus ribu rupiah).\"\n",
      "  },\n",
      "  {\n",
      "    \"metadata\": {\n",
      "      \"effective_date\": \"26 Februari 2008\",\n",
      "      \"file_url\": \"https://www.ojk.go.id/id/regulasi/Documents/Pages/PMK-Nomor-36PMK.010-Tahun-2008-tentang-Besar-Santunan-dan-Sumbangan-Wajib-Dana-Kecelakaan-Lalu-Lintas-Jalan/menas13_1389258036.pdf\",\n",
      "      \"page_number\": 2.0,\n",
      "      \"regulation_number\": \"36/PMK.010/2008\",\n",
      "      \"regulation_type\": \"Klasifikasi Bapepam\",\n",
      "      \"sector\": \"IKNB\",\n",
      "      \"subsector\": \"Asuransi\",\n",
      "      \"title\": \"Peraturan Menteri Keuangan Nomor 36/PMK.010/2008 tentang Besar Santunan dan Sumbangan Wajib Dana Kecelakaan Lalu Lintas Jalan\",\n",
      "      \"relevance_score\": 0.96478885\n",
      "    },\n",
      "    \"page_content\": \"wajib\\nsebagaimana dimaksud dalam Undang-Undang Nomor 34 Tahun\\n1964 tentang Dana Kecelakaan Lalu Lintas Jalan juncto Peraturan\\nPelaksanaan Dana Kecelakaan Lalu Lintas Jalan.\\n2) SWDKLLJ merupakan premi asuransi yang dibayarkan oleh para\\npengusaha/pemilik alat angkutan lalu lintas jalan kepada\\nperusahaan yang menyelenggarakan Dana Kecelakaan Lalu Lintas\\nJalan.\\nPasal 2\\n(1 Korban kecelakaan alat angkutan lalu lintas jalan atau ahli warisnya\\nberhak atas santunan.\\nBesar santunan sebagaimana dimaksud pada ayat (1) ditentukan\\nsebagai berikut:\"\n",
      "  },\n",
      "  {\n",
      "    \"metadata\": {\n",
      "      \"effective_date\": \"26 Februari 2008\",\n",
      "      \"file_url\": \"https://www.ojk.go.id/id/regulasi/Documents/Pages/PMK-Nomor-36PMK.010-Tahun-2008-tentang-Besar-Santunan-dan-Sumbangan-Wajib-Dana-Kecelakaan-Lalu-Lintas-Jalan/menas13_1389258036.pdf\",\n",
      "      \"page_number\": 3.0,\n",
      "      \"regulation_number\": \"36/PMK.010/2008\",\n",
      "      \"regulation_type\": \"Klasifikasi Bapepam\",\n",
      "      \"sector\": \"IKNB\",\n",
      "      \"subsector\": \"Asuransi\",\n",
      "      \"title\": \"Peraturan Menteri Keuangan Nomor 36/PMK.010/2008 tentang Besar Santunan dan Sumbangan Wajib Dana Kecelakaan Lalu Lintas Jalan\",\n",
      "      \"relevance_score\": 0.0012843081\n",
      "    },\n",
      "    \"page_content\": \"Sepeda motor, sepeda kumbang dan scooter di atas 50 cc sampai\\n250 cc dan kendaraan bermotor roda tiga sebesar Rp 32.000,00\\n(tiga puluh dua ribu rupiah).\\nd.\\nPick up/mobil barang sampai dengan 2400 cc, sedan, jeep dan\\n mobil penumpang bukan angkutan umum sebesar Rp140.000,00\\n(seratus empat puluh ribu rupiah).\"\n",
      "  },\n",
      "  {\n",
      "    \"metadata\": {\n",
      "      \"effective_date\": \"1 Desember 2011\",\n",
      "      \"file_url\": \"https://www.ojk.go.id/id/regulasi/Documents/Pages/Peraturan-BAPEPAM-tentang-Pedoman-Perhitungan-Batas-Tingkat-Solvabilitas-Minimum-bagi-Perusahaan-Asuransi-dan-Reasuransi/BAPEPAM%20PER-09BL2011.pdf\",\n",
      "      \"page_number\": 19.0,\n",
      "      \"regulation_number\": \"PER-09/BL/2011\",\n",
      "      \"regulation_type\": \"Peraturan Bapepam\",\n",
      "      \"sector\": \"IKNB\",\n",
      "      \"subsector\": \"Asuransi\",\n",
      "      \"title\": \"Peraturan BAPEPAM tentang Pedoman Perhitungan Batas Tingkat Solvabilitas Minimum bagi Perusahaan Asuransi dan Perusahaan Reasuransi\",\n",
      "      \"relevance_score\": 0.0006361912\n",
      "    },\n",
      "    \"page_content\": \"(fP) \\nProyeksi \\nklaim  \\n(fK) \\nHarta benda (property) \\n10% \\n10% \\nKendaraan bermotor (own \\ndamage, third party liability, dan \\npersonal accident) \\n10% \\n15% \\nPengangkutan (marine cargo) \\n10% \\n20% \\nRangka kapal (marine hull) \\n10% \\n20% \\nRangka pesawat (aviation hull) \\n10% \\n20% \\nSatellite \\n10% \\n20% \\nEnergi Onshore (oil and gas) \\n10% \\n20% \\nEnergi Offshore (oil and gas) \\n10% \\n20% \\nRekayasa (engineering) \\n10% \\n20% \\nTanggung-gugat (liability) \\n10% \\n20% \\nKredit (Credit)  \\n10% \\n20% \\nSuretyship \\n10% \\n20% \\nAneka \\n10% \\n20% \\nii.) \\nKomponen klaim masa lalu \\nPerhitungan jumlah dana yang dibutuhkan untuk komponen \\nklaim masa lalu dilakukan berdasarkan rumusan sebagai \\nberikut: \\nB \\n=  (CKDPP  x  f CKDPP)  +  (IBNR  x  f IBNR) \\ndimana: \\nB \\n= dana yang dibutuhkan untuk komponen klaim \\nmasa lalu \\nCKDPP = cadangan klaim dalam proses penyelesaian yang \\nmenjadi beban sendiri \\nf CKDPP \\n= faktor risiko untuk cadangan klaim dalam proses \\npenyelesaian yang menjadi beban sendiri \\nIBNR\"\n",
      "  }\n",
      "]\n"
     ]
    }
   ],
   "source": [
    "# print(response['context'])"
   ]
  },
  {
   "cell_type": "code",
   "execution_count": 60,
   "metadata": {},
   "outputs": [
    {
     "name": "stdout",
     "output_type": "stream",
     "text": [
      "----------\n",
      "Human: Berapa nilai SWDKLLJ dari sedan?\n",
      "----------\n",
      "Assistant: SWDKLLJ untuk sedan sebesar Rp140.000,00 (seratus empat puluh ribu rupiah).\n",
      "\n",
      "Sumber: [36/PMK.010/2008](https://www.ojk.go.id/id/regulasi/Documents/Pages/PMK-Nomor-36PMK.010-Tahun-2008-tentang-Besar-Santunan-dan-Sumbangan-Wajib-Dana-Kecelakaan-Lalu-Lintas-Jalan/menas13_1389258036.pdf#page=3.0)\n",
      "----------\n",
      "Human: Berapa nilai SWDKLLJ untuk mobil?\n",
      "----------\n",
      "Assistant: SWDKLLJ untuk mobil adalah sebagai berikut:\n",
      "\n",
      "- Mobil penumpang angkutan umum sampai dengan 1600 cc: Rp150.000,00\n",
      "- Bus dan mikro bus bukan angkutan umum: Rp150.000,00\n",
      "- Bus dan mikro bus angkutan umum, serta mobil penumpang angkutan umum lainnya di atas 1600 cc: Rp87.000,00\n",
      "- Truk, mobil tangki, mobil gandengan, mobil barang di atas 2400 cc, truk container dan sejenisnya: Rp160.000,00\n",
      "\n",
      "Sumber: [36/PMK.010/2008](https://www.ojk.go.id/id/regulasi/Documents/Pages/PMK-Nomor-36PMK.010-Tahun-2008-tentang-Besar-Santunan-dan-Sumbangan-Wajib-Dana-Kecelakaan-Lalu-Lintas-Jalan/menas13_1389258036.pdf#page=4)\n",
      "\n"
     ]
    }
   ],
   "source": [
    "# print(chat_history.get_formatted_history())"
   ]
  },
  {
   "cell_type": "markdown",
   "metadata": {},
   "source": [
    "## **Evaluation**"
   ]
  }
 ],
 "metadata": {
  "kernelspec": {
   "display_name": "chatbot-lc",
   "language": "python",
   "name": "python3"
  },
  "language_info": {
   "codemirror_mode": {
    "name": "ipython",
    "version": 3
   },
   "file_extension": ".py",
   "mimetype": "text/x-python",
   "name": "python",
   "nbconvert_exporter": "python",
   "pygments_lexer": "ipython3",
   "version": "3.9.19"
  }
 },
 "nbformat": 4,
 "nbformat_minor": 2
}
