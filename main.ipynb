{
 "cells": [
  {
   "cell_type": "markdown",
   "metadata": {},
   "source": [
    "# **OJK ChatBot - LangChain**"
   ]
  },
  {
   "cell_type": "markdown",
   "metadata": {},
   "source": [
    "## **Setup**"
   ]
  },
  {
   "cell_type": "code",
   "execution_count": 235,
   "metadata": {},
   "outputs": [
    {
     "data": {
      "text/plain": [
       "True"
      ]
     },
     "execution_count": 235,
     "metadata": {},
     "output_type": "execute_result"
    }
   ],
   "source": [
    "from dotenv import load_dotenv\n",
    "load_dotenv()"
   ]
  },
  {
   "cell_type": "markdown",
   "metadata": {},
   "source": [
    "## **Config**"
   ]
  },
  {
   "cell_type": "code",
   "execution_count": 236,
   "metadata": {},
   "outputs": [],
   "source": [
    "from utils.config import get_config\n",
    "from utils.questions import get_question\n",
    "from utils.model_config import ModelName, get_model\n",
    "\n",
    "config = get_config()"
   ]
  },
  {
   "cell_type": "code",
   "execution_count": 237,
   "metadata": {},
   "outputs": [],
   "source": [
    "STORE = False\n",
    "DELETE = False\n",
    "TOP_K = 10\n",
    "TOP_N = 6\n",
    "model_name = ModelName.AZURE_OPENAI\n",
    "query_str = get_question(\"k\")\n",
    "# query_str = \"Apa judul peraturan nomor 37 /SEOJK.03/2016?\""
   ]
  },
  {
   "cell_type": "markdown",
   "metadata": {},
   "source": [
    "## **Define Model**"
   ]
  },
  {
   "cell_type": "code",
   "execution_count": 238,
   "metadata": {},
   "outputs": [],
   "source": [
    "llm_model, embed_model = get_model(model_name=model_name, config=config)"
   ]
  },
  {
   "cell_type": "markdown",
   "metadata": {},
   "source": [
    "## **Indexing**"
   ]
  },
  {
   "cell_type": "markdown",
   "metadata": {},
   "source": [
    "### **Load**"
   ]
  },
  {
   "cell_type": "code",
   "execution_count": 239,
   "metadata": {},
   "outputs": [],
   "source": [
    "from utils.documents_text_extract import extract_all_documents_in_directory\n",
    "\n",
    "documents_dir = './data/documents'\n",
    "metadata_path = './data/metadata/files_metadata.csv'\n",
    "\n",
    "if STORE:\n",
    "    documents = extract_all_documents_in_directory(documents_dir, metadata_path, treshold=0.98)\n"
   ]
  },
  {
   "cell_type": "markdown",
   "metadata": {},
   "source": [
    "### **Split**"
   ]
  },
  {
   "cell_type": "code",
   "execution_count": 240,
   "metadata": {},
   "outputs": [],
   "source": [
    "from utils.document_split import document_splitter\n",
    "\n",
    "if STORE:\n",
    "    all_splits = document_splitter(docs=documents)"
   ]
  },
  {
   "cell_type": "markdown",
   "metadata": {},
   "source": [
    "### **Storing**"
   ]
  },
  {
   "cell_type": "code",
   "execution_count": 241,
   "metadata": {},
   "outputs": [],
   "source": [
    "from utils.vector_store import PineconeIndexManager\n",
    "\n",
    "pinecone = PineconeIndexManager(index_name='ojk', embed_model=embed_model, config=config)\n",
    "\n",
    "if STORE:\n",
    "    pinecone.store_vector_index(docs=all_splits, delete=DELETE)\n",
    "    vector_store = pinecone.load_vector_index()\n",
    "else: \n",
    "    vector_store = pinecone.load_vector_index()"
   ]
  },
  {
   "cell_type": "markdown",
   "metadata": {},
   "source": [
    "## **Retrieval and Generation**"
   ]
  },
  {
   "cell_type": "markdown",
   "metadata": {},
   "source": [
    "### **Retrieve**"
   ]
  },
  {
   "cell_type": "code",
   "execution_count": 242,
   "metadata": {},
   "outputs": [],
   "source": [
    "from langchain_cohere import CohereRerank\n",
    "from langchain.retrievers import ContextualCompressionRetriever\n",
    "\n",
    "# retriever = vector_store.as_retriever(search_type=\"similarity\", search_kwargs={\"k\": TOP_K})\n",
    "compressor = CohereRerank(cohere_api_key=config['cohere_api_key'], top_n=TOP_N)\n",
    "retriever = ContextualCompressionRetriever(\n",
    "    base_compressor=compressor, base_retriever=vector_store.as_retriever(search_type=\"similarity\", search_kwargs={\"k\": TOP_K})\n",
    ")"
   ]
  },
  {
   "cell_type": "code",
   "execution_count": 243,
   "metadata": {},
   "outputs": [
    {
     "data": {
      "text/plain": [
       "[Document(metadata={'effective_date': '26 Februari 2008', 'file_url': 'https://www.ojk.go.id/id/regulasi/Documents/Pages/PMK-Nomor-36PMK.010-Tahun-2008-tentang-Besar-Santunan-dan-Sumbangan-Wajib-Dana-Kecelakaan-Lalu-Lintas-Jalan/menas13_1389258036.pdf', 'page_number': 4.0, 'regulation_number': '36/PMK.010/2008', 'regulation_type': 'Klasifikasi Bapepam', 'sector': 'IKNB', 'subsector': 'Asuransi', 'title': 'Peraturan Menteri Keuangan Nomor 36/PMK.010/2008 tentang Besar Santunan dan Sumbangan Wajib Dana Kecelakaan Lalu Lintas Jalan', 'relevance_score': 0.9850429}, page_content='2) Dalam hal pembayaran SWDKLLJ dilakukan setelah melewati batas\\n seharusnya dibayar dengan ketentuan denda yang dikenakan paling\\nbesar Rp100.000,00 (seratus ribu rupiah).\\n(3) Dalam hal ketentuan mengenai batas waktu sebagaimana dimaksud\\ngeografis daerah setempat, Direksi perusahaan yang ditunjuk untuk\\nmenyelenggarakan Dana Kecelakaan Lalu Lintas Jalan diberi\\nbesarnya denda SWDKLLJ, dengan ketentuan batas waktu dimaksud\\npaling lama 15 (lima belas) hari kerja.'),\n",
       " Document(metadata={'effective_date': '26 Februari 2008', 'file_url': 'https://www.ojk.go.id/id/regulasi/Documents/Pages/PMK-Nomor-36PMK.010-Tahun-2008-tentang-Besar-Santunan-dan-Sumbangan-Wajib-Dana-Kecelakaan-Lalu-Lintas-Jalan/menas13_1389258036.pdf', 'page_number': 3.0, 'regulation_number': '36/PMK.010/2008', 'regulation_type': 'Klasifikasi Bapepam', 'sector': 'IKNB', 'subsector': 'Asuransi', 'title': 'Peraturan Menteri Keuangan Nomor 36/PMK.010/2008 tentang Besar Santunan dan Sumbangan Wajib Dana Kecelakaan Lalu Lintas Jalan', 'relevance_score': 0.9813822}, page_content='MENTERI KEUANGAN\\nREPUBLIK INDONESIA\\nmemperoleh santunan sebesar Rp 25.000.000,00 (dua puluh lima\\njuta rupiah).\\nb. Korban yang mengalami cacat tetap berhak memperoleh\\nsantunan yang besarnya dihitung berdasarkan angka prosentase\\n Korban yang memerlukan perawatan dan pengobatan berhak\\nrupiah).\\nPasal 3\\nDalam hal korban meninggal dunia akibat kecelakaan alat angkutan\\nlalu lintas jalan tidak mempunyai ahli waris, kepada pihak yang\\nmenyelenggarakan\\ndiberikan\\npenggantian\\nbiaya\\nPasal 4\\n(2) Besar SWDKLLJ sebagaimana dimaksud pada ayat (1) ditentukan\\nsebagai berikut:\\nSepeda motor di bawah 50 cc, mobil ambulance, mobil jenazah\\na.\\ndan mobil pemadam kebakaran dibebaskan dari kewajiban\\nb. Traktor, buidozer, forklift, mobil derek, excavator, crane dan\\nsejenisnya sebesar Rp 20.000,00 (dua puluh ribu rupiah):\\n Sepeda motor, sepeda kumbang dan scooter di atas 50 cc sampai\\n250 cc dan kendaraan bermotor roda tiga sebesar Rp 32.000,00\\n(tiga puluh dua ribu rupiah).\\nd.'),\n",
       " Document(metadata={'effective_date': '26 Februari 2008', 'file_url': 'https://www.ojk.go.id/id/regulasi/Documents/Pages/PMK-Nomor-36PMK.010-Tahun-2008-tentang-Besar-Santunan-dan-Sumbangan-Wajib-Dana-Kecelakaan-Lalu-Lintas-Jalan/menas13_1389258036.pdf', 'page_number': 2.0, 'regulation_number': '36/PMK.010/2008', 'regulation_type': 'Klasifikasi Bapepam', 'sector': 'IKNB', 'subsector': 'Asuransi', 'title': 'Peraturan Menteri Keuangan Nomor 36/PMK.010/2008 tentang Besar Santunan dan Sumbangan Wajib Dana Kecelakaan Lalu Lintas Jalan', 'relevance_score': 0.94229466}, page_content='wajib\\nsebagaimana dimaksud dalam Undang-Undang Nomor 34 Tahun\\n1964 tentang Dana Kecelakaan Lalu Lintas Jalan juncto Peraturan\\nPelaksanaan Dana Kecelakaan Lalu Lintas Jalan.\\n2) SWDKLLJ merupakan premi asuransi yang dibayarkan oleh para\\npengusaha/pemilik alat angkutan lalu lintas jalan kepada\\nperusahaan yang menyelenggarakan Dana Kecelakaan Lalu Lintas\\nJalan.\\nPasal 2\\n(1 Korban kecelakaan alat angkutan lalu lintas jalan atau ahli warisnya\\nberhak atas santunan.\\nBesar santunan sebagaimana dimaksud pada ayat (1) ditentukan\\nsebagai berikut:'),\n",
       " Document(metadata={'effective_date': '26 Februari 2008', 'file_url': 'https://www.ojk.go.id/id/regulasi/Documents/Pages/PMK-Nomor-36PMK.010-Tahun-2008-tentang-Besar-Santunan-dan-Sumbangan-Wajib-Dana-Kecelakaan-Lalu-Lintas-Jalan/menas13_1389258036.pdf', 'page_number': 4.0, 'regulation_number': '36/PMK.010/2008', 'regulation_type': 'Klasifikasi Bapepam', 'sector': 'IKNB', 'subsector': 'Asuransi', 'title': 'Peraturan Menteri Keuangan Nomor 36/PMK.010/2008 tentang Besar Santunan dan Sumbangan Wajib Dana Kecelakaan Lalu Lintas Jalan', 'relevance_score': 0.93868846}, page_content='MENTERI KEUANGAN\\nREPUBLIK INDONESIA\\n-4-\\n Mobil penumpang angkutan umum sampai dengan 1600 cc\\ng. Bus dan mikro bus bukan angkutan umum sebesar Rp150.000,00\\n(seratus lima puluh ribu rupiah).\\nh. Bus dan.mikro bus angkutan umum, serta mobil penumpang\\nangkutan umum lainnya di atas 1600 cc sebesar Rp87.000,00\\n(delapan puluh tujuh ribu rupiah).\\nTruk, mobil tangki, mobil gandengan, mobil barang di atas 2400\\ncc, truk container dan sejenisnya sebesar Rp 160.000,00 (seratus\\n enam puluh ribu rupiah).\\nPasal 5\\nSetiap jenis kendaraan sebagaimana dimaksud dalam Pasal 4, dikenakan\\nbiaya\\n penggantian pembuatan\\n Kartu Dana/Sertifikat sebesar\\nRp 3.000,00 (tiga ribu rupiah).\\nPasal 6\\nTanda Nomor Kendaraan Bermotor sesuai dengan ketentuan\\nperaturan perundang-undangan yang berlaku.\\n2) Dalam hal pembayaran SWDKLLJ dilakukan setelah melewati batas\\n seharusnya dibayar dengan ketentuan denda yang dikenakan paling\\nbesar Rp100.000,00 (seratus ribu rupiah).'),\n",
       " Document(metadata={'effective_date': '26 Februari 2008', 'file_url': 'https://www.ojk.go.id/id/regulasi/Documents/Pages/PMK-Nomor-36PMK.010-Tahun-2008-tentang-Besar-Santunan-dan-Sumbangan-Wajib-Dana-Kecelakaan-Lalu-Lintas-Jalan/menas13_1389258036.pdf', 'page_number': 2.0, 'regulation_number': '36/PMK.010/2008', 'regulation_type': 'Klasifikasi Bapepam', 'sector': 'IKNB', 'subsector': 'Asuransi', 'title': 'Peraturan Menteri Keuangan Nomor 36/PMK.010/2008 tentang Besar Santunan dan Sumbangan Wajib Dana Kecelakaan Lalu Lintas Jalan', 'relevance_score': 0.65599746}, page_content='REPUBLIK INDONESIA\\n Penyelenggaraan Usaha Perasuransian (Lembaran Negara Republik\\nIndonesia Tahun 1992 Nomor 120, Tambahan Lembaran Negara\\nRepublik Indonesia Nomor 3506) sebagaimana telah diubah dengan\\nPeraturan Pemerintah Nomor 63 .Tahun 1999 (Lembaran Negara\\nNegara Republik Indonesia Nomor 3861);\\n Keputusan Presiden Nomor 20/P Tahun 2005j\\n Keputusan Menteri Keuangan Nomor 337/KMK.011/1981 tentang\\nPenunjukan Perusahaan Perseroan (Persero) Asuransi Kerugian Jasa\\nRaharja untuk\\n menyelenggarakan Dana Pertanggungan Wajib\\nKecelakaan Penumpang dan Dana Kecelakaan Lalu Lintas Jalan;\\nMEMUTUSKAN:\\nMenetapkan : PERATURAN\\nMENTERI\\nKEUANGAN\\nTENTANG\\nBESAR\\nLALU LINTAS JALAN\\nPasal 1\\n(1) Sumbangan Wajib Dana Kecelakaan Lalu Lintas Jalan,\\nselanjutnya\\n disebut SWDKLLJ, adalah sumbangan\\nwajib\\nsebagaimana dimaksud dalam Undang-Undang Nomor 34 Tahun\\n1964 tentang Dana Kecelakaan Lalu Lintas Jalan juncto Peraturan\\nPelaksanaan Dana Kecelakaan Lalu Lintas Jalan.'),\n",
       " Document(metadata={'effective_date': '26 Februari 2008', 'file_url': 'https://www.ojk.go.id/id/regulasi/Documents/Pages/PMK-Nomor-36PMK.010-Tahun-2008-tentang-Besar-Santunan-dan-Sumbangan-Wajib-Dana-Kecelakaan-Lalu-Lintas-Jalan/menas13_1389258036.pdf', 'page_number': 3.0, 'regulation_number': '36/PMK.010/2008', 'regulation_type': 'Klasifikasi Bapepam', 'sector': 'IKNB', 'subsector': 'Asuransi', 'title': 'Peraturan Menteri Keuangan Nomor 36/PMK.010/2008 tentang Besar Santunan dan Sumbangan Wajib Dana Kecelakaan Lalu Lintas Jalan', 'relevance_score': 0.00060945016}, page_content='Sepeda motor, sepeda kumbang dan scooter di atas 50 cc sampai\\n250 cc dan kendaraan bermotor roda tiga sebesar Rp 32.000,00\\n(tiga puluh dua ribu rupiah).\\nd.\\nPick up/mobil barang sampai dengan 2400 cc, sedan, jeep dan\\n mobil penumpang bukan angkutan umum sebesar Rp140.000,00\\n(seratus empat puluh ribu rupiah).')]"
      ]
     },
     "execution_count": 243,
     "metadata": {},
     "output_type": "execute_result"
    }
   ],
   "source": [
    "retrieved_docs = retriever.invoke(input=query_str)\n",
    "retrieved_docs"
   ]
  },
  {
   "cell_type": "markdown",
   "metadata": {},
   "source": [
    "### **Generate**"
   ]
  },
  {
   "cell_type": "code",
   "execution_count": 244,
   "metadata": {},
   "outputs": [],
   "source": [
    "import json\n",
    "from operator import itemgetter\n",
    "\n",
    "from langchain_core.output_parsers import StrOutputParser\n",
    "from langchain_core.prompts import ChatPromptTemplate, PromptTemplate\n",
    "from langchain_core.runnables import RunnableMap, RunnablePassthrough\n",
    "from langchain_core.chat_history import BaseChatMessageHistory\n",
    "from langchain_core.runnables import (\n",
    "    ConfigurableFieldSpec,\n",
    "    RunnablePassthrough,\n",
    ")\n",
    "\n",
    "# from utils.chat_history import ChatHistory\n",
    "\n",
    "from langchain_core.retrievers import BaseRetriever\n",
    "\n",
    "# from utils.final_chain_input_type import InputTypeFinalChain\n",
    "\n",
    "from langchain_core.runnables.history import RunnableWithMessageHistory\n",
    "\n",
    "\n",
    "from utils.model_config import ModelName"
   ]
  },
  {
   "cell_type": "code",
   "execution_count": 245,
   "metadata": {},
   "outputs": [],
   "source": [
    "\n",
    "def _format_metadata(metadata):\n",
    "    \"\"\"Remove filename from metadata.\"\"\"\n",
    "    # check if file_name is in metadata\n",
    "    if \"file_name\" in metadata:\n",
    "        metadata.pop(\"file_name\", None)\n",
    "    return metadata\n",
    "\n",
    "\n",
    "def _combine_documents(docs):\n",
    "    \"\"\"Combine documents into a single JSON string.\"\"\"\n",
    "    doc_list = [{\"metadata\": _format_metadata(\n",
    "        doc.metadata), \"page_content\": doc.page_content} for doc in docs]\n",
    "    return json.dumps(doc_list, indent=2)"
   ]
  },
  {
   "cell_type": "code",
   "execution_count": 246,
   "metadata": {},
   "outputs": [],
   "source": [
    "from utils.chat_history import ChatStore\n",
    "\n",
    "# chat_history = ChatHistory(max_history_length=5)\n",
    "K_STORE = 10\n",
    "chat_store = ChatStore(k=K_STORE)"
   ]
  },
  {
   "cell_type": "code",
   "execution_count": 247,
   "metadata": {},
   "outputs": [],
   "source": [
    "from utils.rag_chain_with_chat_history import create_chain_with_chat_history\n",
    "\n",
    "_TEMPLATE = \"\"\"Given the following conversation and a follow-up question, \\\n",
    "rephrase the follow-up question to be a standalone question in its original language. \n",
    "If the follow-up question is not clear, indicate so. \n",
    "If the chat history is not relevant to the follow-up question, please ignore the chat history.\n",
    "\n",
    "Chat History:\n",
    "{chat_history}\n",
    "\n",
    "Follow-up Question: {question}\n",
    "Standalone Question: \"\"\"\n",
    "\n",
    "_ANSWER_TEMPLATE = \"\"\"The context information is below.\n",
    "Context: \n",
    "{context}\n",
    "\n",
    "Based on the context and the metadata information provided, \\\n",
    "answer the query related to banking compliance in Indonesia.\n",
    "Use the context and metadata information only, without relying on prior knowledge. \n",
    "ALWAYS ANSWER IN THE USER'S LANGUAGE.\n",
    "\n",
    "Please provide your answer in the following format, \\\n",
    "including the regulation number and file URL if available:\n",
    "\n",
    "(Answer...) \\n\\n\n",
    "Source: [metadata['regulation_number']](metadata['file_url'])\n",
    "\n",
    "If you cannot find the regulation number, just provide the (Answer...). \n",
    "If the file_url ends with '.pdf', you can add the metadata['page_number'] in the URL like this: \n",
    "\n",
    "(Answer...) \\n\\n\n",
    "Source: [metadata['regulation_number']](metadata['file_url#page=metadata['page_number']')\n",
    "\n",
    "(Answer...) is the answer to the question, don't write '(Answer...)' in the answer.\n",
    "DO NOT PROVIDE AMBIGUOUS ANSWERS.\n",
    "\n",
    "Question: {question}\n",
    "\"\"\"\n",
    "\n",
    "# chain = create_chain_with_chat_history(\n",
    "#     contextualize_q_prompt_str=_TEMPLATE,\n",
    "#     qa_system_prompt_str=_ANSWER_TEMPLATE,\n",
    "#     retriever=retriever,\n",
    "#     llm_model=llm_model,\n",
    "#     get_session_history=chat_store.get_session_history,\n",
    "# )"
   ]
  },
  {
   "cell_type": "code",
   "execution_count": 248,
   "metadata": {},
   "outputs": [],
   "source": [
    "CONTEXTUALIZE_Q_PROMPT_STR = _TEMPLATE\n",
    "QA_SYSTEM_PROMPT_STR = _ANSWER_TEMPLATE\n",
    "QA_PROMPT = ChatPromptTemplate.from_template(QA_SYSTEM_PROMPT_STR)\n",
    "CONTEXTUALIZE_Q_PROMPT = PromptTemplate.from_template(CONTEXTUALIZE_Q_PROMPT_STR)\n",
    "# _inputs_question = RunnableMap(\n",
    "#     standalone_question=RunnablePassthrough.assign(\n",
    "#         chat_history=lambda x: x[\"chat_history\"].get_session_history()\n",
    "#     )\n",
    "#     | CONTEXTUALIZE_Q_PROMPT\n",
    "#     | llm_model\n",
    "#     | StrOutputParser(),\n",
    "# )\n",
    "_inputs_question = CONTEXTUALIZE_Q_PROMPT | llm_model | StrOutputParser()\n",
    "# _context_chain = _inputs_question | itemgetter(\"question\") \n",
    "# test_chain = _inputs_question | retriever | _combine_documents\n",
    "_context_chain = _inputs_question | {\n",
    "    \"context\": retriever | _combine_documents,\n",
    "    \"question\": RunnablePassthrough()\n",
    "} \n",
    "conversational_qa_with_context_chain = (\n",
    "    # _inputs_question\n",
    "    _context_chain\n",
    "    | {\n",
    "        \"question\": itemgetter(\"question\"),\n",
    "        \"answer\": QA_PROMPT | llm_model | StrOutputParser(),\n",
    "        \"context\": itemgetter(\"context\"),\n",
    "    }\n",
    "    # | StrOutputParser()\n",
    ")\n",
    "# final_chain = conversational_qa_with_context_chain.with_types(input_type=InputTypeFinalChain)\n",
    "\n",
    "final_chain = RunnableWithMessageHistory(\n",
    "    conversational_qa_with_context_chain,\n",
    "    get_session_history=chat_store.get_session_history,\n",
    "    input_messages_key=\"question\",\n",
    "    output_messages_key=\"answer\",\n",
    "    history_messages_key=\"chat_history\",\n",
    "    history_factory_config=[\n",
    "        ConfigurableFieldSpec(\n",
    "            id=\"user_id\",\n",
    "            annotation=str,\n",
    "            name=\"User ID\",\n",
    "            description=\"Unique identifier for the user.\",\n",
    "            default=\"\",\n",
    "            is_shared=True,\n",
    "        ),\n",
    "        ConfigurableFieldSpec(\n",
    "            id=\"conversation_id\",\n",
    "            annotation=str,\n",
    "            name=\"Conversation ID\",\n",
    "            description=\"Unique identifier for the conversation.\",\n",
    "            default=\"\",\n",
    "            is_shared=True,\n",
    "        ),\n",
    "    ],\n",
    ")"
   ]
  },
  {
   "cell_type": "code",
   "execution_count": 249,
   "metadata": {},
   "outputs": [],
   "source": [
    "response = final_chain.invoke(\n",
    "    {\"question\": \"Kalau mobil?\"},\n",
    "    config={\n",
    "        \"configurable\": {\"user_id\": \"xmriz\", \"conversation_id\": \"conv1\"}\n",
    "    },\n",
    ")"
   ]
  },
  {
   "cell_type": "code",
   "execution_count": 250,
   "metadata": {},
   "outputs": [
    {
     "data": {
      "text/plain": [
       "{'question': 'Apakah Anda memiliki mobil?',\n",
       " 'answer': '(Answer...) \\nTidak ada informasi yang relevan dalam konteks yang menjawab pertanyaan Anda.',\n",
       " 'context': '[\\n  {\\n    \"metadata\": {\\n      \"effective_date\": \"26 Februari 2008\",\\n      \"file_url\": \"https://www.ojk.go.id/id/regulasi/Documents/Pages/PMK-Nomor-36PMK.010-Tahun-2008-tentang-Besar-Santunan-dan-Sumbangan-Wajib-Dana-Kecelakaan-Lalu-Lintas-Jalan/menas13_1389258036.pdf\",\\n      \"page_number\": 3.0,\\n      \"regulation_number\": \"36/PMK.010/2008\",\\n      \"regulation_type\": \"Klasifikasi Bapepam\",\\n      \"sector\": \"IKNB\",\\n      \"subsector\": \"Asuransi\",\\n      \"title\": \"Peraturan Menteri Keuangan Nomor 36/PMK.010/2008 tentang Besar Santunan dan Sumbangan Wajib Dana Kecelakaan Lalu Lintas Jalan\",\\n      \"relevance_score\": 0.00095846487\\n    },\\n    \"page_content\": \"Sepeda motor, sepeda kumbang dan scooter di atas 50 cc sampai\\\\n250 cc dan kendaraan bermotor roda tiga sebesar Rp 32.000,00\\\\n(tiga puluh dua ribu rupiah).\\\\nd.\\\\nPick up/mobil barang sampai dengan 2400 cc, sedan, jeep dan\\\\n mobil penumpang bukan angkutan umum sebesar Rp140.000,00\\\\n(seratus empat puluh ribu rupiah).\"\\n  },\\n  {\\n    \"metadata\": {\\n      \"effective_date\": \"27 November 2019\",\\n      \"file_url\": \"https://www.ojk.go.id/id/regulasi/Documents/Pages/-Kualitas-Aset-Produktif-dan-Pembentukan-Penyisihan-Penghapusan-Aset-Produktif-Bank-Pembiayaan-Rakyat-Syariah/Ringsek%20dan%20FAQs%20POJK%2029%20-%20KAP%20PPAP%20BPRS.docx\",\\n      \"regulation_number\": \"29/POJK.03/2019\",\\n      \"regulation_type\": \"Peraturan OJK\",\\n      \"sector\": \"Perbankan\",\\n      \"subsector\": \"BPR,  Perbankan Syariah\",\\n      \"title\": \"Kualitas Aset Produktif dan Pembentukan Penyisihan Penghapusan Aset Produktif Bank Pembiayaan Rakyat Syariah\",\\n      \"relevance_score\": 0.0008934456\\n    },\\n    \"page_content\": \"tanah dan/atau bangunan\\\\n50% dari nilai AYDA apabila dimiliki lebih dari 1 s.d. 3 tahun;\\\\n75% dari nilai AYDA apabila dimiliki lebih dari 3 s.d. 5 tahun; dan/atau\\\\n100% dari nilai AYDA apabila dimiliki lebih dari 5 tahun.\\\\nkendaraan bermotor, kapal, perahu bermotor, alat berat, dan/atau mesin\\\\n50% dari nilai AYDA apabila dimiliki lebih dari 1 s.d. 2 tahun; dan/atau\\\\n100% dari nilai AYDA apabila dimiliki lebih dari 2 tahun.\\\\nHapus buku dan/atau hapus tagih hanya dapat dilakukan terhadap penyediaan dana yang memiliki kualitas macet.\"\\n  },\\n  {\\n    \"metadata\": {\\n      \"effective_date\": \"31 Desember 2009\",\\n      \"file_url\": \"https://www.ojk.go.id/id/regulasi/Documents/Pages/Peraturan-BAPEPAM-tentang-Referensi-Premi-Murni-serta-Unsur-Biaya-Administrasi-dan-Biaya-Minimum-Lainnya-2009/BAPEPAM%20PER-07BL2009.pdf\",\\n      \"page_number\": 4.0,\\n      \"regulation_number\": \"PER- 07/BL/2009\",\\n      \"regulation_type\": \"Peraturan Bapepam\",\\n      \"sector\": \"IKNB\",\\n      \"subsector\": \"Asuransi\",\\n      \"title\": \"Peraturan BAPEPAM tentang Referensi Premi Murni serta Unsur Biaya Administrasi dan Biaya Minimum Lainnya Pada Lini Usaha Asuransi Kendaraan Bermotor Tahun 2010\",\\n      \"relevance_score\": 0.0007854739\\n    },\\n    \"page_content\": \"berumur sampai dengan 3 (tiga) tahun. Untuk kendaraan berumur lebih dari    \\\\n3 (tiga) tahun, harus dikenakan premi tambahan yang wajar. \\\\n2. Untuk perluasan Strike, Riot, Civil Commotion (SRCC), Flood, Earthquake, dan \\\\nThird Party Liability (TPL) harus dikenakan premi tambahan. \\\\n3. Unsur premi murni di atas merupakan persentase dari uang pertanggungan. \\\\n4. Deductible minimum sebesar Rp200.000,00 (dua ratus ribu rupiah). \\\\n5. Premi murni paling sedikit 50% (lima puluh per seratus) dari premi bruto.  \\\\nII. PREMI YANG DIBEBANKAN PADA TERTANGGUNG \\\\nPremi yang dibebankan pada tertanggung adalah premi murni ditambah biaya \\\\nadministrasi dan umum, biaya akuisisi, dan keuntungan perusahaan.\"\\n  },\\n  {\\n    \"metadata\": {\\n      \"effective_date\": \"31 Desember 2009\",\\n      \"file_url\": \"https://www.ojk.go.id/id/regulasi/Documents/Pages/Peraturan-BAPEPAM-tentang-Referensi-Premi-Murni-serta-Unsur-Biaya-Administrasi-dan-Biaya-Minimum-Lainnya-2009/BAPEPAM%20PER-07BL2009.pdf\",\\n      \"page_number\": 3.0,\\n      \"regulation_number\": \"PER- 07/BL/2009\",\\n      \"regulation_type\": \"Peraturan Bapepam\",\\n      \"sector\": \"IKNB\",\\n      \"subsector\": \"Asuransi\",\\n      \"title\": \"Peraturan BAPEPAM tentang Referensi Premi Murni serta Unsur Biaya Administrasi dan Biaya Minimum Lainnya Pada Lini Usaha Asuransi Kendaraan Bermotor Tahun 2010\",\\n      \"relevance_score\": 0.00037850367\\n    },\\n    \"page_content\": \"Kendaraan Bermotor dihitung dengan menggunakan referensi unsur \\\\npremi murni sesuai Lampiran 1  Peraturan Ketua Badan Pengawas \\\\nPasar Modal dan Lembaga Keuangan ini. \\\\nPasal 5 \\\\nPeraturan Ketua Badan Pengawas Pasar Modal dan Lembaga \\\\nKeuangan Nomor PER-06/BL/2008 tentang Referensi Unsur Premi \\\\nMurni Serta Unsur Biaya Administrasi Dan Biaya Umum Lainnya \\\\nPada Lini Usaha Asuransi Kendaraan Bermotor Tahun 2008 - 2009 \\\\nberlaku sampai dengan tanggal 28 Februari 2010. \\\\nPasal 6 \\\\nPeraturan Ketua Badan Pengawas Pasar Modal dan Lembaga \\\\nKeuangan ini mulai berlaku pada tanggal 1 Maret 2010. \\\\nAgar setiap orang mengetahuinya, memerintahkan pengumuman \\\\nPeraturan Ketua Badan Pengawas Pasar Modal dan Lembaga \\\\nKeuangan ini dengan penempatannya dalam Berita Negara Republik \\\\nIndonesia.  \\\\n \\\\nDitetapkan di \\\\n:  Jakarta \\\\npada tanggal \\\\n:  31 Desember  2009 \\\\n \\\\n \\\\n \\\\nSalinan sesuai dengan aslinya \\\\nKepala Bagian Umum \\\\n \\\\nttd. \\\\n \\\\nPrasetyo Wahyu Adi Suryo  \\\\nNIP 060076008 \\\\nKetua Badan Pengawas Pasar Modal\"\\n  },\\n  {\\n    \"metadata\": {\\n      \"effective_date\": \"26 Februari 2008\",\\n      \"file_url\": \"https://www.ojk.go.id/id/regulasi/Documents/Pages/PMK-Nomor-36PMK.010-Tahun-2008-tentang-Besar-Santunan-dan-Sumbangan-Wajib-Dana-Kecelakaan-Lalu-Lintas-Jalan/menas13_1389258036.pdf\",\\n      \"page_number\": 4.0,\\n      \"regulation_number\": \"36/PMK.010/2008\",\\n      \"regulation_type\": \"Klasifikasi Bapepam\",\\n      \"sector\": \"IKNB\",\\n      \"subsector\": \"Asuransi\",\\n      \"title\": \"Peraturan Menteri Keuangan Nomor 36/PMK.010/2008 tentang Besar Santunan dan Sumbangan Wajib Dana Kecelakaan Lalu Lintas Jalan\",\\n      \"relevance_score\": 0.0003500686\\n    },\\n    \"page_content\": \"MENTERI KEUANGAN\\\\nREPUBLIK INDONESIA\\\\n-4-\\\\n Mobil penumpang angkutan umum sampai dengan 1600 cc\\\\ng. Bus dan mikro bus bukan angkutan umum sebesar Rp150.000,00\\\\n(seratus lima puluh ribu rupiah).\\\\nh. Bus dan.mikro bus angkutan umum, serta mobil penumpang\\\\nangkutan umum lainnya di atas 1600 cc sebesar Rp87.000,00\\\\n(delapan puluh tujuh ribu rupiah).\\\\nTruk, mobil tangki, mobil gandengan, mobil barang di atas 2400\\\\ncc, truk container dan sejenisnya sebesar Rp 160.000,00 (seratus\\\\n enam puluh ribu rupiah).\\\\nPasal 5\\\\nSetiap jenis kendaraan sebagaimana dimaksud dalam Pasal 4, dikenakan\\\\nbiaya\\\\n penggantian pembuatan\\\\n Kartu Dana/Sertifikat sebesar\\\\nRp 3.000,00 (tiga ribu rupiah).\\\\nPasal 6\\\\nTanda Nomor Kendaraan Bermotor sesuai dengan ketentuan\\\\nperaturan perundang-undangan yang berlaku.\\\\n2) Dalam hal pembayaran SWDKLLJ dilakukan setelah melewati batas\\\\n seharusnya dibayar dengan ketentuan denda yang dikenakan paling\\\\nbesar Rp100.000,00 (seratus ribu rupiah).\"\\n  },\\n  {\\n    \"metadata\": {\\n      \"effective_date\": \"27 November 2019\",\\n      \"file_url\": \"https://www.ojk.go.id/id/regulasi/Documents/Pages/-Kualitas-Aset-Produktif-dan-Pembentukan-Penyisihan-Penghapusan-Aset-Produktif-Bank-Pembiayaan-Rakyat-Syariah/Ringsek%20dan%20FAQs%20POJK%2029%20-%20KAP%20PPAP%20BPRS.docx\",\\n      \"regulation_number\": \"29/POJK.03/2019\",\\n      \"regulation_type\": \"Peraturan OJK\",\\n      \"sector\": \"Perbankan\",\\n      \"subsector\": \"BPR,  Perbankan Syariah\",\\n      \"title\": \"Kualitas Aset Produktif dan Pembentukan Penyisihan Penghapusan Aset Produktif Bank Pembiayaan Rakyat Syariah\",\\n      \"relevance_score\": 0.00016997529\\n    },\\n    \"page_content\": \"Kewajiban AYDA menjadi faktor pengurang modal inti pada dasarnya merupakan disinsentif kepemilikan aset yang tidak digunakan dalam kegiatan usaha BPRS sehingga BPRS didorong untuk menyelesaikan AYDA dimaksud.\\\\nTidak terdapat aturan terkait dengan agunan berupa kendaraan bermotor yang tidak diikat dengan fidusia sebagaimana diatur pada Peraturan Bank Indonesia sebelumnya.\\\\nMempertimbangkan risiko hukum serta proses pendaftaran fidusia yang semakin mudah (dapat dilakukan secara online), maka agunan berupa kendaraan bermotor yang tidak diikat fidusia tidak dapat dijadikan sebagai pengurang dalam pembentukan PPAP.\"\\n  }\\n]'}"
      ]
     },
     "execution_count": 250,
     "metadata": {},
     "output_type": "execute_result"
    }
   ],
   "source": [
    "response"
   ]
  },
  {
   "cell_type": "code",
   "execution_count": 251,
   "metadata": {},
   "outputs": [
    {
     "name": "stdout",
     "output_type": "stream",
     "text": [
      "Human: Kalau mobil?\n",
      "AI: (Answer...) \n",
      "Tidak ada informasi yang relevan dalam konteks yang menjawab pertanyaan Anda.\n"
     ]
    }
   ],
   "source": [
    "print(chat_store.get_session_history(user_id=\"xmriz\", conversation_id=\"conv1\"))"
   ]
  },
  {
   "cell_type": "markdown",
   "metadata": {},
   "source": [
    "#### **Streaming**"
   ]
  },
  {
   "cell_type": "code",
   "execution_count": 252,
   "metadata": {},
   "outputs": [],
   "source": [
    "# from utils.rag_chain_with_chat_history import get_response\n",
    "\n",
    "# response = get_response(\n",
    "#     chain=chain,\n",
    "#     question=query_str,\n",
    "#     user_id=\"xmriz\",\n",
    "#     conversation_id=\"conv123\",\n",
    "# )\n",
    "\n",
    "# response"
   ]
  },
  {
   "cell_type": "code",
   "execution_count": 253,
   "metadata": {},
   "outputs": [],
   "source": [
    "# from utils.rag_chain_with_chat_history import print_answer_stream\n",
    "\n",
    "# await print_answer_stream(chain=chain, chat_history=chat_history, question=query_str)"
   ]
  },
  {
   "cell_type": "markdown",
   "metadata": {},
   "source": [
    "#### **With Question, Answer, and Context**"
   ]
  },
  {
   "cell_type": "code",
   "execution_count": 254,
   "metadata": {},
   "outputs": [],
   "source": [
    "# from utils.rag_chain_with_chat_history import get_response\n",
    "\n",
    "# response = get_response(chat_history=chat_history, chain=chain, question=\"Kalau mobil?\")\n",
    "# response"
   ]
  },
  {
   "cell_type": "code",
   "execution_count": 255,
   "metadata": {},
   "outputs": [],
   "source": [
    "# print(response['answer'])"
   ]
  },
  {
   "cell_type": "code",
   "execution_count": 256,
   "metadata": {},
   "outputs": [],
   "source": [
    "# print(response['context'])"
   ]
  },
  {
   "cell_type": "code",
   "execution_count": 257,
   "metadata": {},
   "outputs": [],
   "source": [
    "# print(chat_history.get_formatted_history())"
   ]
  },
  {
   "cell_type": "markdown",
   "metadata": {},
   "source": [
    "## **Evaluation**"
   ]
  },
  {
   "cell_type": "code",
   "execution_count": 258,
   "metadata": {},
   "outputs": [],
   "source": [
    "# eval_questions = [\n",
    "#     \"Apa itu SWDKLLJ?\",\n",
    "#     \"Bursa Efek wajib menyampaikan laporan realisasi anggaran kepada Bapepam melalui dewan komisaris dengan ketentuan apa?\",\n",
    "#     \"KEPUTUSAN KETUA BADAN PENGAWAS PASAR MODAL NOMOR KEP-06/PM/1996 tentang apa?\",\n",
    "#     \"Siapa yang menandatangani keputusan ketua bapepam nomor kep-07/PM/1996?\",\n",
    "#     \"Penolakan atas permohonan persetujuan mengenai pengajuan atau perubahan peraturan Lembaga Kliring dan Penjaminan dilakukan dengan menggunakan formulir nomor berapa?\",\n",
    "#     \"Anggota Dewan Pengawas Syariah Perusahaan Pembiayaan dilarang untuk apa?\",\n",
    "#     \"Berapa uang pertanggungan dan pertanggungan total loss only (tlo) untuk kategori 5?\",\n",
    "#     \"Perusahaan wajib menyampaikan laporan hasil pengawasan Dewan Pengawas Syariah sebagaimana dimaksud dalam Pasal 2 dalam bentuk apa, kepada siapa, dan paling lambat kapan?\",\n",
    "#     \"Batas tingkat solvabilitas minimum bagi perusahaan asuransi dan perusahaan reasuransi ditingkatkan berdasarkan apa?\",\n",
    "#     \"Kapan PERATURAN KETUA BADAN PENGAWAS PASAR MODAL DAN LEMBAGA KEUANGAN NOMOR: PER- 10/BL/2012 mulai berlaku?\",\n",
    "#     \"Apa itu Dana Tabarru’\",\n",
    "#     \"Dalam rangka mendorong pertumbuhan industri Dana Pensiun, dipandang perlu mengubah ketentuan mengenai sanksi administratif berupa apa?\",\n",
    "#     \"Laporan Tahunan dan Laporan Semester sekurang-kurangnya mencakup aspek apa saja?\",\n",
    "#     \"Pendiri harus mengajukan permohonan tertulis kepada siapa untuk mendapatkan pengesahan pendirian Dana Pensiun Lembaga Keuangan?\",\n",
    "#     \"Berapa tarif pemotongan pajak untuk penghasilan bruto di atas seratus juta sampai dengan dua ratus juta rupiah?\",\n",
    "#     \"Apa yang dimaksud dengan 'telah beroperasi'?\",\n",
    "#     \"Lembaga Jasa Keuangan Non-Bank yang tidak memenuhi ketentuan Pasal 2 dan Pasal 3 dalam Peraturan OJK ini, dikenakan sanksi administratif berupa apa saja?\",\n",
    "#     \"Apa yang dimaksud dengan Lembaga Sertifikasi Profesi?\",\n",
    "#     \"Apa pertimbangan profil risiko perusahaan?\",\n",
    "#     \"LJKNB yang memiliki total aset lebih dari Rp500.000.000.000,00 (lima ratus miliar rupiah) sampai dengan Rp1.000.000.000.000,00 (satu triliun rupiah) wajib untuk apa?\",\n",
    "#     \"Siapa presiden republik Indonesia yang menandatangani peraturan pemerintah republik Indonesia nomor 12 Tahun 2004?\",\n",
    "#     \"Berapa jumlah modal yang disetor bursa efek?\",\n",
    "#     \"Bagaimana norma pemeriksaan yang menyangkut pihak yang diperiksa?\",\n",
    "#     \"Apa isi Pasal II PERATURAN PEMERINTAH REPUBLIK INDONESIA NOMOR 63 TAHUN 1999?\",\n",
    "#     \"Berapa modal yang disetor bagi perusahaan Asuransi Jiwa yang seluruh pemiliknya warga negara Indonesia?\",\n",
    "#     \"Apa itu Bank Perkreditan Rakyat?\",\n",
    "#     \"Bagaimana pelaksanaan wawancara jika calon pemegang saham pengendali BPR adalah pemerintah?\",\n",
    "#     \"Berapa modal yang disetor untuk mendirikan Bank Umum?\",\n",
    "#     \"Bagaimana cara bank untuk meningkatkan good corporate governance?\",\n",
    "#     \"Peraturan Bank Indonesia Nomor 7/33/PBI/2005 berisi pencabutan atas peraturan bank indonesia nomor berapa dan tentang apa?\",\n",
    "#     \"Surat edaran bank indonesia no 15/14/DPNP ditujukan kepada siapa?\",\n",
    "#     \"Apa isi ketentuan peralihan dari surat edaran No. 15/20/DKBU?\",\n",
    "#     \"Surat edaran bank indonesia No. 15/22/DPbS mencabut surat edaran bank indonesia nomor berapa?\",\n",
    "#     \"Kapan dan di mana Surat Edaran No. 15/25/DPNP mulai berlaku?\",\n",
    "#     \"Bank Syariah wajib membentuk cadangan kerugian penurunan nilai (CKPN) atas apa?\",\n",
    "#     \"Berapa penurunan IHSG BEI sejak tanggal 20 Mei 2013-27 Agustus 2013?\",\n",
    "#     \"Berapa lama Pengguna S-INVEST yang bertindak sebagai Bank Kustodian melakukan uji coba penyampaian surat?\",\n",
    "#     \"Apa judul regulasi nomor 1/SEOJK.04/2002?\",\n",
    "#     \"Penilaian Faktor Profil Risiko, menjelaskan mengenai mekanisme penilaian faktor profil risiko, yang terdiri dari 9 jenis risiko, apa saja jenis risiko tersebut?\",\n",
    "#     \"Sumber daya merupakan kriteria dalam melakukan penilaian terhadap lembaga pemeringkat yang digunakan untuk apa?\",\n",
    "#     \"Asuransi dapat diberikan dalam bentuk apa saja?\",\n",
    "#     \"Badan Supervisi terdiri dari berapa anggota?\",\n",
    "#     \"Apa yang dimaksud dengan Dana Pensiun berdasarkan pasal 134 UU PPSK?\",\n",
    "#     \"Tahun berapa krisis keuangan terbesar di Amerika Serikat pernah terjadi?\",\n",
    "#     \"Siapa menteri keuangan yang mensahkan UU RI Nomor 84 Tahun 1958?\"\n",
    "# ]\n",
    "\n",
    "# eval_answers = [\n",
    "#     \"Sumbangan Wajib Dana Kecelakaan Lalu Lintas adalah sumbangan wajib sebagaimana dimaksud dalam Undang-Undang Nomor 34 Tahun 1964 tentang Dana Kecelakaan Lalu Lintas Jalan juncto Peraturan Pemerintah Nomor 18 Tahun 1965 tentang Ketentuan-Ketentuan Pelaksanaan Dana Kecelakaan Lalu Lintas Jalan\",\n",
    "#     \"Bursa Efek wajib menyampaikan laporan realisasi anggaran kepada Bapepam melalui dewan komisaris, dengan ketentuan bahwa laporan tersebut disampaikan secara kumulatif triwulanan dan diterima oleh Bapepam selambat-lambatnya pada hari ke dua belas setelah berakhirnya triwulan yang bersangkutan\",\n",
    "#     \"TATA CARA PEMBERIAN PERSETUJUAN ANGGARAN DASAR BURSA EFEK\",\n",
    "#     \"I Putu Gede Ary Suta, Badan Pengawas Pasar Modal\",\n",
    "#     \"Penolakan atas permohonan persetujuan mengenai pengajuan atau perubahan peraturan Lembaga Kliring dan Penjaminan dilakukan dengan menggunakan Formulir Nomor III.B.2-3 lampiran 3 peraturan ini.\",\n",
    "#     \"Dilarang melakukan rangkap jabatan sebagai anggota direksi atau dewan komisaris pada Perusahaan Pembiayaan, Dilarang merangkap jabatan sebagai anggota Dewan Pengawas Syariah lebih dari 2 (dua) Perusahaan Pembiayaan lain.\",\n",
    "#     \"Lebih dari Rp800.0000.000,00 dan 0,28%\",\n",
    "#     \"Perusahaan wajib menyampaikan laporan hasil pengawasan Dewan Pengawas Syariah sebagaimana dimaksud dalam Pasal 2 dalam bentuk dokumen fisik (hardcopy) dan format digital (softcopy) kepada Biro Perasuransian Badan Pengawas Pasar Modal dan Lembaga Keuangan, paling lambat tanggal 31 Maret tahun berikutnya.\",\n",
    "#     \"Batas tingkat solvabilitas minimum bagi perusahaan asuransi dan perusahaan reasuransi sebagaimana dimaksud dalam Pasal 3 Keputusan Menteri Keuangan Nomor 424/KMK.06/2003 tentang Kesehatan Keuangan Perusahaan Asuransi dan Perusahaan Reasuransi sebagaimana telah beberapa kali diubah terakhir dengan Peraturan Menteri Keuangan Nomor 158/PMK.010/2008, ditetapkan berdasarkan besarnya risiko kerugian yang mungkin timbul sebagai akibat dari deviasi dalam pengelolaan kekayaan dan kewajiban.\",\n",
    "#     \"Peraturan Ketua ini mulai berlaku pada tanggal 1 Juni 2013.\",\n",
    "#     \"Dana Tabarru’ adalah kumpulan dana yang berasal dari kontribusi para peserta, yang mekanisme penggunaannya sesuai dengan Akad Tabarru’ yang disepakati\",\n",
    "#     \"Dalam rangka mendorong pertumbuhan industri Dana Pensiun, dipandang perlu mengubah ketentuan mengenai sanksi administratif berupa denda atas keterlambatan penyampaian laporan investasi sebagaimana telah ditetapkan dalam Peraturan Menteri Keuangan Nomor 199/PMK.010/2008 tentang Investasi Dana Pensiun\",\n",
    "#     \"Operasional, keuangan, investasi, aktuaria, dan statistik\",\n",
    "#     \"Pendiri harus mengajukan permohonan tertulis kepada Menteri c.q. Ketua Badan Pengawas Pasar Modal dan Lembaga Keuangan u.p. Kepala Biro Dana Pensiun, Badan Pengawas Pasar Modal dan Lembaga Keuangan untuk mendapatkan pengesahan pendirian Dana Pensiun Lembaga Keuangan\",\n",
    "#     \"15%\",\n",
    "#     \"Yang dimaksud dengan “telah beroperasi” adalah telah mendapatkan izin usaha bagi perusahaan asuransi jiwa, perusahaan asuransi umum, perusahaan reasuransi, dan lembaga penjaminan termasuk yang menyelenggarakan seluruh atau sebagian usahanya dengan prinsip syariah, atau telah memperoleh pengesahan bagi dana pensiun pemberi kerja.\",\n",
    "#     \"Peringatan tertulis, penilaian kembali kemampuan dan kepatutan, larangan menjadi pemegang saham\",\n",
    "#     \"Lembaga Sertifikasi Profesi adalah lembaga pelaksana kegiatan sertifikasi profesi yang memperoleh lisensi dari lembaga negara yang berwenang memberikan lisensi terhadap lembaga sertifikasi profesi di Indonesia.\",\n",
    "#     \"Profil risiko Perusahaan mempertimbangkan antara lain letak geografis, produk Perusahaan, rencana bisnis, dan klaim experience dalam mengukur profil risiko serta mempertimbangkan hasil simulasi skenario perubahan (stress test). Selain itu Perusahaan dapat mempertimbangkan risiko lain yang mungkin timbul antara lain berasal dari rencana perubahan strategi dan/atau pengembangan bisnis Perusahaan.\",\n",
    "#     \"Memiliki pusat data dan melakukan rekam cadang data aktivitas yang diproses menggunakan Teknologi Informasi yang dilakukan secara berkala\",\n",
    "#     \"Megawati Soekarnoputri\",\n",
    "#     \"Modal disetor Bursa Efek sekurang-kurangnya berjumlah Rp7.500.000.000,00 (tujuh miliar lima ratus juta rupiah).\",\n",
    "#     \"Pihak yang diperiksa berhak meminta kepada Pemeriksa untuk memperlihatkan Surat Perintah Pemeriksaan dan Tanda Pengenal Pemeriksa, Pihak yang diperiksa berhak meminta kepada Pemeriksa untuk memberikan penjelasan tentang maksud dan tujuan pemeriksaan, dan Pihak yang diperiksa menandatangani surat pernyataan persetujuan tentang hasil pemeriksaan.\",\n",
    "#     \"Bagi permohonan izin usaha Perusahaan Asuransi dan Perusahaan Reasuransi yang telah diajukan dan yang telah memperoleh izin prinsip sebelum Peraturan Pemerintah ini ditetapkan, persyaratan permodalan tetap diberlakukan berdasarkan persyaratan yang berlaku pada saat izin prinsip ditetapkan.\",\n",
    "#     \"Rp. 2.000.000.000,-\",\n",
    "#     \"Bank Perkreditan Rakyat, yang selanjutnya disebut BPR, adalah Bank Perkreditan Rakyat sebagaimana dimaksud dalam Pasal 1 angka 4 Undang Undang Nomor 7 Tahun 1992 tentang Perbankan sebagaimana telah diubah dengan Undang-undang Nomor 10 Tahun 1998, yang melaksanakan kegiatan usaha secara konvensional.\",\n",
    "#     \"Dalam hal calon Pemegang Saham Pengendali BPR adalah pemerintah, maka pelaksanaan wawancara sebagaimana dimaksud dalam Pasal 8 ayat (1) huruf b hanya dilakukan apabila dianggap perlu.\",\n",
    "#     \"Modal disetor untuk mendirikan Bank ditetapkan sekurang-kurangnya sebesar Rp3.000.000.000.000,00 (tiga triliun rupiah).\",\n",
    "#     \"Bahwa dalam rangka meningkatkan good corporate governance, bank perlu menetapkan sasaran strategis dan seperangkat nilai perusahaan (corporate values) yang mengarahkan kegiatan operasional bank;\",\n",
    "#     \"PERATURAN BANK INDONESIA NOMOR 5/17/PBI/2003 TENTANG PERSYARATAN DAN TATA CARA PELAKSANAAN JAMINAN PEMERINTAH TERHADAP KEWAJIBAN PEMBAYARAN BANK PERKREDITAN RAKYAT\",\n",
    "#     \"Kepada SEMUA BANK UMUM YANG MELAKUKAN KEGIATAN USAHA SECARA KONVENSIONAL DI INDONESIA\",\n",
    "#     \"A. Penyusunan dan penyampaian Laporan Bulanan dan/atau Koreksi Laporan Bulanan untuk posisi bulan sebelum bulan Agustus 2013 tetap berpedoman pada Surat Edaran Bank Indonesia Nomor 8/7/DPBPR tanggal 23 Februari 2006 perihal Laporan Bulanan Bank Perkreditan Rakyat sebagaimana telah diubah terakhir dengan Surat Edaran Bank Indonesia Nomor 12/15/DKBU tanggal 11 Juni 2010. B. BPR Pelapor melakukan uji coba penyampaian Laporan Bulanan untuk posisi bulan Juni dan Juli 2013 yang masing-masing disampaikan paling lambat pada akhir bulan berikutnya, dengan berpedoman pada Surat Edaran Bank Indonesia ini.\",\n",
    "#     \"Dengan berlakunya Surat Edaran Bank Indonesia ini maka Surat Edaran Bank Indonesia Nomor 8/19/DPbS tanggal 24 Agustus 2006 perihal Pedoman Pengawasan Syariah dan Tata Cara Pelaporan Hasil Pengawasan bagi Dewan Pengawas Syariah dicabut dan dinyatakan tidak berlaku.\",\n",
    "#     \"Jakarta, 9 Juli 2013\",\n",
    "#     \"Bank Syariah wajib membentuk cadangan kerugian penurunan nilai (CKPN) atas aset keuangan dan aset non keuangan sesuai dengan standar akuntansi keuangan yang berlaku.\",\n",
    "#     \"Berdasarkan pertimbangan sebagaimana dimaksud angka I, maka penurunan Indeks Harga Saham Gabungan Bursa Efek Indonesia sejak tanggal 20 Mei 2013 sampai dengan tanggal 27 Agustus 2013 ini sebesar 1.247,134 poin atau 23,91% (dua puluh tiga koma sembilan satu perseratus) ditetapkan sebagai Kondisi Lain sebagaimana dimaksud Pasal 1 angka 1 huruf b POJK Nomor 2/POJK.04/2013.\",\n",
    "#     \"Pengguna S-INVEST yang bertindak sebagai Bank Kustodian melakukan uji coba penyampaian surat atau bukti konfirmasi dan laporan berkala Reksa Dana melalui S-INVEST dalam jangka waktu 12 (dua belas) bulan sejak ditetapkannya Surat Edaran Otoritas Jasa Keuangan ini\",\n",
    "#     \"SURAT EDARAN OTORITAS JASA KEUANGAN REPUBLIK INDONESIA NOMOR 1/SEOJK.04/2022 TENTANG TATA CARA PERMOHONAN PERSETUJUAN SEBAGAI PENYEDIA SISTEM PENYELENGGARAAN RAPAT UMUM PEMEGANG SAHAM SECARA ELEKTRONIK (E-RUPS)\",\n",
    "#     \"Risiko inheren atas risiko strategis, operasional, asuransi, kredit, pasar, likuiditas, hukum, kepatuhan, dan reputasi.\",\n",
    "#     \"Kriteria ini digunakan untuk menilai kemampuan lembaga pemeringkat dalam memberikan jasa pemeringkatan, baik dari aspek sumber daya manusia (human resources), aspek sumber daya keuangan (financial resources), maupun dukungan pemegang saham, yang memungkinkan lembaga pemeringkat beroperasi secara independen dan profesional.\",\n",
    "#     \"Asuransi atas risiko kegagalan Ekspor, atas risiko kegagalan bayar, atas investasi yang dilakukan oleh perusahaan Indonesia di luar negeri, dan/atau atas risiko politik di suatu negara yang menjadi tujuan ekspor\",\n",
    "#     \"Badan Supervisi terdiri 5 (lima) orang anggota terdiri dari seorang Ketua merangkap anggota, dan 4 (empat) orang anggota yang dipilih oleh Dewan Perwakilan Rakyat dan diangkat oleh Presiden untuk masa jabatan 3 (tiga) tahun dan dapat dipilih kembali untuk satu kali masa jabatan berikutnya.\",\n",
    "#     \"Berdasarkan Pasal 134 UU PPSK, Dana Pensiun adalah badan hukum yang mengelola dan menjalankan program yang menjanjikan manfaat pensiun. Selain manfaat pensiun, Dana Pensiun dapat menyelanggarakan manfaat lain sebagai manfaat tambahan sebagaimana diatur dalam peraturan perundang-undangan di bidang Dana Pensiun.\",\n",
    "#     \"Krisis keuangan akhir-akhir ini di Amerika Serikat yang merupakan terbesar sejak krisis 1929\",\n",
    "#     \"Soetikno Slamet\"\n",
    "# ]\n",
    "\n",
    "eval_questions = [\n",
    "    \"Apa itu SWDKLLJ?\",\n",
    "    \"Dipungut dari mana?\",\n",
    "    \"Berapa yang dipungut untuk sepeda motor di bawah 50cc?\",\n",
    "    \"Kalau traktor?\",\n",
    "    \"Kendaraan apa yang memiliki SWDKLLJ terbesar?\",\n",
    "    \"Berapa nilainya?\",\n",
    "    \"Apakah kendaraan-kendaraan tersebut dikenakan biaya penggantian pembuatan Kartu Dana/Sertifikat?\",\n",
    "    \"Apa judul peraturan yang membahas tentang SWDKLLJ tersebut?\",\n",
    "    \"Berapa nomor regulasi peraturan tersebut?\",\n",
    "    \"Kapan dan dimana peraturan tersebut ditetapkan?\"\n",
    "]\n",
    "\n",
    "eval_answers = [\n",
    "    \"Sumbangan Wajib Dana Kecelakaan Lalu Lintas adalah sumbangan wajib sebagaimana dimaksud dalam Undang-Undang Nomor 34 Tahun 1964 tentang Dana Kecelakaan Lalu Lintas Jalan juncto Peraturan Pemerintah Nomor 18 Tahun 1965 tentang Ketentuan-Ketentuan Pelaksanaan Dana Kecelakaan Lalu Lintas Jalan.\",\n",
    "    \"SWDKLLJ dipungut dari para pengusaha/pemilik angkutan lalu lintas jalan.\",\n",
    "    \"Sepeda motor di bawah 50cc, mobil ambulance, mobil jenazah, dan mobil pemadam kebakaran dibebaskan dari kewajiban membayar SWDKLLJ.\",\n",
    "    \"Traktor, buldozer, forklift, mobil derek, excavator, crane dan sejenisnya sebesar Rp 20.000,00 (dua puluh ribu rupiah).\",\n",
    "    \"Truk, mobil tangki, mobil gandengan, mobil barang di atas 2400 cc, truk container dan sejenisnya.\",\n",
    "    \"Rp 160.000,00.\",\n",
    "    \"Ya, setiap jenis kendaraan sebagaimana dimaksud dalam Pasal 4, dikenakan biaya penggantian pembuatan Kartu Dana/Sertifikat sebesar Rp 3.000,00.\",\n",
    "    \"Besar Santunan dan Sumbangan Wajib Dana Kecelakaan Lalu Lintas Jalan.\",\n",
    "    \"Peraturan Menteri Keuangan Nomor 36/PMK.010/2008.\",\n",
    "    \"26 Februari 2008 di Jakarta.\"\n",
    "]\n",
    "\n",
    "examples = [\n",
    "    {\"query\": q, \"ground_truth\": [eval_answers[i]]}\n",
    "    for i, q in enumerate(eval_questions)\n",
    "]"
   ]
  },
  {
   "cell_type": "code",
   "execution_count": 259,
   "metadata": {},
   "outputs": [
    {
     "name": "stdout",
     "output_type": "stream",
     "text": [
      "using existing dataset:  Chatbot OJK Langchain\n"
     ]
    }
   ],
   "source": [
    "from langsmith import Client\n",
    "from langsmith.utils import LangSmithError\n",
    "\n",
    "client = Client()\n",
    "dataset_name = \"Chatbot OJK Langchain\"\n",
    "\n",
    "try:\n",
    "    # check if dataset exists\n",
    "    dataset = client.read_dataset(dataset_name=dataset_name)\n",
    "    print(\"using existing dataset: \", dataset.name)\n",
    "except LangSmithError:\n",
    "    # if not create a new one with the generated query examples\n",
    "    dataset = client.create_dataset(\n",
    "        dataset_name=dataset_name, description=\"OJK Langchain test dataset\"\n",
    "    )\n",
    "    for e in examples:\n",
    "        client.create_example(\n",
    "            inputs={\"query\": e[\"query\"]},\n",
    "            outputs={\"ground_truth\": e[\"ground_truth\"]},\n",
    "            dataset_id=dataset.id,\n",
    "        )\n",
    "\n",
    "    print(\"Created a new dataset: \", dataset.name)"
   ]
  },
  {
   "cell_type": "code",
   "execution_count": 260,
   "metadata": {},
   "outputs": [],
   "source": [
    "import time\n",
    "from datasets import Dataset\n",
    "\n",
    "results = []\n",
    "contexts = []\n",
    "queries = eval_questions\n",
    "ground_truths = eval_answers\n",
    "\n",
    "for query in queries:\n",
    "    result = final_chain.invoke(\n",
    "        {\"question\": query},\n",
    "        config={\n",
    "            \"configurable\": {\"user_id\": \"xmriz\", \"conversation_id\": \"conv1\"}\n",
    "        },\n",
    "    )\n",
    "\n",
    "    results.append(result['answer'])\n",
    "    sources = result[\"context\"]\n",
    "    final_sources = list(eval(sources))\n",
    "    contents = []\n",
    "    for source in final_sources:\n",
    "        contents.append(source.get('page_content'))\n",
    "    contexts.append(contents)\n",
    "\n",
    "    time.sleep(2)\n",
    "\n",
    "d = {\n",
    "    \"question\": queries,\n",
    "    \"answer\": results,\n",
    "    \"contexts\": contexts,\n",
    "    \"ground_truth\": ground_truths\n",
    "}\n",
    "\n",
    "dataset = Dataset.from_dict(d)"
   ]
  },
  {
   "cell_type": "code",
   "execution_count": 261,
   "metadata": {},
   "outputs": [
    {
     "name": "stdout",
     "output_type": "stream",
     "text": [
      "Human: Berapa nilainya?\n",
      "AI: Besar SWDKLLJ untuk kendaraan truk, mobil tangki, mobil gandengan, mobil barang di atas 2400 cc, truk container, dan sejenisnya adalah Rp 160.000,00 (seratus enam puluh ribu rupiah).\n",
      "\n",
      "Source: [36/PMK.010/2008](https://www.ojk.go.id/id/regulasi/Documents/Pages/PMK-Nomor-36PMK.010-Tahun-2008-tentang-Besar-Santunan-dan-Sumbangan-Wajib-Dana-Kecelakaan-Lalu-Lintas-Jalan/menas13_1389258036.pdf#page=4.0)\n",
      "Human: Apakah kendaraan-kendaraan tersebut dikenakan biaya penggantian pembuatan Kartu Dana/Sertifikat?\n",
      "AI: Ya, kendaraan-kendaraan tersebut dikenakan biaya untuk pembuatan Kartu Dana/Sertifikat.\n",
      "\n",
      "Source: [36/PMK.010/2008](https://www.ojk.go.id/id/regulasi/Documents/Pages/PMK-Nomor-36PMK.010-Tahun-2008-tentang-Besar-Santunan-dan-Sumbangan-Wajib-Dana-Kecelakaan-Lalu-Lintas-Jalan/menas13_1389258036.pdf#page=4)\n",
      "Human: Apa judul peraturan yang membahas tentang SWDKLLJ tersebut?\n",
      "AI: Peraturan Menteri Keuangan Nomor 36/PMK.010/2008 tentang Besar Santunan dan Sumbangan Wajib Dana Kecelakaan Lalu Lintas Jalan\n",
      "\n",
      "Source: [36/PMK.010/2008](https://www.ojk.go.id/id/regulasi/Documents/Pages/PMK-Nomor-36PMK.010-Tahun-2008-tentang-Besar-Santunan-dan-Sumbangan-Wajib-Dana-Kecelakaan-Lalu-Lintas-Jalan/menas13_1389258036.pdf)\n",
      "Human: Berapa nomor regulasi peraturan tersebut?\n",
      "AI: Peraturan BAPEPAM tentang Laporan Aktuaris Perusahaan Asuransi dan Perusahaan Reasuransi:\n",
      "\n",
      "Nomor regulasi: PER- 10/BL/2012\n",
      "Sumber: [PER- 10/BL/2012](https://www.ojk.go.id/id/regulasi/Documents/Pages/Peraturan-BAPEPAM-tentang-Laporan-Aktuaris-Perusahaan-Asuransi-dan-Perusahaan-Reasuransi/BAPEPAM-LK%20PER-10BL2012.pdf)\n",
      "Human: Kapan dan dimana peraturan tersebut ditetapkan?\n",
      "AI: Peraturan Menteri Keuangan Nomor 36/PMK.010/2008 tentang Besar Santunan dan Sumbangan Wajib Dana Kecelakaan Lalu Lintas Jalan ditetapkan pada tanggal 26 Februari 2008 di Jakarta.\n",
      "\n",
      "Source: [36/PMK.010/2008](https://www.ojk.go.id/id/regulasi/Documents/Pages/PMK-Nomor-36PMK.010-Tahun-2008-tentang-Besar-Santunan-dan-Sumbangan-Wajib-Dana-Kecelakaan-Lalu-Lintas-Jalan/menas13_1389258036.pdf)\n"
     ]
    }
   ],
   "source": [
    "print(chat_store.get_session_history(user_id=\"xmriz\", conversation_id=\"conv1\"))"
   ]
  },
  {
   "cell_type": "code",
   "execution_count": 262,
   "metadata": {},
   "outputs": [],
   "source": [
    "import json\n",
    "\n",
    "with open(\"dict_eval_chat.json\", \"w\") as outfile: \n",
    "    json.dump(d, outfile)"
   ]
  },
  {
   "cell_type": "code",
   "execution_count": 263,
   "metadata": {},
   "outputs": [],
   "source": [
    "with open('dict_eval_chat.json') as json_file:\n",
    "    d = json.load(json_file)"
   ]
  },
  {
   "cell_type": "code",
   "execution_count": 264,
   "metadata": {},
   "outputs": [
    {
     "data": {
      "text/html": [
       "<div>\n",
       "<style scoped>\n",
       "    .dataframe tbody tr th:only-of-type {\n",
       "        vertical-align: middle;\n",
       "    }\n",
       "\n",
       "    .dataframe tbody tr th {\n",
       "        vertical-align: top;\n",
       "    }\n",
       "\n",
       "    .dataframe thead th {\n",
       "        text-align: right;\n",
       "    }\n",
       "</style>\n",
       "<table border=\"1\" class=\"dataframe\">\n",
       "  <thead>\n",
       "    <tr style=\"text-align: right;\">\n",
       "      <th></th>\n",
       "      <th>question</th>\n",
       "      <th>answer</th>\n",
       "      <th>contexts</th>\n",
       "      <th>ground_truth</th>\n",
       "    </tr>\n",
       "  </thead>\n",
       "  <tbody>\n",
       "    <tr>\n",
       "      <th>0</th>\n",
       "      <td>Apa itu SWDKLLJ?</td>\n",
       "      <td>SWDKLLJ adalah singkatan dari Sumbangan Wajib ...</td>\n",
       "      <td>[wajib\\nsebagaimana dimaksud dalam Undang-Unda...</td>\n",
       "      <td>Sumbangan Wajib Dana Kecelakaan Lalu Lintas ad...</td>\n",
       "    </tr>\n",
       "    <tr>\n",
       "      <th>1</th>\n",
       "      <td>Dipungut dari mana?</td>\n",
       "      <td>SWDKLLJ dipungut dari para pengusaha/pemilik a...</td>\n",
       "      <td>[wajib\\nsebagaimana dimaksud dalam Undang-Unda...</td>\n",
       "      <td>SWDKLLJ dipungut dari para pengusaha/pemilik a...</td>\n",
       "    </tr>\n",
       "    <tr>\n",
       "      <th>2</th>\n",
       "      <td>Berapa yang dipungut untuk sepeda motor di baw...</td>\n",
       "      <td>Besar santunan yang dipungut untuk sepeda moto...</td>\n",
       "      <td>[MENTERI KEUANGAN\\nREPUBLIK INDONESIA\\nmempero...</td>\n",
       "      <td>Sepeda motor di bawah 50cc, mobil ambulance, m...</td>\n",
       "    </tr>\n",
       "    <tr>\n",
       "      <th>3</th>\n",
       "      <td>Kalau traktor?</td>\n",
       "      <td>Besar santunan yang dipungut untuk traktor seb...</td>\n",
       "      <td>[MENTERI KEUANGAN\\nREPUBLIK INDONESIA\\nmempero...</td>\n",
       "      <td>Traktor, buldozer, forklift, mobil derek, exca...</td>\n",
       "    </tr>\n",
       "    <tr>\n",
       "      <th>4</th>\n",
       "      <td>Kendaraan apa yang memiliki SWDKLLJ terbesar?</td>\n",
       "      <td>Kendaraan yang memiliki SWDKLLJ terbesar adala...</td>\n",
       "      <td>[MENTERI KEUANGAN\\nREPUBLIK INDONESIA\\nmempero...</td>\n",
       "      <td>Truk, mobil tangki, mobil gandengan, mobil bar...</td>\n",
       "    </tr>\n",
       "  </tbody>\n",
       "</table>\n",
       "</div>"
      ],
      "text/plain": [
       "                                            question  \\\n",
       "0                                   Apa itu SWDKLLJ?   \n",
       "1                                Dipungut dari mana?   \n",
       "2  Berapa yang dipungut untuk sepeda motor di baw...   \n",
       "3                                     Kalau traktor?   \n",
       "4      Kendaraan apa yang memiliki SWDKLLJ terbesar?   \n",
       "\n",
       "                                              answer  \\\n",
       "0  SWDKLLJ adalah singkatan dari Sumbangan Wajib ...   \n",
       "1  SWDKLLJ dipungut dari para pengusaha/pemilik a...   \n",
       "2  Besar santunan yang dipungut untuk sepeda moto...   \n",
       "3  Besar santunan yang dipungut untuk traktor seb...   \n",
       "4  Kendaraan yang memiliki SWDKLLJ terbesar adala...   \n",
       "\n",
       "                                            contexts  \\\n",
       "0  [wajib\\nsebagaimana dimaksud dalam Undang-Unda...   \n",
       "1  [wajib\\nsebagaimana dimaksud dalam Undang-Unda...   \n",
       "2  [MENTERI KEUANGAN\\nREPUBLIK INDONESIA\\nmempero...   \n",
       "3  [MENTERI KEUANGAN\\nREPUBLIK INDONESIA\\nmempero...   \n",
       "4  [MENTERI KEUANGAN\\nREPUBLIK INDONESIA\\nmempero...   \n",
       "\n",
       "                                        ground_truth  \n",
       "0  Sumbangan Wajib Dana Kecelakaan Lalu Lintas ad...  \n",
       "1  SWDKLLJ dipungut dari para pengusaha/pemilik a...  \n",
       "2  Sepeda motor di bawah 50cc, mobil ambulance, m...  \n",
       "3  Traktor, buldozer, forklift, mobil derek, exca...  \n",
       "4  Truk, mobil tangki, mobil gandengan, mobil bar...  "
      ]
     },
     "execution_count": 264,
     "metadata": {},
     "output_type": "execute_result"
    }
   ],
   "source": [
    "dataset = Dataset.from_dict(d)\n",
    "\n",
    "df = dataset.to_pandas()\n",
    "df.head()"
   ]
  },
  {
   "cell_type": "code",
   "execution_count": 265,
   "metadata": {},
   "outputs": [
    {
     "name": "stderr",
     "output_type": "stream",
     "text": [
      "Evaluating:   0%|          | 0/70 [00:00<?, ?it/s]"
     ]
    },
    {
     "name": "stderr",
     "output_type": "stream",
     "text": [
      "Evaluating: 100%|██████████| 70/70 [00:40<00:00,  1.71it/s]\n"
     ]
    }
   ],
   "source": [
    "from ragas.metrics import faithfulness, answer_relevancy, context_precision, context_recall, answer_similarity, answer_correctness\n",
    "from ragas.metrics.critique import harmfulness\n",
    "from ragas import evaluate\n",
    "import nest_asyncio\n",
    "nest_asyncio.apply()\n",
    "\n",
    "score = evaluate(dataset, metrics=[faithfulness, answer_relevancy, context_precision, context_recall, answer_similarity, answer_correctness, harmfulness], llm=llm_model, embeddings=embed_model)"
   ]
  },
  {
   "cell_type": "code",
   "execution_count": 266,
   "metadata": {},
   "outputs": [
    {
     "data": {
      "text/html": [
       "<div>\n",
       "<style scoped>\n",
       "    .dataframe tbody tr th:only-of-type {\n",
       "        vertical-align: middle;\n",
       "    }\n",
       "\n",
       "    .dataframe tbody tr th {\n",
       "        vertical-align: top;\n",
       "    }\n",
       "\n",
       "    .dataframe thead th {\n",
       "        text-align: right;\n",
       "    }\n",
       "</style>\n",
       "<table border=\"1\" class=\"dataframe\">\n",
       "  <thead>\n",
       "    <tr style=\"text-align: right;\">\n",
       "      <th></th>\n",
       "      <th>question</th>\n",
       "      <th>answer</th>\n",
       "      <th>contexts</th>\n",
       "      <th>ground_truth</th>\n",
       "      <th>faithfulness</th>\n",
       "      <th>answer_relevancy</th>\n",
       "      <th>context_precision</th>\n",
       "      <th>context_recall</th>\n",
       "      <th>answer_similarity</th>\n",
       "      <th>answer_correctness</th>\n",
       "      <th>harmfulness</th>\n",
       "    </tr>\n",
       "  </thead>\n",
       "  <tbody>\n",
       "    <tr>\n",
       "      <th>0</th>\n",
       "      <td>Apa itu SWDKLLJ?</td>\n",
       "      <td>SWDKLLJ adalah singkatan dari Sumbangan Wajib ...</td>\n",
       "      <td>[wajib\\nsebagaimana dimaksud dalam Undang-Unda...</td>\n",
       "      <td>Sumbangan Wajib Dana Kecelakaan Lalu Lintas ad...</td>\n",
       "      <td>1.0</td>\n",
       "      <td>0.954283</td>\n",
       "      <td>0.8875</td>\n",
       "      <td>1.00</td>\n",
       "      <td>0.914351</td>\n",
       "      <td>0.603584</td>\n",
       "      <td>0</td>\n",
       "    </tr>\n",
       "    <tr>\n",
       "      <th>1</th>\n",
       "      <td>Dipungut dari mana?</td>\n",
       "      <td>SWDKLLJ dipungut dari para pengusaha/pemilik a...</td>\n",
       "      <td>[wajib\\nsebagaimana dimaksud dalam Undang-Unda...</td>\n",
       "      <td>SWDKLLJ dipungut dari para pengusaha/pemilik a...</td>\n",
       "      <td>1.0</td>\n",
       "      <td>0.772913</td>\n",
       "      <td>1.0000</td>\n",
       "      <td>1.00</td>\n",
       "      <td>0.955766</td>\n",
       "      <td>0.988942</td>\n",
       "      <td>0</td>\n",
       "    </tr>\n",
       "    <tr>\n",
       "      <th>2</th>\n",
       "      <td>Berapa yang dipungut untuk sepeda motor di baw...</td>\n",
       "      <td>Besar santunan yang dipungut untuk sepeda moto...</td>\n",
       "      <td>[MENTERI KEUANGAN\\nREPUBLIK INDONESIA\\nmempero...</td>\n",
       "      <td>Sepeda motor di bawah 50cc, mobil ambulance, m...</td>\n",
       "      <td>1.0</td>\n",
       "      <td>0.966289</td>\n",
       "      <td>1.0000</td>\n",
       "      <td>1.00</td>\n",
       "      <td>0.865928</td>\n",
       "      <td>0.216482</td>\n",
       "      <td>0</td>\n",
       "    </tr>\n",
       "    <tr>\n",
       "      <th>3</th>\n",
       "      <td>Kalau traktor?</td>\n",
       "      <td>Besar santunan yang dipungut untuk traktor seb...</td>\n",
       "      <td>[MENTERI KEUANGAN\\nREPUBLIK INDONESIA\\nmempero...</td>\n",
       "      <td>Traktor, buldozer, forklift, mobil derek, exca...</td>\n",
       "      <td>1.0</td>\n",
       "      <td>0.882704</td>\n",
       "      <td>0.7000</td>\n",
       "      <td>1.00</td>\n",
       "      <td>0.882654</td>\n",
       "      <td>0.220663</td>\n",
       "      <td>0</td>\n",
       "    </tr>\n",
       "    <tr>\n",
       "      <th>4</th>\n",
       "      <td>Kendaraan apa yang memiliki SWDKLLJ terbesar?</td>\n",
       "      <td>Kendaraan yang memiliki SWDKLLJ terbesar adala...</td>\n",
       "      <td>[MENTERI KEUANGAN\\nREPUBLIK INDONESIA\\nmempero...</td>\n",
       "      <td>Truk, mobil tangki, mobil gandengan, mobil bar...</td>\n",
       "      <td>0.2</td>\n",
       "      <td>0.996370</td>\n",
       "      <td>0.8875</td>\n",
       "      <td>1.00</td>\n",
       "      <td>0.898207</td>\n",
       "      <td>0.974552</td>\n",
       "      <td>0</td>\n",
       "    </tr>\n",
       "    <tr>\n",
       "      <th>5</th>\n",
       "      <td>Berapa nilainya?</td>\n",
       "      <td>Besar SWDKLLJ untuk kendaraan truk, mobil tang...</td>\n",
       "      <td>[MENTERI KEUANGAN\\nREPUBLIK INDONESIA\\n-4-\\n M...</td>\n",
       "      <td>Rp 160.000,00.</td>\n",
       "      <td>1.0</td>\n",
       "      <td>0.807903</td>\n",
       "      <td>0.2500</td>\n",
       "      <td>1.00</td>\n",
       "      <td>0.810124</td>\n",
       "      <td>0.952531</td>\n",
       "      <td>0</td>\n",
       "    </tr>\n",
       "    <tr>\n",
       "      <th>6</th>\n",
       "      <td>Apakah kendaraan-kendaraan tersebut dikenakan ...</td>\n",
       "      <td>Ya, kendaraan-kendaraan tersebut dikenakan bia...</td>\n",
       "      <td>[MENTERI KEUANGAN\\nREPUBLIK INDONESIA\\n-4-\\n M...</td>\n",
       "      <td>Ya, setiap jenis kendaraan sebagaimana dimaksu...</td>\n",
       "      <td>1.0</td>\n",
       "      <td>0.985994</td>\n",
       "      <td>1.0000</td>\n",
       "      <td>1.00</td>\n",
       "      <td>0.923242</td>\n",
       "      <td>0.730811</td>\n",
       "      <td>0</td>\n",
       "    </tr>\n",
       "    <tr>\n",
       "      <th>7</th>\n",
       "      <td>Apa judul peraturan yang membahas tentang SWDK...</td>\n",
       "      <td>Peraturan Menteri Keuangan Nomor 36/PMK.010/20...</td>\n",
       "      <td>[wajib\\nsebagaimana dimaksud dalam Undang-Unda...</td>\n",
       "      <td>Besar Santunan dan Sumbangan Wajib Dana Kecela...</td>\n",
       "      <td>0.0</td>\n",
       "      <td>0.841649</td>\n",
       "      <td>1.0000</td>\n",
       "      <td>1.00</td>\n",
       "      <td>0.920100</td>\n",
       "      <td>0.605025</td>\n",
       "      <td>0</td>\n",
       "    </tr>\n",
       "    <tr>\n",
       "      <th>8</th>\n",
       "      <td>Berapa nomor regulasi peraturan tersebut?</td>\n",
       "      <td>Peraturan BAPEPAM tentang Laporan Aktuaris Per...</td>\n",
       "      <td>[Peraturan Pemerintah Nomor 81 Tahun 2008 (Lem...</td>\n",
       "      <td>Peraturan Menteri Keuangan Nomor 36/PMK.010/2008.</td>\n",
       "      <td>0.0</td>\n",
       "      <td>0.872102</td>\n",
       "      <td>0.0000</td>\n",
       "      <td>0.00</td>\n",
       "      <td>0.830746</td>\n",
       "      <td>0.207686</td>\n",
       "      <td>0</td>\n",
       "    </tr>\n",
       "    <tr>\n",
       "      <th>9</th>\n",
       "      <td>Kapan dan dimana peraturan tersebut ditetapkan?</td>\n",
       "      <td>Peraturan Menteri Keuangan Nomor 36/PMK.010/20...</td>\n",
       "      <td>[MENTERI KEUANGAN\\nREPUBLIK INDONESIA\\nSALINAN...</td>\n",
       "      <td>26 Februari 2008 di Jakarta.</td>\n",
       "      <td>1.0</td>\n",
       "      <td>0.852713</td>\n",
       "      <td>1.0000</td>\n",
       "      <td>0.75</td>\n",
       "      <td>0.807510</td>\n",
       "      <td>0.576878</td>\n",
       "      <td>0</td>\n",
       "    </tr>\n",
       "  </tbody>\n",
       "</table>\n",
       "</div>"
      ],
      "text/plain": [
       "                                            question  \\\n",
       "0                                   Apa itu SWDKLLJ?   \n",
       "1                                Dipungut dari mana?   \n",
       "2  Berapa yang dipungut untuk sepeda motor di baw...   \n",
       "3                                     Kalau traktor?   \n",
       "4      Kendaraan apa yang memiliki SWDKLLJ terbesar?   \n",
       "5                                   Berapa nilainya?   \n",
       "6  Apakah kendaraan-kendaraan tersebut dikenakan ...   \n",
       "7  Apa judul peraturan yang membahas tentang SWDK...   \n",
       "8          Berapa nomor regulasi peraturan tersebut?   \n",
       "9    Kapan dan dimana peraturan tersebut ditetapkan?   \n",
       "\n",
       "                                              answer  \\\n",
       "0  SWDKLLJ adalah singkatan dari Sumbangan Wajib ...   \n",
       "1  SWDKLLJ dipungut dari para pengusaha/pemilik a...   \n",
       "2  Besar santunan yang dipungut untuk sepeda moto...   \n",
       "3  Besar santunan yang dipungut untuk traktor seb...   \n",
       "4  Kendaraan yang memiliki SWDKLLJ terbesar adala...   \n",
       "5  Besar SWDKLLJ untuk kendaraan truk, mobil tang...   \n",
       "6  Ya, kendaraan-kendaraan tersebut dikenakan bia...   \n",
       "7  Peraturan Menteri Keuangan Nomor 36/PMK.010/20...   \n",
       "8  Peraturan BAPEPAM tentang Laporan Aktuaris Per...   \n",
       "9  Peraturan Menteri Keuangan Nomor 36/PMK.010/20...   \n",
       "\n",
       "                                            contexts  \\\n",
       "0  [wajib\\nsebagaimana dimaksud dalam Undang-Unda...   \n",
       "1  [wajib\\nsebagaimana dimaksud dalam Undang-Unda...   \n",
       "2  [MENTERI KEUANGAN\\nREPUBLIK INDONESIA\\nmempero...   \n",
       "3  [MENTERI KEUANGAN\\nREPUBLIK INDONESIA\\nmempero...   \n",
       "4  [MENTERI KEUANGAN\\nREPUBLIK INDONESIA\\nmempero...   \n",
       "5  [MENTERI KEUANGAN\\nREPUBLIK INDONESIA\\n-4-\\n M...   \n",
       "6  [MENTERI KEUANGAN\\nREPUBLIK INDONESIA\\n-4-\\n M...   \n",
       "7  [wajib\\nsebagaimana dimaksud dalam Undang-Unda...   \n",
       "8  [Peraturan Pemerintah Nomor 81 Tahun 2008 (Lem...   \n",
       "9  [MENTERI KEUANGAN\\nREPUBLIK INDONESIA\\nSALINAN...   \n",
       "\n",
       "                                        ground_truth  faithfulness  \\\n",
       "0  Sumbangan Wajib Dana Kecelakaan Lalu Lintas ad...           1.0   \n",
       "1  SWDKLLJ dipungut dari para pengusaha/pemilik a...           1.0   \n",
       "2  Sepeda motor di bawah 50cc, mobil ambulance, m...           1.0   \n",
       "3  Traktor, buldozer, forklift, mobil derek, exca...           1.0   \n",
       "4  Truk, mobil tangki, mobil gandengan, mobil bar...           0.2   \n",
       "5                                     Rp 160.000,00.           1.0   \n",
       "6  Ya, setiap jenis kendaraan sebagaimana dimaksu...           1.0   \n",
       "7  Besar Santunan dan Sumbangan Wajib Dana Kecela...           0.0   \n",
       "8  Peraturan Menteri Keuangan Nomor 36/PMK.010/2008.           0.0   \n",
       "9                       26 Februari 2008 di Jakarta.           1.0   \n",
       "\n",
       "   answer_relevancy  context_precision  context_recall  answer_similarity  \\\n",
       "0          0.954283             0.8875            1.00           0.914351   \n",
       "1          0.772913             1.0000            1.00           0.955766   \n",
       "2          0.966289             1.0000            1.00           0.865928   \n",
       "3          0.882704             0.7000            1.00           0.882654   \n",
       "4          0.996370             0.8875            1.00           0.898207   \n",
       "5          0.807903             0.2500            1.00           0.810124   \n",
       "6          0.985994             1.0000            1.00           0.923242   \n",
       "7          0.841649             1.0000            1.00           0.920100   \n",
       "8          0.872102             0.0000            0.00           0.830746   \n",
       "9          0.852713             1.0000            0.75           0.807510   \n",
       "\n",
       "   answer_correctness  harmfulness  \n",
       "0            0.603584            0  \n",
       "1            0.988942            0  \n",
       "2            0.216482            0  \n",
       "3            0.220663            0  \n",
       "4            0.974552            0  \n",
       "5            0.952531            0  \n",
       "6            0.730811            0  \n",
       "7            0.605025            0  \n",
       "8            0.207686            0  \n",
       "9            0.576878            0  "
      ]
     },
     "execution_count": 266,
     "metadata": {},
     "output_type": "execute_result"
    }
   ],
   "source": [
    "df = score.to_pandas()\n",
    "df"
   ]
  },
  {
   "cell_type": "code",
   "execution_count": 267,
   "metadata": {},
   "outputs": [
    {
     "name": "stdout",
     "output_type": "stream",
     "text": [
      "faithfulness: 0.72\n",
      "answer_relevancy: 0.8932918502646412\n",
      "context_precision: 0.7724999999687292\n",
      "context_recall: 0.875\n",
      "answer_similarity: 0.8808628685072698\n",
      "answer_correctness: 0.6077152863053137\n",
      "harmfulness: 0.0\n"
     ]
    }
   ],
   "source": [
    "for key,val in score.items():\n",
    "    print(f\"{key}: {val}\")"
   ]
  },
  {
   "cell_type": "code",
   "execution_count": 268,
   "metadata": {},
   "outputs": [],
   "source": [
    "df.to_csv(\"eval_chat.csv\", index=False)"
   ]
  },
  {
   "cell_type": "code",
   "execution_count": 269,
   "metadata": {},
   "outputs": [],
   "source": [
    "import numpy as np\n",
    "\n",
    "result_dict = df.to_dict(orient='index')\n",
    "\n",
    "# Convert any ndarray objects to list\n",
    "for key in result_dict:\n",
    "    for subkey in result_dict[key]:\n",
    "        if isinstance(result_dict[key][subkey], (np.ndarray, list)):\n",
    "            result_dict[key][subkey] = result_dict[key][subkey].tolist() if isinstance(result_dict[key][subkey], np.ndarray) else result_dict[key][subkey]\n",
    "\n",
    "# Save the dictionary to a JSON file\n",
    "with open(\"eval_results.json\", \"w\") as file:\n",
    "    json.dump(result_dict, file, indent=4)"
   ]
  },
  {
   "cell_type": "code",
   "execution_count": null,
   "metadata": {},
   "outputs": [],
   "source": []
  }
 ],
 "metadata": {
  "kernelspec": {
   "display_name": "chatbot-lc",
   "language": "python",
   "name": "python3"
  },
  "language_info": {
   "codemirror_mode": {
    "name": "ipython",
    "version": 3
   },
   "file_extension": ".py",
   "mimetype": "text/x-python",
   "name": "python",
   "nbconvert_exporter": "python",
   "pygments_lexer": "ipython3",
   "version": "3.10.4"
  }
 },
 "nbformat": 4,
 "nbformat_minor": 2
}
