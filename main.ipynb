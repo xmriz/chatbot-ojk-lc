{
 "cells": [
  {
   "cell_type": "markdown",
   "metadata": {},
   "source": [
    "# **OJK ChatBot - LangChain**"
   ]
  },
  {
   "cell_type": "markdown",
   "metadata": {},
   "source": [
    "## **Setup**"
   ]
  },
  {
   "cell_type": "code",
   "execution_count": 30,
   "metadata": {},
   "outputs": [
    {
     "data": {
      "text/plain": [
       "True"
      ]
     },
     "execution_count": 30,
     "metadata": {},
     "output_type": "execute_result"
    }
   ],
   "source": [
    "from dotenv import load_dotenv\n",
    "load_dotenv()"
   ]
  },
  {
   "cell_type": "markdown",
   "metadata": {},
   "source": [
    "## **Config**"
   ]
  },
  {
   "cell_type": "code",
   "execution_count": 31,
   "metadata": {},
   "outputs": [],
   "source": [
    "from utils.config import get_config\n",
    "from utils.questions import get_question\n",
    "from utils.model_config import ModelName, get_model\n",
    "\n",
    "config = get_config()"
   ]
  },
  {
   "cell_type": "code",
   "execution_count": 32,
   "metadata": {},
   "outputs": [],
   "source": [
    "STORE = False\n",
    "DELETE = False\n",
    "TOP_K = 10\n",
    "TOP_N = 6\n",
    "model_name = ModelName.AZURE_OPENAI\n",
    "query_str = get_question(\"e\")\n",
    "# query_str = \"Apa judul peraturan nomor 37 /SEOJK.03/2016?\""
   ]
  },
  {
   "cell_type": "markdown",
   "metadata": {},
   "source": [
    "## **Define Model**"
   ]
  },
  {
   "cell_type": "code",
   "execution_count": 33,
   "metadata": {},
   "outputs": [],
   "source": [
    "llm_model, embed_model = get_model(model_name=model_name, config=config)"
   ]
  },
  {
   "cell_type": "markdown",
   "metadata": {},
   "source": [
    "## **Indexing**"
   ]
  },
  {
   "cell_type": "markdown",
   "metadata": {},
   "source": [
    "### **Load**"
   ]
  },
  {
   "cell_type": "code",
   "execution_count": 34,
   "metadata": {},
   "outputs": [],
   "source": [
    "from utils.documents_text_extract import extract_all_documents_in_directory\n",
    "\n",
    "documents_dir = './data/documents'\n",
    "metadata_path = './data/metadata/files_metadata.csv'\n",
    "\n",
    "if STORE:\n",
    "    documents = extract_all_documents_in_directory(documents_dir, metadata_path, treshold=0.98)\n"
   ]
  },
  {
   "cell_type": "markdown",
   "metadata": {},
   "source": [
    "### **Split**"
   ]
  },
  {
   "cell_type": "code",
   "execution_count": 35,
   "metadata": {},
   "outputs": [],
   "source": [
    "from utils.document_split import document_splitter\n",
    "\n",
    "if STORE:\n",
    "    all_splits = document_splitter(docs=documents)"
   ]
  },
  {
   "cell_type": "markdown",
   "metadata": {},
   "source": [
    "### **Storing**"
   ]
  },
  {
   "cell_type": "code",
   "execution_count": 36,
   "metadata": {},
   "outputs": [],
   "source": [
    "from utils.vector_store import PineconeIndexManager\n",
    "\n",
    "pinecone = PineconeIndexManager(index_name='ojk', embed_model=embed_model, config=config)\n",
    "\n",
    "if STORE:\n",
    "    pinecone.store_vector_index(docs=all_splits, delete=DELETE)\n",
    "    vector_store = pinecone.load_vector_index()\n",
    "else: \n",
    "    vector_store = pinecone.load_vector_index()"
   ]
  },
  {
   "cell_type": "markdown",
   "metadata": {},
   "source": [
    "## **Retrieval and Generation**"
   ]
  },
  {
   "cell_type": "markdown",
   "metadata": {},
   "source": [
    "### **Retrieve**"
   ]
  },
  {
   "cell_type": "code",
   "execution_count": 37,
   "metadata": {},
   "outputs": [],
   "source": [
    "from langchain_cohere import CohereRerank\n",
    "from langchain.retrievers import ContextualCompressionRetriever\n",
    "import os\n",
    "\n",
    "# retriever = vector_store.as_retriever(search_type=\"similarity\", search_kwargs={\"k\": TOP_K})\n",
    "compressor = CohereRerank(cohere_api_key=config['cohere_api_key'], top_n=TOP_N)\n",
    "retriever = ContextualCompressionRetriever(\n",
    "    base_compressor=compressor, base_retriever=vector_store.as_retriever(search_type=\"similarity\", search_kwargs={\"k\": TOP_K})\n",
    ")"
   ]
  },
  {
   "cell_type": "code",
   "execution_count": 38,
   "metadata": {},
   "outputs": [
    {
     "data": {
      "text/plain": [
       "[Document(metadata={'effective_date': '31 Desember 1958', 'file_url': 'https://www.ojk.go.id/id/regulasi/Documents/Pages/UU-Republik-Indonesia-tentang-Pengubahan-Pasal-Pasal-16-dan-19-Undang-Undang-Pokok-Bank-Indonesia/UU%20Nomor%2084%20Tahun%201958.pdf', 'regulation_number': '84 Tahun 1958', 'regulation_type': 'Undang-Undang', 'sector': 'Perbankan', 'subsector': 'Bank Umum', 'title': 'Undang-Undang Republik Indonesia tentang Pengubahan Pasal-Pasal 16 dan 19 Undang-Undang Pokok Bank Indonesia', 'relevance_score': 0.998835}, page_content='====================\\npage=5\\n====================\\nPRESIDEN\\nREPUBLIK INDONESIA\\nPENJELASAN\\nTENTANG\\nUNDANG-UNDANG PERUBAHAN PASAL-PASAL 16 dan 19\\nDARI UNDANG-UNDANG POKOK BANK INDONESIA.\\nI.\\nPENJELASAN UMUM.\\n1.\\nDalam pasal 16 ayat 1 dari Undang-undang Pokok Bank Indonesia disebutkan\\nbahwa banyaknya uang yang beredar harus dijamin sebesar 20% dengan emas\\ndan alat-alat pembayaran luar negeri.\\nPada tanggal 20 Agustus 1958 jaminan moneter ini tinggal sebesar 7,30%,\\nyang menggambarkan perbandingan antara kekayaan sebesar Rp. 1.542 juta\\nyang berupa emas, uang dollar U.S. dan Indonesia sebesar Rp. 21.115 juta yang\\nberupa uang kertas bank, saldo-saldo rekening-koran dan tagihan-tagihan lain\\nyang segera dapat digagih. Jaminan moneter ini sudah berada dibawah 20%\\nminimum sejak Januari 1957.\\nAyat 3 dan 4 dari pasal 16 tersebut memang memberi kelonggaran sebanyak\\nseluruhnya 6 bulan setelah mendapat persetujuan Parlemen, yang berarti bahwa'),\n",
       " Document(metadata={'effective_date': '11 Januari 2017', 'file_url': 'https://www.ojk.go.id/id/regulasi/Documents/Pages/Perizinan-Usaha-dan-Kelembagaan-Lembaga-Penjamin/POJK%201-2017%20Perizinan%20dan%20Kelembagaan%20Lembaga%20Penjamin.pdf', 'regulation_number': '1/POJK.05/2017', 'regulation_type': 'Peraturan OJK', 'sector': 'IKNB', 'subsector': 'Lembaga Jasa Keuangan Khusus,  Lembaga Kliring dan Penjaminan', 'title': 'Perizinan Usaha dan Kelembagaan Lembaga Penjamin', 'relevance_score': 0.0011786721}, page_content='a. \\nRp25.000.000.000,00 (dua puluh lima miliar rupiah) \\nuntuk UUS dari Perusahaan Penjaminan dengan \\nlingkup wilayah nasional; \\nb. \\nRpl0.000.000.000,00 (sepuluh miliar rupiah) untuk \\nUUS dari Perusahaan Penjaminan dengan lingkup \\nwilayah provinsi; atau \\nc. \\nRp5.000.000.000,00 (lima miliar rupiah) untuk UUS \\ndari \\nPerusahaan \\nPenjaminan \\ndengan \\nlingkup \\nwilayah kabupaten/kota.'),\n",
       " Document(metadata={'effective_date': '31 Desember 1958', 'file_url': 'https://www.ojk.go.id/id/regulasi/Documents/Pages/UU-Republik-Indonesia-tentang-Pengubahan-Pasal-Pasal-16-dan-19-Undang-Undang-Pokok-Bank-Indonesia/UU%20Nomor%2084%20Tahun%201958.pdf', 'regulation_number': '84 Tahun 1958', 'regulation_type': 'Undang-Undang', 'sector': 'Perbankan', 'subsector': 'Bank Umum', 'title': 'Undang-Undang Republik Indonesia tentang Pengubahan Pasal-Pasal 16 dan 19 Undang-Undang Pokok Bank Indonesia', 'relevance_score': 0.0010944522}, page_content='====================\\npage=2\\n====================\\nPRESIDEN\\nREPUBLIK INDONESIA\\n- 2 -\\nPasal I.\\nPasal 16 Undang-undang Pokok Bank Indonesia, Undang-undang No. 11\\ntahun 1953 (Lembaran Negara tahun 1953 No. 40), diubah sehingga\\nberbunyi sebagai berikut:\\n\"(1) Bank berusaha supaya jumlah semua uang-kertas bank, saldo\\nrekening koran dan tagihan-tagihan lain yang segera dapat ditagih\\ndari Bank untuk sebesar duapuluh persen dijamin dengan emas, mata-\\nuang emas, bahan mata-uang emas dan cadangan yang tediri atas alat-\\nalat pembayaran luar negeri yang umumnya dapat ditukar-tukarkan,\\nbegitu pula dengan hak-hak atas International Monetary Fund dan\\nWorldbank yang diserahkan atau akan diserahkan kepada Bank\\ndengan Undang-undang.\\n(2) Bank berusaha untuk memelihara jaminan tersebut dalam ayat (1)\\npasal ini paling sedikit pada tingkatan yang sama dengan jumlah\\nimpor selama 3 bulan, dihitung atas dasar jumlah rata-rata dari impor\\nselama 3 tahun takwin berturut-turut yang baru lewat.'),\n",
       " Document(metadata={'effective_date': '1 Desember 2011', 'file_url': 'https://www.ojk.go.id/id/regulasi/Documents/Pages/Peraturan-BAPEPAM-tentang-Pedoman-Perhitungan-Batas-Tingkat-Solvabilitas-Minimum-bagi-Perusahaan-Asuransi-dan-Reasuransi/BAPEPAM%20PER-09BL2011.pdf', 'regulation_number': 'PER-09/BL/2011', 'regulation_type': 'Peraturan Bapepam', 'sector': 'IKNB', 'subsector': 'Asuransi', 'title': 'Peraturan BAPEPAM tentang Pedoman Perhitungan Batas Tingkat Solvabilitas Minimum bagi Perusahaan Asuransi dan Perusahaan Reasuransi', 'relevance_score': 0.00023231418}, page_content='30% x (Kewajiban – Kekayaan \\nYang Diperkenankan) \\nII. Lebih \\ndari \\nnol \\nnamun \\ntidak \\nmelebihi \\n20% \\ndari \\nJumlah Kewajiban \\n0% \\nNol \\nIII. Melebihi 20% dari \\nJumlah Kewajiban \\n10% \\n10% \\nx \\n(Kekayaan \\nYang \\nDiperkenankan \\n- \\n120% \\nx \\nKewajiban) \\n3) Hasil perhitungan jumlah dana pada butir 2) dikonversikan ke dalam \\nmata uang rupiah sesuai dengan kurs tengah Bank Indonesia pada \\ntanggal neraca. \\n4) Jumlah dana yang diperhitungkan dalam perhitungan BTSM adalah \\njumlah \\ndana \\nyang \\ndibutuhkan \\nuntuk \\nmenanggulangi \\nrisiko \\nketidakseimbangan antara nilai kekayaan dan nilai kewajiban untuk \\nseluruh mata uang asing. \\n5) Kontrak asuransi yang memuat ketentuan konversi mata uang asing \\nterhadap rupiah dengan menggunakan nilai tukar tertentu yang \\nditetapkan dalam kontrak, harus diperlakukan sebagai kontrak asuransi \\ndalam mata uang rupiah. \\n6) Sebagai contoh, sebuah perusahaan asuransi memiliki kekayaan dan \\nkewajiban untuk mata uang rupiah, dolar Amerika, dolar Singapura dan'),\n",
       " Document(metadata={'effective_date': '31 Desember 1958', 'file_url': 'https://www.ojk.go.id/id/regulasi/Documents/Pages/UU-Republik-Indonesia-tentang-Pengubahan-Pasal-Pasal-16-dan-19-Undang-Undang-Pokok-Bank-Indonesia/UU%20Nomor%2084%20Tahun%201958.pdf', 'regulation_number': '84 Tahun 1958', 'regulation_type': 'Undang-Undang', 'sector': 'Perbankan', 'subsector': 'Bank Umum', 'title': 'Undang-Undang Republik Indonesia tentang Pengubahan Pasal-Pasal 16 dan 19 Undang-Undang Pokok Bank Indonesia', 'relevance_score': 0.00019871553}, page_content='adalah pegangan yang paling mudah dan aman. Jadi sistim jaminan seperti\\nsekarang baik dipertahankan terus, hanya harus disesuaikan dengan kebutuhan-\\nkebutuhan dan keadaan yang nyata.\\n4.\\nDisamping jaminan 20% tersebut diatas, bank harus usaha untuk mempunyai\\ncadangan paling sedikit sama dengan besarnya jumlah impor selama 3 bulan,\\nyang dihitung atas dasar angka rata-rata dari 3 tahun yang lalu berturut-turut,\\ntidak termasuk impor dari perusahaan-perusahaan minyak. Besarnya cadangan\\nini bukan limit, tetapi tujuan minimum yang sedapat mungkin harus dipelihara.\\nSebagai …'),\n",
       " Document(metadata={'effective_date': '31 Desember 1958', 'file_url': 'https://www.ojk.go.id/id/regulasi/Documents/Pages/UU-Republik-Indonesia-tentang-Pengubahan-Pasal-Pasal-16-dan-19-Undang-Undang-Pokok-Bank-Indonesia/UU%20Nomor%2084%20Tahun%201958.pdf', 'regulation_number': '84 Tahun 1958', 'regulation_type': 'Undang-Undang', 'sector': 'Perbankan', 'subsector': 'Bank Umum', 'title': 'Undang-Undang Republik Indonesia tentang Pengubahan Pasal-Pasal 16 dan 19 Undang-Undang Pokok Bank Indonesia', 'relevance_score': 0.00012931564}, page_content='minimum sejak Januari 1957.\\nAyat 3 dan 4 dari pasal 16 tersebut memang memberi kelonggaran sebanyak\\nseluruhnya 6 bulan setelah mendapat persetujuan Parlemen, yang berarti bahwa\\nsetelah jangka waktu tersebut lewat, perbandingan harus kembali lagi ketingkat\\nminimum 20%.\\nSebagai diterangkan dalam laporan tahunan Bank Indonesia, laporan-\\nlaporan Biro Pusat Statistik dan Nota Keuangan Pemerintah, maka sebab-sebab\\nmakin bertambah besarnya uang yang beredar itu terletak untuk sebagian besar\\npada makin besarnya uang muka yang diberikan oleh Bank kepada Pemerintah.\\nDisamping itu kekayaan emas dan deviden tidak bertambah yang sebanding\\ndengan kenaikan volume uang yang beredar, dan bahkan sejak kwartal terakhir\\ntahun yang lalu sampai saat ini menunjukkan kemunduran.\\nDengan fakta-fakta tersebut ternyata bahwa kita harus mempunyai kriterium\\nbaru dalam hal pengendalian uang yang beredar ini, sedemikian rupa sehingga\\ntidak perlu menghalang-halangi kewajiban-kewajiban kita dalam keadaan luar')]"
      ]
     },
     "execution_count": 38,
     "metadata": {},
     "output_type": "execute_result"
    }
   ],
   "source": [
    "retrieved_docs = retriever.invoke(input=query_str)\n",
    "retrieved_docs"
   ]
  },
  {
   "cell_type": "markdown",
   "metadata": {},
   "source": [
    "### **Generate**"
   ]
  },
  {
   "cell_type": "code",
   "execution_count": 39,
   "metadata": {},
   "outputs": [],
   "source": [
    "from utils.rag_chain_with_chat_history import create_chain_with_chat_history\n",
    "\n",
    "# Templates for prompts\n",
    "_TEMPLATE = \"\"\"Given the following conversation and a follow-up question, \\\n",
    "rephrase the follow-up question to be a standalone question in its original language. \n",
    "If the follow-up question is not clear, indicate so. If the chat history is not relevant \\\n",
    "to the follow-up question, please ignore the chat history.\n",
    "\n",
    "Chat History:\n",
    "{chat_history}\n",
    "\n",
    "Follow-up Question: {question}\n",
    "Standalone Question: \"\"\"\n",
    "\n",
    "_ANSWER_TEMPLATE = \"\"\"The context information is below.\n",
    "Context: \n",
    "{context}\n",
    "\n",
    "Based on the context and the metadata information provided, answer the query \\\n",
    "related to banking compliance in Indonesia. \n",
    "Use the context and metadata information only, without relying on prior knowledge. \n",
    "ALWAYS ANSWER IN THE USER'S LANGUAGE.\n",
    "\n",
    "Please provide your answer in the following format, including the regulation number and file URL if available:\n",
    "Answer... \\n\\n\n",
    "Source: [metadata['regulation_number']](metadata['file_url'])\n",
    "\n",
    "If you cannot find the regulation number, just provide the answer. \n",
    "If file_url is end with .pdf, you can add the page number in the URL like this: \\\n",
    "[metadata['regulation_number']](metadata['file_url]#page=pagenumber)\n",
    "\n",
    "DO NOT PROVIDE AMBIGUOUS ANSWERS.\n",
    "\n",
    "Question: {question}\n",
    "\"\"\"\n",
    "# _ANSWER_TEMPLATE = \"\"\"The context information is below.\n",
    "# Context: \n",
    "# {context}\n",
    "\n",
    "# Based on the context and the metadata information provided, answer the query \\\n",
    "# related to banking compliance in Indonesia. \n",
    "# Use the context and metadata information only, without relying on prior knowledge. \n",
    "# ALWAYS ANSWER IN THE USER'S LANGUAGE.\n",
    "\n",
    "# Please provide your answer in the following format, including the regulation number and file URL if available:\n",
    "# [ANSWER] \\n\\n\n",
    "# Source: [metadata['regulation_number']](metadata['file_url'])\n",
    "\n",
    "# If you cannot find the regulation number, just provide the answer. \n",
    "# If the query is about effective date, regulation type, regulation number, \\\n",
    "# regulation type, sector, subsector, or title information, check the context metadata first. \\\n",
    "# If not found, then refer to the context page_content.\n",
    "\n",
    "# DO NOT PROVIDE AMBIGUOUS ANSWERS.\n",
    "\n",
    "# Question: {question}\n",
    "# \"\"\"\n",
    "\n",
    "chain = create_chain_with_chat_history(\n",
    "    contextualize_q_prompt_str=_TEMPLATE,\n",
    "    qa_system_prompt_str=_ANSWER_TEMPLATE,\n",
    "    retriever=retriever,\n",
    "    llm_model=llm_model,\n",
    ")"
   ]
  },
  {
   "cell_type": "code",
   "execution_count": 40,
   "metadata": {},
   "outputs": [],
   "source": [
    "from utils.chat_history import ChatHistory\n",
    "\n",
    "chat_history = ChatHistory(max_history_length=5)"
   ]
  },
  {
   "cell_type": "markdown",
   "metadata": {},
   "source": [
    "#### **Streaming**"
   ]
  },
  {
   "cell_type": "code",
   "execution_count": 41,
   "metadata": {},
   "outputs": [],
   "source": [
    "from utils.rag_chain_with_chat_history import print_answer_stream\n",
    "\n",
    "# await print_answer_stream(chain=chain, chat_history=chat_history, question=query_str)"
   ]
  },
  {
   "cell_type": "markdown",
   "metadata": {},
   "source": [
    "#### **With Question, Answer, and Context**"
   ]
  },
  {
   "cell_type": "code",
   "execution_count": 42,
   "metadata": {},
   "outputs": [
    {
     "data": {
      "text/plain": [
       "{'question': 'Berapa persen jaminan moneter pada tanggal 20 Agustus 1958?',\n",
       " 'answer': 'Jaminan moneter pada tanggal 20 Agustus 1958 adalah sebesar 7,30%. \\n\\nSource: [84 Tahun 1958](https://www.ojk.go.id/id/regulasi/Documents/Pages/UU-Republik-Indonesia-tentang-Pengubahan-Pasal-Pasal-16-dan-19-Undang-Undang-Pokok-Bank-Indonesia/UU%20Nomor%2084%20Tahun%201958.pdf#page=5)',\n",
       " 'context': '[\\n  {\\n    \"metadata\": {\\n      \"effective_date\": \"31 Desember 1958\",\\n      \"file_url\": \"https://www.ojk.go.id/id/regulasi/Documents/Pages/UU-Republik-Indonesia-tentang-Pengubahan-Pasal-Pasal-16-dan-19-Undang-Undang-Pokok-Bank-Indonesia/UU%20Nomor%2084%20Tahun%201958.pdf\",\\n      \"regulation_number\": \"84 Tahun 1958\",\\n      \"regulation_type\": \"Undang-Undang\",\\n      \"sector\": \"Perbankan\",\\n      \"subsector\": \"Bank Umum\",\\n      \"title\": \"Undang-Undang Republik Indonesia tentang Pengubahan Pasal-Pasal 16 dan 19 Undang-Undang Pokok Bank Indonesia\",\\n      \"relevance_score\": 0.998835\\n    },\\n    \"page_content\": \"====================\\\\npage=5\\\\n====================\\\\nPRESIDEN\\\\nREPUBLIK INDONESIA\\\\nPENJELASAN\\\\nTENTANG\\\\nUNDANG-UNDANG PERUBAHAN PASAL-PASAL 16 dan 19\\\\nDARI UNDANG-UNDANG POKOK BANK INDONESIA.\\\\nI.\\\\nPENJELASAN UMUM.\\\\n1.\\\\nDalam pasal 16 ayat 1 dari Undang-undang Pokok Bank Indonesia disebutkan\\\\nbahwa banyaknya uang yang beredar harus dijamin sebesar 20% dengan emas\\\\ndan alat-alat pembayaran luar negeri.\\\\nPada tanggal 20 Agustus 1958 jaminan moneter ini tinggal sebesar 7,30%,\\\\nyang menggambarkan perbandingan antara kekayaan sebesar Rp. 1.542 juta\\\\nyang berupa emas, uang dollar U.S. dan Indonesia sebesar Rp. 21.115 juta yang\\\\nberupa uang kertas bank, saldo-saldo rekening-koran dan tagihan-tagihan lain\\\\nyang segera dapat digagih. Jaminan moneter ini sudah berada dibawah 20%\\\\nminimum sejak Januari 1957.\\\\nAyat 3 dan 4 dari pasal 16 tersebut memang memberi kelonggaran sebanyak\\\\nseluruhnya 6 bulan setelah mendapat persetujuan Parlemen, yang berarti bahwa\"\\n  },\\n  {\\n    \"metadata\": {\\n      \"effective_date\": \"11 Januari 2017\",\\n      \"file_url\": \"https://www.ojk.go.id/id/regulasi/Documents/Pages/Perizinan-Usaha-dan-Kelembagaan-Lembaga-Penjamin/POJK%201-2017%20Perizinan%20dan%20Kelembagaan%20Lembaga%20Penjamin.pdf\",\\n      \"regulation_number\": \"1/POJK.05/2017\",\\n      \"regulation_type\": \"Peraturan OJK\",\\n      \"sector\": \"IKNB\",\\n      \"subsector\": \"Lembaga Jasa Keuangan Khusus,  Lembaga Kliring dan Penjaminan\",\\n      \"title\": \"Perizinan Usaha dan Kelembagaan Lembaga Penjamin\",\\n      \"relevance_score\": 0.0011786721\\n    },\\n    \"page_content\": \"a. \\\\nRp25.000.000.000,00 (dua puluh lima miliar rupiah) \\\\nuntuk UUS dari Perusahaan Penjaminan dengan \\\\nlingkup wilayah nasional; \\\\nb. \\\\nRpl0.000.000.000,00 (sepuluh miliar rupiah) untuk \\\\nUUS dari Perusahaan Penjaminan dengan lingkup \\\\nwilayah provinsi; atau \\\\nc. \\\\nRp5.000.000.000,00 (lima miliar rupiah) untuk UUS \\\\ndari \\\\nPerusahaan \\\\nPenjaminan \\\\ndengan \\\\nlingkup \\\\nwilayah kabupaten/kota.\"\\n  },\\n  {\\n    \"metadata\": {\\n      \"effective_date\": \"31 Desember 1958\",\\n      \"file_url\": \"https://www.ojk.go.id/id/regulasi/Documents/Pages/UU-Republik-Indonesia-tentang-Pengubahan-Pasal-Pasal-16-dan-19-Undang-Undang-Pokok-Bank-Indonesia/UU%20Nomor%2084%20Tahun%201958.pdf\",\\n      \"regulation_number\": \"84 Tahun 1958\",\\n      \"regulation_type\": \"Undang-Undang\",\\n      \"sector\": \"Perbankan\",\\n      \"subsector\": \"Bank Umum\",\\n      \"title\": \"Undang-Undang Republik Indonesia tentang Pengubahan Pasal-Pasal 16 dan 19 Undang-Undang Pokok Bank Indonesia\",\\n      \"relevance_score\": 0.0010944522\\n    },\\n    \"page_content\": \"====================\\\\npage=2\\\\n====================\\\\nPRESIDEN\\\\nREPUBLIK INDONESIA\\\\n- 2 -\\\\nPasal I.\\\\nPasal 16 Undang-undang Pokok Bank Indonesia, Undang-undang No. 11\\\\ntahun 1953 (Lembaran Negara tahun 1953 No. 40), diubah sehingga\\\\nberbunyi sebagai berikut:\\\\n\\\\\"(1) Bank berusaha supaya jumlah semua uang-kertas bank, saldo\\\\nrekening koran dan tagihan-tagihan lain yang segera dapat ditagih\\\\ndari Bank untuk sebesar duapuluh persen dijamin dengan emas, mata-\\\\nuang emas, bahan mata-uang emas dan cadangan yang tediri atas alat-\\\\nalat pembayaran luar negeri yang umumnya dapat ditukar-tukarkan,\\\\nbegitu pula dengan hak-hak atas International Monetary Fund dan\\\\nWorldbank yang diserahkan atau akan diserahkan kepada Bank\\\\ndengan Undang-undang.\\\\n(2) Bank berusaha untuk memelihara jaminan tersebut dalam ayat (1)\\\\npasal ini paling sedikit pada tingkatan yang sama dengan jumlah\\\\nimpor selama 3 bulan, dihitung atas dasar jumlah rata-rata dari impor\\\\nselama 3 tahun takwin berturut-turut yang baru lewat.\"\\n  },\\n  {\\n    \"metadata\": {\\n      \"effective_date\": \"1 Desember 2011\",\\n      \"file_url\": \"https://www.ojk.go.id/id/regulasi/Documents/Pages/Peraturan-BAPEPAM-tentang-Pedoman-Perhitungan-Batas-Tingkat-Solvabilitas-Minimum-bagi-Perusahaan-Asuransi-dan-Reasuransi/BAPEPAM%20PER-09BL2011.pdf\",\\n      \"regulation_number\": \"PER-09/BL/2011\",\\n      \"regulation_type\": \"Peraturan Bapepam\",\\n      \"sector\": \"IKNB\",\\n      \"subsector\": \"Asuransi\",\\n      \"title\": \"Peraturan BAPEPAM tentang Pedoman Perhitungan Batas Tingkat Solvabilitas Minimum bagi Perusahaan Asuransi dan Perusahaan Reasuransi\",\\n      \"relevance_score\": 0.00023231418\\n    },\\n    \"page_content\": \"30% x (Kewajiban \\\\u2013 Kekayaan \\\\nYang Diperkenankan) \\\\nII. Lebih \\\\ndari \\\\nnol \\\\nnamun \\\\ntidak \\\\nmelebihi \\\\n20% \\\\ndari \\\\nJumlah Kewajiban \\\\n0% \\\\nNol \\\\nIII. Melebihi 20% dari \\\\nJumlah Kewajiban \\\\n10% \\\\n10% \\\\nx \\\\n(Kekayaan \\\\nYang \\\\nDiperkenankan \\\\n- \\\\n120% \\\\nx \\\\nKewajiban) \\\\n3) Hasil perhitungan jumlah dana pada butir 2) dikonversikan ke dalam \\\\nmata uang rupiah sesuai dengan kurs tengah Bank Indonesia pada \\\\ntanggal neraca. \\\\n4) Jumlah dana yang diperhitungkan dalam perhitungan BTSM adalah \\\\njumlah \\\\ndana \\\\nyang \\\\ndibutuhkan \\\\nuntuk \\\\nmenanggulangi \\\\nrisiko \\\\nketidakseimbangan antara nilai kekayaan dan nilai kewajiban untuk \\\\nseluruh mata uang asing. \\\\n5) Kontrak asuransi yang memuat ketentuan konversi mata uang asing \\\\nterhadap rupiah dengan menggunakan nilai tukar tertentu yang \\\\nditetapkan dalam kontrak, harus diperlakukan sebagai kontrak asuransi \\\\ndalam mata uang rupiah. \\\\n6) Sebagai contoh, sebuah perusahaan asuransi memiliki kekayaan dan \\\\nkewajiban untuk mata uang rupiah, dolar Amerika, dolar Singapura dan\"\\n  },\\n  {\\n    \"metadata\": {\\n      \"effective_date\": \"31 Desember 1958\",\\n      \"file_url\": \"https://www.ojk.go.id/id/regulasi/Documents/Pages/UU-Republik-Indonesia-tentang-Pengubahan-Pasal-Pasal-16-dan-19-Undang-Undang-Pokok-Bank-Indonesia/UU%20Nomor%2084%20Tahun%201958.pdf\",\\n      \"regulation_number\": \"84 Tahun 1958\",\\n      \"regulation_type\": \"Undang-Undang\",\\n      \"sector\": \"Perbankan\",\\n      \"subsector\": \"Bank Umum\",\\n      \"title\": \"Undang-Undang Republik Indonesia tentang Pengubahan Pasal-Pasal 16 dan 19 Undang-Undang Pokok Bank Indonesia\",\\n      \"relevance_score\": 0.00019871553\\n    },\\n    \"page_content\": \"adalah pegangan yang paling mudah dan aman. Jadi sistim jaminan seperti\\\\nsekarang baik dipertahankan terus, hanya harus disesuaikan dengan kebutuhan-\\\\nkebutuhan dan keadaan yang nyata.\\\\n4.\\\\nDisamping jaminan 20% tersebut diatas, bank harus usaha untuk mempunyai\\\\ncadangan paling sedikit sama dengan besarnya jumlah impor selama 3 bulan,\\\\nyang dihitung atas dasar angka rata-rata dari 3 tahun yang lalu berturut-turut,\\\\ntidak termasuk impor dari perusahaan-perusahaan minyak. Besarnya cadangan\\\\nini bukan limit, tetapi tujuan minimum yang sedapat mungkin harus dipelihara.\\\\nSebagai \\\\u2026\"\\n  },\\n  {\\n    \"metadata\": {\\n      \"effective_date\": \"31 Desember 1958\",\\n      \"file_url\": \"https://www.ojk.go.id/id/regulasi/Documents/Pages/UU-Republik-Indonesia-tentang-Pengubahan-Pasal-Pasal-16-dan-19-Undang-Undang-Pokok-Bank-Indonesia/UU%20Nomor%2084%20Tahun%201958.pdf\",\\n      \"regulation_number\": \"84 Tahun 1958\",\\n      \"regulation_type\": \"Undang-Undang\",\\n      \"sector\": \"Perbankan\",\\n      \"subsector\": \"Bank Umum\",\\n      \"title\": \"Undang-Undang Republik Indonesia tentang Pengubahan Pasal-Pasal 16 dan 19 Undang-Undang Pokok Bank Indonesia\",\\n      \"relevance_score\": 0.00012931564\\n    },\\n    \"page_content\": \"minimum sejak Januari 1957.\\\\nAyat 3 dan 4 dari pasal 16 tersebut memang memberi kelonggaran sebanyak\\\\nseluruhnya 6 bulan setelah mendapat persetujuan Parlemen, yang berarti bahwa\\\\nsetelah jangka waktu tersebut lewat, perbandingan harus kembali lagi ketingkat\\\\nminimum 20%.\\\\nSebagai diterangkan dalam laporan tahunan Bank Indonesia, laporan-\\\\nlaporan Biro Pusat Statistik dan Nota Keuangan Pemerintah, maka sebab-sebab\\\\nmakin bertambah besarnya uang yang beredar itu terletak untuk sebagian besar\\\\npada makin besarnya uang muka yang diberikan oleh Bank kepada Pemerintah.\\\\nDisamping itu kekayaan emas dan deviden tidak bertambah yang sebanding\\\\ndengan kenaikan volume uang yang beredar, dan bahkan sejak kwartal terakhir\\\\ntahun yang lalu sampai saat ini menunjukkan kemunduran.\\\\nDengan fakta-fakta tersebut ternyata bahwa kita harus mempunyai kriterium\\\\nbaru dalam hal pengendalian uang yang beredar ini, sedemikian rupa sehingga\\\\ntidak perlu menghalang-halangi kewajiban-kewajiban kita dalam keadaan luar\"\\n  }\\n]'}"
      ]
     },
     "execution_count": 42,
     "metadata": {},
     "output_type": "execute_result"
    }
   ],
   "source": [
    "from utils.rag_chain_with_chat_history import get_response\n",
    "\n",
    "response = get_response(chat_history=chat_history, chain=chain, question=query_str)\n",
    "response"
   ]
  },
  {
   "cell_type": "code",
   "execution_count": 43,
   "metadata": {},
   "outputs": [
    {
     "name": "stdout",
     "output_type": "stream",
     "text": [
      "Jaminan moneter pada tanggal 20 Agustus 1958 adalah sebesar 7,30%. \n",
      "\n",
      "Source: [84 Tahun 1958](https://www.ojk.go.id/id/regulasi/Documents/Pages/UU-Republik-Indonesia-tentang-Pengubahan-Pasal-Pasal-16-dan-19-Undang-Undang-Pokok-Bank-Indonesia/UU%20Nomor%2084%20Tahun%201958.pdf#page=5)\n"
     ]
    }
   ],
   "source": [
    "print(response['answer'])"
   ]
  },
  {
   "cell_type": "code",
   "execution_count": 44,
   "metadata": {},
   "outputs": [
    {
     "name": "stdout",
     "output_type": "stream",
     "text": [
      "[\n",
      "  {\n",
      "    \"metadata\": {\n",
      "      \"effective_date\": \"31 Desember 1958\",\n",
      "      \"file_url\": \"https://www.ojk.go.id/id/regulasi/Documents/Pages/UU-Republik-Indonesia-tentang-Pengubahan-Pasal-Pasal-16-dan-19-Undang-Undang-Pokok-Bank-Indonesia/UU%20Nomor%2084%20Tahun%201958.pdf\",\n",
      "      \"regulation_number\": \"84 Tahun 1958\",\n",
      "      \"regulation_type\": \"Undang-Undang\",\n",
      "      \"sector\": \"Perbankan\",\n",
      "      \"subsector\": \"Bank Umum\",\n",
      "      \"title\": \"Undang-Undang Republik Indonesia tentang Pengubahan Pasal-Pasal 16 dan 19 Undang-Undang Pokok Bank Indonesia\",\n",
      "      \"relevance_score\": 0.998835\n",
      "    },\n",
      "    \"page_content\": \"====================\\npage=5\\n====================\\nPRESIDEN\\nREPUBLIK INDONESIA\\nPENJELASAN\\nTENTANG\\nUNDANG-UNDANG PERUBAHAN PASAL-PASAL 16 dan 19\\nDARI UNDANG-UNDANG POKOK BANK INDONESIA.\\nI.\\nPENJELASAN UMUM.\\n1.\\nDalam pasal 16 ayat 1 dari Undang-undang Pokok Bank Indonesia disebutkan\\nbahwa banyaknya uang yang beredar harus dijamin sebesar 20% dengan emas\\ndan alat-alat pembayaran luar negeri.\\nPada tanggal 20 Agustus 1958 jaminan moneter ini tinggal sebesar 7,30%,\\nyang menggambarkan perbandingan antara kekayaan sebesar Rp. 1.542 juta\\nyang berupa emas, uang dollar U.S. dan Indonesia sebesar Rp. 21.115 juta yang\\nberupa uang kertas bank, saldo-saldo rekening-koran dan tagihan-tagihan lain\\nyang segera dapat digagih. Jaminan moneter ini sudah berada dibawah 20%\\nminimum sejak Januari 1957.\\nAyat 3 dan 4 dari pasal 16 tersebut memang memberi kelonggaran sebanyak\\nseluruhnya 6 bulan setelah mendapat persetujuan Parlemen, yang berarti bahwa\"\n",
      "  },\n",
      "  {\n",
      "    \"metadata\": {\n",
      "      \"effective_date\": \"11 Januari 2017\",\n",
      "      \"file_url\": \"https://www.ojk.go.id/id/regulasi/Documents/Pages/Perizinan-Usaha-dan-Kelembagaan-Lembaga-Penjamin/POJK%201-2017%20Perizinan%20dan%20Kelembagaan%20Lembaga%20Penjamin.pdf\",\n",
      "      \"regulation_number\": \"1/POJK.05/2017\",\n",
      "      \"regulation_type\": \"Peraturan OJK\",\n",
      "      \"sector\": \"IKNB\",\n",
      "      \"subsector\": \"Lembaga Jasa Keuangan Khusus,  Lembaga Kliring dan Penjaminan\",\n",
      "      \"title\": \"Perizinan Usaha dan Kelembagaan Lembaga Penjamin\",\n",
      "      \"relevance_score\": 0.0011786721\n",
      "    },\n",
      "    \"page_content\": \"a. \\nRp25.000.000.000,00 (dua puluh lima miliar rupiah) \\nuntuk UUS dari Perusahaan Penjaminan dengan \\nlingkup wilayah nasional; \\nb. \\nRpl0.000.000.000,00 (sepuluh miliar rupiah) untuk \\nUUS dari Perusahaan Penjaminan dengan lingkup \\nwilayah provinsi; atau \\nc. \\nRp5.000.000.000,00 (lima miliar rupiah) untuk UUS \\ndari \\nPerusahaan \\nPenjaminan \\ndengan \\nlingkup \\nwilayah kabupaten/kota.\"\n",
      "  },\n",
      "  {\n",
      "    \"metadata\": {\n",
      "      \"effective_date\": \"31 Desember 1958\",\n",
      "      \"file_url\": \"https://www.ojk.go.id/id/regulasi/Documents/Pages/UU-Republik-Indonesia-tentang-Pengubahan-Pasal-Pasal-16-dan-19-Undang-Undang-Pokok-Bank-Indonesia/UU%20Nomor%2084%20Tahun%201958.pdf\",\n",
      "      \"regulation_number\": \"84 Tahun 1958\",\n",
      "      \"regulation_type\": \"Undang-Undang\",\n",
      "      \"sector\": \"Perbankan\",\n",
      "      \"subsector\": \"Bank Umum\",\n",
      "      \"title\": \"Undang-Undang Republik Indonesia tentang Pengubahan Pasal-Pasal 16 dan 19 Undang-Undang Pokok Bank Indonesia\",\n",
      "      \"relevance_score\": 0.0010944522\n",
      "    },\n",
      "    \"page_content\": \"====================\\npage=2\\n====================\\nPRESIDEN\\nREPUBLIK INDONESIA\\n- 2 -\\nPasal I.\\nPasal 16 Undang-undang Pokok Bank Indonesia, Undang-undang No. 11\\ntahun 1953 (Lembaran Negara tahun 1953 No. 40), diubah sehingga\\nberbunyi sebagai berikut:\\n\\\"(1) Bank berusaha supaya jumlah semua uang-kertas bank, saldo\\nrekening koran dan tagihan-tagihan lain yang segera dapat ditagih\\ndari Bank untuk sebesar duapuluh persen dijamin dengan emas, mata-\\nuang emas, bahan mata-uang emas dan cadangan yang tediri atas alat-\\nalat pembayaran luar negeri yang umumnya dapat ditukar-tukarkan,\\nbegitu pula dengan hak-hak atas International Monetary Fund dan\\nWorldbank yang diserahkan atau akan diserahkan kepada Bank\\ndengan Undang-undang.\\n(2) Bank berusaha untuk memelihara jaminan tersebut dalam ayat (1)\\npasal ini paling sedikit pada tingkatan yang sama dengan jumlah\\nimpor selama 3 bulan, dihitung atas dasar jumlah rata-rata dari impor\\nselama 3 tahun takwin berturut-turut yang baru lewat.\"\n",
      "  },\n",
      "  {\n",
      "    \"metadata\": {\n",
      "      \"effective_date\": \"1 Desember 2011\",\n",
      "      \"file_url\": \"https://www.ojk.go.id/id/regulasi/Documents/Pages/Peraturan-BAPEPAM-tentang-Pedoman-Perhitungan-Batas-Tingkat-Solvabilitas-Minimum-bagi-Perusahaan-Asuransi-dan-Reasuransi/BAPEPAM%20PER-09BL2011.pdf\",\n",
      "      \"regulation_number\": \"PER-09/BL/2011\",\n",
      "      \"regulation_type\": \"Peraturan Bapepam\",\n",
      "      \"sector\": \"IKNB\",\n",
      "      \"subsector\": \"Asuransi\",\n",
      "      \"title\": \"Peraturan BAPEPAM tentang Pedoman Perhitungan Batas Tingkat Solvabilitas Minimum bagi Perusahaan Asuransi dan Perusahaan Reasuransi\",\n",
      "      \"relevance_score\": 0.00023231418\n",
      "    },\n",
      "    \"page_content\": \"30% x (Kewajiban \\u2013 Kekayaan \\nYang Diperkenankan) \\nII. Lebih \\ndari \\nnol \\nnamun \\ntidak \\nmelebihi \\n20% \\ndari \\nJumlah Kewajiban \\n0% \\nNol \\nIII. Melebihi 20% dari \\nJumlah Kewajiban \\n10% \\n10% \\nx \\n(Kekayaan \\nYang \\nDiperkenankan \\n- \\n120% \\nx \\nKewajiban) \\n3) Hasil perhitungan jumlah dana pada butir 2) dikonversikan ke dalam \\nmata uang rupiah sesuai dengan kurs tengah Bank Indonesia pada \\ntanggal neraca. \\n4) Jumlah dana yang diperhitungkan dalam perhitungan BTSM adalah \\njumlah \\ndana \\nyang \\ndibutuhkan \\nuntuk \\nmenanggulangi \\nrisiko \\nketidakseimbangan antara nilai kekayaan dan nilai kewajiban untuk \\nseluruh mata uang asing. \\n5) Kontrak asuransi yang memuat ketentuan konversi mata uang asing \\nterhadap rupiah dengan menggunakan nilai tukar tertentu yang \\nditetapkan dalam kontrak, harus diperlakukan sebagai kontrak asuransi \\ndalam mata uang rupiah. \\n6) Sebagai contoh, sebuah perusahaan asuransi memiliki kekayaan dan \\nkewajiban untuk mata uang rupiah, dolar Amerika, dolar Singapura dan\"\n",
      "  },\n",
      "  {\n",
      "    \"metadata\": {\n",
      "      \"effective_date\": \"31 Desember 1958\",\n",
      "      \"file_url\": \"https://www.ojk.go.id/id/regulasi/Documents/Pages/UU-Republik-Indonesia-tentang-Pengubahan-Pasal-Pasal-16-dan-19-Undang-Undang-Pokok-Bank-Indonesia/UU%20Nomor%2084%20Tahun%201958.pdf\",\n",
      "      \"regulation_number\": \"84 Tahun 1958\",\n",
      "      \"regulation_type\": \"Undang-Undang\",\n",
      "      \"sector\": \"Perbankan\",\n",
      "      \"subsector\": \"Bank Umum\",\n",
      "      \"title\": \"Undang-Undang Republik Indonesia tentang Pengubahan Pasal-Pasal 16 dan 19 Undang-Undang Pokok Bank Indonesia\",\n",
      "      \"relevance_score\": 0.00019871553\n",
      "    },\n",
      "    \"page_content\": \"adalah pegangan yang paling mudah dan aman. Jadi sistim jaminan seperti\\nsekarang baik dipertahankan terus, hanya harus disesuaikan dengan kebutuhan-\\nkebutuhan dan keadaan yang nyata.\\n4.\\nDisamping jaminan 20% tersebut diatas, bank harus usaha untuk mempunyai\\ncadangan paling sedikit sama dengan besarnya jumlah impor selama 3 bulan,\\nyang dihitung atas dasar angka rata-rata dari 3 tahun yang lalu berturut-turut,\\ntidak termasuk impor dari perusahaan-perusahaan minyak. Besarnya cadangan\\nini bukan limit, tetapi tujuan minimum yang sedapat mungkin harus dipelihara.\\nSebagai \\u2026\"\n",
      "  },\n",
      "  {\n",
      "    \"metadata\": {\n",
      "      \"effective_date\": \"31 Desember 1958\",\n",
      "      \"file_url\": \"https://www.ojk.go.id/id/regulasi/Documents/Pages/UU-Republik-Indonesia-tentang-Pengubahan-Pasal-Pasal-16-dan-19-Undang-Undang-Pokok-Bank-Indonesia/UU%20Nomor%2084%20Tahun%201958.pdf\",\n",
      "      \"regulation_number\": \"84 Tahun 1958\",\n",
      "      \"regulation_type\": \"Undang-Undang\",\n",
      "      \"sector\": \"Perbankan\",\n",
      "      \"subsector\": \"Bank Umum\",\n",
      "      \"title\": \"Undang-Undang Republik Indonesia tentang Pengubahan Pasal-Pasal 16 dan 19 Undang-Undang Pokok Bank Indonesia\",\n",
      "      \"relevance_score\": 0.00012931564\n",
      "    },\n",
      "    \"page_content\": \"minimum sejak Januari 1957.\\nAyat 3 dan 4 dari pasal 16 tersebut memang memberi kelonggaran sebanyak\\nseluruhnya 6 bulan setelah mendapat persetujuan Parlemen, yang berarti bahwa\\nsetelah jangka waktu tersebut lewat, perbandingan harus kembali lagi ketingkat\\nminimum 20%.\\nSebagai diterangkan dalam laporan tahunan Bank Indonesia, laporan-\\nlaporan Biro Pusat Statistik dan Nota Keuangan Pemerintah, maka sebab-sebab\\nmakin bertambah besarnya uang yang beredar itu terletak untuk sebagian besar\\npada makin besarnya uang muka yang diberikan oleh Bank kepada Pemerintah.\\nDisamping itu kekayaan emas dan deviden tidak bertambah yang sebanding\\ndengan kenaikan volume uang yang beredar, dan bahkan sejak kwartal terakhir\\ntahun yang lalu sampai saat ini menunjukkan kemunduran.\\nDengan fakta-fakta tersebut ternyata bahwa kita harus mempunyai kriterium\\nbaru dalam hal pengendalian uang yang beredar ini, sedemikian rupa sehingga\\ntidak perlu menghalang-halangi kewajiban-kewajiban kita dalam keadaan luar\"\n",
      "  }\n",
      "]\n"
     ]
    }
   ],
   "source": [
    "print(response['context'])"
   ]
  },
  {
   "cell_type": "code",
   "execution_count": 45,
   "metadata": {},
   "outputs": [
    {
     "name": "stdout",
     "output_type": "stream",
     "text": [
      "----------\n",
      "Human: Berapa persen jaminan moneter pada tanggal 20 Agustus 1958?\n",
      "----------\n",
      "Assistant: Jaminan moneter pada tanggal 20 Agustus 1958 adalah sebesar 7,30%. \n",
      "\n",
      "Source: [84 Tahun 1958](https://www.ojk.go.id/id/regulasi/Documents/Pages/UU-Republik-Indonesia-tentang-Pengubahan-Pasal-Pasal-16-dan-19-Undang-Undang-Pokok-Bank-Indonesia/UU%20Nomor%2084%20Tahun%201958.pdf#page=5)\n",
      "\n"
     ]
    }
   ],
   "source": [
    "print(chat_history.get_formatted_history())"
   ]
  },
  {
   "cell_type": "markdown",
   "metadata": {},
   "source": [
    "## **Evaluation**"
   ]
  }
 ],
 "metadata": {
  "kernelspec": {
   "display_name": "chatbot-lc",
   "language": "python",
   "name": "python3"
  },
  "language_info": {
   "codemirror_mode": {
    "name": "ipython",
    "version": 3
   },
   "file_extension": ".py",
   "mimetype": "text/x-python",
   "name": "python",
   "nbconvert_exporter": "python",
   "pygments_lexer": "ipython3",
   "version": "3.9.19"
  }
 },
 "nbformat": 4,
 "nbformat_minor": 2
}
