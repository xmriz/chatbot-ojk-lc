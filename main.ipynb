{
 "cells": [
  {
   "cell_type": "markdown",
   "metadata": {},
   "source": [
    "# **OJK ChatBot - LangChain**"
   ]
  },
  {
   "cell_type": "markdown",
   "metadata": {},
   "source": [
    "## **Setup**"
   ]
  },
  {
   "cell_type": "code",
   "execution_count": 1,
   "metadata": {},
   "outputs": [
    {
     "data": {
      "text/plain": [
       "True"
      ]
     },
     "execution_count": 1,
     "metadata": {},
     "output_type": "execute_result"
    }
   ],
   "source": [
    "from dotenv import load_dotenv\n",
    "load_dotenv()"
   ]
  },
  {
   "cell_type": "markdown",
   "metadata": {},
   "source": [
    "## **Config**"
   ]
  },
  {
   "cell_type": "code",
   "execution_count": 2,
   "metadata": {},
   "outputs": [],
   "source": [
    "from utils.config import get_config\n",
    "from utils.questions import get_question\n",
    "from utils.model_config import ModelName, get_model\n",
    "\n",
    "config = get_config()"
   ]
  },
  {
   "cell_type": "code",
   "execution_count": 3,
   "metadata": {},
   "outputs": [],
   "source": [
    "STORE = False\n",
    "DELETE = False\n",
    "TOP_K = 6\n",
    "query_str = get_question(\"e\")\n",
    "llm_model, embed_model = get_model(model_name=ModelName.OPENAI, config=config)"
   ]
  },
  {
   "cell_type": "markdown",
   "metadata": {},
   "source": [
    "## **Indexing**"
   ]
  },
  {
   "cell_type": "markdown",
   "metadata": {},
   "source": [
    "### **Load**"
   ]
  },
  {
   "cell_type": "code",
   "execution_count": 4,
   "metadata": {},
   "outputs": [],
   "source": [
    "from utils.documents_text_extract import extract_all_documents_in_directory\n",
    "\n",
    "documents_dir = './data/documents'\n",
    "metadata_path = './data/metadata/files_metadata.csv'\n",
    "\n",
    "if STORE:\n",
    "    documents = extract_all_documents_in_directory(documents_dir, metadata_path, treshold=0.98)\n"
   ]
  },
  {
   "cell_type": "markdown",
   "metadata": {},
   "source": [
    "### **Split**"
   ]
  },
  {
   "cell_type": "code",
   "execution_count": 5,
   "metadata": {},
   "outputs": [],
   "source": [
    "from utils.document_split import document_splitter\n",
    "\n",
    "if STORE:\n",
    "    all_splits = document_splitter(docs=documents)"
   ]
  },
  {
   "cell_type": "markdown",
   "metadata": {},
   "source": [
    "### **Storing**"
   ]
  },
  {
   "cell_type": "code",
   "execution_count": 6,
   "metadata": {},
   "outputs": [],
   "source": [
    "from utils.vector_store import PineconeIndexManager\n",
    "\n",
    "pinecone = PineconeIndexManager(index_name='ojk', embed_model=embed_model)\n",
    "\n",
    "if STORE:\n",
    "    pinecone.store_vector_index(docs=all_splits, delete=False)\n",
    "    vector_store = pinecone.load_vector_index()\n",
    "else: \n",
    "    vector_store = pinecone.load_vector_index()"
   ]
  },
  {
   "cell_type": "markdown",
   "metadata": {},
   "source": [
    "## **Retrieval and Generation**"
   ]
  },
  {
   "cell_type": "markdown",
   "metadata": {},
   "source": [
    "### **Retrieve**"
   ]
  },
  {
   "cell_type": "code",
   "execution_count": 7,
   "metadata": {},
   "outputs": [],
   "source": [
    "from langchain_cohere import CohereRerank\n",
    "from langchain.retrievers import ContextualCompressionRetriever\n",
    "import os\n",
    "\n",
    "retriever = vector_store.as_retriever(search_type=\"similarity\", search_kwargs={\"k\": TOP_K})\n",
    "# compressor = CohereRerank(cohere_api_key=os.getenv('COHERE_API_KEY'))\n",
    "# retriever = ContextualCompressionRetriever(\n",
    "#     base_compressor=compressor, base_retriever=vector_store.as_retriever(search_type=\"similarity\", search_kwargs={\"k\": TOP_K})\n",
    "# )"
   ]
  },
  {
   "cell_type": "code",
   "execution_count": 8,
   "metadata": {},
   "outputs": [
    {
     "data": {
      "text/plain": [
       "[Document(metadata={'effective_date': '31 Desember 1958', 'file_name': 'ojk-undang_undang-84_tahun_1958-31121958-uu_republik_indonesia_tentang_pengubahan_pasal_pasal_16_dan_19_undang_undang_pokok_bank_indonesia_uu_nomor_84_tahun_1958_pdf.pdf', 'file_url': 'https://www.ojk.go.id/id/regulasi/Documents/Pages/UU-Republik-Indonesia-tentang-Pengubahan-Pasal-Pasal-16-dan-19-Undang-Undang-Pokok-Bank-Indonesia/UU%20Nomor%2084%20Tahun%201958.pdf', 'regulation_number': '84 Tahun 1958', 'regulation_type': 'Undang-Undang', 'sector': 'Perbankan', 'subsector': 'Bank Umum', 'title': 'Undang-Undang Republik Indonesia tentang Pengubahan Pasal-Pasal 16 dan 19 Undang-Undang Pokok Bank Indonesia'}, page_content='PRESIDEN\\nREPUBLIK INDONESIA\\nPENJELASAN\\nTENTANG\\nUNDANG-UNDANG PERUBAHAN PASAL-PASAL 16 dan 19\\nDARI UNDANG-UNDANG POKOK BANK INDONESIA.\\nI.\\nPENJELASAN UMUM.\\n1.\\nDalam pasal 16 ayat 1 dari Undang-undang Pokok Bank Indonesia disebutkan\\nbahwa banyaknya uang yang beredar harus dijamin sebesar 20% dengan emas\\ndan alat-alat pembayaran luar negeri.\\nPada tanggal 20 Agustus 1958 jaminan moneter ini tinggal sebesar 7,30%,\\nyang menggambarkan perbandingan antara kekayaan sebesar Rp. 1.542 juta\\nyang berupa emas, uang dollar U.S. dan Indonesia sebesar Rp. 21.115 juta yang\\nberupa uang kertas bank, saldo-saldo rekening-koran dan tagihan-tagihan lain\\nyang segera dapat digagih. Jaminan moneter ini sudah berada dibawah 20%\\nminimum sejak Januari 1957.\\nAyat 3 dan 4 dari pasal 16 tersebut memang memberi kelonggaran sebanyak\\nseluruhnya 6 bulan setelah mendapat persetujuan Parlemen, yang berarti bahwa\\nsetelah jangka waktu tersebut lewat, perbandingan harus kembali lagi ketingkat\\nminimum 20%.'),\n",
       " Document(metadata={'effective_date': '1 Desember 2011', 'file_name': 'ojk-peraturan_bapepam-per_09_bl_2011-01122011-peraturan_bapepam_tentang_pedoman_perhitungan_batas_tingkat_solvabilitas_minimum_bagi_perusahaan_asuransi_dan_reasuransi_bapepam_per_09bl2011_pdf.pdf', 'file_url': 'https://www.ojk.go.id/id/regulasi/Documents/Pages/Peraturan-BAPEPAM-tentang-Pedoman-Perhitungan-Batas-Tingkat-Solvabilitas-Minimum-bagi-Perusahaan-Asuransi-dan-Reasuransi/BAPEPAM%20PER-09BL2011.pdf', 'regulation_number': 'PER-09/BL/2011', 'regulation_type': 'Peraturan Bapepam', 'sector': 'IKNB', 'subsector': 'Asuransi', 'title': 'Peraturan BAPEPAM tentang Pedoman Perhitungan Batas Tingkat Solvabilitas Minimum bagi Perusahaan Asuransi dan Perusahaan Reasuransi'}, page_content='dalam \\ntotal \\ninvestasi tersebut adalah investasi \\npada satu pihak sebesar Rp 300 milyar \\nterdiri dari deposito sebanyak Rp 150 \\nmilyar pada bank dengan CAR 8% \\n(faktor risiko 2%), obligasi dengan \\nrating BB (faktor risiko 4%) sebanyak \\nRp 90 milyar dan saham kategori LQ \\n45 (faktor risiko 10%) sebanyak Rp 60 \\nmilyar.  \\nRata-rata tertimbang faktor risiko \\ninvestasi pada satu pihak adalah:  \\n(Rp 150 milyar x 2% + Rp 90 milyar x \\n4% + Rp 60 milyar x 10%) : Rp 300 \\nmilyar = 4,2% \\nTambahan dana yang dibutuhkan \\nuntuk  mengantisipasi kegagalan'),\n",
       " Document(metadata={'effective_date': '30 Oktober 1992', 'file_name': 'ojk-peraturan_pemerintah-73_tahun_1992-30101992-pp_nomor_73_tahun_1992_tentang_penyelenggaraan_usaha_perasuransian_pp_no_73_tahun_1992_pdf.pdf', 'file_url': 'https://www.ojk.go.id/id/regulasi/Documents/Pages/PP-nomor-73-Tahun-1992-tentang-Penyelenggaraan-Usaha-Perasuransian/PP%20NO.73%20TAHUN%201992.pdf', 'regulation_number': '73 Tahun 1992', 'regulation_type': 'Peraturan Pemerintah', 'sector': 'IKNB', 'subsector': 'Asuransi', 'title': 'Peraturan Pemerintah nomor 73 Tahun 1992 tentang Penyelenggaraan Usaha Perasuransian'}, page_content='c. Rp. 30.000.000.000,. (tiga puluh milyar rupiah), bagi Perusahaan Reasuransi; \\nd. Rp. 3.000.000.000,. (tiga milyar rupiah), bagi Perusahaan Pialang Asuransi; \\ne. Rp. 3.000.000.000. (tiga milyar rupiah), bagi Perusahaan Pialang Reasuransi. \\n(3) Pada saat pendirian perusahaan, penyertaan langsung pihak asing dalam Perusahaan \\nPerasuransian sebagaimana dimaksud dalam ayat (2) paling banyak 80% (delapan puluh per \\nseratus).'),\n",
       " Document(metadata={'effective_date': '6 Maret 2001', 'file_name': 'ojk-peraturan_keputusan_mentri-112_kmk_03_2001-06032001-kmk_nomor_112_kmk_03_2001_112_kmk_03_2001_pdf.pdf', 'file_url': 'https://www.ojk.go.id/id/regulasi/Documents/Pages/KMK-Nomor-112.KMK.03.2001/112.KMK.03.2001.pdf', 'regulation_number': '112/KMK.03/2001', 'regulation_type': 'Peraturan/Keputusan Mentri', 'sector': 'IKNB', 'subsector': 'Dana Pensiun', 'title': 'Keputusan Menteri Keuangan tentang Pemotongan Pajak Penghasil Pasal 21 atas Penghasilan berupa Uang Pesangon, Uang Tebusan Pensiun, dan Tunjangan Hari Tua atau Jaminan Hari Tua'}, page_content='juta rupiah) sampai dengan Rp 100.000.000,00 (seratus juta \\nrupiah) sebesar 10% (sepuluh persen);  \\n \\n  \\nd.  penghasilan bruto di atas Rp 100.000.000,00 (seratus juta \\nrupiah) sampai dengan Rp 200.000.000,00 (dua ratus juta \\nrupiah) sebesar 15% (lima belas persen);  \\n \\n  \\ne.  penghasilan bruto di atas Rp 200.000.000,00 (dua ratus juta \\nrupiah) sebesar 25% (dua puliuh lima belas persen); \\n \\n \\n \\nPasal  3 \\nPada saat Keputusan Menteri Keuangan ini mulai berlaku, Keputusan \\nMenteri Keuangan Nomor 462/KMK.04/1998 dinyatakan tidak berlaku.\\nPasal  4 \\nKeputusan ini mulai berlaku tanggal 1 Januari 2001. \\nAgar setiap orang mengetahuinya, memerintahkan pengumuman \\nKeputusan Menteri Keuangan ini dengan penempatannya dalam Berita \\nNegara Republik Indonesia. \\n \\n \\nDitetapkan di Jakarta  \\npada tanggal 6 Maret 2001  \\nMENTERI \\nKEUANGAN \\nREPUBLIK \\nINDONESIA \\n \\nPRIJADI PRAPTOSUHARDJO'),\n",
       " Document(metadata={'effective_date': '1 Desember 2011', 'file_name': 'ojk-peraturan_bapepam-per_09_bl_2011-01122011-peraturan_bapepam_tentang_pedoman_perhitungan_batas_tingkat_solvabilitas_minimum_bagi_perusahaan_asuransi_dan_reasuransi_bapepam_per_09bl2011_pdf.pdf', 'file_url': 'https://www.ojk.go.id/id/regulasi/Documents/Pages/Peraturan-BAPEPAM-tentang-Pedoman-Perhitungan-Batas-Tingkat-Solvabilitas-Minimum-bagi-Perusahaan-Asuransi-dan-Reasuransi/BAPEPAM%20PER-09BL2011.pdf', 'regulation_number': 'PER-09/BL/2011', 'regulation_type': 'Peraturan Bapepam', 'sector': 'IKNB', 'subsector': 'Asuransi', 'title': 'Peraturan BAPEPAM tentang Pedoman Perhitungan Batas Tingkat Solvabilitas Minimum bagi Perusahaan Asuransi dan Perusahaan Reasuransi'}, page_content='II. Lebih \\ndari \\nnol \\nnamun \\ntidak \\nmelebihi \\n20% \\ndari \\nJumlah Kewajiban \\n0% \\nNol \\nIII. Melebihi 20% dari \\nJumlah Kewajiban \\n10% \\n10% \\nx \\n(Kekayaan \\nYang \\nDiperkenankan \\n- \\n120% \\nx \\nKewajiban) \\n3) Hasil perhitungan jumlah dana pada butir 2) dikonversikan ke dalam \\nmata uang rupiah sesuai dengan kurs tengah Bank Indonesia pada \\ntanggal neraca. \\n4) Jumlah dana yang diperhitungkan dalam perhitungan BTSM adalah \\njumlah \\ndana \\nyang \\ndibutuhkan \\nuntuk \\nmenanggulangi \\nrisiko \\nketidakseimbangan antara nilai kekayaan dan nilai kewajiban untuk \\nseluruh mata uang asing. \\n5) Kontrak asuransi yang memuat ketentuan konversi mata uang asing \\nterhadap rupiah dengan menggunakan nilai tukar tertentu yang \\nditetapkan dalam kontrak, harus diperlakukan sebagai kontrak asuransi \\ndalam mata uang rupiah. \\n6) Sebagai contoh, sebuah perusahaan asuransi memiliki kekayaan dan \\nkewajiban untuk mata uang rupiah, dolar Amerika, dolar Singapura dan \\nyen Jepang setelah dikonversi ke rupiah adalah sebagai berikut:'),\n",
       " Document(metadata={'effective_date': '12 Januari 2016', 'file_name': 'ojk-peraturan_ojk-1_pojk_05_2016-12012016-pojk_01_sbn_pojk_1_2016_pdf.pdf', 'file_url': 'https://www.ojk.go.id/id/regulasi/Documents/Pages/POJK-01.-SBN/POJK%201-2016.pdf', 'regulation_number': '1 /POJK.05/2016', 'regulation_type': 'Peraturan OJK', 'sector': 'IKNB', 'subsector': 'Asuransi,  Dana Pensiun,  Lembaga Pembiayaan,  Lembaga Jasa Keuangan Khusus,  Lembaga Keuangan Mikro', 'title': 'POJK tentang Investasi Surat Berharga Negara Bagi Lembaga Jasa Keuangan Non-Bank'}, page_content='- 4 - \\n \\n \\nb. \\nbagi perusahaan asuransi umum dan perusahaan \\nreasuransi termasuk yang menyelenggarakan \\nseluruh atau sebagian usahanya dengan prinsip \\nsyariah,  paling  rendah  20%  (dua  puluh  \\npersen) \\ndari \\nseluruh \\njumlah \\ninvestasi \\nperusahaan;  \\nc. \\nbagi \\nlembaga \\npenjaminan \\ntermasuk \\nyang \\nmenyelenggarakan \\nseluruh \\natau \\nsebagian \\nusahanya dengan prinsip syariah, paling rendah \\n20% (dua puluh persen) dari seluruh jumlah \\ninvestasi lembaga penjaminan;  \\nd. \\nbagi dana pensiun pemberi kerja paling rendah \\n30% (tiga puluh persen) dari seluruh jumlah \\ninvestasi dana pensiun pemberi kerja; \\ne. \\nbagi BPJS Ketenagakerjaan: \\n1. \\npaling rendah 50% (lima puluh persen)  dari \\nseluruh jumlah investasi Dana Jaminan \\nSosial Ketenagakerjaan; dan  \\n2. \\npaling rendah 30% (tiga puluh persen) dari \\nseluruh \\njumlah \\ninvestasi \\nBPJS \\nKetenagakerjaan;  \\nf. \\nbagi BPJS Kesehatan paling rendah 30% (tiga \\npuluh persen) dari seluruh jumlah investasi BPJS \\nKesehatan. \\n(2)')]"
      ]
     },
     "execution_count": 8,
     "metadata": {},
     "output_type": "execute_result"
    }
   ],
   "source": [
    "retrieved_docs = retriever.invoke(input=query_str)\n",
    "retrieved_docs"
   ]
  },
  {
   "cell_type": "markdown",
   "metadata": {},
   "source": [
    "### **Generate**"
   ]
  },
  {
   "cell_type": "code",
   "execution_count": 9,
   "metadata": {},
   "outputs": [],
   "source": [
    "from utils.rag_chain_with_chat_history import create_chain_with_chat_history\n",
    "\n",
    "_TEMPLATE = \"\"\"Given the following conversation and a follow up question, rephrase the \\\n",
    "follow up question to be a standalone question WITH ITS ORIGINAL LANGUAGE. if the follow \\\n",
    "up question is not clear. \n",
    "If the chat history is not relevant to the follow up question, please ignore it.\n",
    "\n",
    "Chat history:\n",
    "{chat_history}\n",
    "Follow up question: {question}\n",
    "Standalone question:\"\"\"\n",
    "\n",
    "# =====\n",
    "\n",
    "_ANSWER_TEMPLATE = \"\"\"Context information is below.\n",
    "context: {context}\n",
    "\n",
    "Given the context and the metadata information and not prior knowledge, \\\n",
    "answer the query asking about banking compliance in Indonesia. \n",
    "Answer the question based on the context and the metadata information.\n",
    "ALWAYS ANSWER WITH USER'S LANGUAGE.\n",
    "Please provide your answer with [regulation_number](file_url) in metadata \\\n",
    "(if possible) in the following format:\n",
    "\n",
    "Answer... \\n\\n\n",
    "Source: [metadata['regulation_number']](metadata['file_url'])\n",
    "\n",
    "But if you cannot find the regulation number, just provide the answer.\n",
    "\n",
    "Question: {question}\n",
    "\"\"\"\n",
    "\n",
    "chain = create_chain_with_chat_history(\n",
    "    contextualize_q_prompt_str=_TEMPLATE,\n",
    "    qa_system_prompt_str=_ANSWER_TEMPLATE,\n",
    "    retriever=retriever,\n",
    "    llm_model=llm_model,\n",
    ")"
   ]
  },
  {
   "cell_type": "code",
   "execution_count": 10,
   "metadata": {},
   "outputs": [],
   "source": [
    "from utils.chat_history import ChatHistory\n",
    "\n",
    "chat_history = ChatHistory(max_history_length=5)"
   ]
  },
  {
   "cell_type": "markdown",
   "metadata": {},
   "source": [
    "#### **Streaming**"
   ]
  },
  {
   "cell_type": "code",
   "execution_count": 59,
   "metadata": {},
   "outputs": [
    {
     "name": "stdout",
     "output_type": "stream",
     "text": [
      "Jaminan moneter pada tanggal 20 Agustus 1958 tinggal sebesar 7,30%.\n",
      "\n",
      "Source: [84 Tahun 1958](https://www.ojk.go.id/id/regulasi/Documents/Pages/UU-Republik-Indonesia-tentang-Pengubahan-Pasal-Pasal-16-dan-19-Undang-Undang-Pokok-Bank-Indonesia/UU%20Nomor%2084%20Tahun%201958.pdf)"
     ]
    }
   ],
   "source": [
    "# response = chain.stream({\"chat_history\": chat_history, \"question\": \"Berapa SWDKLLJ dari sedan?\"})\n",
    "# chat_history.add_chat(response[\"question\"], response[\"answer\"])\n",
    "\n",
    "from utils.rag_chain_with_chat_history import print_answer_stream\n",
    "\n",
    "await print_answer_stream(chain=chain, chat_history=chat_history, question=query_str)\n",
    "\n",
    "# answer_chunks = []\n",
    "# async for chunk in chain.astream({\"chat_history\": chat_history, \"question\": query_str}):\n",
    "#     if 'question' in chunk:\n",
    "#         question = chunk['question']\n",
    "#     if 'answer' in chunk:\n",
    "#         answer_chunks.append(chunk['answer'])\n",
    "#         print(chunk['answer'], end='', flush=True)\n",
    "\n",
    "# answer = ''.join(answer_chunks)\n",
    "# chat_history.add_chat(question, answer)"
   ]
  },
  {
   "cell_type": "markdown",
   "metadata": {},
   "source": [
    "#### **With Question, Answer, and Context**"
   ]
  },
  {
   "cell_type": "code",
   "execution_count": 12,
   "metadata": {},
   "outputs": [
    {
     "data": {
      "text/plain": [
       "{'question': 'Berapa persen jaminan moneter pada tanggal 20 Agustus 1958?',\n",
       " 'answer': 'Jaminan moneter pada tanggal 20 Agustus 1958 tinggal sebesar 7,30%.\\n\\nSource: [84 Tahun 1958](https://www.ojk.go.id/id/regulasi/Documents/Pages/UU-Republik-Indonesia-tentang-Pengubahan-Pasal-Pasal-16-dan-19-Undang-Undang-Pokok-Bank-Indonesia/UU%20Nomor%2084%20Tahun%201958.pdf)',\n",
       " 'context': '[\\n  {\\n    \"metadata\": {\\n      \"effective_date\": \"31 Desember 1958\",\\n      \"file_name\": \"ojk-undang_undang-84_tahun_1958-31121958-uu_republik_indonesia_tentang_pengubahan_pasal_pasal_16_dan_19_undang_undang_pokok_bank_indonesia_uu_nomor_84_tahun_1958_pdf.pdf\",\\n      \"file_url\": \"https://www.ojk.go.id/id/regulasi/Documents/Pages/UU-Republik-Indonesia-tentang-Pengubahan-Pasal-Pasal-16-dan-19-Undang-Undang-Pokok-Bank-Indonesia/UU%20Nomor%2084%20Tahun%201958.pdf\",\\n      \"regulation_number\": \"84 Tahun 1958\",\\n      \"regulation_type\": \"Undang-Undang\",\\n      \"sector\": \"Perbankan\",\\n      \"subsector\": \"Bank Umum\",\\n      \"title\": \"Undang-Undang Republik Indonesia tentang Pengubahan Pasal-Pasal 16 dan 19 Undang-Undang Pokok Bank Indonesia\"\\n    },\\n    \"page_content\": \"PRESIDEN\\\\nREPUBLIK INDONESIA\\\\nPENJELASAN\\\\nTENTANG\\\\nUNDANG-UNDANG PERUBAHAN PASAL-PASAL 16 dan 19\\\\nDARI UNDANG-UNDANG POKOK BANK INDONESIA.\\\\nI.\\\\nPENJELASAN UMUM.\\\\n1.\\\\nDalam pasal 16 ayat 1 dari Undang-undang Pokok Bank Indonesia disebutkan\\\\nbahwa banyaknya uang yang beredar harus dijamin sebesar 20% dengan emas\\\\ndan alat-alat pembayaran luar negeri.\\\\nPada tanggal 20 Agustus 1958 jaminan moneter ini tinggal sebesar 7,30%,\\\\nyang menggambarkan perbandingan antara kekayaan sebesar Rp. 1.542 juta\\\\nyang berupa emas, uang dollar U.S. dan Indonesia sebesar Rp. 21.115 juta yang\\\\nberupa uang kertas bank, saldo-saldo rekening-koran dan tagihan-tagihan lain\\\\nyang segera dapat digagih. Jaminan moneter ini sudah berada dibawah 20%\\\\nminimum sejak Januari 1957.\\\\nAyat 3 dan 4 dari pasal 16 tersebut memang memberi kelonggaran sebanyak\\\\nseluruhnya 6 bulan setelah mendapat persetujuan Parlemen, yang berarti bahwa\\\\nsetelah jangka waktu tersebut lewat, perbandingan harus kembali lagi ketingkat\\\\nminimum 20%.\"\\n  },\\n  {\\n    \"metadata\": {\\n      \"effective_date\": \"1 Desember 2011\",\\n      \"file_name\": \"ojk-peraturan_bapepam-per_09_bl_2011-01122011-peraturan_bapepam_tentang_pedoman_perhitungan_batas_tingkat_solvabilitas_minimum_bagi_perusahaan_asuransi_dan_reasuransi_bapepam_per_09bl2011_pdf.pdf\",\\n      \"file_url\": \"https://www.ojk.go.id/id/regulasi/Documents/Pages/Peraturan-BAPEPAM-tentang-Pedoman-Perhitungan-Batas-Tingkat-Solvabilitas-Minimum-bagi-Perusahaan-Asuransi-dan-Reasuransi/BAPEPAM%20PER-09BL2011.pdf\",\\n      \"regulation_number\": \"PER-09/BL/2011\",\\n      \"regulation_type\": \"Peraturan Bapepam\",\\n      \"sector\": \"IKNB\",\\n      \"subsector\": \"Asuransi\",\\n      \"title\": \"Peraturan BAPEPAM tentang Pedoman Perhitungan Batas Tingkat Solvabilitas Minimum bagi Perusahaan Asuransi dan Perusahaan Reasuransi\"\\n    },\\n    \"page_content\": \"dalam \\\\ntotal \\\\ninvestasi tersebut adalah investasi \\\\npada satu pihak sebesar Rp 300 milyar \\\\nterdiri dari deposito sebanyak Rp 150 \\\\nmilyar pada bank dengan CAR 8% \\\\n(faktor risiko 2%), obligasi dengan \\\\nrating BB (faktor risiko 4%) sebanyak \\\\nRp 90 milyar dan saham kategori LQ \\\\n45 (faktor risiko 10%) sebanyak Rp 60 \\\\nmilyar.  \\\\nRata-rata tertimbang faktor risiko \\\\ninvestasi pada satu pihak adalah:  \\\\n(Rp 150 milyar x 2% + Rp 90 milyar x \\\\n4% + Rp 60 milyar x 10%) : Rp 300 \\\\nmilyar = 4,2% \\\\nTambahan dana yang dibutuhkan \\\\nuntuk  mengantisipasi kegagalan\"\\n  },\\n  {\\n    \"metadata\": {\\n      \"effective_date\": \"30 Oktober 1992\",\\n      \"file_name\": \"ojk-peraturan_pemerintah-73_tahun_1992-30101992-pp_nomor_73_tahun_1992_tentang_penyelenggaraan_usaha_perasuransian_pp_no_73_tahun_1992_pdf.pdf\",\\n      \"file_url\": \"https://www.ojk.go.id/id/regulasi/Documents/Pages/PP-nomor-73-Tahun-1992-tentang-Penyelenggaraan-Usaha-Perasuransian/PP%20NO.73%20TAHUN%201992.pdf\",\\n      \"regulation_number\": \"73 Tahun 1992\",\\n      \"regulation_type\": \"Peraturan Pemerintah\",\\n      \"sector\": \"IKNB\",\\n      \"subsector\": \"Asuransi\",\\n      \"title\": \"Peraturan Pemerintah nomor 73 Tahun 1992 tentang Penyelenggaraan Usaha Perasuransian\"\\n    },\\n    \"page_content\": \"c. Rp. 30.000.000.000,. (tiga puluh milyar rupiah), bagi Perusahaan Reasuransi; \\\\nd. Rp. 3.000.000.000,. (tiga milyar rupiah), bagi Perusahaan Pialang Asuransi; \\\\ne. Rp. 3.000.000.000. (tiga milyar rupiah), bagi Perusahaan Pialang Reasuransi. \\\\n(3) Pada saat pendirian perusahaan, penyertaan langsung pihak asing dalam Perusahaan \\\\nPerasuransian sebagaimana dimaksud dalam ayat (2) paling banyak 80% (delapan puluh per \\\\nseratus).\"\\n  },\\n  {\\n    \"metadata\": {\\n      \"effective_date\": \"6 Maret 2001\",\\n      \"file_name\": \"ojk-peraturan_keputusan_mentri-112_kmk_03_2001-06032001-kmk_nomor_112_kmk_03_2001_112_kmk_03_2001_pdf.pdf\",\\n      \"file_url\": \"https://www.ojk.go.id/id/regulasi/Documents/Pages/KMK-Nomor-112.KMK.03.2001/112.KMK.03.2001.pdf\",\\n      \"regulation_number\": \"112/KMK.03/2001\",\\n      \"regulation_type\": \"Peraturan/Keputusan Mentri\",\\n      \"sector\": \"IKNB\",\\n      \"subsector\": \"Dana Pensiun\",\\n      \"title\": \"Keputusan Menteri Keuangan tentang Pemotongan Pajak Penghasil Pasal 21 atas Penghasilan berupa Uang Pesangon, Uang Tebusan Pensiun, dan Tunjangan Hari Tua atau Jaminan Hari Tua\"\\n    },\\n    \"page_content\": \"juta rupiah) sampai dengan Rp 100.000.000,00 (seratus juta \\\\nrupiah) sebesar 10% (sepuluh persen);  \\\\n \\\\n  \\\\nd.  penghasilan bruto di atas Rp 100.000.000,00 (seratus juta \\\\nrupiah) sampai dengan Rp 200.000.000,00 (dua ratus juta \\\\nrupiah) sebesar 15% (lima belas persen);  \\\\n \\\\n  \\\\ne.  penghasilan bruto di atas Rp 200.000.000,00 (dua ratus juta \\\\nrupiah) sebesar 25% (dua puliuh lima belas persen); \\\\n \\\\n \\\\n \\\\nPasal  3 \\\\nPada saat Keputusan Menteri Keuangan ini mulai berlaku, Keputusan \\\\nMenteri Keuangan Nomor 462/KMK.04/1998 dinyatakan tidak berlaku.\\\\nPasal  4 \\\\nKeputusan ini mulai berlaku tanggal 1 Januari 2001. \\\\nAgar setiap orang mengetahuinya, memerintahkan pengumuman \\\\nKeputusan Menteri Keuangan ini dengan penempatannya dalam Berita \\\\nNegara Republik Indonesia. \\\\n \\\\n \\\\nDitetapkan di Jakarta  \\\\npada tanggal 6 Maret 2001  \\\\nMENTERI \\\\nKEUANGAN \\\\nREPUBLIK \\\\nINDONESIA \\\\n \\\\nPRIJADI PRAPTOSUHARDJO\"\\n  },\\n  {\\n    \"metadata\": {\\n      \"effective_date\": \"1 Desember 2011\",\\n      \"file_name\": \"ojk-peraturan_bapepam-per_09_bl_2011-01122011-peraturan_bapepam_tentang_pedoman_perhitungan_batas_tingkat_solvabilitas_minimum_bagi_perusahaan_asuransi_dan_reasuransi_bapepam_per_09bl2011_pdf.pdf\",\\n      \"file_url\": \"https://www.ojk.go.id/id/regulasi/Documents/Pages/Peraturan-BAPEPAM-tentang-Pedoman-Perhitungan-Batas-Tingkat-Solvabilitas-Minimum-bagi-Perusahaan-Asuransi-dan-Reasuransi/BAPEPAM%20PER-09BL2011.pdf\",\\n      \"regulation_number\": \"PER-09/BL/2011\",\\n      \"regulation_type\": \"Peraturan Bapepam\",\\n      \"sector\": \"IKNB\",\\n      \"subsector\": \"Asuransi\",\\n      \"title\": \"Peraturan BAPEPAM tentang Pedoman Perhitungan Batas Tingkat Solvabilitas Minimum bagi Perusahaan Asuransi dan Perusahaan Reasuransi\"\\n    },\\n    \"page_content\": \"II. Lebih \\\\ndari \\\\nnol \\\\nnamun \\\\ntidak \\\\nmelebihi \\\\n20% \\\\ndari \\\\nJumlah Kewajiban \\\\n0% \\\\nNol \\\\nIII. Melebihi 20% dari \\\\nJumlah Kewajiban \\\\n10% \\\\n10% \\\\nx \\\\n(Kekayaan \\\\nYang \\\\nDiperkenankan \\\\n- \\\\n120% \\\\nx \\\\nKewajiban) \\\\n3) Hasil perhitungan jumlah dana pada butir 2) dikonversikan ke dalam \\\\nmata uang rupiah sesuai dengan kurs tengah Bank Indonesia pada \\\\ntanggal neraca. \\\\n4) Jumlah dana yang diperhitungkan dalam perhitungan BTSM adalah \\\\njumlah \\\\ndana \\\\nyang \\\\ndibutuhkan \\\\nuntuk \\\\nmenanggulangi \\\\nrisiko \\\\nketidakseimbangan antara nilai kekayaan dan nilai kewajiban untuk \\\\nseluruh mata uang asing. \\\\n5) Kontrak asuransi yang memuat ketentuan konversi mata uang asing \\\\nterhadap rupiah dengan menggunakan nilai tukar tertentu yang \\\\nditetapkan dalam kontrak, harus diperlakukan sebagai kontrak asuransi \\\\ndalam mata uang rupiah. \\\\n6) Sebagai contoh, sebuah perusahaan asuransi memiliki kekayaan dan \\\\nkewajiban untuk mata uang rupiah, dolar Amerika, dolar Singapura dan \\\\nyen Jepang setelah dikonversi ke rupiah adalah sebagai berikut:\"\\n  },\\n  {\\n    \"metadata\": {\\n      \"effective_date\": \"12 Januari 2016\",\\n      \"file_name\": \"ojk-peraturan_ojk-1_pojk_05_2016-12012016-pojk_01_sbn_pojk_1_2016_pdf.pdf\",\\n      \"file_url\": \"https://www.ojk.go.id/id/regulasi/Documents/Pages/POJK-01.-SBN/POJK%201-2016.pdf\",\\n      \"regulation_number\": \"1 /POJK.05/2016\",\\n      \"regulation_type\": \"Peraturan OJK\",\\n      \"sector\": \"IKNB\",\\n      \"subsector\": \"Asuransi,  Dana Pensiun,  Lembaga Pembiayaan,  Lembaga Jasa Keuangan Khusus,  Lembaga Keuangan Mikro\",\\n      \"title\": \"POJK tentang Investasi Surat Berharga Negara Bagi Lembaga Jasa Keuangan Non-Bank\"\\n    },\\n    \"page_content\": \"- 4 - \\\\n \\\\n \\\\nb. \\\\nbagi perusahaan asuransi umum dan perusahaan \\\\nreasuransi termasuk yang menyelenggarakan \\\\nseluruh atau sebagian usahanya dengan prinsip \\\\nsyariah,  paling  rendah  20%  (dua  puluh  \\\\npersen) \\\\ndari \\\\nseluruh \\\\njumlah \\\\ninvestasi \\\\nperusahaan;  \\\\nc. \\\\nbagi \\\\nlembaga \\\\npenjaminan \\\\ntermasuk \\\\nyang \\\\nmenyelenggarakan \\\\nseluruh \\\\natau \\\\nsebagian \\\\nusahanya dengan prinsip syariah, paling rendah \\\\n20% (dua puluh persen) dari seluruh jumlah \\\\ninvestasi lembaga penjaminan;  \\\\nd. \\\\nbagi dana pensiun pemberi kerja paling rendah \\\\n30% (tiga puluh persen) dari seluruh jumlah \\\\ninvestasi dana pensiun pemberi kerja; \\\\ne. \\\\nbagi BPJS Ketenagakerjaan: \\\\n1. \\\\npaling rendah 50% (lima puluh persen)  dari \\\\nseluruh jumlah investasi Dana Jaminan \\\\nSosial Ketenagakerjaan; dan  \\\\n2. \\\\npaling rendah 30% (tiga puluh persen) dari \\\\nseluruh \\\\njumlah \\\\ninvestasi \\\\nBPJS \\\\nKetenagakerjaan;  \\\\nf. \\\\nbagi BPJS Kesehatan paling rendah 30% (tiga \\\\npuluh persen) dari seluruh jumlah investasi BPJS \\\\nKesehatan. \\\\n(2)\"\\n  }\\n]'}"
      ]
     },
     "execution_count": 12,
     "metadata": {},
     "output_type": "execute_result"
    }
   ],
   "source": [
    "from utils.rag_chain_with_chat_history import get_response\n",
    "\n",
    "response = get_response(chat_history=chat_history, chain=chain, question=query_str)\n",
    "response"
   ]
  },
  {
   "cell_type": "code",
   "execution_count": 13,
   "metadata": {},
   "outputs": [
    {
     "name": "stdout",
     "output_type": "stream",
     "text": [
      "Jaminan moneter pada tanggal 20 Agustus 1958 tinggal sebesar 7,30%.\n",
      "\n",
      "Source: [84 Tahun 1958](https://www.ojk.go.id/id/regulasi/Documents/Pages/UU-Republik-Indonesia-tentang-Pengubahan-Pasal-Pasal-16-dan-19-Undang-Undang-Pokok-Bank-Indonesia/UU%20Nomor%2084%20Tahun%201958.pdf)\n"
     ]
    }
   ],
   "source": [
    "print(response['answer'])"
   ]
  },
  {
   "cell_type": "code",
   "execution_count": 14,
   "metadata": {},
   "outputs": [
    {
     "name": "stdout",
     "output_type": "stream",
     "text": [
      "[\n",
      "  {\n",
      "    \"metadata\": {\n",
      "      \"effective_date\": \"31 Desember 1958\",\n",
      "      \"file_name\": \"ojk-undang_undang-84_tahun_1958-31121958-uu_republik_indonesia_tentang_pengubahan_pasal_pasal_16_dan_19_undang_undang_pokok_bank_indonesia_uu_nomor_84_tahun_1958_pdf.pdf\",\n",
      "      \"file_url\": \"https://www.ojk.go.id/id/regulasi/Documents/Pages/UU-Republik-Indonesia-tentang-Pengubahan-Pasal-Pasal-16-dan-19-Undang-Undang-Pokok-Bank-Indonesia/UU%20Nomor%2084%20Tahun%201958.pdf\",\n",
      "      \"regulation_number\": \"84 Tahun 1958\",\n",
      "      \"regulation_type\": \"Undang-Undang\",\n",
      "      \"sector\": \"Perbankan\",\n",
      "      \"subsector\": \"Bank Umum\",\n",
      "      \"title\": \"Undang-Undang Republik Indonesia tentang Pengubahan Pasal-Pasal 16 dan 19 Undang-Undang Pokok Bank Indonesia\"\n",
      "    },\n",
      "    \"page_content\": \"PRESIDEN\\nREPUBLIK INDONESIA\\nPENJELASAN\\nTENTANG\\nUNDANG-UNDANG PERUBAHAN PASAL-PASAL 16 dan 19\\nDARI UNDANG-UNDANG POKOK BANK INDONESIA.\\nI.\\nPENJELASAN UMUM.\\n1.\\nDalam pasal 16 ayat 1 dari Undang-undang Pokok Bank Indonesia disebutkan\\nbahwa banyaknya uang yang beredar harus dijamin sebesar 20% dengan emas\\ndan alat-alat pembayaran luar negeri.\\nPada tanggal 20 Agustus 1958 jaminan moneter ini tinggal sebesar 7,30%,\\nyang menggambarkan perbandingan antara kekayaan sebesar Rp. 1.542 juta\\nyang berupa emas, uang dollar U.S. dan Indonesia sebesar Rp. 21.115 juta yang\\nberupa uang kertas bank, saldo-saldo rekening-koran dan tagihan-tagihan lain\\nyang segera dapat digagih. Jaminan moneter ini sudah berada dibawah 20%\\nminimum sejak Januari 1957.\\nAyat 3 dan 4 dari pasal 16 tersebut memang memberi kelonggaran sebanyak\\nseluruhnya 6 bulan setelah mendapat persetujuan Parlemen, yang berarti bahwa\\nsetelah jangka waktu tersebut lewat, perbandingan harus kembali lagi ketingkat\\nminimum 20%.\"\n",
      "  },\n",
      "  {\n",
      "    \"metadata\": {\n",
      "      \"effective_date\": \"1 Desember 2011\",\n",
      "      \"file_name\": \"ojk-peraturan_bapepam-per_09_bl_2011-01122011-peraturan_bapepam_tentang_pedoman_perhitungan_batas_tingkat_solvabilitas_minimum_bagi_perusahaan_asuransi_dan_reasuransi_bapepam_per_09bl2011_pdf.pdf\",\n",
      "      \"file_url\": \"https://www.ojk.go.id/id/regulasi/Documents/Pages/Peraturan-BAPEPAM-tentang-Pedoman-Perhitungan-Batas-Tingkat-Solvabilitas-Minimum-bagi-Perusahaan-Asuransi-dan-Reasuransi/BAPEPAM%20PER-09BL2011.pdf\",\n",
      "      \"regulation_number\": \"PER-09/BL/2011\",\n",
      "      \"regulation_type\": \"Peraturan Bapepam\",\n",
      "      \"sector\": \"IKNB\",\n",
      "      \"subsector\": \"Asuransi\",\n",
      "      \"title\": \"Peraturan BAPEPAM tentang Pedoman Perhitungan Batas Tingkat Solvabilitas Minimum bagi Perusahaan Asuransi dan Perusahaan Reasuransi\"\n",
      "    },\n",
      "    \"page_content\": \"dalam \\ntotal \\ninvestasi tersebut adalah investasi \\npada satu pihak sebesar Rp 300 milyar \\nterdiri dari deposito sebanyak Rp 150 \\nmilyar pada bank dengan CAR 8% \\n(faktor risiko 2%), obligasi dengan \\nrating BB (faktor risiko 4%) sebanyak \\nRp 90 milyar dan saham kategori LQ \\n45 (faktor risiko 10%) sebanyak Rp 60 \\nmilyar.  \\nRata-rata tertimbang faktor risiko \\ninvestasi pada satu pihak adalah:  \\n(Rp 150 milyar x 2% + Rp 90 milyar x \\n4% + Rp 60 milyar x 10%) : Rp 300 \\nmilyar = 4,2% \\nTambahan dana yang dibutuhkan \\nuntuk  mengantisipasi kegagalan\"\n",
      "  },\n",
      "  {\n",
      "    \"metadata\": {\n",
      "      \"effective_date\": \"30 Oktober 1992\",\n",
      "      \"file_name\": \"ojk-peraturan_pemerintah-73_tahun_1992-30101992-pp_nomor_73_tahun_1992_tentang_penyelenggaraan_usaha_perasuransian_pp_no_73_tahun_1992_pdf.pdf\",\n",
      "      \"file_url\": \"https://www.ojk.go.id/id/regulasi/Documents/Pages/PP-nomor-73-Tahun-1992-tentang-Penyelenggaraan-Usaha-Perasuransian/PP%20NO.73%20TAHUN%201992.pdf\",\n",
      "      \"regulation_number\": \"73 Tahun 1992\",\n",
      "      \"regulation_type\": \"Peraturan Pemerintah\",\n",
      "      \"sector\": \"IKNB\",\n",
      "      \"subsector\": \"Asuransi\",\n",
      "      \"title\": \"Peraturan Pemerintah nomor 73 Tahun 1992 tentang Penyelenggaraan Usaha Perasuransian\"\n",
      "    },\n",
      "    \"page_content\": \"c. Rp. 30.000.000.000,. (tiga puluh milyar rupiah), bagi Perusahaan Reasuransi; \\nd. Rp. 3.000.000.000,. (tiga milyar rupiah), bagi Perusahaan Pialang Asuransi; \\ne. Rp. 3.000.000.000. (tiga milyar rupiah), bagi Perusahaan Pialang Reasuransi. \\n(3) Pada saat pendirian perusahaan, penyertaan langsung pihak asing dalam Perusahaan \\nPerasuransian sebagaimana dimaksud dalam ayat (2) paling banyak 80% (delapan puluh per \\nseratus).\"\n",
      "  },\n",
      "  {\n",
      "    \"metadata\": {\n",
      "      \"effective_date\": \"6 Maret 2001\",\n",
      "      \"file_name\": \"ojk-peraturan_keputusan_mentri-112_kmk_03_2001-06032001-kmk_nomor_112_kmk_03_2001_112_kmk_03_2001_pdf.pdf\",\n",
      "      \"file_url\": \"https://www.ojk.go.id/id/regulasi/Documents/Pages/KMK-Nomor-112.KMK.03.2001/112.KMK.03.2001.pdf\",\n",
      "      \"regulation_number\": \"112/KMK.03/2001\",\n",
      "      \"regulation_type\": \"Peraturan/Keputusan Mentri\",\n",
      "      \"sector\": \"IKNB\",\n",
      "      \"subsector\": \"Dana Pensiun\",\n",
      "      \"title\": \"Keputusan Menteri Keuangan tentang Pemotongan Pajak Penghasil Pasal 21 atas Penghasilan berupa Uang Pesangon, Uang Tebusan Pensiun, dan Tunjangan Hari Tua atau Jaminan Hari Tua\"\n",
      "    },\n",
      "    \"page_content\": \"juta rupiah) sampai dengan Rp 100.000.000,00 (seratus juta \\nrupiah) sebesar 10% (sepuluh persen);  \\n \\n  \\nd.  penghasilan bruto di atas Rp 100.000.000,00 (seratus juta \\nrupiah) sampai dengan Rp 200.000.000,00 (dua ratus juta \\nrupiah) sebesar 15% (lima belas persen);  \\n \\n  \\ne.  penghasilan bruto di atas Rp 200.000.000,00 (dua ratus juta \\nrupiah) sebesar 25% (dua puliuh lima belas persen); \\n \\n \\n \\nPasal  3 \\nPada saat Keputusan Menteri Keuangan ini mulai berlaku, Keputusan \\nMenteri Keuangan Nomor 462/KMK.04/1998 dinyatakan tidak berlaku.\\nPasal  4 \\nKeputusan ini mulai berlaku tanggal 1 Januari 2001. \\nAgar setiap orang mengetahuinya, memerintahkan pengumuman \\nKeputusan Menteri Keuangan ini dengan penempatannya dalam Berita \\nNegara Republik Indonesia. \\n \\n \\nDitetapkan di Jakarta  \\npada tanggal 6 Maret 2001  \\nMENTERI \\nKEUANGAN \\nREPUBLIK \\nINDONESIA \\n \\nPRIJADI PRAPTOSUHARDJO\"\n",
      "  },\n",
      "  {\n",
      "    \"metadata\": {\n",
      "      \"effective_date\": \"1 Desember 2011\",\n",
      "      \"file_name\": \"ojk-peraturan_bapepam-per_09_bl_2011-01122011-peraturan_bapepam_tentang_pedoman_perhitungan_batas_tingkat_solvabilitas_minimum_bagi_perusahaan_asuransi_dan_reasuransi_bapepam_per_09bl2011_pdf.pdf\",\n",
      "      \"file_url\": \"https://www.ojk.go.id/id/regulasi/Documents/Pages/Peraturan-BAPEPAM-tentang-Pedoman-Perhitungan-Batas-Tingkat-Solvabilitas-Minimum-bagi-Perusahaan-Asuransi-dan-Reasuransi/BAPEPAM%20PER-09BL2011.pdf\",\n",
      "      \"regulation_number\": \"PER-09/BL/2011\",\n",
      "      \"regulation_type\": \"Peraturan Bapepam\",\n",
      "      \"sector\": \"IKNB\",\n",
      "      \"subsector\": \"Asuransi\",\n",
      "      \"title\": \"Peraturan BAPEPAM tentang Pedoman Perhitungan Batas Tingkat Solvabilitas Minimum bagi Perusahaan Asuransi dan Perusahaan Reasuransi\"\n",
      "    },\n",
      "    \"page_content\": \"II. Lebih \\ndari \\nnol \\nnamun \\ntidak \\nmelebihi \\n20% \\ndari \\nJumlah Kewajiban \\n0% \\nNol \\nIII. Melebihi 20% dari \\nJumlah Kewajiban \\n10% \\n10% \\nx \\n(Kekayaan \\nYang \\nDiperkenankan \\n- \\n120% \\nx \\nKewajiban) \\n3) Hasil perhitungan jumlah dana pada butir 2) dikonversikan ke dalam \\nmata uang rupiah sesuai dengan kurs tengah Bank Indonesia pada \\ntanggal neraca. \\n4) Jumlah dana yang diperhitungkan dalam perhitungan BTSM adalah \\njumlah \\ndana \\nyang \\ndibutuhkan \\nuntuk \\nmenanggulangi \\nrisiko \\nketidakseimbangan antara nilai kekayaan dan nilai kewajiban untuk \\nseluruh mata uang asing. \\n5) Kontrak asuransi yang memuat ketentuan konversi mata uang asing \\nterhadap rupiah dengan menggunakan nilai tukar tertentu yang \\nditetapkan dalam kontrak, harus diperlakukan sebagai kontrak asuransi \\ndalam mata uang rupiah. \\n6) Sebagai contoh, sebuah perusahaan asuransi memiliki kekayaan dan \\nkewajiban untuk mata uang rupiah, dolar Amerika, dolar Singapura dan \\nyen Jepang setelah dikonversi ke rupiah adalah sebagai berikut:\"\n",
      "  },\n",
      "  {\n",
      "    \"metadata\": {\n",
      "      \"effective_date\": \"12 Januari 2016\",\n",
      "      \"file_name\": \"ojk-peraturan_ojk-1_pojk_05_2016-12012016-pojk_01_sbn_pojk_1_2016_pdf.pdf\",\n",
      "      \"file_url\": \"https://www.ojk.go.id/id/regulasi/Documents/Pages/POJK-01.-SBN/POJK%201-2016.pdf\",\n",
      "      \"regulation_number\": \"1 /POJK.05/2016\",\n",
      "      \"regulation_type\": \"Peraturan OJK\",\n",
      "      \"sector\": \"IKNB\",\n",
      "      \"subsector\": \"Asuransi,  Dana Pensiun,  Lembaga Pembiayaan,  Lembaga Jasa Keuangan Khusus,  Lembaga Keuangan Mikro\",\n",
      "      \"title\": \"POJK tentang Investasi Surat Berharga Negara Bagi Lembaga Jasa Keuangan Non-Bank\"\n",
      "    },\n",
      "    \"page_content\": \"- 4 - \\n \\n \\nb. \\nbagi perusahaan asuransi umum dan perusahaan \\nreasuransi termasuk yang menyelenggarakan \\nseluruh atau sebagian usahanya dengan prinsip \\nsyariah,  paling  rendah  20%  (dua  puluh  \\npersen) \\ndari \\nseluruh \\njumlah \\ninvestasi \\nperusahaan;  \\nc. \\nbagi \\nlembaga \\npenjaminan \\ntermasuk \\nyang \\nmenyelenggarakan \\nseluruh \\natau \\nsebagian \\nusahanya dengan prinsip syariah, paling rendah \\n20% (dua puluh persen) dari seluruh jumlah \\ninvestasi lembaga penjaminan;  \\nd. \\nbagi dana pensiun pemberi kerja paling rendah \\n30% (tiga puluh persen) dari seluruh jumlah \\ninvestasi dana pensiun pemberi kerja; \\ne. \\nbagi BPJS Ketenagakerjaan: \\n1. \\npaling rendah 50% (lima puluh persen)  dari \\nseluruh jumlah investasi Dana Jaminan \\nSosial Ketenagakerjaan; dan  \\n2. \\npaling rendah 30% (tiga puluh persen) dari \\nseluruh \\njumlah \\ninvestasi \\nBPJS \\nKetenagakerjaan;  \\nf. \\nbagi BPJS Kesehatan paling rendah 30% (tiga \\npuluh persen) dari seluruh jumlah investasi BPJS \\nKesehatan. \\n(2)\"\n",
      "  }\n",
      "]\n"
     ]
    }
   ],
   "source": [
    "print(response['context'])"
   ]
  },
  {
   "cell_type": "code",
   "execution_count": 15,
   "metadata": {},
   "outputs": [
    {
     "name": "stdout",
     "output_type": "stream",
     "text": [
      "----------\n",
      "Human: Berapa persen jaminan moneter pada tanggal 20 Agustus 1958?\n",
      "----------\n",
      "Assistant: Jaminan moneter pada tanggal 20 Agustus 1958 tinggal sebesar 7,30%.\n",
      "\n",
      "Source: [84 Tahun 1958](https://www.ojk.go.id/id/regulasi/Documents/Pages/UU-Republik-Indonesia-tentang-Pengubahan-Pasal-Pasal-16-dan-19-Undang-Undang-Pokok-Bank-Indonesia/UU%20Nomor%2084%20Tahun%201958.pdf)\n",
      "\n"
     ]
    }
   ],
   "source": [
    "print(chat_history.get_formatted_history())"
   ]
  },
  {
   "cell_type": "markdown",
   "metadata": {},
   "source": [
    "#### BATAS SUCI"
   ]
  },
  {
   "cell_type": "code",
   "execution_count": 16,
   "metadata": {},
   "outputs": [],
   "source": [
    "# import json\n",
    "\n",
    "# def _combine_documents(docs):\n",
    "#     \"\"\"Combine documents into a single JSON string.\"\"\"\n",
    "#     doc_list = [{\"metadata\": doc.metadata, \"page_content\": doc.page_content} for doc in docs]\n",
    "#     return json.dumps(doc_list, indent=2)\n",
    "\n",
    "\n",
    "# def _format_chat_history(chat_history: List[Tuple]) -> str:\n",
    "#     \"\"\"Format chat history into a string.\"\"\"\n",
    "#     buffer = \"\"\n",
    "#     for dialogue_turn in chat_history:\n",
    "#         human = \"Human: \" + dialogue_turn[0]\n",
    "#         ai = \"Assistant: \" + dialogue_turn[1]\n",
    "#         buffer += \"\\n\" + \"\\n\".join([human, ai])\n",
    "#     return buffer\n"
   ]
  },
  {
   "cell_type": "code",
   "execution_count": 17,
   "metadata": {},
   "outputs": [],
   "source": [
    "# _inputs_question = RunnableMap(\n",
    "#     standalone_question=RunnablePassthrough.assign(\n",
    "#         chat_history=lambda x: _format_chat_history(x[\"chat_history\"])\n",
    "#     )\n",
    "#     | CONDENSE_QUESTION_PROMPT\n",
    "#     | llm_model\n",
    "#     | StrOutputParser(),\n",
    "# )\n",
    "\n",
    "# _context_chain = {\n",
    "#     \"context\": itemgetter(\"standalone_question\") | retriever | _combine_documents,\n",
    "#     \"question\": lambda x: x[\"standalone_question\"],\n",
    "# }\n",
    "\n",
    "# conversational_qa_chain_with_context = (\n",
    "#     _inputs_question\n",
    "#     | _context_chain\n",
    "#     | {\n",
    "#         \"question\": itemgetter(\"question\"),\n",
    "#         \"answer\": ANSWER_PROMPT | llm_model | StrOutputParser(),\n",
    "#         \"context\": itemgetter(\"context\"),\n",
    "#     }\n",
    "#     # | StrOutputParser()\n",
    "# )"
   ]
  },
  {
   "cell_type": "code",
   "execution_count": 18,
   "metadata": {},
   "outputs": [],
   "source": [
    "# from langserve.pydantic_v1 import BaseModel, Field\n",
    "\n",
    "\n",
    "# class ChatHistory(BaseModel):\n",
    "#     \"\"\"Chat history with the bot.\"\"\"\n",
    "\n",
    "#     chat_history: List[Tuple[str, str]] = Field(\n",
    "#         ...,\n",
    "#         extra={\"widget\": {\"type\": \"chat\", \"input\": \"question\"}},\n",
    "#     )\n",
    "#     question: str\n",
    "\n",
    "# chain = conversational_qa_chain_with_context.with_types(input_type=ChatHistory)"
   ]
  },
  {
   "cell_type": "code",
   "execution_count": 19,
   "metadata": {},
   "outputs": [],
   "source": [
    "# chat_history = [\n",
    "#     # (\"Berapa SWDKLLJ dari sedan?\", \"Nilai SWDKLLJ dari sedan adalah Rp140.000\"),\n",
    "# ]\n"
   ]
  },
  {
   "cell_type": "code",
   "execution_count": 20,
   "metadata": {},
   "outputs": [],
   "source": [
    "# chat_history"
   ]
  },
  {
   "cell_type": "code",
   "execution_count": 21,
   "metadata": {},
   "outputs": [],
   "source": [
    "# from pprint import pprint\n",
    "\n",
    "# # response = chain.invoke({\"question\": query_str, \"chat_history\": [\"Berapa SWDKLLJ dari sedan?\", \"Rp140.000\"]})\n",
    "# response = chain.invoke({\"question\": \"Kalau 7/33/PBI/2005?\", \"chat_history\": chat_history})\n",
    "# chat_history.append((response[\"question\"], response[\"answer\"]))\n",
    "# # pprint(response)"
   ]
  },
  {
   "cell_type": "code",
   "execution_count": 22,
   "metadata": {},
   "outputs": [],
   "source": [
    "# response"
   ]
  },
  {
   "cell_type": "code",
   "execution_count": 23,
   "metadata": {},
   "outputs": [],
   "source": [
    "# from langchain_core.prompts import ChatPromptTemplate\n",
    "\n",
    "# template = \"\"\"\\\n",
    "# Context information is below.\n",
    "# context: {context}\n",
    "\n",
    "# Given the context and the metadata information and not prior knowledge, \\\n",
    "# answer the query asking about banking compliance in Indonesia. \n",
    "# Answer the question based on the context and the metadata information.\n",
    "# ALWAYS ANSWER WITH USER'S LANGUAGE.\n",
    "# Please provide your answer with [regulation_number](file_url) in metadata \n",
    "# (if possible) in the following format:\n",
    "\n",
    "# Answer... \\n\\n\n",
    "# Source: [metadata['regulation_number']](metadata['file_url'])\n",
    "\n",
    "# Question: {question}\n",
    "# \"\"\"\n",
    "# # If the question is not clear, use chat history below to understand the context and the question.\n",
    "# # Chat history: {chat_history}\n",
    "\n",
    "# prompt = ChatPromptTemplate.from_template(template)"
   ]
  },
  {
   "cell_type": "code",
   "execution_count": 24,
   "metadata": {},
   "outputs": [],
   "source": [
    "# from langchain_core.output_parsers import StrOutputParser\n",
    "# from langchain_core.runnables import RunnablePassthrough\n",
    "# from operator import itemgetter\n",
    "\n",
    "# # def format_docs(docs):\n",
    "# #     page_content = [doc.page_content for doc in docs]\n",
    "# #     return page_content\n",
    "\n",
    "# # def format_metadata(docs):\n",
    "# #     list_dict = [doc.metadata for doc in docs]\n",
    "# #     for dict in list_dict:\n",
    "# #         dict.pop('file_name')\n",
    "# #     return list_dict\n",
    "\n",
    "\n",
    "# rag_chain = (\n",
    "#     {\"context\": retriever,\"question\": RunnablePassthrough()}\n",
    "#     | prompt\n",
    "#     | llm_model\n",
    "#     | StrOutputParser()\n",
    "# )"
   ]
  },
  {
   "cell_type": "code",
   "execution_count": 25,
   "metadata": {},
   "outputs": [],
   "source": [
    "# for chunk in rag_chain.stream(query_str):\n",
    "#     print(chunk, end=\"\", flush=True)"
   ]
  },
  {
   "cell_type": "code",
   "execution_count": 26,
   "metadata": {},
   "outputs": [],
   "source": [
    "# from langchain_core.prompts import PromptTemplate\n",
    "# from langchain.chains.conversation.memory import ConversationSummaryBufferMemory\n",
    "# from langchain.chains.conversational_retrieval.base import ConversationalRetrievalChain\n",
    "\n",
    "\n",
    "# template = \"\"\"\n",
    "# You are an assistant for question-answering tasks. Use the following pieces of retrieved context to answer the question. \n",
    "# If you don't know the answer, say that you don't know. Use three sentences maximum and keep the answer concise.\n",
    "# Do not include source citations in your answer. The sources will be added separately.\n",
    "\n",
    "# Context: {context}\n",
    "# History: {chat_history}\n",
    "# Human: {question}\n",
    "# Assistant: \"\"\"\n",
    "\n",
    "# PROMPT = PromptTemplate(\n",
    "#     input_variables=[\"context\", \"chat_history\", \"question\"],\n",
    "#     template=template\n",
    "# )\n",
    "\n",
    "# # Create memory\n",
    "# memory = ConversationSummaryBufferMemory(\n",
    "#     llm=llm_azure,\n",
    "#     memory_key=\"chat_history\",\n",
    "#     return_messages=True,\n",
    "#     output_key=\"answer\"\n",
    "# )\n",
    "\n",
    "# # Create the conversational chain\n",
    "# qa_chain = ConversationalRetrievalChain.from_llm(\n",
    "#     llm=llm_azure,\n",
    "#     retriever=retriever,\n",
    "#     memory=memory,\n",
    "#     combine_docs_chain_kwargs={\"prompt\": PROMPT},\n",
    "#     return_source_documents=True\n",
    "# )"
   ]
  },
  {
   "cell_type": "code",
   "execution_count": 27,
   "metadata": {},
   "outputs": [],
   "source": [
    "# def format_sources(source_documents):\n",
    "#     sources = set()\n",
    "#     for doc in source_documents:\n",
    "#         if 'regulation_number' in doc.metadata and 'file_url' in doc.metadata:\n",
    "#             sources.add(f\"[{doc.metadata['regulation_number']}]({doc.metadata['file_url']})\")\n",
    "#     return \"\\n\".join(sources)\n",
    "\n",
    "# # Function to get response\n",
    "# def get_response(query):\n",
    "#     result = qa_chain({\"question\": query})\n",
    "#     answer = result['answer']\n",
    "#     sources = format_sources(result['source_documents'])\n",
    "#     full_response = f\"{answer}\\n\\nSources:\\n{sources}\"\n",
    "#     return full_response"
   ]
  },
  {
   "cell_type": "code",
   "execution_count": 28,
   "metadata": {},
   "outputs": [],
   "source": [
    "# # Example usage\n",
    "# response = get_response(query_str)\n",
    "# print(response)\n",
    "# # print(\"\\n\" + \"=\"*50 + \"\\n\")"
   ]
  },
  {
   "cell_type": "code",
   "execution_count": 29,
   "metadata": {},
   "outputs": [],
   "source": [
    "# from typing import List, Tuple\n",
    "# from langchain_core.prompts import ChatPromptTemplate, PromptTemplate, format_document\n",
    "# from langchain.memory import ConversationBufferMemory\n",
    "# from langchain_core.runnables import RunnablePassthrough, RunnableLambda"
   ]
  },
  {
   "cell_type": "code",
   "execution_count": 30,
   "metadata": {},
   "outputs": [],
   "source": [
    "# _template = \"\"\"[INST] <<SYS>>Given the following conversation and a follow up question, rephrase the follow up question to be a standalone question, in its original language.<</SYS>>\n",
    "\n",
    "# Chat History:\n",
    "# {chat_history}\n",
    "# Follow Up Input: {question}\n",
    "# Standalone question:[/INST]\"\"\"\n",
    "# CONDENSE_QUESTION_PROMPT = PromptTemplate.from_template(_template)\n",
    "\n",
    "# # =================================================================================================\n",
    "\n",
    "# template =  \"\"\"\\\n",
    "# Context information is below.\n",
    "# context = {context}\n",
    "\n",
    "# Given the context and the metadata information and not prior knowledge, \\\n",
    "# answer the query asking about banking compliance in Indonesia. \n",
    "# Answer the question based on the context and the metadata information.\n",
    "# ALWAYS ANSWER WITH USER'S LANGUAGE.\n",
    "# ALWAYS provide your answer with [regulation_number](file_url) metadata \\\n",
    "# (if the answer only in a specific regulation) in the following format:\n",
    "\n",
    "# Answer... \\n\\n\n",
    "# Source: [metadata['regulation_number']](metadata['file_url'])\n",
    "\n",
    "# For \"Answer\" retrieve from context.page_content the answer to the user's question.\n",
    "# For \"Source\" retrieve from context.metadata['regulation_number'] the regulation number and from context.metadata['file_url'] the file url.\n",
    "# \"\"\"\n",
    "# ANSWER_PROMPT = ChatPromptTemplate.from_template(template)\n",
    "\n",
    "# DEFAULT_DOCUMENT_PROMPT = PromptTemplate.from_template(template=\"{page_content}\")"
   ]
  },
  {
   "cell_type": "code",
   "execution_count": 31,
   "metadata": {},
   "outputs": [],
   "source": [
    "# def _combine_documents(\n",
    "#     docs, document_prompt=DEFAULT_DOCUMENT_PROMPT, document_separator=\"\\n\\n\"\n",
    "# ):\n",
    "#     doc_strings = [format_document(doc, document_prompt) for doc in docs]\n",
    "#     return document_separator.join(doc_strings)\n",
    "\n",
    "# def _format_chat_history(chat_history: List[Tuple]) -> str:\n",
    "#     buffer = \"\"\n",
    "#     for dialogue_turn in chat_history:\n",
    "#         human = \"Human: \" + dialogue_turn[0]\n",
    "#         ai = \"Assistant: \" + dialogue_turn[1]\n",
    "#         buffer += \"\\n\" + \"\\n\".join([human, ai])\n",
    "#     return buffer"
   ]
  },
  {
   "cell_type": "code",
   "execution_count": 32,
   "metadata": {},
   "outputs": [],
   "source": [
    "# from operator import itemgetter\n",
    "\n",
    "# memory = ConversationBufferMemory(\n",
    "#     memory_key=\"history\", \n",
    "#     return_messages=True, \n",
    "#     output_key=\"answer\", \n",
    "#     input_key=\"question\"\n",
    "# )\n",
    "\n",
    "# loaded_memory = RunnablePassthrough.assign(\n",
    "#     chat_history=RunnableLambda(memory.load_memory_variables)\n",
    "#     | itemgetter(\"history\"),\n",
    "# )"
   ]
  },
  {
   "cell_type": "code",
   "execution_count": 33,
   "metadata": {},
   "outputs": [],
   "source": [
    "# from langchain_core.output_parsers import StrOutputParser\n",
    "\n",
    "\n",
    "# standalone_question = {\n",
    "#     \"standalone_question\": {\n",
    "#         \"question\": lambda x: x[\"question\"],\n",
    "#         \"chat_history\": lambda x: x[\"chat_history\"],\n",
    "#     }\n",
    "#     | CONDENSE_QUESTION_PROMPT\n",
    "#     | llm_model\n",
    "#     | StrOutputParser(),\n",
    "# }\n",
    "\n",
    "# # Now we retrieve the documents\n",
    "# retrieved_documents = {\n",
    "#     \"docs\": itemgetter(\"standalone_question\") | retriever,\n",
    "#     \"question\": lambda x: x[\"standalone_question\"],\n",
    "# }\n",
    "\n",
    "# # Now we construct the inputs for the final prompt\n",
    "# final_inputs = {\n",
    "#     \"context\": lambda x: _combine_documents(x[\"docs\"]),\n",
    "#     \"question\": itemgetter(\"question\"),\n",
    "# }\n",
    "\n",
    "# # And finally, we do the part that returns the answers\n",
    "# answer = {\n",
    "#     \"answer\": final_inputs | ANSWER_PROMPT | llm_model,\n",
    "#     \"docs\": itemgetter(\"docs\"),\n",
    "# }\n",
    "\n",
    "# # And now we put it all together!\n",
    "# final_chain = loaded_memory | standalone_question | retrieved_documents | answer"
   ]
  },
  {
   "cell_type": "code",
   "execution_count": 34,
   "metadata": {},
   "outputs": [],
   "source": [
    "# response = final_chain.invoke({\"question\": query_str})\n",
    "# response"
   ]
  },
  {
   "cell_type": "code",
   "execution_count": 35,
   "metadata": {},
   "outputs": [],
   "source": [
    "# inputs = {\"question\": \"Apa kepanjangan dari SWDKLLJ?\"}\n",
    "# for token in final_chain.stream(inputs):\n",
    "#     print f\"{token}\"\n",
    "\n",
    "\n",
    "# answer = \"\"\n",
    "\n",
    "# for token in final_chain.stream(inputs):\n",
    "#     # Assuming each token is a dictionary with an 'answer' key\n",
    "#     if isinstance(token, dict) and \"answer\" in token:\n",
    "#         # print(token[\"answer\"].content, end=\"\", flush=True)\n",
    "#         print(token[\"answer\"])\n",
    "#         # print(token)re\n",
    "#         # answer.append(token[\"answer\"].content)\n",
    "\n",
    "# # print(answer)"
   ]
  },
  {
   "cell_type": "code",
   "execution_count": 36,
   "metadata": {},
   "outputs": [],
   "source": [
    "# from operator import itemgetter\n",
    "# from langchain.prompts import PromptTemplate\n",
    "# from langchain_core.output_parsers import StrOutputParser\n",
    "\n",
    "# _template = \"\"\"[INST] <<SYS>>Given the following conversation and a follow up question, rephrase the follow up question to be a standalone question, in its original language.<</SYS>>\n",
    "\n",
    "# Chat History:\n",
    "# {chat_history}\n",
    "# Follow Up Input: {question}\n",
    "# Standalone question:[/INST]\"\"\"\n",
    "\n",
    "# CONDENSE_QUESTION_PROMPT = PromptTemplate.from_template(_template)\n",
    "\n",
    "# standalone_question = {\n",
    "#     \"standalone_question\": {\n",
    "#         \"question\": lambda x: x[\"question\"],\n",
    "#         \"chat_history\": lambda x: _format_chat_history(x[\"chat_history\"]),\n",
    "#     }\n",
    "#     | CONDENSE_QUESTION_PROMPT\n",
    "#     | llm_model\n",
    "#     | StrOutputParser(),\n",
    "# }"
   ]
  },
  {
   "cell_type": "code",
   "execution_count": 37,
   "metadata": {},
   "outputs": [],
   "source": [
    "# # Now we retrieve the documents\n",
    "# retrieved_documents = {\n",
    "#     \"docs\": itemgetter(\"standalone_question\") | retriever,\n",
    "#     \"question\": lambda x: x[\"standalone_question\"],\n",
    "# }\n",
    "\n",
    "# # Now we construct the inputs for the final prompt\n",
    "# final_inputs = {\n",
    "#     \"context\": lambda x: _combine_documents(x[\"docs\"]),\n",
    "#     \"question\": itemgetter(\"question\"),\n",
    "# }"
   ]
  },
  {
   "cell_type": "code",
   "execution_count": 38,
   "metadata": {},
   "outputs": [],
   "source": [
    "# from langchain.prompts import PromptTemplate\n",
    "\n",
    "### Answer question ###\n",
    "# template = \"\"\"\\\n",
    "# Informasi konteks ada di bawah.\n",
    "# konteks = {context}\n",
    "\n",
    "# Mengingat konteks dan informasi metadata dan bukan pengetahuan sebelumnya, \\\n",
    "# menjawab pertanyaan tentang kepatuhan perbankan di Indonesia.\n",
    "# Jawab pertanyaan berdasarkan informasi konteks beserta metadata nya.\n",
    "# SELALU JAWAB DENGAN MENGGUNAKAN BAHASA INDONESIA.\n",
    "# ALWAYS provide your answer with [regulation_number](file_url) metadata \\\n",
    "# (if the answer only in a specific regulation) in the following format:\n",
    "\n",
    "# Answer... \\n\\n\n",
    "# Source: [metadata['regulation_number']](metadata['file_url'])\n",
    "\n",
    "# For \"Answer\" retrieve from context.page_content the answer to the user's question.\n",
    "# For \"Source\" retrieve from context.metadata['regulation_number'] the regulation number and from context.metadata['file_url'] the file url.\n",
    "\n",
    "# Question: {question}\n",
    "# If the question context is not really clear, you can utilize this text history \\\n",
    "# based on prior conversation betwwen human and AI before this question being asked:\n",
    "# Chat history: {chat_history}\n",
    "# \"\"\"\n",
    "\n",
    "### Answer question ###\n",
    "# template = \"\"\"\\\n",
    "# Informasi konteks ada di bawah.\n",
    "# konteks = {context}\n",
    "\n",
    "# Mengingat konteks dan informasi metadata dan bukan pengetahuan sebelumnya, \\\n",
    "# menjawab pertanyaan tentang kepatuhan perbankan di Indonesia.\n",
    "# Jawab pertanyaan berdasarkan informasi konteks beserta metadata nya.\n",
    "# SELALU JAWAB DENGAN BAHASA PENGGUNA.\n",
    "# SELALU berikan jawaban Anda dengan [regulation_number](file_url) pada metadata \\\n",
    "# dengan format sebagai berikut:\n",
    "\n",
    "# Answer... \\n\\n\n",
    "# Sumber: [metadata['regulation_number']](metadata['file_url'])\n",
    "\n",
    "# Untuk \"Jawaban\" ambil dari context.page_content jawaban atas pertanyaan pengguna.\n",
    "# Untuk \"Sumber\" ambil dari context.metadata['regulation_number'] nomor peraturan dan dari context.metadata['file_url'] url file.\n",
    "\n",
    "# Pertanyaan: {question}\n",
    "\n",
    "# Jika konteks pertanyaannya kurang jelas, Anda dapat menggunakan teks riwayat ini \\\n",
    "# berdasarkan percakapan sebelumnya antara manusia dan AI sebelum pertanyaan ini diajukan:\n",
    "# Chat His: {chat_history}\n",
    "# \"\"\"\n",
    "\n",
    "\n",
    "\n",
    "\n",
    "# prompt = PromptTemplate(\n",
    "#     input_variables=[\"context\", \"chat_history\", \"question\"], template=template\n",
    "# )"
   ]
  },
  {
   "cell_type": "code",
   "execution_count": 39,
   "metadata": {},
   "outputs": [],
   "source": [
    "# from langchain.chains.conversational_retrieval.base import ConversationalRetrievalChain\n",
    "# from langchain.memory import ConversationBufferMemory\n",
    "\n",
    "# # Create the custom chain\n",
    "# memory = ConversationBufferMemory(\n",
    "#     memory_key='chat_history', return_messages=True, output_key='answer')\n",
    "\n",
    "# chain = ConversationalRetrievalChain.from_llm(\n",
    "#     llm=llm_azure,\n",
    "#     retriever=retriever,\n",
    "#     memory=memory,\n",
    "#     return_generated_question=True,\n",
    "#     return_source_documents=True,\n",
    "#     verbose=True,\n",
    "#     combine_docs_chain_kwargs={'prompt': prompt},\n",
    "# )"
   ]
  },
  {
   "cell_type": "code",
   "execution_count": 40,
   "metadata": {},
   "outputs": [],
   "source": [
    "# response = chain.invoke(query_str)\n",
    "# response"
   ]
  },
  {
   "cell_type": "code",
   "execution_count": 41,
   "metadata": {},
   "outputs": [],
   "source": [
    "# print(response[\"answer\"])"
   ]
  },
  {
   "cell_type": "code",
   "execution_count": 42,
   "metadata": {},
   "outputs": [],
   "source": [
    "# from langchain.chains import create_history_aware_retriever, create_retrieval_chain\n",
    "# from langchain.chains.combine_documents import create_stuff_documents_chain\n",
    "# from langchain_community.chat_message_histories import ChatMessageHistory\n",
    "# from langchain_core.chat_history import BaseChatMessageHistory\n",
    "# from langchain_core.prompts import ChatPromptTemplate, MessagesPlaceholder\n",
    "# from langchain_core.runnables.history import RunnableWithMessageHistory\n",
    "\n",
    "# ### Contextualize question ###\n",
    "# contextualize_q_system_prompt = \"\"\"Given a chat history and the latest user question \\\n",
    "# which might reference context in the chat history, formulate a standalone question \\\n",
    "# which can be understood without the chat history. Do NOT answer the question, \\\n",
    "# just reformulate it if needed and otherwise return it as is.\"\"\"\n",
    "# contextualize_q_prompt = ChatPromptTemplate.from_messages(\n",
    "#     [\n",
    "#         (\"system\", contextualize_q_system_prompt),\n",
    "#         MessagesPlaceholder(\"chat_history\"),\n",
    "#         (\"human\", \"{input}\"),\n",
    "#     ]\n",
    "# )\n",
    "# history_aware_retriever = create_history_aware_retriever(\n",
    "#     llm_model, retriever, contextualize_q_prompt\n",
    "# )\n",
    "\n",
    "# ### Answer question ###\n",
    "# qa_system_prompt = \"\"\"\\\n",
    "# Context information is below.\n",
    "# context = {context}\n",
    "\n",
    "# Given the context and the metadata information and not prior knowledge, \\\n",
    "# answer the query asking about banking compliance in Indonesia. \n",
    "# Answer the question based on the context and the metadata information.\n",
    "# ALWAYS ANSWER WITH USER'S LANGUAGE.\n",
    "# ALWAYS provide your answer with [regulation_number](file_url) metadata \\\n",
    "# (if the answer only in a specific regulation) in the following format:\n",
    "\n",
    "# Answer... \\n\\n\n",
    "# Source: [metadata['regulation_number']](metadata['file_url'])\n",
    "\n",
    "# For \"Answer\" retrieve from context.page_content the answer to the user's question.\n",
    "# For \"Source\" retrieve from context.metadata['regulation_number'] the regulation number and from context.metadata['file_url'] the file url.\n",
    "# \"\"\"\n",
    "\n",
    "# qa_system_prompt_chain = retriever | \n",
    "\n",
    "# qa_prompt = ChatPromptTemplate.from_messages(\n",
    "#     [\n",
    "#         (\"system\", qa_system_prompt),\n",
    "#         MessagesPlaceholder(\"chat_history\"),\n",
    "#         (\"human\", \"{input}\"),\n",
    "#     ]\n",
    "# )\n",
    "# question_answer_chain = create_stuff_documents_chain(llm_model, qa_prompt)\n",
    "\n",
    "# rag_chain = create_retrieval_chain(history_aware_retriever, question_answer_chain)"
   ]
  },
  {
   "cell_type": "code",
   "execution_count": 43,
   "metadata": {},
   "outputs": [],
   "source": [
    "# store = {}\n",
    "\n",
    "# def get_session_history(session_id: str) -> BaseChatMessageHistory:\n",
    "#     if session_id not in store:\n",
    "#         store[session_id] = ChatMessageHistory()\n",
    "#     return store[session_id]\n",
    "\n",
    "# conversational_rag_chain = RunnableWithMessageHistory(\n",
    "#     rag_chain,\n",
    "#     get_session_history,\n",
    "#     input_messages_key=\"input\",\n",
    "#     history_messages_key=\"chat_history\",\n",
    "#     output_messages_key=\"answer\",\n",
    "# )"
   ]
  },
  {
   "cell_type": "code",
   "execution_count": 44,
   "metadata": {},
   "outputs": [],
   "source": [
    "# from pprint import pprint\n",
    "\n",
    "# answer = conversational_rag_chain.invoke(\n",
    "#     {\"input\": query_str},\n",
    "#     config={\n",
    "#         \"configurable\": {\"session_id\": \"abc123\"}\n",
    "#     },\n",
    "# )\n",
    "\n",
    "# answer"
   ]
  },
  {
   "cell_type": "code",
   "execution_count": 45,
   "metadata": {},
   "outputs": [],
   "source": [
    "# print(answer['context'])"
   ]
  },
  {
   "cell_type": "code",
   "execution_count": 46,
   "metadata": {},
   "outputs": [],
   "source": [
    "# from langchain_core.prompts import ChatPromptTemplate\n",
    "\n",
    "# template = \"\"\"\\\n",
    "# Context information is below.\n",
    "# context: {context}\n",
    "\n",
    "# Given the context and the metadata information and not prior knowledge, \\\n",
    "# answer the query asking about banking compliance in Indonesia. \n",
    "# Answer the question based on the context and the metadata information.\n",
    "# ALWAYS ANSWER WITH USER'S LANGUAGE.\n",
    "# Please provide your answer with [regulation_number](file_url) in metadata \n",
    "# (if possible) in the following format:\n",
    "\n",
    "# Answer... \\n\\n\n",
    "# Source: [metadata['regulation_number']](metadata['file_url'])\n",
    "\n",
    "# Question: {question}\n",
    "\n",
    "# If the question context is not really clear, you can utilize this text history \\\n",
    "# based on prior conversation betwwen human and AI before this question being asked:\n",
    "# Chat history: {history}\n",
    "# \"\"\"\n",
    "\n",
    "# prompt = ChatPromptTemplate.from_template(template)"
   ]
  },
  {
   "cell_type": "code",
   "execution_count": 47,
   "metadata": {},
   "outputs": [],
   "source": [
    "# from langchain_core.prompts import ChatPromptTemplate, MessagesPlaceholder\n",
    "\n",
    "# system_prompt = \"\"\"\\\n",
    "# Context information is below.\n",
    "# context: {context}\n",
    "\n",
    "# Given the context and the metadata information and not prior knowledge, \\\n",
    "# answer the query asking about banking compliance in Indonesia. \n",
    "# Answer the question based on the context and the metadata information.\n",
    "# ALWAYS ANSWER WITH USER'S LANGUAGE.\n",
    "# Please provide your answer with [regulation_number](file_url) in metadata \n",
    "# (if possible) in the following format:\n",
    "\n",
    "# Answer... \\n\\n\n",
    "# Source: [metadata['regulation_number']](metadata['file_url'])\n",
    "\n",
    "\n",
    "# \"\"\"\n",
    "\n",
    "# prompt = ChatPromptTemplate.from_messages([\n",
    "#     (\"system\", system_prompt),\n",
    "#     (\"{chat_history}\"),\n",
    "#     (\"human\", \"{question}\"),\n",
    "#     # (\"system\", \"context: {context}\")\n",
    "# ])"
   ]
  },
  {
   "cell_type": "code",
   "execution_count": 48,
   "metadata": {},
   "outputs": [],
   "source": [
    "# ## Answer question ###\n",
    "# template = \"\"\"\\\n",
    "# Informasi konteks ada di bawah.\n",
    "# konteks = {context}\n",
    "\n",
    "# Mengingat konteks dan informasi metadata dan bukan pengetahuan sebelumnya, \\\n",
    "# menjawab pertanyaan tentang kepatuhan perbankan di Indonesia.\n",
    "# Jawab pertanyaan berdasarkan informasi konteks beserta metadata nya.\n",
    "# SELALU JAWAB DENGAN BAHASA PENGGUNA.\n",
    "# SELALU berikan jawaban Anda dengan [regulation_number](file_url) pada metadata \\\n",
    "# dengan format sebagai berikut:\n",
    "\n",
    "# Answer... \\n\\n\n",
    "# Sumber: [metadata['regulation_number']](metadata['file_url'])\n",
    "\n",
    "# Untuk \"Jawaban\" ambil dari context.page_content jawaban atas pertanyaan pengguna.\n",
    "# Untuk \"Sumber\" ambil dari context.metadata['regulation_number'] nomor peraturan dan dari context.metadata['file_url'] url file.\n",
    "# \"\"\""
   ]
  },
  {
   "cell_type": "code",
   "execution_count": 49,
   "metadata": {},
   "outputs": [],
   "source": [
    "# from langchain_core.prompts import ChatPromptTemplate, MessagesPlaceholder\n",
    "# from langchain.memory import ChatMessageHistory\n",
    "# from langchain_core.runnables.history import RunnableWithMessageHistory\n",
    "# from operator import itemgetter\n",
    "\n",
    "\n",
    "# prompt = ChatPromptTemplate.from_messages(\n",
    "#     [\n",
    "#         (\"system\", template),\n",
    "#         MessagesPlaceholder(variable_name=\"chat_history\"),\n",
    "#         (\"user\", \"{input}\"),\n",
    "#     ]\n",
    "# )\n",
    "\n",
    "# prompt = ChatPromptTemplate.from_template(template)\n",
    "\n",
    "\n",
    "# chain = {\"context\": retriever, \"input\": itemgetter(\"input\"), \"chat_history\": itemgetter(\"chat_history\")} | prompt | llm_model"
   ]
  },
  {
   "cell_type": "code",
   "execution_count": 50,
   "metadata": {},
   "outputs": [],
   "source": [
    "# chat_history = ChatMessageHistory()\n",
    "\n",
    "\n",
    "# chain_with_message_history = RunnableWithMessageHistory(\n",
    "#     chain,\n",
    "#     lambda session_id: chat_history,\n",
    "#     input_messages_key=\"input\",\n",
    "#     history_messages_key=\"chat_history\",\n",
    "# )"
   ]
  },
  {
   "cell_type": "code",
   "execution_count": 51,
   "metadata": {},
   "outputs": [],
   "source": [
    "# from langchain_core.runnables import RunnablePassthrough\n",
    "\n",
    "# def summarize_messages(chain_input):\n",
    "#     stored_messages = chat_history.messages\n",
    "#     if len(stored_messages) == 0:\n",
    "#         return False\n",
    "#     summarization_prompt = ChatPromptTemplate.from_messages(\n",
    "#         [\n",
    "#             MessagesPlaceholder(variable_name=\"chat_history\"),\n",
    "#             (\n",
    "#                 \"user\",\n",
    "#                 \"Distill the above chat messages into a single summary message. Include as many specific details as you can.\",\n",
    "#             ),\n",
    "#         ]\n",
    "#     )\n",
    "#     summarization_chain = summarization_prompt | llm_model\n",
    "\n",
    "#     summary_message = summarization_chain.invoke({\"chat_history\": stored_messages})\n",
    "\n",
    "#     chat_history.clear()\n",
    "\n",
    "#     chat_history.add_message(summary_message)\n",
    "\n",
    "#     return True\n",
    "\n",
    "# chain_with_summarization = (\n",
    "#     RunnablePassthrough.assign(messages_summarized=summarize_messages)\n",
    "#     | chain_with_message_history\n",
    "# )"
   ]
  },
  {
   "cell_type": "code",
   "execution_count": 52,
   "metadata": {},
   "outputs": [],
   "source": [
    "# itemgetter(\"input\")"
   ]
  },
  {
   "cell_type": "code",
   "execution_count": 53,
   "metadata": {},
   "outputs": [],
   "source": [
    "# response = chain_with_summarization.invoke(\n",
    "#     {\"input\": \"What did I say my name was?\"},\n",
    "#     {\"configurable\": {\"session_id\": \"unused\"}},\n",
    "# )"
   ]
  },
  {
   "cell_type": "code",
   "execution_count": 54,
   "metadata": {},
   "outputs": [],
   "source": [
    "# from langchain_core.chat_history import BaseChatMessageHistory\n",
    "# from langchain_core.runnables.history import RunnableWithMessageHistory\n",
    "# from langchain_community.chat_message_histories import ChatMessageHistory\n",
    "\n",
    "# store = {}\n",
    "\n",
    "# def get_session_history(session_id: str) -> BaseChatMessageHistory:\n",
    "#     if session_id not in store:\n",
    "#         store[session_id] = ChatMessageHistory()\n",
    "#     return store[session_id]\n",
    "\n",
    "# conversational_rag_chain = RunnableWithMessageHistory(\n",
    "#     rag_chain,\n",
    "#     get_session_history,\n",
    "#     input_messages_key=\"question\",\n",
    "#     history_messages_key=\"chat_history\",\n",
    "# )"
   ]
  },
  {
   "cell_type": "code",
   "execution_count": 55,
   "metadata": {},
   "outputs": [],
   "source": [
    "# from pprint import pprint\n",
    "\n",
    "\n",
    "# rag_chain.invoke(query_str)\n",
    "\n",
    "# answer = conversational_rag_chain.invoke(\n",
    "#     {\"question\": query_str},\n",
    "#     config={\n",
    "\n",
    "        \n",
    "#         \"configurable\": {\"session_id\": \"abc123\"}\n",
    "#     },\n",
    "# )\n",
    "\n",
    "# answer"
   ]
  },
  {
   "cell_type": "code",
   "execution_count": 56,
   "metadata": {},
   "outputs": [],
   "source": [
    "# for chunk in rag_chain.stream(query_str):\n",
    "#     print(chunk, end=\"\", flush=True)\n",
    "\n",
    "\n",
    "# def format_docs(docs):\n",
    "#     page_content = [doc.page_content for doc in docs]\n",
    "#     return page_content\n",
    "\n",
    "\n",
    "# def format_metadata(docs):\n",
    "#     list_dict = [doc.metadata for doc in docs]\n",
    "#     for dict in list_dict:\n",
    "#         dict.pop('file_name')\n",
    "#     return list_dict\n"
   ]
  },
  {
   "cell_type": "markdown",
   "metadata": {},
   "source": [
    "## **Build Agent**"
   ]
  },
  {
   "cell_type": "code",
   "execution_count": 57,
   "metadata": {},
   "outputs": [],
   "source": [
    "# from langchain.tools.retriever import create_retriever_tool\n",
    "# from langchain.agents import initialize_agent\n",
    "\n",
    "# retriever_tool = create_retriever_tool(\n",
    "#     retriever,\n",
    "#     \"langsmith_search\",\n",
    "#     \"Search for information about LangSmith. For any questions about LangSmith, you must use this tool!\",\n",
    "# )\n",
    "\n",
    "# tools = [retriever_tool]\n",
    "\n",
    "# agent = initialize_agent(\n",
    "#     tools=tools,\n",
    "#     llm=llm_model,\n",
    "#     prompt=prompt,\n",
    "#     agent=\"zero-shot-react-description\",\n",
    "# )"
   ]
  },
  {
   "cell_type": "code",
   "execution_count": 58,
   "metadata": {},
   "outputs": [],
   "source": [
    "# agent.invoke({\"input\": query_str})"
   ]
  }
 ],
 "metadata": {
  "kernelspec": {
   "display_name": "chatbot-lc",
   "language": "python",
   "name": "python3"
  },
  "language_info": {
   "codemirror_mode": {
    "name": "ipython",
    "version": 3
   },
   "file_extension": ".py",
   "mimetype": "text/x-python",
   "name": "python",
   "nbconvert_exporter": "python",
   "pygments_lexer": "ipython3",
   "version": "3.9.19"
  }
 },
 "nbformat": 4,
 "nbformat_minor": 2
}
