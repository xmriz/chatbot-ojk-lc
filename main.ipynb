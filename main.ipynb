{
 "cells": [
  {
   "cell_type": "markdown",
   "metadata": {},
   "source": [
    "# **OJK ChatBot - LangChain**"
   ]
  },
  {
   "cell_type": "code",
   "execution_count": 1,
   "metadata": {},
   "outputs": [],
   "source": [
    "%load_ext autoreload\n",
    "%autoreload 2"
   ]
  },
  {
   "cell_type": "code",
   "execution_count": 2,
   "metadata": {},
   "outputs": [
    {
     "data": {
      "text/plain": [
       "True"
      ]
     },
     "execution_count": 2,
     "metadata": {},
     "output_type": "execute_result"
    }
   ],
   "source": [
    "from dotenv import load_dotenv\n",
    "load_dotenv()"
   ]
  },
  {
   "cell_type": "code",
   "execution_count": 3,
   "metadata": {},
   "outputs": [],
   "source": [
    "import os\n",
    "\n",
    "openai_api_key = os.getenv(\"OPENAI_KEY\")\n",
    "azure_api_key = os.getenv(\"AZURE_OPENAI_KEY\")\n",
    "azure_api_version = os.getenv(\"API_VERSION\")\n",
    "azure_api_endpoint = os.getenv(\"AZURE_OPENAI_ENDPOINT\")\n",
    "azure_api_deployment_id = os.getenv(\"AZURE_OPENAI_DEPLOYMENT_ID\")\n",
    "pinecone_api_key = os.getenv(\"PINECONE_API_KEY\")"
   ]
  },
  {
   "cell_type": "markdown",
   "metadata": {},
   "source": [
    "## **Config**"
   ]
  },
  {
   "cell_type": "code",
   "execution_count": 4,
   "metadata": {},
   "outputs": [],
   "source": [
    "config_openai = {\n",
    "    'api_key': openai_api_key,\n",
    "}\n",
    "\n",
    "config_azure = {\n",
    "    'azure_endpoint': azure_api_endpoint,\n",
    "    'azure_deployment': azure_api_deployment_id,\n",
    "    'api_version': azure_api_version,\n",
    "    'api_key': azure_api_key\n",
    "}"
   ]
  },
  {
   "cell_type": "code",
   "execution_count": 5,
   "metadata": {},
   "outputs": [],
   "source": [
    "STORE = False\n",
    "DELETE = False"
   ]
  },
  {
   "cell_type": "code",
   "execution_count": 6,
   "metadata": {},
   "outputs": [],
   "source": [
    "TOP_K = 6"
   ]
  },
  {
   "cell_type": "markdown",
   "metadata": {},
   "source": [
    "## **Create Models**"
   ]
  },
  {
   "cell_type": "code",
   "execution_count": 7,
   "metadata": {},
   "outputs": [],
   "source": [
    "from utils.model_config import ModelName, get_model\n",
    "\n",
    "llm_openai, embedding_llm_openai = get_model(model_name=ModelName.OPENAI, config=config_openai)\n",
    "llm_azure, embedding_llm_azure = get_model(model_name=ModelName.AZURE_OPENAI, config=config_azure)\n",
    "llm_ollama, embedding_llm_ollama = get_model(model_name=ModelName.OLLAMA)"
   ]
  },
  {
   "cell_type": "code",
   "execution_count": 8,
   "metadata": {},
   "outputs": [],
   "source": [
    "llm_model = llm_azure\n",
    "embed_model = embedding_llm_azure"
   ]
  },
  {
   "cell_type": "markdown",
   "metadata": {},
   "source": [
    "## **Indexing**"
   ]
  },
  {
   "cell_type": "markdown",
   "metadata": {},
   "source": [
    "### **Load**"
   ]
  },
  {
   "cell_type": "code",
   "execution_count": 9,
   "metadata": {},
   "outputs": [],
   "source": [
    "from utils.documents_text_extract import extract_all_documents_in_directory\n",
    "\n",
    "documents_dir = './data/documents'\n",
    "metadata_path = './data/metadata/files_metadata.csv'\n",
    "\n",
    "if STORE:\n",
    "    documents = extract_all_documents_in_directory(documents_dir, metadata_path, treshold=0.98)\n"
   ]
  },
  {
   "cell_type": "markdown",
   "metadata": {},
   "source": [
    "### **Split**"
   ]
  },
  {
   "cell_type": "code",
   "execution_count": 10,
   "metadata": {},
   "outputs": [],
   "source": [
    "from utils.document_split import document_splitter\n",
    "\n",
    "if STORE:\n",
    "    all_splits = document_splitter(docs=documents)"
   ]
  },
  {
   "cell_type": "markdown",
   "metadata": {},
   "source": [
    "### **Storing**"
   ]
  },
  {
   "cell_type": "code",
   "execution_count": 11,
   "metadata": {},
   "outputs": [],
   "source": [
    "from utils.vector_store import PineconeIndexManager\n",
    "\n",
    "pinecone = PineconeIndexManager(index_name='ojk',api_key=pinecone_api_key, embed_model=embed_model)\n",
    "\n",
    "if STORE:\n",
    "    pinecone.store_vector_index(docs=all_splits, delete=False)\n",
    "    vector_store = pinecone.load_vector_index()\n",
    "else: \n",
    "    vector_store = pinecone.load_vector_index()"
   ]
  },
  {
   "cell_type": "markdown",
   "metadata": {},
   "source": [
    "## **Retrieval and Generation**"
   ]
  },
  {
   "cell_type": "code",
   "execution_count": 36,
   "metadata": {},
   "outputs": [],
   "source": [
    "a = \"Apa judul peraturan 7/33/PBI/2005?\" # Pencabutan atas Peraturan Bank Indonesia Nomor 5/17/PBI/2003 tentang Persyaratan dan Tata Cara Pelaksanaan Jaminan Pemerintah terhadap Kewajiban Pembayaran Bank Perkreditan Rakyat\n",
    "b = \"Kapan surat edaran No. 15/26/DPbS mulai berlaku?\" # 1 Agustus 2013.\n",
    "c = \"Siapa nama dan jabatannya yang menandatangani surat dengan nomor 1/SEOJK.04/2013?\" # NURHAIDA, kepala eksekutif pengawas pasar modal\n",
    "d = \"Saya ingin menyelenggarakan kegiatan pasar modal berikan saya nomor surat yang membahas mengenai hal ini!\" # Peraturan Pemerintah Nomor 12 Tahun 2004\n",
    "e = \"Berapa persen jaminan moneter pada tanggal 20 Agustus 1958?\" # 7,3%\n",
    "f = \"Surat edaran nomor berapa yang mengatur bank umum syariah dan unit usaha syariah?\" # 15/26/DPbS\n",
    "g = \"Apa kepanjangan dari PAPSI?\" # Pedoman Akuntansi Perbankan Syariah Indonesia\n",
    "h = \"apa judul peraturan nomor 112/KMK.03/2001?\" # Keputusan Menteri Keuangan tentang Pemotongan Pajak Penghasil Pasal 21 atas Penghasilan berupa Uang Pesangon, Uang Tebusan Pensiun, dan Tunjangan Hari Tua atau Jaminan Hari Tua\n",
    "i = \"Saya ingin membuat sistem informasi lembaga jasa keuangan, berikan nomor regulasi dari peraturan yang membahas tentang manejemen risiko nya!\" # 4/POJK.05/2021\n",
    "j = \"Apa kepanjangan dari SWDKLLJ?\" # Sumbangan Wajib Dana Kecelakaan Lalu Lintas Jalan\n",
    "k = \"Berapa nilai SWDKLLJ dari sedan?\" # Rp. 140.000\n",
    "l = \"Apa latar belakang dari peraturan NOMOR 4/POJK.05/2021?\" # dalam bentuk list\n",
    "m = \"Apa itu LJKNB?\" # Lembaga Jasa Keuangan Non Bank\n",
    "n = \"Apakah KMK Nomor 462/KMK.04/1998 masih berlaku\" # tidak\n",
    "o = \"Apa itu Uang Pesangon?\" # penghasilan yang dibayarkan oleh pemberi kerja kepada karyawan dengan nama dan dalam bentuk apapun sehubungan dengan berakhirnya masa kerja atau terjadi pemutusan  hubungan kerja, termasuk uang penghargaan masa kerja dan uang  ganti kerugian\n",
    "p = \"Apa itu CKPN?\" # Cadangan Kerugian Penurunan Nilai.\n",
    "q = \"Kapan, dimana, dan oleh siapa surat nomor PER- 06/BL/2012 ditetapkan?\" # Surat nomor PER-06/BL/2012 ditetapkan pada tanggal 22 November 2012 di Jakarta oleh Ketua Badan Pengawas Pasar Modal dan Lembaga Keuangan.\n",
    "r = \"Apa kepanjangan PSAK?\" # Pernyataan Standar Akuntansi Keuangan\n",
    "s = \"Apa itu 'shahibul maal'?\" # Pemilik dana pihak ketiga\n",
    "\n",
    "query_str = e"
   ]
  },
  {
   "cell_type": "markdown",
   "metadata": {},
   "source": [
    "### **Retrieve**"
   ]
  },
  {
   "cell_type": "code",
   "execution_count": 37,
   "metadata": {},
   "outputs": [],
   "source": [
    "retriever = vector_store.as_retriever(search_type=\"similarity\", search_kwargs={\"k\": TOP_K})"
   ]
  },
  {
   "cell_type": "code",
   "execution_count": 38,
   "metadata": {},
   "outputs": [
    {
     "data": {
      "text/plain": [
       "[Document(metadata={'effective_date': '31 Desember 1958', 'file_name': 'ojk-undang_undang-84_tahun_1958-31121958-uu_republik_indonesia_tentang_pengubahan_pasal_pasal_16_dan_19_undang_undang_pokok_bank_indonesia_uu_nomor_84_tahun_1958_pdf.pdf', 'file_url': 'https://www.ojk.go.id/id/regulasi/Documents/Pages/UU-Republik-Indonesia-tentang-Pengubahan-Pasal-Pasal-16-dan-19-Undang-Undang-Pokok-Bank-Indonesia/UU%20Nomor%2084%20Tahun%201958.pdf', 'regulation_number': '84 Tahun 1958', 'regulation_type': 'Undang-Undang', 'sector': 'Perbankan', 'subsector': 'Bank Umum', 'title': 'Undang-Undang Republik Indonesia tentang Pengubahan Pasal-Pasal 16 dan 19 Undang-Undang Pokok Bank Indonesia'}, page_content='PRESIDEN\\nREPUBLIK INDONESIA\\nPENJELASAN\\nTENTANG\\nUNDANG-UNDANG PERUBAHAN PASAL-PASAL 16 dan 19\\nDARI UNDANG-UNDANG POKOK BANK INDONESIA.\\nI.\\nPENJELASAN UMUM.\\n1.\\nDalam pasal 16 ayat 1 dari Undang-undang Pokok Bank Indonesia disebutkan\\nbahwa banyaknya uang yang beredar harus dijamin sebesar 20% dengan emas\\ndan alat-alat pembayaran luar negeri.\\nPada tanggal 20 Agustus 1958 jaminan moneter ini tinggal sebesar 7,30%,\\nyang menggambarkan perbandingan antara kekayaan sebesar Rp. 1.542 juta\\nyang berupa emas, uang dollar U.S. dan Indonesia sebesar Rp. 21.115 juta yang\\nberupa uang kertas bank, saldo-saldo rekening-koran dan tagihan-tagihan lain\\nyang segera dapat digagih. Jaminan moneter ini sudah berada dibawah 20%\\nminimum sejak Januari 1957.\\nAyat 3 dan 4 dari pasal 16 tersebut memang memberi kelonggaran sebanyak\\nseluruhnya 6 bulan setelah mendapat persetujuan Parlemen, yang berarti bahwa\\nsetelah jangka waktu tersebut lewat, perbandingan harus kembali lagi ketingkat\\nminimum 20%.'),\n",
       " Document(metadata={'effective_date': '1 Desember 2011', 'file_name': 'ojk-peraturan_bapepam-per_09_bl_2011-01122011-peraturan_bapepam_tentang_pedoman_perhitungan_batas_tingkat_solvabilitas_minimum_bagi_perusahaan_asuransi_dan_reasuransi_bapepam_per_09bl2011_pdf.pdf', 'file_url': 'https://www.ojk.go.id/id/regulasi/Documents/Pages/Peraturan-BAPEPAM-tentang-Pedoman-Perhitungan-Batas-Tingkat-Solvabilitas-Minimum-bagi-Perusahaan-Asuransi-dan-Reasuransi/BAPEPAM%20PER-09BL2011.pdf', 'regulation_number': 'PER-09/BL/2011', 'regulation_type': 'Peraturan Bapepam', 'sector': 'IKNB', 'subsector': 'Asuransi', 'title': 'Peraturan BAPEPAM tentang Pedoman Perhitungan Batas Tingkat Solvabilitas Minimum bagi Perusahaan Asuransi dan Perusahaan Reasuransi'}, page_content='dalam \\ntotal \\ninvestasi tersebut adalah investasi \\npada satu pihak sebesar Rp 300 milyar \\nterdiri dari deposito sebanyak Rp 150 \\nmilyar pada bank dengan CAR 8% \\n(faktor risiko 2%), obligasi dengan \\nrating BB (faktor risiko 4%) sebanyak \\nRp 90 milyar dan saham kategori LQ \\n45 (faktor risiko 10%) sebanyak Rp 60 \\nmilyar.  \\nRata-rata tertimbang faktor risiko \\ninvestasi pada satu pihak adalah:  \\n(Rp 150 milyar x 2% + Rp 90 milyar x \\n4% + Rp 60 milyar x 10%) : Rp 300 \\nmilyar = 4,2% \\nTambahan dana yang dibutuhkan \\nuntuk  mengantisipasi kegagalan'),\n",
       " Document(metadata={'effective_date': '30 Oktober 1992', 'file_name': 'ojk-peraturan_pemerintah-73_tahun_1992-30101992-pp_nomor_73_tahun_1992_tentang_penyelenggaraan_usaha_perasuransian_pp_no_73_tahun_1992_pdf.pdf', 'file_url': 'https://www.ojk.go.id/id/regulasi/Documents/Pages/PP-nomor-73-Tahun-1992-tentang-Penyelenggaraan-Usaha-Perasuransian/PP%20NO.73%20TAHUN%201992.pdf', 'regulation_number': '73 Tahun 1992', 'regulation_type': 'Peraturan Pemerintah', 'sector': 'IKNB', 'subsector': 'Asuransi', 'title': 'Peraturan Pemerintah nomor 73 Tahun 1992 tentang Penyelenggaraan Usaha Perasuransian'}, page_content='c. Rp. 30.000.000.000,. (tiga puluh milyar rupiah), bagi Perusahaan Reasuransi; \\nd. Rp. 3.000.000.000,. (tiga milyar rupiah), bagi Perusahaan Pialang Asuransi; \\ne. Rp. 3.000.000.000. (tiga milyar rupiah), bagi Perusahaan Pialang Reasuransi. \\n(3) Pada saat pendirian perusahaan, penyertaan langsung pihak asing dalam Perusahaan \\nPerasuransian sebagaimana dimaksud dalam ayat (2) paling banyak 80% (delapan puluh per \\nseratus).'),\n",
       " Document(metadata={'effective_date': '6 Maret 2001', 'file_name': 'ojk-peraturan_keputusan_mentri-112_kmk_03_2001-06032001-kmk_nomor_112_kmk_03_2001_112_kmk_03_2001_pdf.pdf', 'file_url': 'https://www.ojk.go.id/id/regulasi/Documents/Pages/KMK-Nomor-112.KMK.03.2001/112.KMK.03.2001.pdf', 'regulation_number': '112/KMK.03/2001', 'regulation_type': 'Peraturan/Keputusan Mentri', 'sector': 'IKNB', 'subsector': 'Dana Pensiun', 'title': 'Keputusan Menteri Keuangan tentang Pemotongan Pajak Penghasil Pasal 21 atas Penghasilan berupa Uang Pesangon, Uang Tebusan Pensiun, dan Tunjangan Hari Tua atau Jaminan Hari Tua'}, page_content='juta rupiah) sampai dengan Rp 100.000.000,00 (seratus juta \\nrupiah) sebesar 10% (sepuluh persen);  \\n \\n  \\nd.  penghasilan bruto di atas Rp 100.000.000,00 (seratus juta \\nrupiah) sampai dengan Rp 200.000.000,00 (dua ratus juta \\nrupiah) sebesar 15% (lima belas persen);  \\n \\n  \\ne.  penghasilan bruto di atas Rp 200.000.000,00 (dua ratus juta \\nrupiah) sebesar 25% (dua puliuh lima belas persen); \\n \\n \\n \\nPasal  3 \\nPada saat Keputusan Menteri Keuangan ini mulai berlaku, Keputusan \\nMenteri Keuangan Nomor 462/KMK.04/1998 dinyatakan tidak berlaku.\\nPasal  4 \\nKeputusan ini mulai berlaku tanggal 1 Januari 2001. \\nAgar setiap orang mengetahuinya, memerintahkan pengumuman \\nKeputusan Menteri Keuangan ini dengan penempatannya dalam Berita \\nNegara Republik Indonesia. \\n \\n \\nDitetapkan di Jakarta  \\npada tanggal 6 Maret 2001  \\nMENTERI \\nKEUANGAN \\nREPUBLIK \\nINDONESIA \\n \\nPRIJADI PRAPTOSUHARDJO'),\n",
       " Document(metadata={'effective_date': '1 Desember 2011', 'file_name': 'ojk-peraturan_bapepam-per_09_bl_2011-01122011-peraturan_bapepam_tentang_pedoman_perhitungan_batas_tingkat_solvabilitas_minimum_bagi_perusahaan_asuransi_dan_reasuransi_bapepam_per_09bl2011_pdf.pdf', 'file_url': 'https://www.ojk.go.id/id/regulasi/Documents/Pages/Peraturan-BAPEPAM-tentang-Pedoman-Perhitungan-Batas-Tingkat-Solvabilitas-Minimum-bagi-Perusahaan-Asuransi-dan-Reasuransi/BAPEPAM%20PER-09BL2011.pdf', 'regulation_number': 'PER-09/BL/2011', 'regulation_type': 'Peraturan Bapepam', 'sector': 'IKNB', 'subsector': 'Asuransi', 'title': 'Peraturan BAPEPAM tentang Pedoman Perhitungan Batas Tingkat Solvabilitas Minimum bagi Perusahaan Asuransi dan Perusahaan Reasuransi'}, page_content='II. Lebih \\ndari \\nnol \\nnamun \\ntidak \\nmelebihi \\n20% \\ndari \\nJumlah Kewajiban \\n0% \\nNol \\nIII. Melebihi 20% dari \\nJumlah Kewajiban \\n10% \\n10% \\nx \\n(Kekayaan \\nYang \\nDiperkenankan \\n- \\n120% \\nx \\nKewajiban) \\n3) Hasil perhitungan jumlah dana pada butir 2) dikonversikan ke dalam \\nmata uang rupiah sesuai dengan kurs tengah Bank Indonesia pada \\ntanggal neraca. \\n4) Jumlah dana yang diperhitungkan dalam perhitungan BTSM adalah \\njumlah \\ndana \\nyang \\ndibutuhkan \\nuntuk \\nmenanggulangi \\nrisiko \\nketidakseimbangan antara nilai kekayaan dan nilai kewajiban untuk \\nseluruh mata uang asing. \\n5) Kontrak asuransi yang memuat ketentuan konversi mata uang asing \\nterhadap rupiah dengan menggunakan nilai tukar tertentu yang \\nditetapkan dalam kontrak, harus diperlakukan sebagai kontrak asuransi \\ndalam mata uang rupiah. \\n6) Sebagai contoh, sebuah perusahaan asuransi memiliki kekayaan dan \\nkewajiban untuk mata uang rupiah, dolar Amerika, dolar Singapura dan \\nyen Jepang setelah dikonversi ke rupiah adalah sebagai berikut:'),\n",
       " Document(metadata={'effective_date': '12 Januari 2016', 'file_name': 'ojk-peraturan_ojk-1_pojk_05_2016-12012016-pojk_01_sbn_pojk_1_2016_pdf.pdf', 'file_url': 'https://www.ojk.go.id/id/regulasi/Documents/Pages/POJK-01.-SBN/POJK%201-2016.pdf', 'regulation_number': '1 /POJK.05/2016', 'regulation_type': 'Peraturan OJK', 'sector': 'IKNB', 'subsector': 'Asuransi,  Dana Pensiun,  Lembaga Pembiayaan,  Lembaga Jasa Keuangan Khusus,  Lembaga Keuangan Mikro', 'title': 'POJK tentang Investasi Surat Berharga Negara Bagi Lembaga Jasa Keuangan Non-Bank'}, page_content='- 4 - \\n \\n \\nb. \\nbagi perusahaan asuransi umum dan perusahaan \\nreasuransi termasuk yang menyelenggarakan \\nseluruh atau sebagian usahanya dengan prinsip \\nsyariah,  paling  rendah  20%  (dua  puluh  \\npersen) \\ndari \\nseluruh \\njumlah \\ninvestasi \\nperusahaan;  \\nc. \\nbagi \\nlembaga \\npenjaminan \\ntermasuk \\nyang \\nmenyelenggarakan \\nseluruh \\natau \\nsebagian \\nusahanya dengan prinsip syariah, paling rendah \\n20% (dua puluh persen) dari seluruh jumlah \\ninvestasi lembaga penjaminan;  \\nd. \\nbagi dana pensiun pemberi kerja paling rendah \\n30% (tiga puluh persen) dari seluruh jumlah \\ninvestasi dana pensiun pemberi kerja; \\ne. \\nbagi BPJS Ketenagakerjaan: \\n1. \\npaling rendah 50% (lima puluh persen)  dari \\nseluruh jumlah investasi Dana Jaminan \\nSosial Ketenagakerjaan; dan  \\n2. \\npaling rendah 30% (tiga puluh persen) dari \\nseluruh \\njumlah \\ninvestasi \\nBPJS \\nKetenagakerjaan;  \\nf. \\nbagi BPJS Kesehatan paling rendah 30% (tiga \\npuluh persen) dari seluruh jumlah investasi BPJS \\nKesehatan. \\n(2)')]"
      ]
     },
     "execution_count": 38,
     "metadata": {},
     "output_type": "execute_result"
    }
   ],
   "source": [
    "retrieved_docs = retriever.invoke(input=query_str)\n",
    "retrieved_docs"
   ]
  },
  {
   "cell_type": "markdown",
   "metadata": {},
   "source": [
    "### **Generate**"
   ]
  },
  {
   "cell_type": "code",
   "execution_count": 39,
   "metadata": {},
   "outputs": [],
   "source": [
    "# from langchain.chains import create_history_aware_retriever, create_retrieval_chain\n",
    "# from langchain.chains.combine_documents import create_stuff_documents_chain\n",
    "# from langchain_community.chat_message_histories import ChatMessageHistory\n",
    "# from langchain_core.chat_history import BaseChatMessageHistory\n",
    "# from langchain_core.prompts import ChatPromptTemplate, MessagesPlaceholder\n",
    "# from langchain_core.runnables.history import RunnableWithMessageHistory\n",
    "\n",
    "\n",
    "# ### Contextualize question ###\n",
    "# contextualize_q_system_prompt = \"\"\"Given a chat history and the latest user question \\\n",
    "# which might reference context in the chat history, formulate a standalone question \\\n",
    "# which can be understood without the chat history. Do NOT answer the question, \\\n",
    "# just reformulate it if needed and otherwise return it as is.\"\"\"\n",
    "# contextualize_q_prompt = ChatPromptTemplate.from_messages(\n",
    "#     [\n",
    "#         (\"system\", contextualize_q_system_prompt),\n",
    "#         MessagesPlaceholder(\"chat_history\"),\n",
    "#         (\"human\", \"{input}\"),\n",
    "#     ]\n",
    "# )\n",
    "# history_aware_retriever = create_history_aware_retriever(\n",
    "#     llm_model, retriever, contextualize_q_prompt\n",
    "# )\n",
    "\n",
    "# ### Answer question ###\n",
    "# qa_system_prompt = \"\"\"\\\n",
    "# Context information is below.\n",
    "# context = {context}\n",
    "\n",
    "# Given the context and the metadata information and not prior knowledge, \\\n",
    "# answer the query asking about banking compliance in Indonesia. \n",
    "# Answer the question based on the context and the metadata information.\n",
    "# ALWAYS ANSWER WITH USER'S LANGUAGE.\n",
    "# ALWAYS provide your answer with [regulation_number](file_url) metadata \\\n",
    "# (if the answer only in a specific regulation) in the following format:\n",
    "\n",
    "# Answer... \\n\\n\n",
    "# Source: [context[0].metadata['regulation_number']](context[0].metadata['file_url'])\n",
    "\n",
    "# For \"Answer\" retrieve from context.page_content the answer to the user's question.\n",
    "# For \"Source\" retrieve from context.metadata['regulation_number'] the regulation number and from context.metadata['file_url'] the file url.\n",
    "# \"\"\"\n",
    "# qa_prompt = ChatPromptTemplate.from_messages(\n",
    "#     [\n",
    "#         (\"system\", qa_system_prompt),\n",
    "#         MessagesPlaceholder(\"chat_history\"),\n",
    "#         (\"human\", \"{input}\"),\n",
    "#     ]\n",
    "# )\n",
    "# question_answer_chain = create_stuff_documents_chain(llm_model, qa_prompt)\n",
    "\n",
    "# rag_chain = create_retrieval_chain(\n",
    "#     history_aware_retriever, question_answer_chain)"
   ]
  },
  {
   "cell_type": "code",
   "execution_count": 40,
   "metadata": {},
   "outputs": [],
   "source": [
    "# store = {}\n",
    "\n",
    "# def get_session_history(session_id: str) -> BaseChatMessageHistory:\n",
    "#     if session_id not in store:\n",
    "#         store[session_id] = ChatMessageHistory()\n",
    "#     return store[session_id]\n",
    "\n",
    "\n",
    "# conversational_rag_chain = RunnableWithMessageHistory(\n",
    "#     rag_chain,\n",
    "#     get_session_history,\n",
    "#     input_messages_key=\"input\",\n",
    "#     history_messages_key=\"chat_history\",\n",
    "#     output_messages_key=\"answer\",\n",
    "# )"
   ]
  },
  {
   "cell_type": "code",
   "execution_count": 41,
   "metadata": {},
   "outputs": [],
   "source": [
    "# from pprint import pprint\n",
    "\n",
    "# answer = conversational_rag_chain.invoke(\n",
    "#     {\"input\": query_str},\n",
    "#     config={\n",
    "#         \"configurable\": {\"session_id\": \"abc123\"}\n",
    "#     },\n",
    "# )\n",
    "\n",
    "# answer"
   ]
  },
  {
   "cell_type": "code",
   "execution_count": 42,
   "metadata": {},
   "outputs": [],
   "source": [
    "# print(answer['answer'])"
   ]
  },
  {
   "cell_type": "code",
   "execution_count": 43,
   "metadata": {},
   "outputs": [],
   "source": [
    "\n",
    "from langchain_core.prompts import ChatPromptTemplate\n",
    "\n",
    "template = \"\"\"\\\n",
    "Context information is below.\n",
    "context: {context}\n",
    "\n",
    "Given the context and the metadata information and not prior knowledge, \\\n",
    "answer the query asking about banking compliance in Indonesia. \n",
    "Answer the question based on the context and the metadata information.\n",
    "ALWAYS ANSWER WITH USER'S LANGUAGE.\n",
    "Please provide your answer with [regulation_number](file_url) in metadata \n",
    "(if possible) in the following format:\n",
    "\n",
    "Answer... \\n\\n\n",
    "Source: [metadata['regulation_number']](metadata['file_url'])\n",
    "\n",
    "Question: {question}\n",
    "\"\"\"\n",
    "\n",
    "prompt = ChatPromptTemplate.from_template(template)"
   ]
  },
  {
   "cell_type": "code",
   "execution_count": 52,
   "metadata": {},
   "outputs": [],
   "source": [
    "from langchain_core.output_parsers import StrOutputParser\n",
    "from langchain_core.runnables import RunnablePassthrough\n",
    "\n",
    "\n",
    "def format_docs(docs):\n",
    "    page_content = [doc.page_content for doc in docs]\n",
    "    return page_content\n",
    "\n",
    "def format_metadata(docs):\n",
    "    list_dict = [doc.metadata for doc in docs]\n",
    "    for dict in list_dict:\n",
    "        dict.pop('file_name')\n",
    "    return list_dict\n",
    "\n",
    "\n",
    "rag_chain = (\n",
    "    {\"context\": retriever,\n",
    "      \"question\": RunnablePassthrough()}\n",
    "    | prompt\n",
    "    | llm_model\n",
    "    # | StrOutputParser()\n",
    ")"
   ]
  },
  {
   "cell_type": "code",
   "execution_count": 54,
   "metadata": {},
   "outputs": [
    {
     "name": "stdout",
     "output_type": "stream",
     "text": [
      "AIMessage(content='Jaminan moneter pada tanggal 20 Agustus 1958 sebesar 7,30%. \\n\\nSource: [84 Tahun 1958](https://www.ojk.go.id/id/regulasi/Documents/Pages/UU-Republik-Indonesia-tentang-Pengubahan-Pasal-Pasal-16-dan-19-Undang-Undang-Pokok-Bank-Indonesia/UU%20Nomor%2084%20Tahun%201958.pdf)', response_metadata={'token_usage': {'completion_tokens': 107, 'prompt_tokens': 3452, 'total_tokens': 3559}, 'model_name': 'gpt-35-turbo', 'system_fingerprint': None, 'prompt_filter_results': [{'prompt_index': 0, 'content_filter_results': {'hate': {'filtered': False, 'severity': 'safe'}, 'self_harm': {'filtered': False, 'severity': 'safe'}, 'sexual': {'filtered': False, 'severity': 'safe'}, 'violence': {'filtered': False, 'severity': 'safe'}}}], 'finish_reason': 'stop', 'logprobs': None, 'content_filter_results': {'hate': {'filtered': False, 'severity': 'safe'}, 'self_harm': {'filtered': False, 'severity': 'safe'}, 'sexual': {'filtered': False, 'severity': 'safe'}, 'violence': {'filtered': False, 'severity': 'safe'}}}, id='run-b1ff4f69-6e20-49a3-9680-475c98b971db-0', usage_metadata={'input_tokens': 3452, 'output_tokens': 107, 'total_tokens': 3559})\n"
     ]
    }
   ],
   "source": [
    "from pprint import pprint\n",
    "\n",
    "response = rag_chain.invoke(\n",
    "    input=query_str,\n",
    ")\n",
    "\n",
    "pprint(response)"
   ]
  },
  {
   "cell_type": "code",
   "execution_count": 45,
   "metadata": {},
   "outputs": [
    {
     "name": "stdout",
     "output_type": "stream",
     "text": [
      "Jaminan moneter pada tanggal 20 Agustus 1958 sebesar 7,30%. \n",
      "\n",
      "Source: [84 Tahun 1958](https://www.ojk.go.id/id/regulasi/Documents/Pages/UU-Republik-Indonesia-tentang-Pengubahan-Pasal-Pasal-16-dan-19-Undang-Undang-Pokok-Bank-Indonesia/UU%20Nomor%2084%20Tahun%201958.pdf)"
     ]
    }
   ],
   "source": [
    "for chunk in rag_chain.stream(query_str):\n",
    "    print(chunk, end=\"\", flush=True)"
   ]
  },
  {
   "cell_type": "markdown",
   "metadata": {},
   "source": [
    "## **Build Agent**"
   ]
  },
  {
   "cell_type": "code",
   "execution_count": 46,
   "metadata": {},
   "outputs": [],
   "source": [
    "# from langchain.tools.retriever import create_retriever_tool\n",
    "# from langchain.agents import initialize_agent\n",
    "\n",
    "# retriever_tool = create_retriever_tool(\n",
    "#     retriever,\n",
    "#     \"langsmith_search\",\n",
    "#     \"Search for information about LangSmith. For any questions about LangSmith, you must use this tool!\",\n",
    "# )\n",
    "\n",
    "# tools = [retriever_tool]\n",
    "\n",
    "# agent = initialize_agent(\n",
    "#     tools=tools,\n",
    "#     llm=llm_model,\n",
    "#     prompt=prompt,\n",
    "#     agent=\"zero-shot-react-description\",\n",
    "# )"
   ]
  },
  {
   "cell_type": "code",
   "execution_count": 47,
   "metadata": {},
   "outputs": [],
   "source": [
    "# agent.invoke({\"input\": query_str})"
   ]
  }
 ],
 "metadata": {
  "kernelspec": {
   "display_name": "chatbot-lc",
   "language": "python",
   "name": "python3"
  },
  "language_info": {
   "codemirror_mode": {
    "name": "ipython",
    "version": 3
   },
   "file_extension": ".py",
   "mimetype": "text/x-python",
   "name": "python",
   "nbconvert_exporter": "python",
   "pygments_lexer": "ipython3",
   "version": "3.9.19"
  }
 },
 "nbformat": 4,
 "nbformat_minor": 2
}
