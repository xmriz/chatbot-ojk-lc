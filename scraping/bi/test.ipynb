{
 "cells": [
  {
   "cell_type": "code",
   "execution_count": 1,
   "metadata": {},
   "outputs": [],
   "source": [
    "import os\n",
    "import pandas as pd\n",
    "import json\n",
    "import re\n",
    "from pathlib import Path\n",
    "\n",
    "pd.set_option('max_colwidth', 400)"
   ]
  },
  {
   "cell_type": "code",
   "execution_count": 6,
   "metadata": {},
   "outputs": [],
   "source": [
    "df_reg = pd.read_csv('csv/regulations.csv')\n",
    "# df_reg.head()"
   ]
  },
  {
   "cell_type": "code",
   "execution_count": 7,
   "metadata": {},
   "outputs": [],
   "source": [
    "df = pd.read_csv('csv/data_file.csv')\n",
    "# df.head()\n",
    "# print(len(df))"
   ]
  },
  {
   "cell_type": "code",
   "execution_count": 8,
   "metadata": {},
   "outputs": [],
   "source": [
    "df2 = pd.read_csv('csv/data_detail.csv')\n",
    "# df2.head()"
   ]
  },
  {
   "cell_type": "code",
   "execution_count": 9,
   "metadata": {},
   "outputs": [],
   "source": [
    "duplicate_titles = df2[df2.duplicated(subset='title', keep=False)]\n",
    "# duplicate_titles"
   ]
  },
  {
   "cell_type": "code",
   "execution_count": 10,
   "metadata": {},
   "outputs": [],
   "source": [
    "df3 = df.merge(df2, how='left', on='title')"
   ]
  },
  {
   "cell_type": "code",
   "execution_count": 11,
   "metadata": {},
   "outputs": [
    {
     "data": {
      "text/plain": [
       "type_of_regulation\n",
       "Bank Indonesia Circular Letters                391\n",
       "Bank Indonesia Regulation                      339\n",
       "Member Of The Board Of Governors Regulation     27\n",
       "Name: count, dtype: int64"
      ]
     },
     "execution_count": 11,
     "metadata": {},
     "output_type": "execute_result"
    }
   ],
   "source": [
    "df3['type_of_regulation'].value_counts()"
   ]
  },
  {
   "cell_type": "code",
   "execution_count": 166,
   "metadata": {},
   "outputs": [],
   "source": [
    "# df3.loc[df3['type_of_regulation'] == 'Bank Indonesia Circular Letters'].tail()"
   ]
  },
  {
   "cell_type": "code",
   "execution_count": 57,
   "metadata": {},
   "outputs": [],
   "source": [
    "# df3.loc[df3['file_name'] == \"Appendix\"]"
   ]
  },
  {
   "cell_type": "markdown",
   "metadata": {},
   "source": [
    "# Standardizing File Names"
   ]
  },
  {
   "cell_type": "code",
   "execution_count": 12,
   "metadata": {},
   "outputs": [],
   "source": [
    "# Function to convert type_of_regulation to its abbreviation\n",
    "def format_type_of_regulation(regulation_type):\n",
    "    mapping = {\n",
    "        \"Bank Indonesia Regulation\": \"pbi\",\n",
    "        \"Member Of The Board Of Governors Regulation\": \"padg\",\n",
    "        \"Bank Indonesia Circular Letters\": \"sebi\"\n",
    "    }\n",
    "    return mapping.get(regulation_type, \"unknown\")\n",
    "\n",
    "# Function to extract the number from title and type_of_regulation\n",
    "def format_number(title, type_of_regulation):\n",
    "    # Check for pattern a/b/c/d (three slashes)\n",
    "    match = re.search(r'\\d+/\\d+/\\w+/\\d+', title)\n",
    "    if match:\n",
    "        return format_title(match.group(0))\n",
    "    \n",
    "    # Check for pattern x/y/z (two slashes)\n",
    "    match = re.search(r'\\d+/\\d+/\\w+', title)\n",
    "    if match:\n",
    "        return format_title(match.group(0))\n",
    "\n",
    "    # Combined regex pattern for all types\n",
    "    match = re.search(r'(NUMBER[:.]?|NO\\.?|NOMOR|NR\\.?) ?(\\d+(?:/\\d+)*(/\\w+)*/\\d+|\\d+)', title, re.IGNORECASE)\n",
    "    \n",
    "    if match:\n",
    "        number = match.group(2)\n",
    "        return format_title(number)\n",
    "    \n",
    "    # Special case for 'Bank Indonesia Regulation' with additional year handling\n",
    "    if type_of_regulation == 'Bank Indonesia Regulation':\n",
    "        match_number = re.search(r'NUMBER (\\d+(?:/\\d+)*(/\\w+)*/\\d+|\\d+) (?:OF )?(\\d+)?', title, re.IGNORECASE)\n",
    "        if match_number:\n",
    "            if match_number.group(3):\n",
    "                number = match_number.group(1) + match_number.group(3)\n",
    "            else:\n",
    "                number = match_number.group(1)\n",
    "            return format_title(number)\n",
    "    \n",
    "    return \"unknown\"\n",
    "\n",
    "# Function to format date\n",
    "def format_date(date_str):\n",
    "    months = {\n",
    "        \"January\": \"01\", \"February\": \"02\", \"March\": \"03\",\n",
    "        \"April\": \"04\", \"May\": \"05\", \"June\": \"06\",\n",
    "        \"July\": \"07\", \"August\": \"08\", \"September\": \"09\",\n",
    "        \"October\": \"10\", \"November\": \"11\", \"December\": \"12\"\n",
    "    }\n",
    "    day, month, year = date_str.split()\n",
    "    return f\"{int(day):02d}{months[month]}{year}\"\n",
    "\n",
    "# Function to format title\n",
    "def format_title(title):\n",
    "    formatted_title = title.lower().replace(' ', '_').replace('/', '_').replace('-', '_')\n",
    "    formatted_title = re.sub(r'[^a-z0-9_]', '', formatted_title)\n",
    "    return formatted_title[:250]\n",
    "\n",
    "# Function to generate the standardized file name\n",
    "def generate_standardized_file_name(row):\n",
    "    regulation_type = format_type_of_regulation(row['type_of_regulation'])\n",
    "    number = format_number(row['title'], row['type_of_regulation'])\n",
    "    date = format_date(row['date'])\n",
    "    title = format_title(row['title'])\n",
    "    extension = row['file_link'].split('.')[-1]\n",
    "    return f\"{regulation_type}-{number}-{date}-{title}.{extension}\"\n",
    "\n",
    "df3['standardized_file_name'] = df3.apply(generate_standardized_file_name, axis=1)"
   ]
  },
  {
   "cell_type": "code",
   "execution_count": 13,
   "metadata": {},
   "outputs": [
    {
     "data": {
      "text/plain": [
       "Series([], Name: title, dtype: object)"
      ]
     },
     "execution_count": 13,
     "metadata": {},
     "output_type": "execute_result"
    }
   ],
   "source": [
    "unknown_rows = df3[df3['standardized_file_name'].str.contains(\"unknown\", na=False)]\n",
    "unknown_rows.loc[unknown_rows['type_of_regulation'] == 'Member Of The Board Of Governors Regulation']['title']"
   ]
  },
  {
   "cell_type": "code",
   "execution_count": 18,
   "metadata": {},
   "outputs": [],
   "source": [
    "df3_dict = df3.to_dict('records')\n",
    "# with open('files_metadata.json', 'w') as file:\n",
    "#     json.dump(df3_dict, file)\n",
    "# df3.to_csv('csv/data_final.csv', index=False)"
   ]
  },
  {
   "cell_type": "code",
   "execution_count": 19,
   "metadata": {},
   "outputs": [
    {
     "data": {
      "text/html": [
       "<div>\n",
       "<style scoped>\n",
       "    .dataframe tbody tr th:only-of-type {\n",
       "        vertical-align: middle;\n",
       "    }\n",
       "\n",
       "    .dataframe tbody tr th {\n",
       "        vertical-align: top;\n",
       "    }\n",
       "\n",
       "    .dataframe thead th {\n",
       "        text-align: right;\n",
       "    }\n",
       "</style>\n",
       "<table border=\"1\" class=\"dataframe\">\n",
       "  <thead>\n",
       "    <tr style=\"text-align: right;\">\n",
       "      <th></th>\n",
       "      <th>title</th>\n",
       "      <th>file_name</th>\n",
       "      <th>file_link</th>\n",
       "      <th>date</th>\n",
       "      <th>type_of_regulation</th>\n",
       "      <th>sector</th>\n",
       "      <th>standardized_file_name</th>\n",
       "    </tr>\n",
       "  </thead>\n",
       "  <tbody>\n",
       "    <tr>\n",
       "      <th>0</th>\n",
       "      <td>BANK INDONESIA REGULATION NUMBER 12 OF 2023 ON ISSUANCE OF MONEY MARKET INSTRUMENTS AND MONEY MARKET TRANSACTIONS</td>\n",
       "      <td>Bank Indonesia Regulation Number 12 of 2023.pdf</td>\n",
       "      <td>https://www.bi.go.id/en/publikasi/peraturan/Documents/PBI_122023_EN.pdf</td>\n",
       "      <td>16 November 2023</td>\n",
       "      <td>Bank Indonesia Regulation</td>\n",
       "      <td>Monetary</td>\n",
       "      <td>pbi-12-16112023-bank_indonesia_regulation_number_12_of_2023_on_issuance_of_money_market_instruments_and_money_market_transactions.pdf</td>\n",
       "    </tr>\n",
       "    <tr>\n",
       "      <th>1</th>\n",
       "      <td>BANK INDONESIA REGULATION NUMBER 6 OF 2023 ON MONEY MARKET AND FOREIGN EXCHANGE MARKET</td>\n",
       "      <td>Bank Indonesia Regulation Number 6 of 2023.pdf</td>\n",
       "      <td>https://www.bi.go.id/en/publikasi/peraturan/Documents/PBI_062023_EN.pdf</td>\n",
       "      <td>27 June 2023</td>\n",
       "      <td>Bank Indonesia Regulation</td>\n",
       "      <td>Monetary</td>\n",
       "      <td>pbi-6-27062023-bank_indonesia_regulation_number_6_of_2023_on_money_market_and_foreign_exchange_market.pdf</td>\n",
       "    </tr>\n",
       "    <tr>\n",
       "      <th>2</th>\n",
       "      <td>BANK INDONESIA REGULATION NUMBER 4 OF 2023 ON SHORT-TERM LIQUIDITY ASSISTANCE FOR CONVENTIONAL COMMERCIAL BANKS</td>\n",
       "      <td>Bank Indonesia Regulation Number 4 of 2023.pdf</td>\n",
       "      <td>https://www.bi.go.id/en/publikasi/peraturan/Documents/PBI_042023_EN.pdf</td>\n",
       "      <td>27 June 2023</td>\n",
       "      <td>Bank Indonesia Regulation</td>\n",
       "      <td>Macroprudential</td>\n",
       "      <td>pbi-4-27062023-bank_indonesia_regulation_number_4_of_2023_on_short_term_liquidity_assistance_for_conventional_commercial_banks.pdf</td>\n",
       "    </tr>\n",
       "    <tr>\n",
       "      <th>3</th>\n",
       "      <td>BANK INDONESIA REGULATION NUMBER 24/2/PBI/2022 ON TRANSACTIONS BETWEEN BANKS AND BANK INDONESIA TO SUPPORT LOCAL CURRENCY SETTLEMENT</td>\n",
       "      <td>Bank Indonesia Regulation Number 24/2/PBI/2022.pdf</td>\n",
       "      <td>https://www.bi.go.id/en/publikasi/peraturan/Documents/PBI_240222_EN.pdf</td>\n",
       "      <td>28 January 2023</td>\n",
       "      <td>Bank Indonesia Regulation</td>\n",
       "      <td>Monetary</td>\n",
       "      <td>pbi-24_2_pbi_2022-28012023-bank_indonesia_regulation_number_24_2_pbi_2022_on_transactions_between_banks_and_bank_indonesia_to_support_local_currency_settlement.pdf</td>\n",
       "    </tr>\n",
       "    <tr>\n",
       "      <th>4</th>\n",
       "      <td>BANK INDONESIA REGULATION NUMBER 24/20/PBI/2022 ON SHARIA HEDGE SWAP TRANSACTIONS TO BANK INDONESIA</td>\n",
       "      <td>Bank Indonesia Regulation Number 24/20/PBI/2022.pdf</td>\n",
       "      <td>https://www.bi.go.id/en/publikasi/peraturan/Documents/PBI_242022_EN.pdf</td>\n",
       "      <td>30 December 2022</td>\n",
       "      <td>Bank Indonesia Regulation</td>\n",
       "      <td>Monetary</td>\n",
       "      <td>pbi-24_20_pbi_2022-30122022-bank_indonesia_regulation_number_24_20_pbi_2022_on_sharia_hedge_swap_transactions_to_bank_indonesia.pdf</td>\n",
       "    </tr>\n",
       "    <tr>\n",
       "      <th>...</th>\n",
       "      <td>...</td>\n",
       "      <td>...</td>\n",
       "      <td>...</td>\n",
       "      <td>...</td>\n",
       "      <td>...</td>\n",
       "      <td>...</td>\n",
       "      <td>...</td>\n",
       "    </tr>\n",
       "    <tr>\n",
       "      <th>752</th>\n",
       "      <td>CIRCULAR LETTER NO.6/3/DPM REQUIREMENTS AND PROCEDURE FOR APPOINTMENT OF SUB-REGISTRIES FOR SECURITIES ADMINISTRATION</td>\n",
       "      <td>Requirements and Procedure for Appointment of Sub-Registries for Securities Administration</td>\n",
       "      <td>https://www.bi.go.id/en/publikasi/peraturan/Documents/909648987c3a420eab3b63cacf7a6866SE_63DPM_engl.pdf</td>\n",
       "      <td>16 February 2004</td>\n",
       "      <td>Bank Indonesia Circular Letters</td>\n",
       "      <td>Monetary</td>\n",
       "      <td>sebi-6_3_dpm-16022004-circular_letter_no6_3_dpm_requirements_and_procedure_for_appointment_of_sub_registries_for_securities_administration.pdf</td>\n",
       "    </tr>\n",
       "    <tr>\n",
       "      <th>753</th>\n",
       "      <td>CIRCULAR LETTER NR. 6/2/DPM USER FEES FOR THE BANK INDONESIA - SCRIPLESS SECURITIES SETTLEMENT SYSTEM AND APPENDIX</td>\n",
       "      <td>User Fees for the Bank Indonesia - Scripless Securities Settlement System</td>\n",
       "      <td>https://www.bi.go.id/en/publikasi/peraturan/Documents/2e82d5a22d044aa2b05a68a523430ee5se_62DPM_eng.pdf</td>\n",
       "      <td>16 February 2004</td>\n",
       "      <td>Bank Indonesia Regulation</td>\n",
       "      <td>Monetary</td>\n",
       "      <td>pbi-6_2_dpm-16022004-circular_letter_nr_6_2_dpm_user_fees_for_the_bank_indonesia___scripless_securities_settlement_system_and_appendix.pdf</td>\n",
       "    </tr>\n",
       "    <tr>\n",
       "      <th>754</th>\n",
       "      <td>CIRCULAR LETTER NR. 6/2/DPM USER FEES FOR THE BANK INDONESIA - SCRIPLESS SECURITIES SETTLEMENT SYSTEM AND APPENDIX</td>\n",
       "      <td>Appendix</td>\n",
       "      <td>https://www.bi.go.id/en/publikasi/peraturan/Documents/03b449c5450c4cecb7e9f7054007be7aApdx_se_62DPM_eng.pdf</td>\n",
       "      <td>16 February 2004</td>\n",
       "      <td>Bank Indonesia Regulation</td>\n",
       "      <td>Monetary</td>\n",
       "      <td>pbi-6_2_dpm-16022004-circular_letter_nr_6_2_dpm_user_fees_for_the_bank_indonesia___scripless_securities_settlement_system_and_appendix.pdf</td>\n",
       "    </tr>\n",
       "    <tr>\n",
       "      <th>755</th>\n",
       "      <td>BANK INDONESIA REGULATION NR. 6/3/PBI/2004 ISSUANCE, SALE AND PURCHASE, AND ADMINISTRATION OF GOVERNMENT SECURITIES</td>\n",
       "      <td>Issuance, Sale And Purchase, And Administration Of Government Securities</td>\n",
       "      <td>https://www.bi.go.id/en/publikasi/peraturan/Documents/1146549b80614fb484861f5277018de4PBI6304eng.pdf</td>\n",
       "      <td>16 February 2004</td>\n",
       "      <td>Bank Indonesia Regulation</td>\n",
       "      <td>Monetary</td>\n",
       "      <td>pbi-6_3_pbi_2004-16022004-bank_indonesia_regulation_nr_6_3_pbi_2004_issuance_sale_and_purchase_and_administration_of_government_securities.pdf</td>\n",
       "    </tr>\n",
       "    <tr>\n",
       "      <th>756</th>\n",
       "      <td>BANK INDONESIA REGULATION NR.6/2/PBI/2004 THE BANK INDONESIA - SCRIPLESS SECURITIES SETTLEMENT SYSTEM (BI-SSSS)</td>\n",
       "      <td>The Bank Indonesia - Scripless Securities Settlement System (BI-SSSS)</td>\n",
       "      <td>https://www.bi.go.id/en/publikasi/peraturan/Documents/e78a1c90229e4944a56550ee9e815e8bpbi062dpm_engl.pdf</td>\n",
       "      <td>16 February 2004</td>\n",
       "      <td>Bank Indonesia Regulation</td>\n",
       "      <td>Monetary</td>\n",
       "      <td>pbi-6_2_pbi_2004-16022004-bank_indonesia_regulation_nr6_2_pbi_2004_the_bank_indonesia___scripless_securities_settlement_system_bi_ssss.pdf</td>\n",
       "    </tr>\n",
       "  </tbody>\n",
       "</table>\n",
       "<p>757 rows × 7 columns</p>\n",
       "</div>"
      ],
      "text/plain": [
       "                                                                                                                                    title  \\\n",
       "0                       BANK INDONESIA REGULATION NUMBER 12 OF 2023 ON ISSUANCE OF MONEY MARKET INSTRUMENTS AND MONEY MARKET TRANSACTIONS   \n",
       "1                                                  BANK INDONESIA REGULATION NUMBER 6 OF 2023 ON MONEY MARKET AND FOREIGN EXCHANGE MARKET   \n",
       "2                         BANK INDONESIA REGULATION NUMBER 4 OF 2023 ON SHORT-TERM LIQUIDITY ASSISTANCE FOR CONVENTIONAL COMMERCIAL BANKS   \n",
       "3    BANK INDONESIA REGULATION NUMBER 24/2/PBI/2022 ON TRANSACTIONS BETWEEN BANKS AND BANK INDONESIA TO SUPPORT LOCAL CURRENCY SETTLEMENT   \n",
       "4                                     BANK INDONESIA REGULATION NUMBER 24/20/PBI/2022 ON SHARIA HEDGE SWAP TRANSACTIONS TO BANK INDONESIA   \n",
       "..                                                                                                                                    ...   \n",
       "752                 CIRCULAR LETTER NO.6/3/DPM REQUIREMENTS AND PROCEDURE FOR APPOINTMENT OF SUB-REGISTRIES FOR SECURITIES ADMINISTRATION   \n",
       "753                    CIRCULAR LETTER NR. 6/2/DPM USER FEES FOR THE BANK INDONESIA - SCRIPLESS SECURITIES SETTLEMENT SYSTEM AND APPENDIX   \n",
       "754                    CIRCULAR LETTER NR. 6/2/DPM USER FEES FOR THE BANK INDONESIA - SCRIPLESS SECURITIES SETTLEMENT SYSTEM AND APPENDIX   \n",
       "755                   BANK INDONESIA REGULATION NR. 6/3/PBI/2004 ISSUANCE, SALE AND PURCHASE, AND ADMINISTRATION OF GOVERNMENT SECURITIES   \n",
       "756                       BANK INDONESIA REGULATION NR.6/2/PBI/2004 THE BANK INDONESIA - SCRIPLESS SECURITIES SETTLEMENT SYSTEM (BI-SSSS)   \n",
       "\n",
       "                                                                                      file_name  \\\n",
       "0                                               Bank Indonesia Regulation Number 12 of 2023.pdf   \n",
       "1                                                Bank Indonesia Regulation Number 6 of 2023.pdf   \n",
       "2                                                Bank Indonesia Regulation Number 4 of 2023.pdf   \n",
       "3                                            Bank Indonesia Regulation Number 24/2/PBI/2022.pdf   \n",
       "4                                           Bank Indonesia Regulation Number 24/20/PBI/2022.pdf   \n",
       "..                                                                                          ...   \n",
       "752  Requirements and Procedure for Appointment of Sub-Registries for Securities Administration   \n",
       "753                   User Fees for the Bank Indonesia - Scripless Securities Settlement System   \n",
       "754                                                                                    Appendix   \n",
       "755                    Issuance, Sale And Purchase, And Administration Of Government Securities   \n",
       "756                       The Bank Indonesia - Scripless Securities Settlement System (BI-SSSS)   \n",
       "\n",
       "                                                                                                       file_link  \\\n",
       "0                                        https://www.bi.go.id/en/publikasi/peraturan/Documents/PBI_122023_EN.pdf   \n",
       "1                                        https://www.bi.go.id/en/publikasi/peraturan/Documents/PBI_062023_EN.pdf   \n",
       "2                                        https://www.bi.go.id/en/publikasi/peraturan/Documents/PBI_042023_EN.pdf   \n",
       "3                                        https://www.bi.go.id/en/publikasi/peraturan/Documents/PBI_240222_EN.pdf   \n",
       "4                                        https://www.bi.go.id/en/publikasi/peraturan/Documents/PBI_242022_EN.pdf   \n",
       "..                                                                                                           ...   \n",
       "752      https://www.bi.go.id/en/publikasi/peraturan/Documents/909648987c3a420eab3b63cacf7a6866SE_63DPM_engl.pdf   \n",
       "753       https://www.bi.go.id/en/publikasi/peraturan/Documents/2e82d5a22d044aa2b05a68a523430ee5se_62DPM_eng.pdf   \n",
       "754  https://www.bi.go.id/en/publikasi/peraturan/Documents/03b449c5450c4cecb7e9f7054007be7aApdx_se_62DPM_eng.pdf   \n",
       "755         https://www.bi.go.id/en/publikasi/peraturan/Documents/1146549b80614fb484861f5277018de4PBI6304eng.pdf   \n",
       "756     https://www.bi.go.id/en/publikasi/peraturan/Documents/e78a1c90229e4944a56550ee9e815e8bpbi062dpm_engl.pdf   \n",
       "\n",
       "                 date               type_of_regulation           sector  \\\n",
       "0    16 November 2023        Bank Indonesia Regulation         Monetary   \n",
       "1        27 June 2023        Bank Indonesia Regulation         Monetary   \n",
       "2        27 June 2023        Bank Indonesia Regulation  Macroprudential   \n",
       "3     28 January 2023        Bank Indonesia Regulation         Monetary   \n",
       "4    30 December 2022        Bank Indonesia Regulation         Monetary   \n",
       "..                ...                              ...              ...   \n",
       "752  16 February 2004  Bank Indonesia Circular Letters         Monetary   \n",
       "753  16 February 2004        Bank Indonesia Regulation         Monetary   \n",
       "754  16 February 2004        Bank Indonesia Regulation         Monetary   \n",
       "755  16 February 2004        Bank Indonesia Regulation         Monetary   \n",
       "756  16 February 2004        Bank Indonesia Regulation         Monetary   \n",
       "\n",
       "                                                                                                                                                  standardized_file_name  \n",
       "0                                  pbi-12-16112023-bank_indonesia_regulation_number_12_of_2023_on_issuance_of_money_market_instruments_and_money_market_transactions.pdf  \n",
       "1                                                              pbi-6-27062023-bank_indonesia_regulation_number_6_of_2023_on_money_market_and_foreign_exchange_market.pdf  \n",
       "2                                     pbi-4-27062023-bank_indonesia_regulation_number_4_of_2023_on_short_term_liquidity_assistance_for_conventional_commercial_banks.pdf  \n",
       "3    pbi-24_2_pbi_2022-28012023-bank_indonesia_regulation_number_24_2_pbi_2022_on_transactions_between_banks_and_bank_indonesia_to_support_local_currency_settlement.pdf  \n",
       "4                                    pbi-24_20_pbi_2022-30122022-bank_indonesia_regulation_number_24_20_pbi_2022_on_sharia_hedge_swap_transactions_to_bank_indonesia.pdf  \n",
       "..                                                                                                                                                                   ...  \n",
       "752                       sebi-6_3_dpm-16022004-circular_letter_no6_3_dpm_requirements_and_procedure_for_appointment_of_sub_registries_for_securities_administration.pdf  \n",
       "753                           pbi-6_2_dpm-16022004-circular_letter_nr_6_2_dpm_user_fees_for_the_bank_indonesia___scripless_securities_settlement_system_and_appendix.pdf  \n",
       "754                           pbi-6_2_dpm-16022004-circular_letter_nr_6_2_dpm_user_fees_for_the_bank_indonesia___scripless_securities_settlement_system_and_appendix.pdf  \n",
       "755                       pbi-6_3_pbi_2004-16022004-bank_indonesia_regulation_nr_6_3_pbi_2004_issuance_sale_and_purchase_and_administration_of_government_securities.pdf  \n",
       "756                           pbi-6_2_pbi_2004-16022004-bank_indonesia_regulation_nr6_2_pbi_2004_the_bank_indonesia___scripless_securities_settlement_system_bi_ssss.pdf  \n",
       "\n",
       "[757 rows x 7 columns]"
      ]
     },
     "execution_count": 19,
     "metadata": {},
     "output_type": "execute_result"
    }
   ],
   "source": [
    "df3"
   ]
  },
  {
   "cell_type": "markdown",
   "metadata": {},
   "source": [
    "# OS Stuff"
   ]
  },
  {
   "cell_type": "code",
   "execution_count": 10,
   "metadata": {},
   "outputs": [
    {
     "name": "stdout",
     "output_type": "stream",
     "text": [
      "757\n"
     ]
    }
   ],
   "source": [
    "_, _, files = next(os.walk(\"files/\"))\n",
    "file_count = len(files)\n",
    "print(file_count)"
   ]
  },
  {
   "cell_type": "code",
   "execution_count": 11,
   "metadata": {},
   "outputs": [
    {
     "name": "stdout",
     "output_type": "stream",
     "text": [
      "238\n"
     ]
    }
   ],
   "source": [
    "_, _, files = next(os.walk(\"extracted_files/\"))\n",
    "file_count = len(files)\n",
    "print(file_count)"
   ]
  },
  {
   "cell_type": "code",
   "execution_count": 20,
   "metadata": {},
   "outputs": [
    {
     "name": "stdout",
     "output_type": "stream",
     "text": [
      "182.27 MB\n"
     ]
    }
   ],
   "source": [
    "def get_folder_size(folder):\n",
    "    return ByteSize(sum(file.stat().st_size for file in Path(folder).rglob('*')))\n",
    "\n",
    "\n",
    "class ByteSize(int):\n",
    "\n",
    "    _KB = 1024\n",
    "    _suffixes = 'B', 'KB', 'MB', 'GB', 'PB'\n",
    "\n",
    "    def __new__(cls, *args, **kwargs):\n",
    "        return super().__new__(cls, *args, **kwargs)\n",
    "\n",
    "    def __init__(self, *args, **kwargs):\n",
    "        self.bytes = self.B = int(self)\n",
    "        self.kilobytes = self.KB = self / self._KB**1\n",
    "        self.megabytes = self.MB = self / self._KB**2\n",
    "        self.gigabytes = self.GB = self / self._KB**3\n",
    "        self.petabytes = self.PB = self / self._KB**4\n",
    "        *suffixes, last = self._suffixes\n",
    "        suffix = next((\n",
    "            suffix\n",
    "            for suffix in suffixes\n",
    "            if 1 < getattr(self, suffix) < self._KB\n",
    "        ), last)\n",
    "        self.readable = suffix, getattr(self, suffix)\n",
    "\n",
    "        super().__init__()\n",
    "\n",
    "    def __str__(self):\n",
    "        return self.__format__('.2f')\n",
    "\n",
    "    def __repr__(self):\n",
    "        return '{}({})'.format(self.__class__.__name__, super().__repr__())\n",
    "\n",
    "    def __format__(self, format_spec):\n",
    "        suffix, val = self.readable\n",
    "        return '{val:{fmt}} {suf}'.format(val=val, fmt=format_spec, suf=suffix)\n",
    "\n",
    "    def __sub__(self, other):\n",
    "        return self.__class__(super().__sub__(other))\n",
    "\n",
    "    def __add__(self, other):\n",
    "        return self.__class__(super().__add__(other))\n",
    "    \n",
    "    def __mul__(self, other):\n",
    "        return self.__class__(super().__mul__(other))\n",
    "\n",
    "    def __rsub__(self, other):\n",
    "        return self.__class__(super().__sub__(other))\n",
    "\n",
    "    def __radd__(self, other):\n",
    "        return self.__class__(super().__add__(other))\n",
    "    \n",
    "    def __rmul__(self, other):\n",
    "        return self.__class__(super().__rmul__(other))   \n",
    "    \n",
    "files_size = get_folder_size(\"files\")\n",
    "extracted_files_size = get_folder_size(\"extracted_files\")\n",
    "print(files_size + extracted_files_size)"
   ]
  }
 ],
 "metadata": {
  "kernelspec": {
   "display_name": "env",
   "language": "python",
   "name": "python3"
  },
  "language_info": {
   "codemirror_mode": {
    "name": "ipython",
    "version": 3
   },
   "file_extension": ".py",
   "mimetype": "text/x-python",
   "name": "python",
   "nbconvert_exporter": "python",
   "pygments_lexer": "ipython3",
   "version": "3.9.13"
  }
 },
 "nbformat": 4,
 "nbformat_minor": 2
}
