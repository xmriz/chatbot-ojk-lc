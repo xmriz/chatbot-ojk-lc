{
 "cells": [
  {
   "cell_type": "code",
   "execution_count": 3,
   "metadata": {},
   "outputs": [
    {
     "name": "stdout",
     "output_type": "stream",
     "text": [
      "file not found: ojk--13_24_dpnp-25002011-2011_lampiranii_se132411_pdf.pdf\n",
      "file not found: ojk--15_11_dpnp-10002013-lampiranxiilaporandaftarasetkreditposisijuni201302_xlsx_sykf6lo_partial_2013_lamp_se_151113_partial.partial\n",
      "file not found: ojk--15_11_dpnp-10002013-lampiranxiilaporandaftarasetkreditposisijuni201302_xlsx_jdka58g_partial_2013_lamp_se_151113_partial.partial\n"
     ]
    }
   ],
   "source": [
    "# title,page_url,sektor,subsektor,jenis_regulasi,nomor_regulasi,tanggal_berlaku,filename,file_url,new_filename,doc_id\n",
    "\n",
    "# copy files with 'doc_id' 1:1112 from docs_directory to dcouments1\n",
    "# copy files with 'doc_id' 1112:2212 from docs_directory to dcouments2\n",
    "# copy files with 'doc_id' 2212:3312 from docs_directory to dcouments3\n",
    "\n",
    "import pandas as pd\n",
    "import os\n",
    "import shutil\n",
    "\n",
    "docs_directory = './data-new/'\n",
    "documents1 = './documents1/'\n",
    "documents2 = './documents2/'\n",
    "documents3 = './documents3/'\n",
    "\n",
    "df = pd.read_csv('./log/combine-all-ojk-web.csv')\n",
    "\n",
    "list_documents = os.listdir(docs_directory)\n",
    "\n",
    "for index, row in df.iterrows():\n",
    "    doc_id = int(row['doc_id'])\n",
    "    filename = row['new_filename']\n",
    "    if filename not in list_documents:\n",
    "        print('file not found:', filename)\n",
    "        continue\n",
    "    if doc_id >= 1 and doc_id < 1112:\n",
    "        shutil.copy2(docs_directory + filename, documents1 + filename)\n",
    "    elif doc_id >= 1112 and doc_id < 2212:\n",
    "        shutil.copy2(docs_directory + filename, documents2 + filename)\n",
    "    elif doc_id >= 2212:\n",
    "        shutil.copy2(docs_directory + filename, documents3 + filename)\n",
    "    else:\n",
    "        print('doc_id out of range')\n",
    "        break"
   ]
  }
 ],
 "metadata": {
  "kernelspec": {
   "display_name": "scraper-ocbc",
   "language": "python",
   "name": "python3"
  },
  "language_info": {
   "codemirror_mode": {
    "name": "ipython",
    "version": 3
   },
   "file_extension": ".py",
   "mimetype": "text/x-python",
   "name": "python",
   "nbconvert_exporter": "python",
   "pygments_lexer": "ipython3",
   "version": "3.10.14"
  }
 },
 "nbformat": 4,
 "nbformat_minor": 2
}
