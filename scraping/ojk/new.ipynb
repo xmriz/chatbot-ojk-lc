{
 "cells": [
  {
   "cell_type": "code",
   "execution_count": 44,
   "metadata": {},
   "outputs": [],
   "source": [
    "import os\n",
    "import pandas as pd"
   ]
  },
  {
   "cell_type": "code",
   "execution_count": 45,
   "metadata": {},
   "outputs": [
    {
     "data": {
      "text/plain": [
       "872"
      ]
     },
     "execution_count": 45,
     "metadata": {},
     "output_type": "execute_result"
    }
   ],
   "source": [
    "df = pd.read_csv('./log/ojk_document_scraping_result_new.csv')\n",
    "df['filename'].nunique()"
   ]
  },
  {
   "cell_type": "code",
   "execution_count": 37,
   "metadata": {},
   "outputs": [
    {
     "name": "stdout",
     "output_type": "stream",
     "text": [
      "                                       title                                                                                                                              page_url                           tanggal_berlaku      filename                                                                         file_url\n",
      "Surat Edaran Bank Indonesia Nomor 8/29/DPBPR https://www.ojk.go.id/id/kanal/perbankan/regulasi/surat-edaran-bank-indonesia/Pages/surat-edaran-bank-indonesia-nomor-8-29-dpbpr.aspx 12 \\n\\t\\t\\n\\t\\t\\t\\t\\t\\n\\t\\t\\t\\t\\tDec 2006  lampiran.pdf https://www.ojk.go.id/Files/regulasi/perbankan/se-bi/2006/lampiran_se_082906.zip\n",
      " Surat Edaran Bank Indonesia Nomor 8/19/DPbS  https://www.ojk.go.id/id/kanal/perbankan/regulasi/surat-edaran-bank-indonesia/Pages/surat-edaran-bank-indonesia-nomor-8-19-dpbs.aspx 24 \\n\\t\\t\\n\\t\\t\\t\\t\\t\\n\\t\\t\\t\\t\\tAug 2006  lampiran.pdf  https://www.ojk.go.id/Files/regulasi/perbankan/se-bi/2006/lampiran_se081906.zip\n",
      "   Surat Edaran Bank Indonesia Nomor 7/7/DPM    https://www.ojk.go.id/id/kanal/perbankan/regulasi/surat-edaran-bank-indonesia/Pages/surat-edaran-bank-indonesia-nomor-7-7-dpm.aspx 29 \\n\\t\\t\\n\\t\\t\\t\\t\\t\\n\\t\\t\\t\\t\\tMar 2005 lampiran2.pdf    https://www.ojk.go.id/Files/regulasi/perbankan/se-bi/2005/lamp2_se_070705.zip\n"
     ]
    }
   ],
   "source": [
    "# # check df not in file directory ./data_new_backup\n",
    "# backup_filenames = set(df['filename'].tolist())\n",
    "# backup_dir = './data_new'\n",
    "\n",
    "# # Get the list of files in the backup directory\n",
    "# existing_files = set(os.listdir(backup_dir))\n",
    "\n",
    "# # Find missing files\n",
    "# missing_files = backup_filenames - existing_files\n",
    "\n",
    "# missing_rows = df[df['filename'].isin(missing_files)]\n",
    "\n",
    "# print(missing_rows.to_string(index=False))"
   ]
  },
  {
   "cell_type": "code",
   "execution_count": 41,
   "metadata": {},
   "outputs": [
    {
     "data": {
      "text/plain": [
       "13"
      ]
     },
     "execution_count": 41,
     "metadata": {},
     "output_type": "execute_result"
    }
   ],
   "source": [
    "df['filename'].duplicated().sum()"
   ]
  },
  {
   "cell_type": "code",
   "execution_count": 46,
   "metadata": {},
   "outputs": [
    {
     "name": "stdout",
     "output_type": "stream",
     "text": [
      "                                                                                                                                            title                                                                                                                                                                                           page_url                                tanggal_berlaku                                             filename                                                                                                                         file_url\n",
      "                                                                                                      Surat Edaran Bank Indonesia Nomor 8/10/DPbS                                                               https://www.ojk.go.id/id/kanal/perbankan/regulasi/surat-edaran-bank-indonesia/Pages/surat-edaran-bank-indonesia-nomor-8-10-dpbs.aspx       7 \\n\\t\\t\\n\\t\\t\\t\\t\\t\\n\\t\\t\\t\\t\\tMar 2006                            2006 -- lamp_se081106.pdf                                                      https://www.ojk.go.id/Files/regulasi/perbankan/se-bi/2006/lamp_se081106.pdf\n",
      "                                                                                                      Surat Edaran Bank Indonesia Nomor 8/11/DPbS                                                               https://www.ojk.go.id/id/kanal/perbankan/regulasi/surat-edaran-bank-indonesia/Pages/surat-edaran-bank-indonesia-nomor-8-11-dpbs.aspx       7 \\n\\t\\t\\n\\t\\t\\t\\t\\t\\n\\t\\t\\t\\t\\tMar 2006                            2006 -- lamp_se081106.pdf                                                      https://www.ojk.go.id/Files/regulasi/perbankan/se-bi/2006/lamp_se081106.pdf\n",
      "                                                                                                      Surat Edaran Bank Indonesia Nomor 9/31/DPNP                                                               https://www.ojk.go.id/id/kanal/perbankan/regulasi/surat-edaran-bank-indonesia/Pages/surat-edaran-bank-indonesia-nomor-9-31-dpnp.aspx      12 \\n\\t\\t\\n\\t\\t\\t\\t\\t\\n\\t\\t\\t\\t\\tDec 2007                       2007 -- lampiran_se_093107.zip                                                 https://www.ojk.go.id/Files/regulasi/perbankan/se-bi/2007/lampiran_se_093107.zip\n",
      "                                                                                                      Surat Edaran Bank Indonesia Nomor 9/31/DPNP                                                               https://www.ojk.go.id/id/kanal/perbankan/regulasi/surat-edaran-bank-indonesia/Pages/surat-edaran-bank-indonesia-nomor-9-31-dpnp.aspx      12 \\n\\t\\t\\n\\t\\t\\t\\t\\t\\n\\t\\t\\t\\t\\tDec 2007                       2007 -- lampiran_se_093107.zip                                                 https://www.ojk.go.id/Files/regulasi/perbankan/se-bi/2007/lampiran_se_093107.zip\n",
      "                                                                                                     Surat Edaran Bank Indonesia Nomor 13/24/DPNP                                                              https://www.ojk.go.id/id/kanal/perbankan/regulasi/surat-edaran-bank-indonesia/Pages/surat-edaran-bank-indonesia-nomor-13-24-dpnp.aspx      25 \\n\\t\\t\\n\\t\\t\\t\\t\\t\\n\\t\\t\\t\\t\\tOct 2011                       2011 -- lampiranI_se132411.pdf                                                 https://www.ojk.go.id/Files/regulasi/perbankan/se-bi/2011/lampiranI_se132411.pdf\n",
      "                                                                                                     Surat Edaran Bank Indonesia Nomor 13/24/DPNP                                                              https://www.ojk.go.id/id/kanal/perbankan/regulasi/surat-edaran-bank-indonesia/Pages/surat-edaran-bank-indonesia-nomor-13-24-dpnp.aspx      25 \\n\\t\\t\\n\\t\\t\\t\\t\\t\\n\\t\\t\\t\\t\\tOct 2011                       2011 -- lampiranI_se132411.pdf                                                 https://www.ojk.go.id/Files/regulasi/perbankan/se-bi/2011/lampiranI_se132411.pdf\n",
      "                                                                                                    Peraturan Bank Indonesia Nomor 14/12/PBI/2012                                                                https://www.ojk.go.id/id/kanal/perbankan/regulasi/peraturan-bank-indonesia/Pages/peraturan-bank-indonesia-nomor-14-12-pbi-2012.aspx      18 \\n\\t\\t\\n\\t\\t\\t\\t\\t\\n\\t\\t\\t\\t\\tOct 2012                           2012 -- faq_pbi_141212.pdf                                                       https://www.ojk.go.id/Files/regulasi/perbankan/pbi/2012/faq_pbi_141212.pdf\n",
      "                                                                                                     Peraturan Bank Indonesia Nomor 14/9/PBI/2012                                                                 https://www.ojk.go.id/id/kanal/perbankan/regulasi/peraturan-bank-indonesia/Pages/peraturan-bank-indonesia-nomor-14-9-pbi-2012.aspx      26 \\n\\t\\t\\n\\t\\t\\t\\t\\t\\n\\t\\t\\t\\t\\tJul 2012                           2012 -- faq_pbi_141212.pdf                                                       https://www.ojk.go.id/Files/regulasi/perbankan/pbi/2012/faq_pbi_141212.pdf\n",
      "                                                                                                    Peraturan Bank Indonesia Nomor 14/14/PBI/2012                                                                https://www.ojk.go.id/id/kanal/perbankan/regulasi/peraturan-bank-indonesia/Pages/peraturan-bank-indonesia-nomor-14-14-pbi-2012.aspx      22 \\n\\t\\t\\n\\t\\t\\t\\t\\t\\n\\t\\t\\t\\t\\tOct 2012                           2012 -- faq_pbi_141412.pdf                                                       https://www.ojk.go.id/Files/regulasi/perbankan/pbi/2012/faq_pbi_141412.pdf\n",
      "                                                                                                    Peraturan Bank Indonesia Nomor 14/14/PBI/2012                                                                https://www.ojk.go.id/id/kanal/perbankan/regulasi/peraturan-bank-indonesia/Pages/peraturan-bank-indonesia-nomor-14-14-pbi-2012.aspx      22 \\n\\t\\t\\n\\t\\t\\t\\t\\t\\n\\t\\t\\t\\t\\tOct 2012                           2012 -- faq_pbi_141412.pdf                                                       https://www.ojk.go.id/Files/regulasi/perbankan/pbi/2012/faq_pbi_141412.pdf\n",
      "                                                                                                     Peraturan Bank Indonesia Nomor 6/21/PBI/2004                                                                 https://www.ojk.go.id/id/kanal/perbankan/regulasi/peraturan-bank-indonesia/Pages/peraturan-bank-indonesia-nomor-6-21-pbi-2004.aspx       3 \\n\\t\\t\\n\\t\\t\\t\\t\\t\\n\\t\\t\\t\\t\\tAug 2004                                 Documents -- 325.pdf                                     https://www.ojk.go.id/id/kanal/perbankan/regulasi/peraturan-bank-indonesia/Documents/325.pdf\n",
      "         Undang-undang Nomor 6 Tahun 2009 tentang Penetapan Peraturan Pemerintah Pengganti Undang-undang Nomor 2 Tahun 2008 Sebagai Undang-Undang https://www.ojk.go.id/id/kanal/perbankan/regulasi/undang-undang/Pages/undang-undang-nomor-6-tahun-2009-tentang-penetapan-peraturan-pemerintah-pengganti-undang-undang-nomor-2-tahun-2008-seba.aspx       1 \\n\\t\\t\\n\\t\\t\\t\\t\\t\\n\\t\\t\\t\\t\\tNov 2013                                 Documents -- 325.pdf                                                https://www.ojk.go.id/id/kanal/perbankan/regulasi/undang-undang/Documents/325.pdf\n",
      "                                                                                                     Peraturan Bank Indonesia Nomor 6/20/PBI/2004                                                                 https://www.ojk.go.id/id/kanal/perbankan/regulasi/peraturan-bank-indonesia/Pages/peraturan-bank-indonesia-nomor-6-20-pbi-2004.aspx      15 \\n\\t\\t\\n\\t\\t\\t\\t\\t\\n\\t\\t\\t\\t\\tJul 2004                                 Documents -- 327.pdf                                     https://www.ojk.go.id/id/kanal/perbankan/regulasi/peraturan-bank-indonesia/Documents/327.pdf\n",
      "              Undang-undang Nomor 3 Tahun 2004 tentang Perubahan atas Undang-undang Republik Indonesia Nomor 23 Tahun 1999 Tentang Bank Indonesia https://www.ojk.go.id/id/kanal/perbankan/regulasi/undang-undang/Pages/undang-undang-nomor-3-tahun-2004-tentang-perubahan-atas-undang-undang-republik-indonesia-nomor-23-tahun-1999-tentang-ba.aspx       1 \\n\\t\\t\\n\\t\\t\\t\\t\\t\\n\\t\\t\\t\\t\\tAug 2013                                 Documents -- 327.pdf                                                https://www.ojk.go.id/id/kanal/perbankan/regulasi/undang-undang/Documents/327.pdf\n",
      "                                                                                           Undang-undang Nomor 13 Tahun 1968 tentang Bank Sentral                                                                  https://www.ojk.go.id/id/kanal/perbankan/regulasi/undang-undang/Pages/undang-undang-nomor-13-tahun-1968-tentang-bank-sentral.aspx      19 \\n\\t\\t\\n\\t\\t\\t\\t\\t\\n\\t\\t\\t\\t\\tJun 2013                                 Documents -- 328.pdf                                                https://www.ojk.go.id/id/kanal/perbankan/regulasi/undang-undang/Documents/328.pdf\n",
      "                                                                                                       Surat Edaran Bank Indonesia Nomor 6/28/BKr                                                                https://www.ojk.go.id/id/kanal/perbankan/regulasi/surat-edaran-bank-indonesia/Pages/surat-edaran-bank-indonesia-nomor-6-28-bkr.aspx       9 \\n\\t\\t\\n\\t\\t\\t\\t\\t\\n\\t\\t\\t\\t\\tJul 2004                                 Documents -- 328.pdf                                  https://www.ojk.go.id/id/kanal/perbankan/regulasi/surat-edaran-bank-indonesia/Documents/328.pdf\n",
      "                                                                                                     Peraturan Bank Indonesia Nomor 6/19/PBI/2004                                                                 https://www.ojk.go.id/id/kanal/perbankan/regulasi/peraturan-bank-indonesia/Pages/peraturan-bank-indonesia-nomor-6-19-pbi-2004.aspx       1 \\n\\t\\t\\n\\t\\t\\t\\t\\t\\n\\t\\t\\t\\t\\tJul 2004                                 Documents -- 329.pdf                                     https://www.ojk.go.id/id/kanal/perbankan/regulasi/peraturan-bank-indonesia/Documents/329.pdf\n",
      "Undang-undang Nomor 84 Tahun 1958 tentang Pengubahan Pasal-pasal 16 dan 19 Undang-undang Pokok Bank Indonesia (Undang-undang Nomor 11 Tahun 1953) https://www.ojk.go.id/id/kanal/perbankan/regulasi/undang-undang/Pages/undang-undang-nomor-84-tahun-1958-tentang-pengubahan-pasal-pasal-16-dan-19-undang-undang-pokok-bank-indonesia-undang-un.aspx      23 \\n\\t\\t\\n\\t\\t\\t\\t\\t\\n\\t\\t\\t\\t\\tApr 2013                                 Documents -- 329.pdf                                                https://www.ojk.go.id/id/kanal/perbankan/regulasi/undang-undang/Documents/329.pdf\n",
      "                                                                                                     Peraturan Bank Indonesia Nomor 6/18/PBI/2004                                                                 https://www.ojk.go.id/id/kanal/perbankan/regulasi/peraturan-bank-indonesia/Pages/peraturan-bank-indonesia-nomor-6-18-pbi-2004.aspx       1 \\n\\t\\t\\n\\t\\t\\t\\t\\t\\n\\t\\t\\t\\t\\tJul 2004                                 Documents -- 330.pdf                                     https://www.ojk.go.id/id/kanal/perbankan/regulasi/peraturan-bank-indonesia/Documents/330.pdf\n",
      "                                        Undang-undang Republik Indonesia Nomor 11 Tahun 1953 tentang Penetapan Undang-undang Pokok Bank Indonesia               https://www.ojk.go.id/id/kanal/perbankan/regulasi/undang-undang/Pages/undang-undang-republik-indonesia-nomor-11-tahun-1953-tentang-penetapan-undang-undang-pokok-bank-indonesia.aspx       1 \\n\\t\\t\\n\\t\\t\\t\\t\\t\\n\\t\\t\\t\\t\\tFeb 2013                                 Documents -- 330.pdf                                                https://www.ojk.go.id/id/kanal/perbankan/regulasi/undang-undang/Documents/330.pdf\n",
      "                                                                                       Surat Edaran Otoritas Jasa Keuangan Nomor 34/SEOJK.03/2016                                                              https://www.ojk.go.id/id/kanal/perbankan/regulasi/surat-edaran-ojk/Pages/SEOJK-tentang-Penerapan-Manajemen-Resiko-Bagi-Bank-Umum.aspx 1 \\n\\t\\t\\n\\t\\t\\t\\t\\t\\n\\t\\t\\t\\t\\tSeptember 2016 Documents -- SAL - SEOJK MANAJEMEN RISIKO FINAL .pdf https://www.ojk.go.id/id/kanal/perbankan/regulasi/surat-edaran-ojk/Documents/SAL%20-%20SEOJK%20MANAJEMEN%20RISIKO%20FINAL%20.pdf\n",
      "                                                                                       Surat Edaran Otoritas Jasa Keuangan Nomor 34/SEOJK.03/2016                                                              https://www.ojk.go.id/id/kanal/perbankan/regulasi/surat-edaran-ojk/Pages/SEOJK-tentang-Penerapan-Manajemen-Resiko-Bagi-Bank-Umum.aspx 1 \\n\\t\\t\\n\\t\\t\\t\\t\\t\\n\\t\\t\\t\\t\\tSeptember 2016 Documents -- SAL - SEOJK MANAJEMEN RISIKO FINAL .pdf https://www.ojk.go.id/id/kanal/perbankan/regulasi/surat-edaran-ojk/Documents/SAL%20-%20SEOJK%20MANAJEMEN%20RISIKO%20FINAL%20.pdf\n"
     ]
    }
   ],
   "source": [
    "df_duplicated_new_filename = df[df['filename'].duplicated(keep=False)].sort_values('filename')\n",
    "print(df_duplicated_new_filename.to_string(index=False))"
   ]
  },
  {
   "cell_type": "code",
   "execution_count": 29,
   "metadata": {},
   "outputs": [],
   "source": [
    "# remove duplicate file_url where the title is the same\n",
    "df = df.drop_duplicates(subset=['file_url', 'title'], keep='first')\n",
    "df.to_csv('./log/ojk_document_scraping_result_new.csv', index=False)"
   ]
  },
  {
   "cell_type": "code",
   "execution_count": 30,
   "metadata": {},
   "outputs": [
    {
     "data": {
      "text/html": [
       "<div>\n",
       "<style scoped>\n",
       "    .dataframe tbody tr th:only-of-type {\n",
       "        vertical-align: middle;\n",
       "    }\n",
       "\n",
       "    .dataframe tbody tr th {\n",
       "        vertical-align: top;\n",
       "    }\n",
       "\n",
       "    .dataframe thead th {\n",
       "        text-align: right;\n",
       "    }\n",
       "</style>\n",
       "<table border=\"1\" class=\"dataframe\">\n",
       "  <thead>\n",
       "    <tr style=\"text-align: right;\">\n",
       "      <th></th>\n",
       "      <th>title</th>\n",
       "      <th>page_url</th>\n",
       "      <th>tanggal_berlaku</th>\n",
       "      <th>filename</th>\n",
       "      <th>file_url</th>\n",
       "    </tr>\n",
       "  </thead>\n",
       "  <tbody>\n",
       "    <tr>\n",
       "      <th>0</th>\n",
       "      <td>Surat Edaran Bank Indonesia Nomor 15/50/DPbS</td>\n",
       "      <td>https://www.ojk.go.id/id/kanal/perbankan/regul...</td>\n",
       "      <td>30 \\n\\t\\t\\n\\t\\t\\t\\t\\t\\n\\t\\t\\t\\t\\tDec 2013</td>\n",
       "      <td>Documents -- se_155013_1389697042.pdf</td>\n",
       "      <td>https://www.ojk.go.id/id/kanal/perbankan/regul...</td>\n",
       "    </tr>\n",
       "    <tr>\n",
       "      <th>1</th>\n",
       "      <td>Surat Edaran Bank Indonesia Nomor 15/50/DPbS</td>\n",
       "      <td>https://www.ojk.go.id/id/kanal/perbankan/regul...</td>\n",
       "      <td>30 \\n\\t\\t\\n\\t\\t\\t\\t\\t\\n\\t\\t\\t\\t\\tDec 2013</td>\n",
       "      <td>2013 -- faq_se_155013.pdf</td>\n",
       "      <td>https://www.ojk.go.id/Files/regulasi/perbankan...</td>\n",
       "    </tr>\n",
       "    <tr>\n",
       "      <th>2</th>\n",
       "      <td>Surat Edaran Bank Indonesia Nomor 15/50/DPbS</td>\n",
       "      <td>https://www.ojk.go.id/id/kanal/perbankan/regul...</td>\n",
       "      <td>30 \\n\\t\\t\\n\\t\\t\\t\\t\\t\\n\\t\\t\\t\\t\\tDec 2013</td>\n",
       "      <td>2013 -- lamp_se_155013.pdf</td>\n",
       "      <td>https://www.ojk.go.id/Files/regulasi/perbankan...</td>\n",
       "    </tr>\n",
       "    <tr>\n",
       "      <th>3</th>\n",
       "      <td>Surat Edaran Bank Indonesia Nomor 15/51/DPbS</td>\n",
       "      <td>https://www.ojk.go.id/id/kanal/perbankan/regul...</td>\n",
       "      <td>30 \\n\\t\\t\\n\\t\\t\\t\\t\\t\\n\\t\\t\\t\\t\\tDec 2013</td>\n",
       "      <td>Documents -- se_155113_1389696743.pdf</td>\n",
       "      <td>https://www.ojk.go.id/id/kanal/perbankan/regul...</td>\n",
       "    </tr>\n",
       "    <tr>\n",
       "      <th>4</th>\n",
       "      <td>Surat Edaran Bank Indonesia Nomor 15/51/DPbS</td>\n",
       "      <td>https://www.ojk.go.id/id/kanal/perbankan/regul...</td>\n",
       "      <td>30 \\n\\t\\t\\n\\t\\t\\t\\t\\t\\n\\t\\t\\t\\t\\tDec 2013</td>\n",
       "      <td>2013 -- faq_se_155113.pdf</td>\n",
       "      <td>https://www.ojk.go.id/Files/regulasi/perbankan...</td>\n",
       "    </tr>\n",
       "    <tr>\n",
       "      <th>...</th>\n",
       "      <td>...</td>\n",
       "      <td>...</td>\n",
       "      <td>...</td>\n",
       "      <td>...</td>\n",
       "      <td>...</td>\n",
       "    </tr>\n",
       "    <tr>\n",
       "      <th>878</th>\n",
       "      <td>Surat Edaran Otoritas Jasa Keuangan Nomor 35/S...</td>\n",
       "      <td>https://www.ojk.go.id/id/kanal/perbankan/regul...</td>\n",
       "      <td>30 \\n\\t\\n\\t\\t\\t\\t\\t\\n\\t\\t\\t\\t\\t\\t\\n\\t\\t\\t\\t\\t\\...</td>\n",
       "      <td>Surat-Edaran-Otoritas-Jasa-Keuangan-Nomor-35SE...</td>\n",
       "      <td>https://www.ojk.go.id/id/regulasi/otoritas-jas...</td>\n",
       "    </tr>\n",
       "    <tr>\n",
       "      <th>879</th>\n",
       "      <td>Surat Edaran Otoritas Jasa Keuangan Nomor 35/S...</td>\n",
       "      <td>https://www.ojk.go.id/id/kanal/perbankan/regul...</td>\n",
       "      <td>30 \\n\\t\\n\\t\\t\\t\\t\\t\\n\\t\\t\\t\\t\\t\\t\\n\\t\\t\\t\\t\\t\\...</td>\n",
       "      <td>Surat-Edaran-Otoritas-Jasa-Keuangan-Nomor-35SE...</td>\n",
       "      <td>https://www.ojk.go.id/id/regulasi/otoritas-jas...</td>\n",
       "    </tr>\n",
       "    <tr>\n",
       "      <th>880</th>\n",
       "      <td>Surat Edaran Otoritas Jasa Keuangan Nomor 16/S...</td>\n",
       "      <td>https://www.ojk.go.id/id/kanal/perbankan/regul...</td>\n",
       "      <td>29 \\n\\t\\n\\t\\t\\t\\t\\t\\n\\t\\t\\t\\t\\t\\t\\n\\t\\t\\t\\t\\t\\...</td>\n",
       "      <td>Documents -- seojk16lampirani.pdf</td>\n",
       "      <td>https://www.ojk.go.id/id/kanal/perbankan/regul...</td>\n",
       "    </tr>\n",
       "    <tr>\n",
       "      <th>881</th>\n",
       "      <td>Surat Edaran Otoritas Jasa Keuangan Nomor 16/S...</td>\n",
       "      <td>https://www.ojk.go.id/id/kanal/perbankan/regul...</td>\n",
       "      <td>29 \\n\\t\\n\\t\\t\\t\\t\\t\\n\\t\\t\\t\\t\\t\\t\\n\\t\\t\\t\\t\\t\\...</td>\n",
       "      <td>Documents -- seojk16lampiranii.pdf</td>\n",
       "      <td>https://www.ojk.go.id/id/kanal/perbankan/regul...</td>\n",
       "    </tr>\n",
       "    <tr>\n",
       "      <th>882</th>\n",
       "      <td>Surat Edaran Otoritas Jasa Keuangan Nomor 18/S...</td>\n",
       "      <td>https://www.ojk.go.id/id/kanal/perbankan/regul...</td>\n",
       "      <td>29 \\n\\t\\n\\t\\t\\t\\t\\t\\n\\t\\t\\t\\t\\t\\t\\n\\t\\t\\t\\t\\t\\...</td>\n",
       "      <td>Salinan-Surat-Edaran-Otoritas-Jasa-Keuangan --...</td>\n",
       "      <td>https://www.ojk.go.id/id/regulasi/otoritas-jas...</td>\n",
       "    </tr>\n",
       "  </tbody>\n",
       "</table>\n",
       "<p>879 rows × 5 columns</p>\n",
       "</div>"
      ],
      "text/plain": [
       "                                                 title  \\\n",
       "0         Surat Edaran Bank Indonesia Nomor 15/50/DPbS   \n",
       "1         Surat Edaran Bank Indonesia Nomor 15/50/DPbS   \n",
       "2         Surat Edaran Bank Indonesia Nomor 15/50/DPbS   \n",
       "3         Surat Edaran Bank Indonesia Nomor 15/51/DPbS   \n",
       "4         Surat Edaran Bank Indonesia Nomor 15/51/DPbS   \n",
       "..                                                 ...   \n",
       "878  Surat Edaran Otoritas Jasa Keuangan Nomor 35/S...   \n",
       "879  Surat Edaran Otoritas Jasa Keuangan Nomor 35/S...   \n",
       "880  Surat Edaran Otoritas Jasa Keuangan Nomor 16/S...   \n",
       "881  Surat Edaran Otoritas Jasa Keuangan Nomor 16/S...   \n",
       "882  Surat Edaran Otoritas Jasa Keuangan Nomor 18/S...   \n",
       "\n",
       "                                              page_url  \\\n",
       "0    https://www.ojk.go.id/id/kanal/perbankan/regul...   \n",
       "1    https://www.ojk.go.id/id/kanal/perbankan/regul...   \n",
       "2    https://www.ojk.go.id/id/kanal/perbankan/regul...   \n",
       "3    https://www.ojk.go.id/id/kanal/perbankan/regul...   \n",
       "4    https://www.ojk.go.id/id/kanal/perbankan/regul...   \n",
       "..                                                 ...   \n",
       "878  https://www.ojk.go.id/id/kanal/perbankan/regul...   \n",
       "879  https://www.ojk.go.id/id/kanal/perbankan/regul...   \n",
       "880  https://www.ojk.go.id/id/kanal/perbankan/regul...   \n",
       "881  https://www.ojk.go.id/id/kanal/perbankan/regul...   \n",
       "882  https://www.ojk.go.id/id/kanal/perbankan/regul...   \n",
       "\n",
       "                                       tanggal_berlaku  \\\n",
       "0            30 \\n\\t\\t\\n\\t\\t\\t\\t\\t\\n\\t\\t\\t\\t\\tDec 2013   \n",
       "1            30 \\n\\t\\t\\n\\t\\t\\t\\t\\t\\n\\t\\t\\t\\t\\tDec 2013   \n",
       "2            30 \\n\\t\\t\\n\\t\\t\\t\\t\\t\\n\\t\\t\\t\\t\\tDec 2013   \n",
       "3            30 \\n\\t\\t\\n\\t\\t\\t\\t\\t\\n\\t\\t\\t\\t\\tDec 2013   \n",
       "4            30 \\n\\t\\t\\n\\t\\t\\t\\t\\t\\n\\t\\t\\t\\t\\tDec 2013   \n",
       "..                                                 ...   \n",
       "878  30 \\n\\t\\n\\t\\t\\t\\t\\t\\n\\t\\t\\t\\t\\t\\t\\n\\t\\t\\t\\t\\t\\...   \n",
       "879  30 \\n\\t\\n\\t\\t\\t\\t\\t\\n\\t\\t\\t\\t\\t\\t\\n\\t\\t\\t\\t\\t\\...   \n",
       "880  29 \\n\\t\\n\\t\\t\\t\\t\\t\\n\\t\\t\\t\\t\\t\\t\\n\\t\\t\\t\\t\\t\\...   \n",
       "881  29 \\n\\t\\n\\t\\t\\t\\t\\t\\n\\t\\t\\t\\t\\t\\t\\n\\t\\t\\t\\t\\t\\...   \n",
       "882  29 \\n\\t\\n\\t\\t\\t\\t\\t\\n\\t\\t\\t\\t\\t\\t\\n\\t\\t\\t\\t\\t\\...   \n",
       "\n",
       "                                              filename  \\\n",
       "0                Documents -- se_155013_1389697042.pdf   \n",
       "1                            2013 -- faq_se_155013.pdf   \n",
       "2                           2013 -- lamp_se_155013.pdf   \n",
       "3                Documents -- se_155113_1389696743.pdf   \n",
       "4                            2013 -- faq_se_155113.pdf   \n",
       "..                                                 ...   \n",
       "878  Surat-Edaran-Otoritas-Jasa-Keuangan-Nomor-35SE...   \n",
       "879  Surat-Edaran-Otoritas-Jasa-Keuangan-Nomor-35SE...   \n",
       "880                  Documents -- seojk16lampirani.pdf   \n",
       "881                 Documents -- seojk16lampiranii.pdf   \n",
       "882  Salinan-Surat-Edaran-Otoritas-Jasa-Keuangan --...   \n",
       "\n",
       "                                              file_url  \n",
       "0    https://www.ojk.go.id/id/kanal/perbankan/regul...  \n",
       "1    https://www.ojk.go.id/Files/regulasi/perbankan...  \n",
       "2    https://www.ojk.go.id/Files/regulasi/perbankan...  \n",
       "3    https://www.ojk.go.id/id/kanal/perbankan/regul...  \n",
       "4    https://www.ojk.go.id/Files/regulasi/perbankan...  \n",
       "..                                                 ...  \n",
       "878  https://www.ojk.go.id/id/regulasi/otoritas-jas...  \n",
       "879  https://www.ojk.go.id/id/regulasi/otoritas-jas...  \n",
       "880  https://www.ojk.go.id/id/kanal/perbankan/regul...  \n",
       "881  https://www.ojk.go.id/id/kanal/perbankan/regul...  \n",
       "882  https://www.ojk.go.id/id/regulasi/otoritas-jas...  \n",
       "\n",
       "[879 rows x 5 columns]"
      ]
     },
     "execution_count": 30,
     "metadata": {},
     "output_type": "execute_result"
    }
   ],
   "source": [
    "df"
   ]
  },
  {
   "cell_type": "code",
   "execution_count": 31,
   "metadata": {},
   "outputs": [
    {
     "name": "stdout",
     "output_type": "stream",
     "text": [
      "                                        title                                                                                                                             page_url                           tanggal_berlaku                   filename                                                                    file_url\n",
      "  Surat Edaran Bank Indonesia Nomor 8/10/DPbS https://www.ojk.go.id/id/kanal/perbankan/regulasi/surat-edaran-bank-indonesia/Pages/surat-edaran-bank-indonesia-nomor-8-10-dpbs.aspx  7 \\n\\t\\t\\n\\t\\t\\t\\t\\t\\n\\t\\t\\t\\t\\tMar 2006  2006 -- lamp_se081106.pdf https://www.ojk.go.id/Files/regulasi/perbankan/se-bi/2006/lamp_se081106.pdf\n",
      "  Surat Edaran Bank Indonesia Nomor 8/11/DPbS https://www.ojk.go.id/id/kanal/perbankan/regulasi/surat-edaran-bank-indonesia/Pages/surat-edaran-bank-indonesia-nomor-8-11-dpbs.aspx  7 \\n\\t\\t\\n\\t\\t\\t\\t\\t\\n\\t\\t\\t\\t\\tMar 2006  2006 -- lamp_se081106.pdf https://www.ojk.go.id/Files/regulasi/perbankan/se-bi/2006/lamp_se081106.pdf\n",
      "Peraturan Bank Indonesia Nomor 14/12/PBI/2012  https://www.ojk.go.id/id/kanal/perbankan/regulasi/peraturan-bank-indonesia/Pages/peraturan-bank-indonesia-nomor-14-12-pbi-2012.aspx 18 \\n\\t\\t\\n\\t\\t\\t\\t\\t\\n\\t\\t\\t\\t\\tOct 2012 2012 -- faq_pbi_141212.pdf  https://www.ojk.go.id/Files/regulasi/perbankan/pbi/2012/faq_pbi_141212.pdf\n",
      " Peraturan Bank Indonesia Nomor 14/9/PBI/2012   https://www.ojk.go.id/id/kanal/perbankan/regulasi/peraturan-bank-indonesia/Pages/peraturan-bank-indonesia-nomor-14-9-pbi-2012.aspx 26 \\n\\t\\t\\n\\t\\t\\t\\t\\t\\n\\t\\t\\t\\t\\tJul 2012 2012 -- faq_pbi_141212.pdf  https://www.ojk.go.id/Files/regulasi/perbankan/pbi/2012/faq_pbi_141212.pdf\n"
     ]
    }
   ],
   "source": [
    "df_duplicated_new_filename = df[df['file_url'].duplicated(keep=False)].sort_values('filename')\n",
    "print(df_duplicated_new_filename.to_string(index=False))"
   ]
  },
  {
   "cell_type": "code",
   "execution_count": null,
   "metadata": {},
   "outputs": [],
   "source": []
  }
 ],
 "metadata": {
  "kernelspec": {
   "display_name": "Python 3",
   "language": "python",
   "name": "python3"
  },
  "language_info": {
   "codemirror_mode": {
    "name": "ipython",
    "version": 3
   },
   "file_extension": ".py",
   "mimetype": "text/x-python",
   "name": "python",
   "nbconvert_exporter": "python",
   "pygments_lexer": "ipython3",
   "version": "3.10.4"
  }
 },
 "nbformat": 4,
 "nbformat_minor": 2
}
